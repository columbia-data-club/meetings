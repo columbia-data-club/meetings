{
  "nbformat": 4,
  "nbformat_minor": 0,
  "metadata": {
    "colab": {
      "provenance": [],
      "include_colab_link": true
    },
    "kernelspec": {
      "name": "python3",
      "display_name": "Python 3"
    },
    "language_info": {
      "name": "python"
    }
  },
  "cells": [
    {
      "cell_type": "markdown",
      "metadata": {
        "id": "view-in-github",
        "colab_type": "text"
      },
      "source": [
        "<a href=\"https://colab.research.google.com/github/columbia-data-club/meetings/blob/main/WIS/2023/1_1_Introduction_to_Python.ipynb\" target=\"_parent\"><img src=\"https://colab.research.google.com/assets/colab-badge.svg\" alt=\"Open In Colab\"/></a>"
      ]
    },
    {
      "cell_type": "markdown",
      "source": [
        "![A blue background with the Python logo and the words Data Club on it](https://raw.githubusercontent.com/columbia-data-club/meetings/main/assets/images/data-club-python.png)\n",
        "\n",
        "## Introduction to Python\n",
        "\n",
        "December 1, 2023\n",
        "\n",
        "by [Moacir P. de Sá Pereira](https://moacir.com) for [Women in STEM @ SIPA](https://sipa.campusgroups.com/wis/home/), modified from  [Columbia Data Club](https://github.com/columbia-data-club/) notebooks.\n",
        "\n",
        "This notebook accompanies a ~70-minute presentation that introduces Python to complete beginners to Python and to programming.\n"
      ],
      "metadata": {
        "id": "aCv17SGHmgF9"
      }
    },
    {
      "cell_type": "markdown",
      "source": [
        "## Python Resources"
      ],
      "metadata": {
        "id": "--pmpTBUszQ5"
      }
    },
    {
      "cell_type": "markdown",
      "source": [
        "\n",
        "\n",
        "Because our time today is so short, it's important to emphasize that there are many resources both on campus and online for people taking their first steps programming.\n",
        "\n",
        "- Columbia\n",
        "  - [**Research Data Services**](https://library.columbia.edu/services/research-data-services/) This is me and my colleagues. We provide various research data-related consultation services for free to Columbia researchers. That’s why I’m here. Reach out to us by emailing data@library.columbia.edu\n",
        "  - [**Data Club**](https://library.columbia.edu/services/research-data-services/data-club.html). RDS hosts Data Club, which meets a few times every semester to learn more about data, usually with Python. [Join the email list](https://listserv.cuit.columbia.edu/scripts/wa.exe?SUBED1=CUL-DATA-CLUB&A=1)\n",
        "  - [**Foundations for Research Computing**](https://rcfoundations.research.columbia.edu/) Foundations hosts two-day intensive workshops on Python, R, and Git a few times each year. The material is based on [Software Carpentry’s “Plotting and Programming with Python”](https://swcarpentry.github.io/python-novice-gapminder/), and you can learn on your own that way, too.\n",
        "  - “[**Computing in Context**](https://www.cs.columbia.edu/2016/computing-in-context-a-computer-science-course-for-liberal-arts-majors-expands-with-new-sipa-track/).” This is a course for undergraduates and SIPA students. It is typically taught in the Fall. Check [the Directory of Courses](https://doc.search.columbia.edu/classes/computing+in+context?instr=&name=&days=&semes=&hour=&moi=) for availability.\n",
        "- Online\n",
        "  - “[Plotting and Programming in Python](https://swcarpentry.github.io/python-novice-gapminder/).” Take the intensive Foundations Python workshop at your own speed.\n",
        "  - [_Think Python 2e_](https://greenteapress.com/wp/think-python-2e/) is a free textbook for Python that approaches the language thoughtfully and for learners with no programming experience\n",
        "  - [Women who Code Python](https://www.womenwhocode.com/python) is an online forum with webinars and networking opportunities for women who use Python.\n",
        "  - [Data Umbrella](https://dataumbrella.substack.com/) is a community for underrepresented persons in data science. While not Python-specific, they often co-host events with [NYC PyLadies](https://www.meetup.com/NYC-PyLadies/events/), which is Python-specific."
      ],
      "metadata": {
        "id": "Lk4_svQDxhYa"
      }
    },
    {
      "cell_type": "markdown",
      "source": [
        "## What Is This Webpage You Are Using?\n"
      ],
      "metadata": {
        "id": "huwJSkoNs67g"
      }
    },
    {
      "cell_type": "markdown",
      "source": [
        "\n",
        "This is an interactive notebook. It lets you write prose (as I have done so far) and also code. That is, this notebook is made up of a bunch of blocks (called “cells”) going down the page. Each cell can hold either text, like this one, or code, where you can type in Python. This provides a very flexible environment for you as you learn, because you can experiment inside a code cell and slowly iterate through your project.\n",
        "\n",
        "It also solves a common problem regarding using Python on a personal computer; installing it can be cumbersome, but these interactive notebooks let you Python away within your web browser.\n",
        "\n",
        "[Project Jupyter](https://en.wikipedia.org/wiki/Project_Jupyter) is the gold standard for interactive notebooks, but we are using Google's interpretation of Jupyter notebooks through Google's Colaboratory. Notebooks are not limited to Python. [Observable notebooks](http://www.observablehq.com), for example, work with JavaScript.\n",
        "\n",
        "Interactive notebooks are especially helpful for [Exploratory Data Analysis](https://en.wikipedia.org/wiki/Exploratory_data_analysis), because none of the changes are permanent, yet you have a space where you can move quickly to understand your data.\n",
        "\n",
        "So let's start programming!"
      ],
      "metadata": {
        "id": "eMbTAdAEzrIm"
      }
    },
    {
      "cell_type": "code",
      "execution_count": null,
      "metadata": {
        "id": "w18gt2eRlSS2"
      },
      "outputs": [],
      "source": [
        "# This text is a comment. Anything showing up after a \"#\" sign is ignored\n",
        "# by the computer. Colab also colors comments in dark green, so you know\n",
        "# that any text in dark green will be ignored.\n",
        "\n",
        "# Code cells like this one have a little play button beside them. You press\n",
        "# that to execute the code in the cell. Alternatively, you can type\n",
        "# Shift+Enter/Return to execute the code. Despite all these comments, this\n",
        "# cell has only one line of code, and it is the print statement below.\n",
        "\n",
        "# The print() function prints whatever is inside the parentheses to the\n",
        "# screen, but keep in mind that the text we want printed is surrounded by\n",
        "# quote marks. Whether you use single or double quotes doesn't matter, but\n",
        "# you should be consistent.\n",
        "\n",
        "print(\"Hello from a code cell!\")"
      ]
    },
    {
      "cell_type": "code",
      "source": [],
      "metadata": {
        "id": "_Rp4WVqa4cog"
      },
      "execution_count": null,
      "outputs": []
    },
    {
      "cell_type": "markdown",
      "source": [
        "I left the code cell empty above so you can try typing comments in it and testing what happens with the `print()` function. Of course you can also edit the code cell above it. Or this text cell."
      ],
      "metadata": {
        "id": "AA5n8rx7571-"
      }
    },
    {
      "cell_type": "markdown",
      "source": [
        "## (Data) Types in Python\n",
        "\n",
        "There is no limit to how we can describe and imagine things in Python, but everything has the same basic building blocks. We'll look at these today:\n",
        "\n",
        " * Numbers\n",
        " * Strings\n",
        " * Booleans\n",
        " * Functions\n",
        " * Lists\n",
        " * Dictionaries"
      ],
      "metadata": {
        "id": "w_uSD13_6IAG"
      }
    },
    {
      "cell_type": "markdown",
      "source": [
        "### Numbers\n",
        "\n",
        "Numbers are, well, numbers. Under the hood, Python distinguishes between integers and non-integers (called \"floats\"), but you can use them pretty interchangeably. Try out some basic math in the code cell below. Type an expression inside a `print()` function."
      ],
      "metadata": {
        "id": "CWYRE-T9CXGn"
      }
    },
    {
      "cell_type": "code",
      "source": [
        "# As you can see, Colab colors numbers dark green like comments.\n",
        "\n",
        "print(7 * 6)"
      ],
      "metadata": {
        "id": "Ks2o3JU654qm",
        "colab": {
          "base_uri": "https://localhost:8080/"
        },
        "outputId": "f0b7714b-a53f-4c02-f44d-0854eed1667d"
      },
      "execution_count": 1,
      "outputs": [
        {
          "output_type": "stream",
          "name": "stdout",
          "text": [
            "42\n"
          ]
        }
      ]
    },
    {
      "cell_type": "markdown",
      "source": [
        "Like everything we're going to be working with today, numbers can be assigned to variables. Variables can be named anything, but idiomatic Python (\"Pythonic\") practice is to use descriptive variable names made up of lowercase words separated by an underscore."
      ],
      "metadata": {
        "id": "ufrTRAyaDrOM"
      }
    },
    {
      "cell_type": "code",
      "source": [
        "# Let's create a variable, \"my_number\", and assign the value 7 to it:\n",
        "\n",
        "my_number = 7\n",
        "print(my_number * 3)"
      ],
      "metadata": {
        "id": "I9skUt42ETRN",
        "colab": {
          "base_uri": "https://localhost:8080/"
        },
        "outputId": "9252ddc9-2124-40ca-880d-9361894b885f"
      },
      "execution_count": 2,
      "outputs": [
        {
          "output_type": "stream",
          "name": "stdout",
          "text": [
            "21\n"
          ]
        }
      ]
    },
    {
      "cell_type": "markdown",
      "source": [
        "Variables, once defined in a cell (that is, the cell is executed), are available in subsquent cells."
      ],
      "metadata": {
        "id": "SwmCD9wwEjDX"
      }
    },
    {
      "cell_type": "code",
      "source": [
        "# my_number was set above.\n",
        "\n",
        "print(my_number + 2)"
      ],
      "metadata": {
        "id": "GPyAS_FnEiuy",
        "colab": {
          "base_uri": "https://localhost:8080/"
        },
        "outputId": "972ad81d-fccb-4638-956c-7c96b05eb08c"
      },
      "execution_count": 3,
      "outputs": [
        {
          "output_type": "stream",
          "name": "stdout",
          "text": [
            "9\n"
          ]
        }
      ]
    },
    {
      "cell_type": "markdown",
      "source": [
        "### Strings\n",
        "\n",
        "Strings are characters (letters, numbers, punctuation, emoji) surrounded by quotes. We used a string in the first code cell in this notebook. You can use some basic math on strings, too, but the results might be a bit unexpected."
      ],
      "metadata": {
        "id": "8htzICdBE3TL"
      }
    },
    {
      "cell_type": "code",
      "source": [
        "# Strings are represented in red in Colab.\n",
        "\n",
        "my_string = \"Hello, how are you? 😅\"\n",
        "\n",
        "print(my_string * 3)\n",
        "print(my_string + \"2\")"
      ],
      "metadata": {
        "id": "DaIZ_Ch-F956",
        "colab": {
          "base_uri": "https://localhost:8080/"
        },
        "outputId": "92975b5c-4d25-44f3-c0ce-562198516da6"
      },
      "execution_count": 4,
      "outputs": [
        {
          "output_type": "stream",
          "name": "stdout",
          "text": [
            "Hello, how are you? 😅Hello, how are you? 😅Hello, how are you? 😅\n",
            "Hello, how are you? 😅2\n"
          ]
        }
      ]
    },
    {
      "cell_type": "markdown",
      "source": [
        "As of a few years ago, strings in Python can also interpolate the values of variables if they are \"f-strings.\"\n",
        "\n"
      ],
      "metadata": {
        "id": "XyQvR-ZYGeAW"
      }
    },
    {
      "cell_type": "code",
      "source": [
        "## Note the color of the f in the f string and of the text in the braces\"\n",
        "my_name = \"Moacir\"\n",
        "my_greeting = f\"Hello, {my_name}\"\n",
        "my_non_f_string_greeting = \"Hello, {my_name}\"\n",
        "\n",
        "\n",
        "print(my_greeting)\n",
        "print(my_non_f_string_greeting)"
      ],
      "metadata": {
        "id": "N4RUlotXGyAz",
        "colab": {
          "base_uri": "https://localhost:8080/"
        },
        "outputId": "a1be79c5-7812-4795-bf31-b8d475395b83"
      },
      "execution_count": 5,
      "outputs": [
        {
          "output_type": "stream",
          "name": "stdout",
          "text": [
            "Hello, Moacir\n",
            "Hello, {my_name}\n"
          ]
        }
      ]
    },
    {
      "cell_type": "markdown",
      "source": [
        "### Booleans\n",
        "\n",
        "There are two values for Booleans, `True` and `False` (capitals matter). We might not assign these values to variables, but we do rely on them to do comparisons and to evaluate conditional statements."
      ],
      "metadata": {
        "id": "CPOxFRWmH7N7"
      }
    },
    {
      "cell_type": "code",
      "source": [
        "# The \"==\" means \"is equal to\" and is distinct from \"=\",\n",
        "# which is used to assign values to variables.\n",
        "\n",
        "print(f\"`my_number` is {my_number}\")\n",
        "print(f\"Is `my_number` equal to 2? {my_number == 2}\")\n",
        "print(f\"Is `my_number` less or equal to 100? {my_number <= 100}\")\n",
        "print(f'Is `my_number` equal to \"a number\"? {my_number == \"a number\"}')\n",
        "# Note I switched to single quotes above. Why?"
      ],
      "metadata": {
        "id": "wL0-UEJVH6YB",
        "colab": {
          "base_uri": "https://localhost:8080/"
        },
        "outputId": "2ff1a699-6539-4886-ccf3-ed9fc0e85018"
      },
      "execution_count": 6,
      "outputs": [
        {
          "output_type": "stream",
          "name": "stdout",
          "text": [
            "`my_number` is 7\n",
            "Is `my_number` equal to 2? False\n",
            "Is `my_number` less or equal to 100? True\n",
            "Is `my_number` equal to \"a number\"? False\n"
          ]
        }
      ]
    },
    {
      "cell_type": "markdown",
      "source": [
        "### Functions\n"
      ],
      "metadata": {
        "id": "IcvG7ozOuV4g"
      }
    },
    {
      "cell_type": "markdown",
      "source": [
        "\n",
        "Functions are where the action starts to happen. Functions often expect something to be passed to them, one or more parameters. They then take these parameters and do something with them. I'm vague here because that's the point. These are expressive features!\n",
        "\n",
        "Functions are also a place where we can talk about how white-space (tabs and spaces) matters in Python. Everything inside the function has to be indented with tabs or spaces. The first line that's back to the normal margin exists outside of function.\n",
        "\n",
        "We've already used the `print()` function several times. It is built into Python. Similarly, the `len()` function can tell us the length of a name. But we can also create our own."
      ],
      "metadata": {
        "id": "9ilEwLA_KCFJ"
      }
    },
    {
      "cell_type": "code",
      "source": [
        "print(f\"`my_name` is {len(my_name)} letters long\")\n",
        "\n",
        "def how_long_is_a_word(word):\n",
        "  ## Note the two space indent!\n",
        "  print(f'Your word, \"{word},\" is {len(word)} letters long')\n",
        "\n",
        "# Now we call the function and pass in an argument.\n",
        "how_long_is_a_word(\"a word\")"
      ],
      "metadata": {
        "id": "9P5ZL6sJO234",
        "colab": {
          "base_uri": "https://localhost:8080/"
        },
        "outputId": "dbde7cb2-3205-4d89-e338-83856825b548"
      },
      "execution_count": 7,
      "outputs": [
        {
          "output_type": "stream",
          "name": "stdout",
          "text": [
            "`my_name` is 6 letters long\n",
            "Your word, \"a word,\" is 6 letters long\n"
          ]
        }
      ]
    },
    {
      "cell_type": "markdown",
      "source": [
        "Conditional statements (`if` statements) and loops also use the same kind of indented syntax. We'll get to loops later, but let's incorporate a lot of what we have learned into a tip calculator."
      ],
      "metadata": {
        "id": "U7z_l36aRCH4"
      }
    },
    {
      "cell_type": "code",
      "source": [
        "def tip_calculator(total, good_service = True):\n",
        "  # We are passing in two parameters, \"total\" and \"good_service\".\n",
        "  # We also create a default value for \"good_service\"\n",
        "  if good_service:\n",
        "    total_with_tip = 1.2 * total\n",
        "  else:\n",
        "    total_with_tip = 1.18 * total\n",
        "\n",
        "  # Blank lines don't matter.\n",
        "\n",
        "  return total_with_tip # this is what the function outputs\n",
        "\n",
        "# Now we're outside the function and we can call it:\n",
        "\n",
        "print(f\"You owe ${tip_calculator(20, good_service = False)}\")\n",
        "print(f\"You owe ${tip_calculator(20)}\")\n",
        "print(f\"You owe ${tip_calculator(20, True)}\")\n",
        "\n",
        "# We can use variable and assign return values to variables!\n",
        "my_total = 40\n",
        "my_service = 20 > 10\n",
        "my_total_with_tip = tip_calculator(my_total, good_service = my_service)\n",
        "print(f\"I owe ${my_total_with_tip}\")"
      ],
      "metadata": {
        "id": "dYDEwGUyRR-P",
        "colab": {
          "base_uri": "https://localhost:8080/"
        },
        "outputId": "fd647ae6-f81d-44d2-a46d-7fa7593ff4bd"
      },
      "execution_count": 8,
      "outputs": [
        {
          "output_type": "stream",
          "name": "stdout",
          "text": [
            "You owe $23.599999999999998\n",
            "You owe $24.0\n",
            "You owe $24.0\n",
            "I owe $48.0\n"
          ]
        }
      ]
    },
    {
      "cell_type": "markdown",
      "source": [
        "### Lists\n"
      ],
      "metadata": {
        "id": "0LTzkpVxudQq"
      }
    },
    {
      "cell_type": "markdown",
      "source": [
        "\n",
        "So far, we've been working with single things, like a single number or a single string. However, we often get want to work with many things at once. One way of arranging information is with a list. A list is what it sounds like: a list of things, separated by commas, inside brackets (`[]`).\n",
        "\n",
        "Lists can have different types of things inside (numbers, strings, other lists, etc.) or all the same kind of thing. Lists are iterable, so you can do the same transformation on every element in the list.\n",
        "\n",
        "In a list, order matters, and you can access each member of the list with its index value. The tricky thing about lists, though, is that the first member of the list has an index value of `0`, not `1`. As such, I tend to talk about the \"zeroth\" member and then the \"oneth\" and \"twoth\" members, to underscore the difference."
      ],
      "metadata": {
        "id": "yOjTPyKJWnul"
      }
    },
    {
      "cell_type": "code",
      "source": [
        "# Lists are lists of things surrounded by brackets\n",
        "\n",
        "my_list = [my_name, 2, \"tree\", 82.4]\n",
        "my_list_of_numbers = [3, 5, 2, 8, 29, 3.2]\n",
        "\n",
        "\n",
        "print(my_list[0]) # get the zeroth member of the list.\n",
        "print(my_list_of_numbers[-1]) # get the last member of the list.\n"
      ],
      "metadata": {
        "id": "mhpSu1oCWnVl",
        "colab": {
          "base_uri": "https://localhost:8080/"
        },
        "outputId": "7a332756-5e0b-42fc-9010-5199f7c4b4bb"
      },
      "execution_count": 9,
      "outputs": [
        {
          "output_type": "stream",
          "name": "stdout",
          "text": [
            "Moacir\n",
            "3.2\n"
          ]
        }
      ]
    },
    {
      "cell_type": "code",
      "source": [
        "# Lists have lengths\"\n",
        "\n",
        "print(len(my_list))\n",
        "print(len(my_list_of_numbers))"
      ],
      "metadata": {
        "id": "0aENDm-ybb5k",
        "colab": {
          "base_uri": "https://localhost:8080/"
        },
        "outputId": "964aebaa-9081-490a-a091-05fa0f5fb4ad"
      },
      "execution_count": 10,
      "outputs": [
        {
          "output_type": "stream",
          "name": "stdout",
          "text": [
            "4\n",
            "6\n"
          ]
        }
      ]
    },
    {
      "cell_type": "code",
      "source": [
        "# You can iterate over a list using a `for` loop\")\n",
        "for element in my_list_of_numbers: # Note the colon! We've got to indent\n",
        "  # \"element\" is an arbitrary variable that refers to the current list\n",
        "  # member in the loop\n",
        "  print(element * 2.1)"
      ],
      "metadata": {
        "id": "h4uCRAjLbbuH",
        "colab": {
          "base_uri": "https://localhost:8080/"
        },
        "outputId": "12117ced-5616-4035-ad8e-01e1733b5044"
      },
      "execution_count": 11,
      "outputs": [
        {
          "output_type": "stream",
          "name": "stdout",
          "text": [
            "6.300000000000001\n",
            "10.5\n",
            "4.2\n",
            "16.8\n",
            "60.900000000000006\n",
            "6.720000000000001\n"
          ]
        }
      ]
    },
    {
      "cell_type": "code",
      "source": [
        "# You can also iterate over lists using the very Pythonic\n",
        "# \"list comprehension\" syntax. This is hard to understand\n",
        "# at first, but it allows for very pithy yet expressive code\n",
        "\n",
        "my_list_of_squared_numbers = [n * n for n in my_list_of_numbers]\n",
        "# above, \"n\" is doing the same work as \"element\" in the previous cell\n",
        "\n",
        "print(my_list_of_squared_numbers)"
      ],
      "metadata": {
        "id": "hL2PfKuub5U5",
        "colab": {
          "base_uri": "https://localhost:8080/"
        },
        "outputId": "8e21cc37-a0d4-4b6c-b172-84efdc69b1cb"
      },
      "execution_count": 12,
      "outputs": [
        {
          "output_type": "stream",
          "name": "stdout",
          "text": [
            "[9, 25, 4, 64, 841, 10.240000000000002]\n"
          ]
        }
      ]
    },
    {
      "cell_type": "markdown",
      "source": [
        "### Dictionaries\n",
        "\n",
        "Dictionaries are objects that have properties. You define them by surrounding a list of properties by braces (`{}`). Properties take the form of a string that's the key, then a colon, and then the value. The value can be anything.\n",
        "\n",
        "You can then refer to a property of a dictionary with bracket syntax, like with a list, but using the property key instead of the index."
      ],
      "metadata": {
        "id": "izZP1mjZWqjk"
      }
    },
    {
      "cell_type": "code",
      "source": [
        "a = \"education, labor markets, economic empowerment and entrepreneurship with a gender lens, gender-based violence interventions, design and evaluation of education, social protection, entrepreneurship and income generation programs, survey design, econometric techniques with mixed methods, Big Data analysis with machine learning, applied research and consulting for governments, foundations, international and grassroots organizations\"\n",
        "a.split(\", \")"
      ],
      "metadata": {
        "colab": {
          "base_uri": "https://localhost:8080/"
        },
        "id": "Hw_qK5SgxycH",
        "outputId": "53fa93ca-6bed-43cb-b223-70eb2e236087"
      },
      "execution_count": 21,
      "outputs": [
        {
          "output_type": "execute_result",
          "data": {
            "text/plain": [
              "['education',\n",
              " 'labor markets',\n",
              " 'economic empowerment and entrepreneurship with a gender lens',\n",
              " 'gender-based violence interventions',\n",
              " 'design and evaluation of education',\n",
              " 'social protection',\n",
              " 'entrepreneurship and income generation programs',\n",
              " 'survey design',\n",
              " 'econometric techniques with mixed methods',\n",
              " 'Big Data analysis with machine learning',\n",
              " 'applied research and consulting for governments',\n",
              " 'foundations',\n",
              " 'international and grassroots organizations']"
            ]
          },
          "metadata": {},
          "execution_count": 21
        }
      ]
    },
    {
      "cell_type": "code",
      "source": [
        "# Let's define four dictionaries.\n",
        "\n",
        "mitts = {\n",
        "  \"name\": \"Tamar Mitts\",\n",
        "  \"title\": \"Assistant Professor of International and Public Affairs\",\n",
        "  \"areas\": [],\n",
        "  \"on_leave\": True\n",
        "}\n",
        "\n",
        "ohalloran = {\n",
        "  \"name\": \"Sharyn O'Halloran\",\n",
        "  \"title\": \"George Blumenthal Professor of Political Economics and Professor of International and Public Affairs\",\n",
        "  \"areas\": [\"Financial regulation and risk analysis\", \"big data and computational social sciences\"],\n",
        "  \"on_leave\": True\n",
        "}\n",
        "\n",
        "oliver = {\n",
        "    \"name\": \"Nuria Oliver\",\n",
        "    \"title\": \"Adjunct Professor of International and Public Affairs\",\n",
        "    \"areas\": [\"Artificial Intelligence\", \"Data Science for Social Good\", \"Human-computer Interaction\"],\n",
        "    \"on_leave\": False\n",
        "}\n",
        "\n",
        "martinez_restrepo = {\n",
        "  \"name\": \"Susana Martínez-Restrepo\",\n",
        "  \"title\": \"Adjunct Assistant Professor of International and Public Affairs\",\n",
        "  \"areas\": ['education', 'labor markets', 'economic empowerment and entrepreneurship with a gender lens',\n",
        "    'gender-based violence interventions', 'design and evaluation of education',\n",
        "    'social protection', 'entrepreneurship and income generation programs',\n",
        "    'survey design', 'econometric techniques with mixed methods',\n",
        "    'Big Data analysis with machine learning',\n",
        "    'applied research and consulting for governments', 'foundations',\n",
        "    'international and grassroots organizations'],\n",
        "  \"on_leave\": False\n",
        "}\n",
        "\n",
        "# Now let's put all the dictionaries into a list.\n",
        "faculty = [martinez_restrepo, oliver, ohalloran, mitts]\n"
      ],
      "metadata": {
        "id": "z1a0-PkY8P8q"
      },
      "execution_count": 23,
      "outputs": []
    },
    {
      "cell_type": "code",
      "source": [
        "# Now we can iterate over the list and pull out specific properties\n",
        "\n",
        "for professor in faculty:\n",
        "  print(f\"{professor['name']} is {professor['title']}.\")"
      ],
      "metadata": {
        "id": "6DAaWXqiejlh",
        "colab": {
          "base_uri": "https://localhost:8080/"
        },
        "outputId": "3a0c312a-8a59-4d2a-ea6e-d62cf9713fb1"
      },
      "execution_count": 26,
      "outputs": [
        {
          "output_type": "stream",
          "name": "stdout",
          "text": [
            "Susana Martínez-Restrepo is Adjunct Assistant Professor of International and Public Affairs.\n",
            "Nuria Oliver is Adjunct Professor of International and Public Affairs.\n",
            "Sharyn O'Halloran is George Blumenthal Professor of Political Economics and Professor of International and Public Affairs.\n",
            "Tamar Mitts is Assistant Professor of International and Public Affairs.\n"
          ]
        }
      ]
    },
    {
      "cell_type": "markdown",
      "source": [
        "It is in this ability to iterate over a list of dictionaries that really begins to unlock the power of computation. Say we want to see what professors are not on leave this year."
      ],
      "metadata": {
        "id": "86s_qSXHz27S"
      }
    },
    {
      "cell_type": "code",
      "source": [
        "for professor in faculty:\n",
        "  if professor[\"on_leave\"] == False:\n",
        "    print(professor[\"name\"])"
      ],
      "metadata": {
        "colab": {
          "base_uri": "https://localhost:8080/"
        },
        "id": "bagTmguI0J1e",
        "outputId": "48a99281-15ba-4f3f-f7b3-bdae33ced28a"
      },
      "execution_count": 27,
      "outputs": [
        {
          "output_type": "stream",
          "name": "stdout",
          "text": [
            "Susana Martínez-Restrepo\n",
            "Nuria Oliver\n"
          ]
        }
      ]
    },
    {
      "cell_type": "markdown",
      "source": [
        "_Terser!_"
      ],
      "metadata": {
        "id": "o5ck4a8y0XAu"
      }
    },
    {
      "cell_type": "code",
      "source": [
        "print([professor[\"name\"] for professor in faculty if professor[\"on_leave\"] == False])"
      ],
      "metadata": {
        "colab": {
          "base_uri": "https://localhost:8080/"
        },
        "id": "F636xpLM0aIc",
        "outputId": "ee58801f-3cb7-46ed-ce4a-25589a07512a"
      },
      "execution_count": 28,
      "outputs": [
        {
          "output_type": "stream",
          "name": "stdout",
          "text": [
            "['Susana Martínez-Restrepo', 'Nuria Oliver']\n"
          ]
        }
      ]
    },
    {
      "cell_type": "markdown",
      "source": [
        "Say we want to find out which professors work on data, but we also want to know if they are on leave."
      ],
      "metadata": {
        "id": "VUndyFE007Hn"
      }
    },
    {
      "cell_type": "code",
      "source": [
        "for professor in faculty:\n",
        "  works_on_data = 0\n",
        "  for interest in professor[\"areas\"]:\n",
        "    if (\"data\" in interest) or (\"Data\" in interest):\n",
        "      works_on_data = 1\n",
        "  if works_on_data == 1:\n",
        "    leave_status = \"is not\"\n",
        "    if professor[\"on_leave\"]:\n",
        "      leave_status = \"is\"\n",
        "    print(f\"{professor['name']} works on data and {leave_status} on leave this year.\")\n"
      ],
      "metadata": {
        "colab": {
          "base_uri": "https://localhost:8080/"
        },
        "id": "tqbp7Dr41CJj",
        "outputId": "d8fdc743-8bac-459c-b95e-a6d2ee4e3a1a"
      },
      "execution_count": 29,
      "outputs": [
        {
          "output_type": "stream",
          "name": "stdout",
          "text": [
            "Susana Martínez-Restrepo works on data and is not on leave this year.\n",
            "Nuria Oliver works on data and is not on leave this year.\n",
            "Sharyn O'Halloran works on data and is on leave this year.\n"
          ]
        }
      ]
    },
    {
      "cell_type": "markdown",
      "source": [
        "Let's write form letters to professors who work on data and are not on leave!"
      ],
      "metadata": {
        "id": "0ks1ijXV2qaC"
      }
    },
    {
      "cell_type": "code",
      "source": [
        "for professor in faculty:\n",
        "  works_on_data = 0\n",
        "  for interest in professor[\"areas\"]:\n",
        "    if (\"data\" in interest) or (\"Data\" in interest):\n",
        "      works_on_data = 1\n",
        "  if works_on_data == 1 and professor[\"on_leave\"] == False:\n",
        "    lastname = professor[\"name\"].split(\" \")[-1]\n",
        "    print(f\"Dear Professor {lastname},\\n\\nI am a very good student and want to learn data.\\n\\nThank you.\\n\\n---\")\n"
      ],
      "metadata": {
        "colab": {
          "base_uri": "https://localhost:8080/"
        },
        "id": "xAG3izpf2wX7",
        "outputId": "dcf1a7ba-1cb6-4852-ae42-e2be779fb2f3"
      },
      "execution_count": 33,
      "outputs": [
        {
          "output_type": "stream",
          "name": "stdout",
          "text": [
            "Dear Professor Martínez-Restrepo,\n",
            "\n",
            "I am a very good student and want to learn data.\n",
            "\n",
            "Thank you.\n",
            "\n",
            "---\n",
            "Dear Professor Oliver,\n",
            "\n",
            "I am a very good student and want to learn data.\n",
            "\n",
            "Thank you.\n",
            "\n",
            "---\n"
          ]
        }
      ]
    },
    {
      "cell_type": "markdown",
      "source": [
        "## Conclusion\n",
        "\n",
        "There's a lot we didn't do in this module. We didn't use a single `import` statement, meaning we only used built-in Python code. There's a lot we skipped, most notably error checking and dealing with errors. Python is pretty good at describing errors, but it's annoying to write code that causes them intentionally. Better to have them arise organically in a group of beginners.\n",
        "\n",
        "At intermediate levels, you can start [handling the errors](https://docs.python.org/3/tutorial/errors.html).\n",
        "\n",
        "Hopefully this introduction has shown you that Python is accessible, especially if you like puzzles and problem solving. You can also get started doing things with Python with little training, picking things up as you go and improving every time you sit down to code.\n",
        "\n",
        "At the same time, it's important to underscore that, outside of list comprehensions and other things like dunder methods, everything here is quickly portable to other languages. It's the concepts that matter, and it's the concepts that will occupy your imagination."
      ],
      "metadata": {
        "id": "iJa9pLV9ySom"
      }
    },
    {
      "cell_type": "code",
      "source": [],
      "metadata": {
        "id": "ghihNK-m1pOu"
      },
      "execution_count": null,
      "outputs": []
    }
  ]
}