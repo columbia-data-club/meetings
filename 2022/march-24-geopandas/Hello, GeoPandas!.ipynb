{
  "cells": [
    {
      "cell_type": "markdown",
      "metadata": {
        "id": "view-in-github",
        "colab_type": "text"
      },
      "source": [
        "<a href=\"https://colab.research.google.com/github/cul-data-club/meetings/blob/main/2022/march-24-geopandas/Hello%2C%20GeoPandas!.ipynb\" target=\"_parent\"><img src=\"https://colab.research.google.com/assets/colab-badge.svg\" alt=\"Open In Colab\"/></a>"
      ]
    },
    {
      "cell_type": "markdown",
      "metadata": {
        "id": "c3gFZNnHFGv7"
      },
      "source": [
        "# Hello, GeoPandas (2022 Edition)!\n",
        "\n",
        "[GeoPandas](https://geopandas.org/en/stable/) is a library that aims to make working with spatial data in Python “easier,” largely be incorporating the [Pandas](https://pandas.pydata.org/) syntax we know and love. \n",
        "\n",
        "Google Colab does not ship with GeoPandas, so step one is to install it and a few other libraries, which we'll do in the cell below. If you're trying to install it on your home machine with Anaconda, you'll have to use the `-c conda-forge` flag, like this:\n",
        "\n",
        "```\n",
        "conda install -c conda-forge geopandas\n",
        "```\n",
        "\n",
        "You can also install from Anaconda Navigator."
      ]
    },
    {
      "cell_type": "code",
      "source": [
        "# Install geopandas and other spatial libraries\n",
        "# You only need to run this cell once per session\n",
        "\n",
        "import sys\n",
        "!{sys.executable} -m pip install rtree\n",
        "!{sys.executable} -m pip install geopandas\n",
        "# !{sys.executable} -m pip install fiona\n",
        "# !{sys.executable} -m pip install geoplot\n",
        "# !{sys.executable} -m pip install shapely\n",
        "# !{sys.executable} -m pip install pyproj"
      ],
      "metadata": {
        "id": "oM1ZZxfaG4OE"
      },
      "execution_count": null,
      "outputs": []
    },
    {
      "cell_type": "markdown",
      "metadata": {
        "id": "o3p9NOPOFGv-"
      },
      "source": [
        "Geographic data can take several primitive forms. The [GeoData@Columbia](https://geodata.library.columbia.edu/) library offers ten different primitive formats the data can take, but they boil down to four, more or less:\n",
        "\n",
        "1. **Points** With point data, every observation/row/member is at least two coordinates. Each point is independent of the others.\n",
        "2. **Lines** Instead of one point, every observation/row/member is at least two points connected with a line, where order matters.\n",
        "3. **Polygons** Like lines, except the lines close to make shapes with calculable areas.\n",
        "4. **Rasters** “Pictures” of the area under study, where each pixel represents a certain amount of space, like with satellite photography or other remote sensing data sources.\n",
        "\n",
        "The first three types, as a whole, are called “vector data.”\n",
        "\n",
        "For vector data, every observation/row/member will typically have other properties that can take familiar data types: numeric variables, continuous variables, and categoric variables.\n",
        "\n",
        "GeoPandas, then, merges the “geometry” of an observation/row/member with its other properties to create a dataframe with geometries."
      ]
    },
    {
      "cell_type": "markdown",
      "metadata": {
        "id": "VHyQioSCFGv_"
      },
      "source": [
        "Even though geospatial data typically only has the four primitives mentioned above (often in some mixture), the data can be *formatted* in many, many ways. For GeoPandas, we will look at two file formats:\n",
        "\n",
        "1. **Shapefile** Created by Esri, the company behind ArcGIS, [shapefiles](https://en.wikipedia.org/wiki/Shapefile) are an established vector format. Every shapefile is actually a combination of files, including one that ends in `*.shp`, which are often bundled together as a `.zip`. GeoPandas can read them even as `.zip` files without unbundling.\n",
        "2. **GeoJSON** A comparative newcomer to geospatial data encoding, [GeoJSON](http://geojson.org/) encodes all of the data into a giant, plain text file formatted as JSON, or JavaScript Object Notation. As such, every GeoJSON data file is also a valid JavaScript object. With only one file, GeoJSON is somewhat more portable than shapefiles, and the file format is especially web-friendly.\n",
        "\n",
        "You can create your own toy GeoJSON data at [http://geojson.io/](http://geojson.io/)\n",
        "\n",
        "In fact, go ahead and so so, and save your file as `test.json` or something similar. Then you can upload the file to your Colab.\n",
        "\n",
        "Now let’s import GeoPandas and fire up inline Matplotlib."
      ]
    },
    {
      "cell_type": "code",
      "execution_count": null,
      "metadata": {
        "id": "FY_kSoYoFGv_"
      },
      "outputs": [],
      "source": [
        "import geopandas\n",
        "%matplotlib inline"
      ]
    },
    {
      "cell_type": "markdown",
      "metadata": {
        "id": "mf7pvtHoFGwA"
      },
      "source": [
        "GeoPandas has [three datasets built in](https://geopandas.org/en/stable/docs/reference/api/geopandas.datasets.available.html): two from [Natural Earth](http://naturalearth.org), and one of NYC. Just like with regular Pandas, we can use a [`.read_file()`](https://geopandas.org/en/stable/docs/reference/api/geopandas.read_file.html) class method to create a geodataframe from a file. Here, we can read in the built-in NYC data.\n",
        "\n",
        "GeoDataFrames have a built-in [`.plot()`](https://geopandas.org/en/stable/docs/reference/api/geopandas.GeoDataFrame.plot.html) method."
      ]
    },
    {
      "cell_type": "code",
      "execution_count": null,
      "metadata": {
        "scrolled": true,
        "id": "J-JlXJH5FGwA"
      },
      "outputs": [],
      "source": [
        "nyc = geopandas.read_file(geopandas.datasets.get_path('nybb'))\n",
        "nyc.plot()"
      ]
    },
    {
      "cell_type": "markdown",
      "source": [
        "They also have an [`.explore()`](https://geopandas.org/en/stable/docs/reference/api/geopandas.GeoDataFrame.explore.html) method that creates an interactive map with some more context. This relies on a version of [folium](https://python-visualization.github.io/folium/) that's newer than what is installed by default in Colab as of this writing."
      ],
      "metadata": {
        "id": "hV_DmKpDNdtK"
      }
    },
    {
      "cell_type": "code",
      "source": [
        "import folium\n",
        "[major, minor, patch] = (int(number) for number in folium.__version__.split(\".\"))\n",
        "if(major > 0 or minor >= 10):\n",
        "  nyc.explore(\"Shape_Area\")\n",
        "else:\n",
        "  print(\"Version of folium is too low to use the explore method in GeoPandas.\")"
      ],
      "metadata": {
        "id": "P6viuFw3NcyU"
      },
      "execution_count": null,
      "outputs": []
    },
    {
      "cell_type": "markdown",
      "metadata": {
        "id": "6B9aNsf_FGwB"
      },
      "source": [
        "The GeoPandas documentation features a clarifying graphic that describes how a geoDataFrame differs from a regular Pandas dataFrame:\n",
        "\n",
        "![GeoDataFrame schematic](https://geopandas.org/en/stable/_images/dataframe.svg)\n",
        "\n",
        "The index section and the data section work more or less exactly like they do in Pandas, but GeoPandas adds another column for geometry, which holds the spatial information. This is similar to how tables look in [PostGIS](https://postgis.net/). In shapefile language, the geoDataFrame is a combination of the `.shp` file and the `.xbf` files.\n",
        "\n",
        "Back to GeoPandas. Geodataframes have a [`.crs`](https://geopandas.org/en/stable/docs/reference/api/geopandas.GeoDataFrame.to_crs.html) property that gives us the coordinate reference system, which yields an EPSG code. These we can subsequently look up like so: [http://spatialreference.org/ref/epsg/2263/](http://spatialreference.org/ref/epsg/2263/)"
      ]
    },
    {
      "cell_type": "code",
      "execution_count": null,
      "metadata": {
        "id": "1rniffCgFGwB"
      },
      "outputs": [],
      "source": [
        "nyc.crs"
      ]
    },
    {
      "cell_type": "markdown",
      "metadata": {
        "id": "KFdiVCzYFGwC"
      },
      "source": [
        "We can read in our own GeoJSON file now, but note that the CRS is different from the NYC data’s."
      ]
    },
    {
      "cell_type": "code",
      "execution_count": null,
      "metadata": {
        "id": "K5O5g5DdFGwC"
      },
      "outputs": [],
      "source": [
        "gdf = geopandas.read_file(\"https://raw.githubusercontent.com/cul-data-club/meetings/main/2019/geopandas/test.json\")\n",
        "gdf.crs"
      ]
    },
    {
      "cell_type": "markdown",
      "metadata": {
        "id": "h3j-apMuFGwC"
      },
      "source": [
        "Luckily, unifying the CRSes is rather trivial. Just set one’s to the other’s. **Note:** switching CRS is not the same as reprojecting."
      ]
    },
    {
      "cell_type": "code",
      "execution_count": null,
      "metadata": {
        "id": "-yA-90yNFGwD"
      },
      "outputs": [],
      "source": [
        "gdf = df.to_crs(nyc.crs)\n",
        "gdf.crs"
      ]
    },
    {
      "cell_type": "markdown",
      "metadata": {
        "id": "xs6XOjXnFGwD"
      },
      "source": [
        "As mentioned above, geoDataFrames behave much like regular dataFrames."
      ]
    },
    {
      "cell_type": "code",
      "source": [
        "nyc.head()"
      ],
      "metadata": {
        "id": "Pz3zFPgxDlVn"
      },
      "execution_count": null,
      "outputs": []
    },
    {
      "cell_type": "code",
      "execution_count": null,
      "metadata": {
        "id": "vWGSP-TcFGwD"
      },
      "outputs": [],
      "source": [
        "gdf.head()"
      ]
    },
    {
      "cell_type": "code",
      "execution_count": null,
      "metadata": {
        "id": "f0-pxZy0FGwD"
      },
      "outputs": [],
      "source": [
        "gdf[gdf.sentiment.str.contains(\"happy\")]"
      ]
    },
    {
      "cell_type": "markdown",
      "metadata": {
        "id": "FIsAL2SvFGwD"
      },
      "source": [
        "We can plot data together by using one plot as the `ax` for the other."
      ]
    },
    {
      "cell_type": "code",
      "execution_count": null,
      "metadata": {
        "id": "1w6evQB_FGwE"
      },
      "outputs": [],
      "source": [
        "base = nyc.plot(\"Shape_Area\", legend=True, figsize=(10, 10))\n",
        "gdf.plot(ax=base, color=\"red\", edgecolor=\"white\")"
      ]
    },
    {
      "cell_type": "markdown",
      "metadata": {
        "id": "ex_se8sUFGwE"
      },
      "source": [
        "## NYC MTA data\n",
        "\n",
        "Now let’s grab the [subway station location data](https://data.cityofnewyork.us/Transportation/Subway-Stations/arq3-7z49) from the City of New York. Export it as a shapefile and upload the `.zip` to Colab."
      ]
    },
    {
      "cell_type": "code",
      "execution_count": null,
      "metadata": {
        "id": "K9t7qM_5FGwE"
      },
      "outputs": [],
      "source": [
        "stations = geopandas.read_file(\"./Subway Stations.zip\")\n",
        "stations.head()"
      ]
    },
    {
      "cell_type": "code",
      "execution_count": null,
      "metadata": {
        "id": "nJ5A1GkoFGwE"
      },
      "outputs": [],
      "source": [
        "stations.plot()"
      ]
    },
    {
      "cell_type": "markdown",
      "source": [
        "## Conclusion\n",
        "\n",
        "And that's about it. The next cell has some commented out methods you can use on a geoDataFrame to do further analysis. I would have included more, but things start breaking."
      ],
      "metadata": {
        "id": "GFuBkjzCMyI4"
      }
    },
    {
      "cell_type": "code",
      "source": [
        "# stations[\"buffered\"] = stations.buffer(1000)\n"
      ],
      "metadata": {
        "id": "v24iG6_NMQ8m"
      },
      "execution_count": null,
      "outputs": []
    },
    {
      "cell_type": "markdown",
      "source": [
        "Finally, GeoPandas has a [gallery page](https://geopandas.org/en/stable/gallery/index.html) where you can see how others are using it. \n",
        "\n",
        "As I've mentioned in emails, GeoPandas is being used in spatial data science courses, as well. Yoh Kawano at UCLA uses it in his [intro to GIS and spatial data science course](https://yohman.github.io/22W-UP206A/)."
      ],
      "metadata": {
        "id": "DritHHCcFMzg"
      }
    },
    {
      "cell_type": "code",
      "source": [
        ""
      ],
      "metadata": {
        "id": "4iUsIJf2HAvl"
      },
      "execution_count": null,
      "outputs": []
    }
  ],
  "metadata": {
    "kernelspec": {
      "display_name": "Python 3",
      "language": "python",
      "name": "python3"
    },
    "language_info": {
      "codemirror_mode": {
        "name": "ipython",
        "version": 3
      },
      "file_extension": ".py",
      "mimetype": "text/x-python",
      "name": "python",
      "nbconvert_exporter": "python",
      "pygments_lexer": "ipython3",
      "version": "3.7.2"
    },
    "colab": {
      "name": "Hello, GeoPandas!.ipynb",
      "provenance": [],
      "include_colab_link": true
    }
  },
  "nbformat": 4,
  "nbformat_minor": 0
}