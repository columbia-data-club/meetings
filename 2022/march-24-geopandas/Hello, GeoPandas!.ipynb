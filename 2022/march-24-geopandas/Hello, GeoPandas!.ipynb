{
  "cells": [
    {
      "cell_type": "markdown",
      "metadata": {
        "id": "view-in-github",
        "colab_type": "text"
      },
      "source": [
        "<a href=\"https://colab.research.google.com/github/cul-data-club/meetings/blob/main/2022/march-24-geopandas/Hello%2C%20GeoPandas!.ipynb\" target=\"_parent\"><img src=\"https://colab.research.google.com/assets/colab-badge.svg\" alt=\"Open In Colab\"/></a>"
      ]
    },
    {
      "cell_type": "markdown",
      "metadata": {
        "id": "c3gFZNnHFGv7"
      },
      "source": [
        "# Hello, GeoPandas!\n",
        "\n",
        "Start out by installing GeoPandas (which you can do via the Anaconda Navigator), but you should also install `cartopy`, `geoplot`, and `contextily` so that the example notebooks in the `gallery_jupyter` folder.\n",
        "\n",
        "If you have trouble installing via the Navigator, try using the shell:\n",
        "\n",
        "```\n",
        "conda install -c conda-forge geopandas\n",
        "conda install -c conda-forge cartopy\n",
        "conda install -c conda-forge geoplot\n",
        "conda install -c conda-forge contextily\n",
        "```"
      ]
    },
    {
      "cell_type": "markdown",
      "metadata": {
        "id": "o3p9NOPOFGv-"
      },
      "source": [
        "Geographic data can take several primitive forms. The [GeoData@Columbia](https://geodata.library.columbia.edu/) offers ten different primitive formats the data can take, but they boil down to four, more or less:\n",
        "\n",
        "1. **Points** With point data, every observation/row/member is at least two coordinates. Each point is independent of the others.\n",
        "2. **Lines** Instead of one point, every observation/row/member is at least two points connected with a line, where order matters.\n",
        "3. **Polygons** Like lines, except the lines close to make shapes with calculable areas.\n",
        "4. **Rasters** “Pictures” of the area under study, where each pixel represents a certain amount of space, like with satellite photography or other remote sensing data sources.\n",
        "\n",
        "The first three types, as a whole, are called “vector data.”\n",
        "\n",
        "For vector data, every observation/row/member will typically have other properties that can take familiar data types: numeric variables, continuous variables, and categoric variables.\n",
        "\n",
        "GeoPandas, then, merges the “geometry” of an observation/row/member with its other properties to create a dataframe with geometries."
      ]
    },
    {
      "cell_type": "markdown",
      "metadata": {
        "id": "VHyQioSCFGv_"
      },
      "source": [
        "Even though geospatial data typically only has the four primitives mentioned above (often in some mixture), the data can be *formatted* in many, many ways. For GeoPandas, we will look at two file formats:\n",
        "\n",
        "1. **Shapefile** Created by Esri, the company behind ArcGIS, [shapefiles](https://en.wikipedia.org/wiki/Shapefile) are an established vector format. Every shapefile is actually a combination of files, including one that ends in `*.shp`, which are often bundled together as a `.zip`. GeoPandas can read unbundled shapefiles.\n",
        "2. **GeoJSON** A comparative newcomer to geospatial data encoding, [GeoJSON](http://geojson.org/) encodes all of the data into a giant, plain text file formatted as JSON, or JavaScript Object Notation. As such, every GeoJSON data file is also a valid JavaScript object. With only one file, GeoJSON is somewhat more portable than shapefiles, and the file format is especially web-friendly.\n",
        "\n",
        "You can create your own toy GeoJSON data at [http://geojson.io/](http://geojson.io/)\n",
        "\n",
        "In fact, go ahead and so so, and save your file as `test.json` or something similar in the same folder as this notebook.\n",
        "\n",
        "Now let’s import GeoPandas and fire up inline Matplotlib."
      ]
    },
    {
      "cell_type": "code",
      "source": [
        "!pip install matplotlib-venn"
      ],
      "metadata": {
        "id": "pnBUzDcsFlAE"
      },
      "execution_count": null,
      "outputs": []
    },
    {
      "cell_type": "code",
      "source": [
        "!apt-get -qq install -y libfluidsynth1"
      ],
      "metadata": {
        "id": "8FE8ugL-FlAF"
      },
      "execution_count": null,
      "outputs": []
    },
    {
      "cell_type": "code",
      "execution_count": 1,
      "metadata": {
        "id": "FY_kSoYoFGv_",
        "outputId": "fe3c4071-21f4-40f6-8c9b-5596d1efd7dd",
        "colab": {
          "base_uri": "https://localhost:8080/",
          "height": 329
        }
      },
      "outputs": [
        {
          "output_type": "error",
          "ename": "ModuleNotFoundError",
          "evalue": "ignored",
          "traceback": [
            "\u001b[0;31m---------------------------------------------------------------------------\u001b[0m",
            "\u001b[0;31mModuleNotFoundError\u001b[0m                       Traceback (most recent call last)",
            "\u001b[0;32m<ipython-input-1-70522e0472b0>\u001b[0m in \u001b[0;36m<module>\u001b[0;34m()\u001b[0m\n\u001b[0;32m----> 1\u001b[0;31m \u001b[0;32mimport\u001b[0m \u001b[0mgeopandas\u001b[0m\u001b[0;34m\u001b[0m\u001b[0;34m\u001b[0m\u001b[0m\n\u001b[0m\u001b[1;32m      2\u001b[0m \u001b[0mget_ipython\u001b[0m\u001b[0;34m(\u001b[0m\u001b[0;34m)\u001b[0m\u001b[0;34m.\u001b[0m\u001b[0mmagic\u001b[0m\u001b[0;34m(\u001b[0m\u001b[0;34m'matplotlib inline'\u001b[0m\u001b[0;34m)\u001b[0m\u001b[0;34m\u001b[0m\u001b[0;34m\u001b[0m\u001b[0m\n",
            "\u001b[0;31mModuleNotFoundError\u001b[0m: No module named 'geopandas'",
            "",
            "\u001b[0;31m---------------------------------------------------------------------------\u001b[0;32m\nNOTE: If your import is failing due to a missing package, you can\nmanually install dependencies using either !pip or !apt.\n\nTo view examples of installing some common dependencies, click the\n\"Open Examples\" button below.\n\u001b[0;31m---------------------------------------------------------------------------\u001b[0m\n"
          ],
          "errorDetails": {
            "actions": [
              {
                "action": "open_url",
                "actionText": "Open Examples",
                "url": "/notebooks/snippets/importing_libraries.ipynb"
              }
            ]
          }
        }
      ],
      "source": [
        "import geopandas\n",
        "%matplotlib inline"
      ]
    },
    {
      "cell_type": "markdown",
      "metadata": {
        "id": "mf7pvtHoFGwA"
      },
      "source": [
        "GeoPandas has a few datasets built in: two from [Natural Earth](http://naturalearth.org), and one of NYC. Just like with regular Pandas, we can use a `.read_file()` class method to create a geodataframe from a file. Here, we can read in the built-in NYC data.\n",
        "\n",
        "Geodataframes have a built-in `.plot()` method."
      ]
    },
    {
      "cell_type": "code",
      "execution_count": null,
      "metadata": {
        "scrolled": true,
        "id": "J-JlXJH5FGwA"
      },
      "outputs": [],
      "source": [
        "nyc = geopandas.read_file(geopandas.datasets.get_path('nybb'))\n",
        "nyc.plot()"
      ]
    },
    {
      "cell_type": "markdown",
      "metadata": {
        "id": "6B9aNsf_FGwB"
      },
      "source": [
        "Geodataframes also have a `.crs` property that gives us the coordinate reference system, which yields an EPSG code. That we can subsequently look up like so: [http://spatialreference.org/ref/epsg/2263/](http://spatialreference.org/ref/epsg/2263/)"
      ]
    },
    {
      "cell_type": "code",
      "execution_count": null,
      "metadata": {
        "id": "1rniffCgFGwB"
      },
      "outputs": [],
      "source": [
        "nyc.crs"
      ]
    },
    {
      "cell_type": "markdown",
      "metadata": {
        "id": "KFdiVCzYFGwC"
      },
      "source": [
        "We can read in our own GeoJSON file now, but note that the CRS is different from the NYC data’s."
      ]
    },
    {
      "cell_type": "code",
      "execution_count": null,
      "metadata": {
        "id": "K5O5g5DdFGwC"
      },
      "outputs": [],
      "source": [
        "df = geopandas.read_file(\"./test.json\")\n",
        "df.crs"
      ]
    },
    {
      "cell_type": "markdown",
      "metadata": {
        "id": "h3j-apMuFGwC"
      },
      "source": [
        "Luckily, unifying the CRSes is rather trivial. Just set one’s to the other’s."
      ]
    },
    {
      "cell_type": "code",
      "execution_count": null,
      "metadata": {
        "id": "-yA-90yNFGwD"
      },
      "outputs": [],
      "source": [
        "df = df.to_crs(nyc.crs)\n",
        "df.crs"
      ]
    },
    {
      "cell_type": "markdown",
      "metadata": {
        "id": "xs6XOjXnFGwD"
      },
      "source": [
        "Geodataframes behave much like regular dataframes."
      ]
    },
    {
      "cell_type": "code",
      "execution_count": null,
      "metadata": {
        "id": "vWGSP-TcFGwD"
      },
      "outputs": [],
      "source": [
        "df"
      ]
    },
    {
      "cell_type": "code",
      "execution_count": null,
      "metadata": {
        "id": "f0-pxZy0FGwD"
      },
      "outputs": [],
      "source": [
        "df[df.sentiment.str.contains(\"happy\")]"
      ]
    },
    {
      "cell_type": "markdown",
      "metadata": {
        "id": "FIsAL2SvFGwD"
      },
      "source": [
        "We can plot data together by using one plot as the `ax` for the other."
      ]
    },
    {
      "cell_type": "code",
      "execution_count": null,
      "metadata": {
        "id": "1w6evQB_FGwE"
      },
      "outputs": [],
      "source": [
        "base = nyc.plot(figsize=(10, 10), edgecolor=\"k\", color=\"green\")\n",
        "df.plot(ax=base, color=\"red\", edgecolor=\"white\")"
      ]
    },
    {
      "cell_type": "markdown",
      "metadata": {
        "id": "ex_se8sUFGwE"
      },
      "source": [
        "## NYC MTA data\n",
        "\n",
        "Now let’s grab the [subway station location data](https://data.cityofnewyork.us/Transportation/Subway-Stations/arq3-7z49) from the City of New York. Export it as a shapefile and save it to the same folder as this notebook."
      ]
    },
    {
      "cell_type": "code",
      "execution_count": null,
      "metadata": {
        "id": "K9t7qM_5FGwE"
      },
      "outputs": [],
      "source": [
        "stations = geopandas.read_file(\"./Subway Stations/geo_export_ab83d225-393b-4f95-b275-4a8d050fc8e3.shp\")\n",
        "stations.head()"
      ]
    },
    {
      "cell_type": "code",
      "execution_count": null,
      "metadata": {
        "id": "nJ5A1GkoFGwE"
      },
      "outputs": [],
      "source": [
        "stations.plot()"
      ]
    }
  ],
  "metadata": {
    "kernelspec": {
      "display_name": "Python 3",
      "language": "python",
      "name": "python3"
    },
    "language_info": {
      "codemirror_mode": {
        "name": "ipython",
        "version": 3
      },
      "file_extension": ".py",
      "mimetype": "text/x-python",
      "name": "python",
      "nbconvert_exporter": "python",
      "pygments_lexer": "ipython3",
      "version": "3.7.2"
    },
    "colab": {
      "name": "Hello, GeoPandas!.ipynb",
      "provenance": [],
      "include_colab_link": true
    }
  },
  "nbformat": 4,
  "nbformat_minor": 0
}