{
  "nbformat": 4,
  "nbformat_minor": 0,
  "metadata": {
    "colab": {
      "name": "Python for Women in STEM at SIPA",
      "provenance": [],
      "collapsed_sections": [],
      "include_colab_link": true
    },
    "kernelspec": {
      "name": "python3",
      "display_name": "Python 3"
    },
    "language_info": {
      "name": "python"
    }
  },
  "cells": [
    {
      "cell_type": "markdown",
      "metadata": {
        "id": "view-in-github",
        "colab_type": "text"
      },
      "source": [
        "<a href=\"https://colab.research.google.com/github/cul-data-club/meetings/blob/main/2022/april-1-women-in-stem-at-sipa/april-1-women-in-stem-at-sipa-post-wkshp.ipynb\" target=\"_parent\"><img src=\"https://colab.research.google.com/assets/colab-badge.svg\" alt=\"Open In Colab\"/></a>"
      ]
    },
    {
      "cell_type": "markdown",
      "source": [
        "# Introduction to Python for Women in STEM at SIPA\n",
        "\n",
        "by Moacir, from [Research Data Services](https://library.columbia.edu/services/research-data-services/)\n",
        "\n",
        "## Welcome\n",
        "\n",
        "Welcome to this notebook and workshop! If you’ve never used this kind of page before, this is an **interactive notebook**. You might have used something similar, called a [Jupyter Notebook](http://jupyter.org), but if not, that’s ok. We’re here to learn, after all."
      ],
      "metadata": {
        "id": "g7qw85jiqJoy"
      }
    },
    {
      "cell_type": "markdown",
      "source": [
        "## Interactive notebook?\n",
        "\n",
        "This notebook is made up of a bunch of blocks (called “cells”) going down the page. Each cell can hold either text, like this one, or code, where you can type in Python. This provides a very flexible environment for you as you learn, because you can experiment inside a code cell and slowly iterate through your project.\n",
        "\n",
        "These interactive notebooks are especially helpful for [Exploratory Data Analysis](https://en.wikipedia.org/wiki/Exploratory_data_analysis), because none of the changes are permanent, yet you have a space where you can move quickly to understand your data. Jupyter Notebooks (and their Google cousin, Colab, which this is) are a centerpiece of contemporary data science for scholars writing Python, R, or Julia code."
      ],
      "metadata": {
        "id": "hLGgU0vCrCW2"
      }
    },
    {
      "cell_type": "code",
      "execution_count": 3,
      "metadata": {
        "id": "BtuGyU43p8yC",
        "outputId": "42dee118-be06-4b1b-8c29-7bbe854ac71a",
        "colab": {
          "base_uri": "https://localhost:8080/"
        }
      },
      "outputs": [
        {
          "output_type": "stream",
          "name": "stdout",
          "text": [
            "Hello, Moacir!\n"
          ]
        }
      ],
      "source": [
        "# This is a code cell. It has a slightly different look from the text cells,\n",
        "# as you can see. I can execute (or \"run\") the code in this cell by typing\n",
        "# shift-enter. I can also run the code by pressing the \"play\" button to the left.\n",
        "# The text I'm writing here is \"commented,\" so nothing happens. It's commented\n",
        "# because each line begins with a \"#\". Colab also colors comments green.\n",
        "#\n",
        "# This is real code, though. Type shift-enter and see what happens. Even better,\n",
        "# look at the code and try to guess!\n",
        "\n",
        "print(\"Hello, Moacir!\")"
      ]
    },
    {
      "cell_type": "markdown",
      "source": [
        "(back in text mode!) Try changing the cell above to have it print your name instead of “`learners`.”\n",
        "\n",
        "## Python Resources at Columbia and Beyond\n",
        "\n",
        "Ninety minutes is nowhere near enough time to get a good grasp of Python. Python is a very rich language with lots of applications. You can use it to [analyze data](https://pandas.pydata.org/) and [geospatial data](http://geopandas.org), [explore open quantum systems](https://qutip.org/), [transcribe audio interviews](https://alphacephei.com/vosk/), [make maps](https://python-visualization.github.io/folium/), [model weather](https://unidata.github.io/MetPy/latest/userguide/startingguide.html), [design games](https://www.pygame.org/news), [encrypt data](https://cryptography.io/en/latest), [analyze a large corpus of text](https://spacy.io/), [research family histories](https://github.com/gramps-project/gramps), [build websites](https://www.djangoproject.com/), [control embedded systems and the Internet of Things](https://projects.raspberrypi.org/en/projects), [edit movies](https://zulko.github.io/moviepy/), [scrape the web](https://www.crummy.com/software/BeautifulSoup/bs4/doc/), [simulate ocean dynamics](https://xgcm.readthedocs.io/en/latest/), [generate algorithmic art](https://spin.atomicobject.com/2021/12/14/generative-art-zero-random/),\n",
        "and [study the stars](https://www.astropy.org/).\n",
        "\n",
        "Today, we’ll focus on how an interactive Python notebook can analyze data, much like Microsoft Excel or Google Sheets. But in the meantime, here are some resources where you can learn more:\n",
        "\n",
        "- Columbia\n",
        "  - [Research Data Services](https://library.columbia.edu/services/research-data-services/) (that’s me! (and my colleagues). We provide various research data-related consultation services for free to Columbia researchers. That’s why I’m here. Reach out to us by emailing data@library.columbia.edu\n",
        "  - [Data Club](https://library.columbia.edu/services/research-data-services/data-club.html). RDS hosts Data Club, which meets a few times every semester to learn more about data, usually with Python. [Join the email list](https://listserv.cuit.columbia.edu/scripts/wa.exe?SUBED1=CUL-DATA-CLUB&A=1)\n",
        "  - [Foundations for Research Computing](https://rcfoundations.research.columbia.edu/) Foundations hosts two-day intensive workshops on Python, R, and Git a few times each year. The material is based on [Software Carpentry’s “Plotting and Programming with Python”](https://swcarpentry.github.io/python-novice-gapminder/), and you can learn on your own that way, too.\n",
        "  - “[Computing in Context](https://www.cs.columbia.edu/2016/computing-in-context-a-computer-science-course-for-liberal-arts-majors-expands-with-new-sipa-track/).” SIPA students have access to their own, semester-long course for Python beginners, typically taught in the Fall. Check [the Directory of Courses](https://doc.search.columbia.edu/classes/computing+in+context?instr=&name=&days=&semes=&hour=&moi=) for availability.\n",
        "- Online\n",
        "  - “[Plotting and Programming in Python](https://swcarpentry.github.io/python-novice-gapminder/).” Take the intensive Foundations Python workshop at your own speed.\n",
        "  - [_Think Python 2e_](https://greenteapress.com/wp/think-python-2e/) is a free textbook for Python that approaches the language thoughtfully and for learners with no programming experience\n",
        "  - [Women who Code Python](https://www.womenwhocode.com/python) is an online forum with webinars and networking opportunities for women who use Python.\n",
        "  - [Data Umbrella](https://dataumbrella.substack.com/) is a community for underrepresented persons in data science. While not Python-specific, they often co-host events with [NYC PyLadies](https://www.meetup.com/NYC-PyLadies/events/), which is Python-specific."
      ],
      "metadata": {
        "id": "rbRcLzwvtDIy"
      }
    },
    {
      "cell_type": "markdown",
      "source": [
        "I put all these resources at the beginning of this notebook instead of the end because I want to underscore how cursory today’s workshop will be. Yet the most important part is these resources.\n",
        "\n",
        "## Data Types in Python\n",
        "\n",
        "For today, we’re going to focus on three basic data types in Python: `strings`, `numbers`, and `lists`.\n",
        "\n",
        "- **Strings** are easy: they look like text, are surrounded by `\"\"`, and get colored red in code cells. `\"Hello, learner!\"` above is an example of a string\n",
        "- **Numbers** are, well, numbers. Python does, however, distinguish between integers, non-integers (called \"floats\"), and complex numbers. Integers and floats are colored green in code cells\n",
        "- **Lists** are collections of things, like strings or numbers or other things we won't have time to learn about today. They are notated with `[]`."
      ],
      "metadata": {
        "id": "abA_8LFQzJ1U"
      }
    },
    {
      "cell_type": "code",
      "source": [
        "### Strings ###\n",
        "\n",
        "# I'm going to assign a string to a variable called \"my_string\":\n",
        "\n",
        "my_string_2 = \"Hello, learners. I am a string.\"\n",
        "\n",
        "# As you can see, the string is colored red. Let's print the variable:\n",
        "\n",
        "print(my_string_2)"
      ],
      "metadata": {
        "id": "3xpqkLJtzIVW",
        "outputId": "d6fcf84c-06ec-414d-c18b-7f745fb557a1",
        "colab": {
          "base_uri": "https://localhost:8080/"
        }
      },
      "execution_count": 6,
      "outputs": [
        {
          "output_type": "stream",
          "name": "stdout",
          "text": [
            "Hello, learners. I am a string.\n"
          ]
        }
      ]
    },
    {
      "cell_type": "code",
      "source": [
        "# Variables can carry over from one cell to the next, as long as they're run\n",
        "# in the right order. Also, let's goof around:\n",
        "\n",
        "print(my_string_2 * 3)"
      ],
      "metadata": {
        "id": "s2-xLe6D1BQD",
        "outputId": "24cc8c6a-68fa-4faa-9ac5-e05e82098e08",
        "colab": {
          "base_uri": "https://localhost:8080/"
        }
      },
      "execution_count": 7,
      "outputs": [
        {
          "output_type": "stream",
          "name": "stdout",
          "text": [
            "Hello, learners. I am a string.Hello, learners. I am a string.Hello, learners. I am a string.\n"
          ]
        }
      ]
    },
    {
      "cell_type": "code",
      "source": [
        "### Numbers ###\n",
        "\n",
        "# Now I'm going to assign a number to a variable called my_number.\n",
        "\n",
        "my_number = 24\n",
        "\n",
        "# The number is green. We saw above how \"* 3\" multiplied the string three times.\n",
        "# Let's try the same thing here:\n",
        "\n",
        "print(my_number * 3)"
      ],
      "metadata": {
        "id": "azWstoKS1ZfL",
        "outputId": "a0e36de0-c418-43cb-cff0-2d9adf3c2026",
        "colab": {
          "base_uri": "https://localhost:8080/"
        }
      },
      "execution_count": 8,
      "outputs": [
        {
          "output_type": "stream",
          "name": "stdout",
          "text": [
            "72\n"
          ]
        }
      ]
    },
    {
      "cell_type": "code",
      "source": [
        "print(my_string_2 * my_number)"
      ],
      "metadata": {
        "id": "_3dHNgSK15Uo",
        "outputId": "ffe8228a-499f-47a3-8b2a-be3cf3a47df3",
        "colab": {
          "base_uri": "https://localhost:8080/"
        }
      },
      "execution_count": 9,
      "outputs": [
        {
          "output_type": "stream",
          "name": "stdout",
          "text": [
            "Hello, learners. I am a string.Hello, learners. I am a string.Hello, learners. I am a string.Hello, learners. I am a string.Hello, learners. I am a string.Hello, learners. I am a string.Hello, learners. I am a string.Hello, learners. I am a string.Hello, learners. I am a string.Hello, learners. I am a string.Hello, learners. I am a string.Hello, learners. I am a string.Hello, learners. I am a string.Hello, learners. I am a string.Hello, learners. I am a string.Hello, learners. I am a string.Hello, learners. I am a string.Hello, learners. I am a string.Hello, learners. I am a string.Hello, learners. I am a string.Hello, learners. I am a string.Hello, learners. I am a string.Hello, learners. I am a string.Hello, learners. I am a string.\n"
          ]
        }
      ]
    },
    {
      "cell_type": "code",
      "source": [
        "# Interesting. Let's try addition:\n",
        "\n",
        "print(my_number + 3)"
      ],
      "metadata": {
        "id": "QK9_6lzX1-za",
        "outputId": "bf92874c-9e56-4a7d-9be8-493e219340d2",
        "colab": {
          "base_uri": "https://localhost:8080/"
        }
      },
      "execution_count": 10,
      "outputs": [
        {
          "output_type": "stream",
          "name": "stdout",
          "text": [
            "27\n"
          ]
        }
      ]
    },
    {
      "cell_type": "code",
      "source": [
        "print(my_number + my_string)"
      ],
      "metadata": {
        "id": "xBLIJe6B2DZD",
        "outputId": "492ae2da-37fc-4072-cd31-6dc1ee027fb2",
        "colab": {
          "base_uri": "https://localhost:8080/",
          "height": 0
        }
      },
      "execution_count": 11,
      "outputs": [
        {
          "output_type": "error",
          "ename": "TypeError",
          "evalue": "ignored",
          "traceback": [
            "\u001b[0;31m---------------------------------------------------------------------------\u001b[0m",
            "\u001b[0;31mTypeError\u001b[0m                                 Traceback (most recent call last)",
            "\u001b[0;32m<ipython-input-11-8edaa84708d6>\u001b[0m in \u001b[0;36m<module>\u001b[0;34m()\u001b[0m\n\u001b[0;32m----> 1\u001b[0;31m \u001b[0mprint\u001b[0m\u001b[0;34m(\u001b[0m\u001b[0mmy_number\u001b[0m \u001b[0;34m+\u001b[0m \u001b[0mmy_string\u001b[0m\u001b[0;34m)\u001b[0m\u001b[0;34m\u001b[0m\u001b[0;34m\u001b[0m\u001b[0m\n\u001b[0m",
            "\u001b[0;31mTypeError\u001b[0m: unsupported operand type(s) for +: 'int' and 'str'"
          ]
        }
      ]
    },
    {
      "cell_type": "markdown",
      "source": [
        "Argh. We haven’t even gotten to lists yet, and we already have a bug. Python tries to give helpful errors when it crashes, but it takes a bit of practice to learn to understand what Python means. Why did this crash?"
      ],
      "metadata": {
        "id": "6UMTiQzA2Wgg"
      }
    },
    {
      "cell_type": "code",
      "source": [
        "### Lists ###\n",
        "\n",
        "my_list = [my_string, my_number, \"Pikachu\", my_string, 92]\n",
        "\n",
        "print(my_list)"
      ],
      "metadata": {
        "id": "Rx23Xh2S2T0K",
        "outputId": "99380e78-aaf9-4963-ee90-e1a18d5995af",
        "colab": {
          "base_uri": "https://localhost:8080/"
        }
      },
      "execution_count": 12,
      "outputs": [
        {
          "output_type": "stream",
          "name": "stdout",
          "text": [
            "['Hello, learners. I am a string.', 24, 'Pikachu', 'Hello, learners. I am a string.', 92]\n"
          ]
        }
      ]
    },
    {
      "cell_type": "code",
      "source": [
        "# We can get the length of a list this way:\n",
        "\n",
        "print(len(my_list))\n",
        "\n",
        "# (We can even use len() with strings:)\n",
        "\n",
        "print(len(my_string))\n"
      ],
      "metadata": {
        "id": "N9gmaUvZ2r2G",
        "outputId": "ddb8d74f-fb38-48d5-d1aa-b6907fd4c2d5",
        "colab": {
          "base_uri": "https://localhost:8080/"
        }
      },
      "execution_count": 13,
      "outputs": [
        {
          "output_type": "stream",
          "name": "stdout",
          "text": [
            "5\n",
            "31\n"
          ]
        }
      ]
    },
    {
      "cell_type": "code",
      "source": [
        "# Lists are kind of funny, because the \"first\" member has an index [subscript] \n",
        "# value of 0. \n",
        "#\n",
        "# Whenever I talk about lists, I say the \"zeroth\" member, and then the \"oneth\"\n",
        "# and \"twoth\" and \"threeth\" members to get this across:\n",
        "\n",
        "print(my_list[0])\n",
        "\n",
        "# You put the index value inside [] right after the list.\n",
        "\n",
        "print(my_list[2])\n",
        "\n",
        "# And you can even do math to get the last member of the list:\n",
        "\n",
        "print(my_list[len(my_list) - 1])\n",
        "\n",
        "# Or just:\n",
        "\n",
        "print(my_list[4])\n",
        "\n",
        "# Oh, strings can be indexed the same way:\n",
        "\n",
        "print(my_string[3])"
      ],
      "metadata": {
        "id": "xn65oCsI25Ld",
        "outputId": "abab9ffa-6778-4220-ea8d-af8f56df31d9",
        "colab": {
          "base_uri": "https://localhost:8080/"
        }
      },
      "execution_count": 14,
      "outputs": [
        {
          "output_type": "stream",
          "name": "stdout",
          "text": [
            "Hello, learners. I am a string.\n",
            "Pikachu\n",
            "92\n",
            "92\n",
            "l\n"
          ]
        }
      ]
    },
    {
      "cell_type": "markdown",
      "source": [
        "Strings, numbers, and lists can obviously do much more than the above. Here are links to the official Python tutorial that introduces these three types:\n",
        "\n",
        "- [Strings](https://docs.python.org/3/tutorial/introduction.html#strings)\n",
        "- [Numbers](https://docs.python.org/3/tutorial/introduction.html#numbers) (a description of all three types)\n",
        "- [Lists](https://docs.python.org/3/tutorial/introduction.html#lists)\n",
        "\n",
        "As you can see, they go into much more detail in their introduction!"
      ],
      "metadata": {
        "id": "Q-gb4lJF4naR"
      }
    },
    {
      "cell_type": "markdown",
      "source": [
        "### Quick Note on Functions and Methods\n",
        "\n",
        "Finally, `len()` and `print()` are examples of `functions`. Functions do things, and typically whatever is in the parentheses is the argument or arguments that tell the function what to work with.\n",
        "\n",
        "Some types have functions inherent in them. These are called `methods`. You can always distinguish a method from a function, because a method always has something and a period before it."
      ],
      "metadata": {
        "id": "sRhpSBdE7RnY"
      }
    },
    {
      "cell_type": "code",
      "source": [
        "# len() is a function. It \"returns\" the length of whatever argument is passed to it:\n",
        "\n",
        "my_string_length = len(my_string)\n",
        "\n",
        "print(my_string_length)\n",
        "\n",
        "# Strings also have methods, like .upper():\n",
        "\n",
        "my_string_shouty = my_string.upper()\n",
        "\n",
        "print(my_string_shouty)"
      ],
      "metadata": {
        "id": "hILtIC8S8RpJ",
        "outputId": "96a87402-69ce-451d-8ab1-b7b31723ca26",
        "colab": {
          "base_uri": "https://localhost:8080/"
        }
      },
      "execution_count": 15,
      "outputs": [
        {
          "output_type": "stream",
          "name": "stdout",
          "text": [
            "31\n",
            "HELLO, LEARNERS. I AM A STRING.\n"
          ]
        }
      ]
    },
    {
      "cell_type": "markdown",
      "source": [
        "## Data Analysis with Pandas\n",
        "\n",
        "We’re making a gigantic leap here from basic data types to using a **library** for data analysis called [pandas](https://pandas.pydata.org/). Surprisingly, a lot can be accomplished with just the various methods pandas makes available via two new data types: [pandas itself](https://pandas.pydata.org/docs/reference/general_functions.html) and the pandas [`DataFrame`](https://pandas.pydata.org/docs/reference/frame.html).\n",
        "\n",
        "If you want to learn more about pandas, you can [read the book](https://clio.columbia.edu/catalog/13626019) online, made possible because of the Columbia Libraries subscription.\n",
        "\n",
        "Pandas is available in Google Colab, but it’s not loaded by default, so the first step is to import it. While we’re at it, we’ll also import a plotting library."
      ],
      "metadata": {
        "id": "B5a8Kbmc650Q"
      }
    },
    {
      "cell_type": "code",
      "source": [
        "import pandas as pd # We can now access pandas by using the variable \"pd\"\n",
        "import matplotlib.pyplot as plt # Same thing, but for the plotting library & \"plt\""
      ],
      "metadata": {
        "id": "9WZqkHwy3rj1"
      },
      "execution_count": 16,
      "outputs": []
    },
    {
      "cell_type": "code",
      "source": [
        "# Here, we'll use Colab's built in autocomplete to investigate Pandas.\n",
        "\n"
      ],
      "metadata": {
        "id": "vSD53VDN-jcu"
      },
      "execution_count": null,
      "outputs": []
    },
    {
      "cell_type": "markdown",
      "source": [
        "### Getting Data\n",
        "\n",
        "First, we need to find our data. This is where emailing RDS (`data@library.columbia.edu`) can come in handy, as my colleagues and I are always eager to help researchers find data. In the [Data Club introduction to EDA with Pandas](https://colab.research.google.com/github/cul-data-club/meetings/blob/main/2022/General_Introduction_to_Pandas_and_Exploratory_Data_Analysis_(EDA).ipynb#scrollTo=KdL06uPvhZ5Q) Colab, we use a dataset of NYC yellow cab taxi rides taken in February 2018 that we isolated from the [general NYC government TLC (Taxi and Limousine Commission) dataset](https://www1.nyc.gov/site/tlc/about/tlc-trip-record-data.page). \n",
        "\n",
        "The data as we downloaded it had a few errors, and much of the Colab above is devoted to standardizing the data and preparing it for analysis, with just a little analysis at the end. Here, instead, we’ll jump straight to the wrangled data and start right away with analysis."
      ],
      "metadata": {
        "id": "P0rrw0xHGyq9"
      }
    },
    {
      "cell_type": "code",
      "source": [
        "# Grab the cleaned up dataset from GitHub:\n",
        "\n",
        "dataset_url = \"https://media.githubusercontent.com/media/cul-data-club/meetings/main/2022/february-17-pandas/cleaned-taxi-data-at-end-of-pandas-colab.csv\"\n",
        "\n",
        "# \"!wget\" tells the notebook to execute the \"wget\" command that exists outside\n",
        "# of the notebook. It downloads stuff from the internet and puts it in the\n",
        "# folder you can acess on the left.\n",
        "!wget {dataset_url}\n"
      ],
      "metadata": {
        "id": "KHBFAFapHz6f",
        "outputId": "1b2d8bd6-cba6-489d-b57e-8b771b9d8b3a",
        "colab": {
          "base_uri": "https://localhost:8080/"
        }
      },
      "execution_count": 17,
      "outputs": [
        {
          "output_type": "stream",
          "name": "stdout",
          "text": [
            "--2022-04-01 17:46:26--  https://media.githubusercontent.com/media/cul-data-club/meetings/main/2022/february-17-pandas/cleaned-taxi-data-at-end-of-pandas-colab.csv\n",
            "Resolving media.githubusercontent.com (media.githubusercontent.com)... 185.199.108.133, 185.199.109.133, 185.199.110.133, ...\n",
            "Connecting to media.githubusercontent.com (media.githubusercontent.com)|185.199.108.133|:443... connected.\n",
            "HTTP request sent, awaiting response... 200 OK\n",
            "Length: 90783401 (87M) [text/plain]\n",
            "Saving to: ‘cleaned-taxi-data-at-end-of-pandas-colab.csv’\n",
            "\n",
            "cleaned-taxi-data-a 100%[===================>]  86.58M   218MB/s    in 0.4s    \n",
            "\n",
            "2022-04-01 17:46:28 (218 MB/s) - ‘cleaned-taxi-data-at-end-of-pandas-colab.csv’ saved [90783401/90783401]\n",
            "\n"
          ]
        }
      ]
    },
    {
      "cell_type": "code",
      "source": [
        "# Let's see how big the data file we just downloaded is.\n",
        "\n",
        "import os # Gives us access to the file system\n",
        "\n",
        "data_file = \"cleaned-taxi-data-at-end-of-pandas-colab.csv\"\n",
        "\n",
        "size_in_bytes = os.stat(data_file).st_size\n",
        "\n",
        "print(f\"The size is {size_in_bytes} bytes or {size_in_bytes / 1024 / 1024} Mb\")"
      ],
      "metadata": {
        "id": "dS-ImtdEmfId",
        "outputId": "3d8501b0-ce93-4ed2-9d75-86f79c5c9b86",
        "colab": {
          "base_uri": "https://localhost:8080/"
        }
      },
      "execution_count": 18,
      "outputs": [
        {
          "output_type": "stream",
          "name": "stdout",
          "text": [
            "The size is 90783401 bytes or 86.57779788970947 Mb\n"
          ]
        }
      ]
    },
    {
      "cell_type": "markdown",
      "source": [
        "Oops I did something fancy there with the `f\"string\"`. That makes use of Python’s [new “f-strings” language feature](https://realpython.com/python-f-strings/) that lets you execute code / access variables from _within_ a string. It’s a big deal, trust me."
      ],
      "metadata": {
        "id": "x5DF-6LAoLnw"
      }
    },
    {
      "cell_type": "code",
      "source": [
        "# Read the file into Pandas, or, more precisely, create a DataFrame and inject\n",
        "# the data we downloaded into it. We'll call the DataFrame \"df,\" which is \n",
        "# idiomatic Python (\"Pythonic\")\n",
        "\n",
        "# Even though the data is already prepared, I still am doing a little extra\n",
        "# finessing here. First, I'm only reading in the columns I'm interested in.\n",
        "# Next, I'm telling pandas which columns store dates/times (\"pickup\" and \n",
        "# \"dropoff\").\n",
        "\n",
        "use_these_columns = [\"pickup\", \"dropoff\", \n",
        "           \"passengers\", \"distance\", \"fare\", \n",
        "           \"tip\", \"total\", \"payment_type\",\n",
        "           \"payment\", \"passenger_type\"]\n",
        "df = pd.read_csv(data_file, \n",
        "                 parse_dates=['pickup', 'dropoff'], usecols=use_these_columns)"
      ],
      "metadata": {
        "id": "H1omfe4bnAga"
      },
      "execution_count": 19,
      "outputs": []
    },
    {
      "cell_type": "code",
      "source": [
        "# We can start with a few simple methods each DataFrame has to understand\n",
        "# its basic characteristics better\n",
        "\n",
        "df.info()\n",
        "\n",
        "# What do you make of this readout? Does the Dtype column make sense?\n",
        "# Why are \"payment\" and \"passenger_type\" \"object\"s?"
      ],
      "metadata": {
        "id": "2LcSvyRXqvF-",
        "outputId": "7527268f-3429-4790-dc34-c8ade4ef8f1a",
        "colab": {
          "base_uri": "https://localhost:8080/"
        }
      },
      "execution_count": 20,
      "outputs": [
        {
          "output_type": "stream",
          "name": "stdout",
          "text": [
            "<class 'pandas.core.frame.DataFrame'>\n",
            "RangeIndex: 754978 entries, 0 to 754977\n",
            "Data columns (total 10 columns):\n",
            " #   Column          Non-Null Count   Dtype         \n",
            "---  ------          --------------   -----         \n",
            " 0   pickup          754978 non-null  datetime64[ns]\n",
            " 1   dropoff         754978 non-null  datetime64[ns]\n",
            " 2   passengers      754978 non-null  int64         \n",
            " 3   distance        754978 non-null  float64       \n",
            " 4   fare            754978 non-null  float64       \n",
            " 5   tip             754978 non-null  float64       \n",
            " 6   total           754978 non-null  float64       \n",
            " 7   payment_type    754978 non-null  int64         \n",
            " 8   payment         754978 non-null  object        \n",
            " 9   passenger_type  754978 non-null  object        \n",
            "dtypes: datetime64[ns](2), float64(4), int64(2), object(2)\n",
            "memory usage: 57.6+ MB\n"
          ]
        }
      ]
    },
    {
      "cell_type": "code",
      "source": [
        "df.describe()"
      ],
      "metadata": {
        "id": "B_lZxeFvrC7G",
        "outputId": "27ff110d-a2eb-48d7-d933-7baad87456de",
        "colab": {
          "base_uri": "https://localhost:8080/",
          "height": 300
        }
      },
      "execution_count": 21,
      "outputs": [
        {
          "output_type": "execute_result",
          "data": {
            "text/plain": [
              "          passengers       distance           fare            tip  \\\n",
              "count  754978.000000  754978.000000  754978.000000  754978.000000   \n",
              "mean        1.358410       2.767241      11.963826       1.048835   \n",
              "std         1.034561       2.870593       8.868828       1.788253   \n",
              "min         1.000000       0.060000       3.000000       0.000000   \n",
              "25%         1.000000       1.020000       6.500000       0.000000   \n",
              "50%         1.000000       1.790000       9.000000       0.000000   \n",
              "75%         1.000000       3.400000      14.500000       1.800000   \n",
              "max         9.000000      70.170000     199.000000     100.000000   \n",
              "\n",
              "               total   payment_type  \n",
              "count  754978.000000  754978.000000  \n",
              "mean       14.258669       1.453560  \n",
              "std         9.890326       0.507982  \n",
              "min         3.000000       1.000000  \n",
              "25%         7.880000       1.000000  \n",
              "50%        11.160000       1.000000  \n",
              "75%        17.160000       2.000000  \n",
              "max       259.580000       5.000000  "
            ],
            "text/html": [
              "\n",
              "  <div id=\"df-fe4b6b68-d3a6-413f-829a-6a9b4aca17d4\">\n",
              "    <div class=\"colab-df-container\">\n",
              "      <div>\n",
              "<style scoped>\n",
              "    .dataframe tbody tr th:only-of-type {\n",
              "        vertical-align: middle;\n",
              "    }\n",
              "\n",
              "    .dataframe tbody tr th {\n",
              "        vertical-align: top;\n",
              "    }\n",
              "\n",
              "    .dataframe thead th {\n",
              "        text-align: right;\n",
              "    }\n",
              "</style>\n",
              "<table border=\"1\" class=\"dataframe\">\n",
              "  <thead>\n",
              "    <tr style=\"text-align: right;\">\n",
              "      <th></th>\n",
              "      <th>passengers</th>\n",
              "      <th>distance</th>\n",
              "      <th>fare</th>\n",
              "      <th>tip</th>\n",
              "      <th>total</th>\n",
              "      <th>payment_type</th>\n",
              "    </tr>\n",
              "  </thead>\n",
              "  <tbody>\n",
              "    <tr>\n",
              "      <th>count</th>\n",
              "      <td>754978.000000</td>\n",
              "      <td>754978.000000</td>\n",
              "      <td>754978.000000</td>\n",
              "      <td>754978.000000</td>\n",
              "      <td>754978.000000</td>\n",
              "      <td>754978.000000</td>\n",
              "    </tr>\n",
              "    <tr>\n",
              "      <th>mean</th>\n",
              "      <td>1.358410</td>\n",
              "      <td>2.767241</td>\n",
              "      <td>11.963826</td>\n",
              "      <td>1.048835</td>\n",
              "      <td>14.258669</td>\n",
              "      <td>1.453560</td>\n",
              "    </tr>\n",
              "    <tr>\n",
              "      <th>std</th>\n",
              "      <td>1.034561</td>\n",
              "      <td>2.870593</td>\n",
              "      <td>8.868828</td>\n",
              "      <td>1.788253</td>\n",
              "      <td>9.890326</td>\n",
              "      <td>0.507982</td>\n",
              "    </tr>\n",
              "    <tr>\n",
              "      <th>min</th>\n",
              "      <td>1.000000</td>\n",
              "      <td>0.060000</td>\n",
              "      <td>3.000000</td>\n",
              "      <td>0.000000</td>\n",
              "      <td>3.000000</td>\n",
              "      <td>1.000000</td>\n",
              "    </tr>\n",
              "    <tr>\n",
              "      <th>25%</th>\n",
              "      <td>1.000000</td>\n",
              "      <td>1.020000</td>\n",
              "      <td>6.500000</td>\n",
              "      <td>0.000000</td>\n",
              "      <td>7.880000</td>\n",
              "      <td>1.000000</td>\n",
              "    </tr>\n",
              "    <tr>\n",
              "      <th>50%</th>\n",
              "      <td>1.000000</td>\n",
              "      <td>1.790000</td>\n",
              "      <td>9.000000</td>\n",
              "      <td>0.000000</td>\n",
              "      <td>11.160000</td>\n",
              "      <td>1.000000</td>\n",
              "    </tr>\n",
              "    <tr>\n",
              "      <th>75%</th>\n",
              "      <td>1.000000</td>\n",
              "      <td>3.400000</td>\n",
              "      <td>14.500000</td>\n",
              "      <td>1.800000</td>\n",
              "      <td>17.160000</td>\n",
              "      <td>2.000000</td>\n",
              "    </tr>\n",
              "    <tr>\n",
              "      <th>max</th>\n",
              "      <td>9.000000</td>\n",
              "      <td>70.170000</td>\n",
              "      <td>199.000000</td>\n",
              "      <td>100.000000</td>\n",
              "      <td>259.580000</td>\n",
              "      <td>5.000000</td>\n",
              "    </tr>\n",
              "  </tbody>\n",
              "</table>\n",
              "</div>\n",
              "      <button class=\"colab-df-convert\" onclick=\"convertToInteractive('df-fe4b6b68-d3a6-413f-829a-6a9b4aca17d4')\"\n",
              "              title=\"Convert this dataframe to an interactive table.\"\n",
              "              style=\"display:none;\">\n",
              "        \n",
              "  <svg xmlns=\"http://www.w3.org/2000/svg\" height=\"24px\"viewBox=\"0 0 24 24\"\n",
              "       width=\"24px\">\n",
              "    <path d=\"M0 0h24v24H0V0z\" fill=\"none\"/>\n",
              "    <path d=\"M18.56 5.44l.94 2.06.94-2.06 2.06-.94-2.06-.94-.94-2.06-.94 2.06-2.06.94zm-11 1L8.5 8.5l.94-2.06 2.06-.94-2.06-.94L8.5 2.5l-.94 2.06-2.06.94zm10 10l.94 2.06.94-2.06 2.06-.94-2.06-.94-.94-2.06-.94 2.06-2.06.94z\"/><path d=\"M17.41 7.96l-1.37-1.37c-.4-.4-.92-.59-1.43-.59-.52 0-1.04.2-1.43.59L10.3 9.45l-7.72 7.72c-.78.78-.78 2.05 0 2.83L4 21.41c.39.39.9.59 1.41.59.51 0 1.02-.2 1.41-.59l7.78-7.78 2.81-2.81c.8-.78.8-2.07 0-2.86zM5.41 20L4 18.59l7.72-7.72 1.47 1.35L5.41 20z\"/>\n",
              "  </svg>\n",
              "      </button>\n",
              "      \n",
              "  <style>\n",
              "    .colab-df-container {\n",
              "      display:flex;\n",
              "      flex-wrap:wrap;\n",
              "      gap: 12px;\n",
              "    }\n",
              "\n",
              "    .colab-df-convert {\n",
              "      background-color: #E8F0FE;\n",
              "      border: none;\n",
              "      border-radius: 50%;\n",
              "      cursor: pointer;\n",
              "      display: none;\n",
              "      fill: #1967D2;\n",
              "      height: 32px;\n",
              "      padding: 0 0 0 0;\n",
              "      width: 32px;\n",
              "    }\n",
              "\n",
              "    .colab-df-convert:hover {\n",
              "      background-color: #E2EBFA;\n",
              "      box-shadow: 0px 1px 2px rgba(60, 64, 67, 0.3), 0px 1px 3px 1px rgba(60, 64, 67, 0.15);\n",
              "      fill: #174EA6;\n",
              "    }\n",
              "\n",
              "    [theme=dark] .colab-df-convert {\n",
              "      background-color: #3B4455;\n",
              "      fill: #D2E3FC;\n",
              "    }\n",
              "\n",
              "    [theme=dark] .colab-df-convert:hover {\n",
              "      background-color: #434B5C;\n",
              "      box-shadow: 0px 1px 3px 1px rgba(0, 0, 0, 0.15);\n",
              "      filter: drop-shadow(0px 1px 2px rgba(0, 0, 0, 0.3));\n",
              "      fill: #FFFFFF;\n",
              "    }\n",
              "  </style>\n",
              "\n",
              "      <script>\n",
              "        const buttonEl =\n",
              "          document.querySelector('#df-fe4b6b68-d3a6-413f-829a-6a9b4aca17d4 button.colab-df-convert');\n",
              "        buttonEl.style.display =\n",
              "          google.colab.kernel.accessAllowed ? 'block' : 'none';\n",
              "\n",
              "        async function convertToInteractive(key) {\n",
              "          const element = document.querySelector('#df-fe4b6b68-d3a6-413f-829a-6a9b4aca17d4');\n",
              "          const dataTable =\n",
              "            await google.colab.kernel.invokeFunction('convertToInteractive',\n",
              "                                                     [key], {});\n",
              "          if (!dataTable) return;\n",
              "\n",
              "          const docLinkHtml = 'Like what you see? Visit the ' +\n",
              "            '<a target=\"_blank\" href=https://colab.research.google.com/notebooks/data_table.ipynb>data table notebook</a>'\n",
              "            + ' to learn more about interactive tables.';\n",
              "          element.innerHTML = '';\n",
              "          dataTable['output_type'] = 'display_data';\n",
              "          await google.colab.output.renderOutput(dataTable, element);\n",
              "          const docLink = document.createElement('div');\n",
              "          docLink.innerHTML = docLinkHtml;\n",
              "          element.appendChild(docLink);\n",
              "        }\n",
              "      </script>\n",
              "    </div>\n",
              "  </div>\n",
              "  "
            ]
          },
          "metadata": {},
          "execution_count": 21
        }
      ]
    },
    {
      "cell_type": "code",
      "source": [
        "# How many empty cells are there in the data?\n",
        "\n",
        "df.isnull().sum()"
      ],
      "metadata": {
        "id": "QlS1hjPUrNXm",
        "outputId": "5a03584f-706a-4c9c-873d-bd98a9c168e8",
        "colab": {
          "base_uri": "https://localhost:8080/"
        }
      },
      "execution_count": 22,
      "outputs": [
        {
          "output_type": "execute_result",
          "data": {
            "text/plain": [
              "pickup            0\n",
              "dropoff           0\n",
              "passengers        0\n",
              "distance          0\n",
              "fare              0\n",
              "tip               0\n",
              "total             0\n",
              "payment_type      0\n",
              "payment           0\n",
              "passenger_type    0\n",
              "dtype: int64"
            ]
          },
          "metadata": {},
          "execution_count": 22
        }
      ]
    },
    {
      "cell_type": "code",
      "source": [
        "# We can plot histograms to get a sense of the shape of the data, too. \n",
        "\n",
        "fig, axs = plt.subplots(4, 2, figsize=(15, 15))\n",
        "axs[0, 0].hist(df[\"pickup\"])\n",
        "axs[0, 0].set_title(\"Pickup dates\")\n",
        "axs[0, 1].hist(df[\"dropoff\"])\n",
        "axs[0, 1].set_title(\"Dropoff dates\")\n",
        "axs[1, 0].hist(df[\"passengers\"])\n",
        "axs[1, 0].set_title(\"Passengers\")\n",
        "axs[1, 1].hist(df[\"distance\"])\n",
        "axs[1, 1].set_title(\"Distance\")\n",
        "axs[2, 0].hist(df[\"fare\"])\n",
        "axs[2, 0].set_title(\"Fare\")\n",
        "axs[2, 1].hist(df[\"tip\"])\n",
        "axs[2, 1].set_title(\"Tip amount\")\n",
        "axs[3, 0].bar(df[\"payment\"].value_counts().index, df[\"payment\"].value_counts())\n",
        "axs[3, 0].set_title(\"Payment\")"
      ],
      "metadata": {
        "id": "FHqJTUbxvXeH",
        "outputId": "5eda3623-a7fd-4b41-fdae-1ac039cc4d6a",
        "colab": {
          "base_uri": "https://localhost:8080/",
          "height": 833
        }
      },
      "execution_count": 23,
      "outputs": [
        {
          "output_type": "execute_result",
          "data": {
            "text/plain": [
              "Text(0.5, 1.0, 'Payment')"
            ]
          },
          "metadata": {},
          "execution_count": 23
        },
        {
          "output_type": "display_data",
          "data": {
            "text/plain": [
              "<Figure size 1080x1080 with 8 Axes>"
            ],
            "image/png": "[encoded data removed]"
          },
          "metadata": {
            "needs_background": "light"
          }
        }
      ]
    },
    {
      "cell_type": "code",
      "source": [
        "# Let's do that again, but this time, let's make the y-axis a log scale.\n",
        "\n",
        "fig, axs = plt.subplots(4, 2, figsize=(15, 15))\n",
        "axs[0, 0].hist(df[\"pickup\"])\n",
        "axs[0, 0].set_title(\"Pickup dates\")\n",
        "axs[0, 1].hist(df[\"dropoff\"])\n",
        "axs[0, 1].set_title(\"Dropoff dates\")\n",
        "axs[1, 0].hist(df[\"passengers\"], log=True)\n",
        "axs[1, 0].set_title(\"Passengers\")\n",
        "axs[1, 1].hist(df[\"distance\"], log=True)\n",
        "axs[1, 1].set_title(\"Distance\")\n",
        "axs[2, 0].hist(df[\"fare\"], log=True)\n",
        "axs[2, 0].set_title(\"Fare\")\n",
        "axs[2, 1].hist(df[\"tip\"], log=True)\n",
        "axs[2, 1].set_title(\"Tip amount\")\n",
        "axs[3, 0].bar(df[\"payment\"].value_counts().index, df[\"payment\"].value_counts(), log=True)\n",
        "axs[3, 0].set_title(\"Payment\")"
      ],
      "metadata": {
        "id": "OhTbtP4o_q2C",
        "outputId": "78f5dbda-fa14-4649-91da-4366c732523a",
        "colab": {
          "base_uri": "https://localhost:8080/",
          "height": 839
        }
      },
      "execution_count": 24,
      "outputs": [
        {
          "output_type": "execute_result",
          "data": {
            "text/plain": [
              "Text(0.5, 1.0, 'Payment')"
            ]
          },
          "metadata": {},
          "execution_count": 24
        },
        {
          "output_type": "display_data",
          "data": {
            "text/plain": [
              "<Figure size 1080x1080 with 8 Axes>"
            ],
            "image/png": "[encoded data removed]"
          },
          "metadata": {
            "needs_background": "light"
          }
        }
      ]
    },
    {
      "cell_type": "markdown",
      "source": [
        "## Time to Talk Policy\n",
        "\n",
        "What kinds of policy-related questions can we ask about this dataset? Is there anything you would want to know about this data, perhaps to encourage some kind of behavioral change in drivers or passengers? What can we do to interact with this data **creatively**? \n",
        "\n",
        "If you come up with an idea or two, I can try to model them in the time we have left, thereby showing some more of the functionality Pandas provides."
      ],
      "metadata": {
        "id": "TtViVzZxEdNi"
      }
    },
    {
      "cell_type": "code",
      "source": [
        "df.plot.scatter(x=\"distance\", y=\"tip\")"
      ],
      "metadata": {
        "id": "t7kpu_aSUORh",
        "outputId": "ca32fc72-954b-4781-d327-315d35a72a12",
        "colab": {
          "base_uri": "https://localhost:8080/",
          "height": 297
        }
      },
      "execution_count": 25,
      "outputs": [
        {
          "output_type": "execute_result",
          "data": {
            "text/plain": [
              "<matplotlib.axes._subplots.AxesSubplot at 0x7f2e21ecc750>"
            ]
          },
          "metadata": {},
          "execution_count": 25
        },
        {
          "output_type": "display_data",
          "data": {
            "text/plain": [
              "<Figure size 432x288 with 1 Axes>"
            ],
            "image/png": "[encoded data removed]"
          },
          "metadata": {
            "needs_background": "light"
          }
        }
      ]
    },
    {
      "cell_type": "code",
      "source": [
        "df[\"tip_pct\"] = df[\"tip\"] / df[\"total\"]"
      ],
      "metadata": {
        "id": "MPQEmSYkUrm7"
      },
      "execution_count": 26,
      "outputs": []
    },
    {
      "cell_type": "code",
      "source": [
        "df.plot.scatter(x=\"distance\", y=\"tip_pct\")"
      ],
      "metadata": {
        "id": "EDxMFQOyVUUH",
        "outputId": "0bd4f3b8-500a-4a7a-d4da-aa3929b500f7",
        "colab": {
          "base_uri": "https://localhost:8080/",
          "height": 297
        }
      },
      "execution_count": 28,
      "outputs": [
        {
          "output_type": "execute_result",
          "data": {
            "text/plain": [
              "<matplotlib.axes._subplots.AxesSubplot at 0x7f2e21eabc90>"
            ]
          },
          "metadata": {},
          "execution_count": 28
        },
        {
          "output_type": "display_data",
          "data": {
            "text/plain": [
              "<Figure size 432x288 with 1 Axes>"
            ],
            "image/png": "[encoded data removed]"
          },
          "metadata": {
            "needs_background": "light"
          }
        }
      ]
    },
    {
      "cell_type": "code",
      "source": [
        "df = df.drop(labels=\"payment_type\", axis=1)\n"
      ],
      "metadata": {
        "id": "a9dQtvI0VWay"
      },
      "execution_count": 34,
      "outputs": []
    },
    {
      "cell_type": "code",
      "source": [
        "df.corr()"
      ],
      "metadata": {
        "id": "_Flx5nibWj56",
        "outputId": "f9dc361f-34cd-4d02-93e9-87e942f5323f",
        "colab": {
          "base_uri": "https://localhost:8080/",
          "height": 238
        }
      },
      "execution_count": 35,
      "outputs": [
        {
          "output_type": "execute_result",
          "data": {
            "text/plain": [
              "            passengers  distance      fare       tip     total   tip_pct\n",
              "passengers    1.000000  0.000031 -0.000558  0.004500  0.001466  0.004428\n",
              "distance      0.000031  1.000000  0.954932  0.342754  0.942451 -0.004643\n",
              "fare         -0.000558  0.954932  1.000000  0.337784  0.979292 -0.018555\n",
              "tip           0.004500  0.342754  0.337784  1.000000  0.503182  0.757050\n",
              "total         0.001466  0.942451  0.979292  0.503182  1.000000  0.126393\n",
              "tip_pct       0.004428 -0.004643 -0.018555  0.757050  0.126393  1.000000"
            ],
            "text/html": [
              "\n",
              "  <div id=\"df-db915e3b-eff1-4b8c-8fe5-40bf4a5e9adc\">\n",
              "    <div class=\"colab-df-container\">\n",
              "      <div>\n",
              "<style scoped>\n",
              "    .dataframe tbody tr th:only-of-type {\n",
              "        vertical-align: middle;\n",
              "    }\n",
              "\n",
              "    .dataframe tbody tr th {\n",
              "        vertical-align: top;\n",
              "    }\n",
              "\n",
              "    .dataframe thead th {\n",
              "        text-align: right;\n",
              "    }\n",
              "</style>\n",
              "<table border=\"1\" class=\"dataframe\">\n",
              "  <thead>\n",
              "    <tr style=\"text-align: right;\">\n",
              "      <th></th>\n",
              "      <th>passengers</th>\n",
              "      <th>distance</th>\n",
              "      <th>fare</th>\n",
              "      <th>tip</th>\n",
              "      <th>total</th>\n",
              "      <th>tip_pct</th>\n",
              "    </tr>\n",
              "  </thead>\n",
              "  <tbody>\n",
              "    <tr>\n",
              "      <th>passengers</th>\n",
              "      <td>1.000000</td>\n",
              "      <td>0.000031</td>\n",
              "      <td>-0.000558</td>\n",
              "      <td>0.004500</td>\n",
              "      <td>0.001466</td>\n",
              "      <td>0.004428</td>\n",
              "    </tr>\n",
              "    <tr>\n",
              "      <th>distance</th>\n",
              "      <td>0.000031</td>\n",
              "      <td>1.000000</td>\n",
              "      <td>0.954932</td>\n",
              "      <td>0.342754</td>\n",
              "      <td>0.942451</td>\n",
              "      <td>-0.004643</td>\n",
              "    </tr>\n",
              "    <tr>\n",
              "      <th>fare</th>\n",
              "      <td>-0.000558</td>\n",
              "      <td>0.954932</td>\n",
              "      <td>1.000000</td>\n",
              "      <td>0.337784</td>\n",
              "      <td>0.979292</td>\n",
              "      <td>-0.018555</td>\n",
              "    </tr>\n",
              "    <tr>\n",
              "      <th>tip</th>\n",
              "      <td>0.004500</td>\n",
              "      <td>0.342754</td>\n",
              "      <td>0.337784</td>\n",
              "      <td>1.000000</td>\n",
              "      <td>0.503182</td>\n",
              "      <td>0.757050</td>\n",
              "    </tr>\n",
              "    <tr>\n",
              "      <th>total</th>\n",
              "      <td>0.001466</td>\n",
              "      <td>0.942451</td>\n",
              "      <td>0.979292</td>\n",
              "      <td>0.503182</td>\n",
              "      <td>1.000000</td>\n",
              "      <td>0.126393</td>\n",
              "    </tr>\n",
              "    <tr>\n",
              "      <th>tip_pct</th>\n",
              "      <td>0.004428</td>\n",
              "      <td>-0.004643</td>\n",
              "      <td>-0.018555</td>\n",
              "      <td>0.757050</td>\n",
              "      <td>0.126393</td>\n",
              "      <td>1.000000</td>\n",
              "    </tr>\n",
              "  </tbody>\n",
              "</table>\n",
              "</div>\n",
              "      <button class=\"colab-df-convert\" onclick=\"convertToInteractive('df-db915e3b-eff1-4b8c-8fe5-40bf4a5e9adc')\"\n",
              "              title=\"Convert this dataframe to an interactive table.\"\n",
              "              style=\"display:none;\">\n",
              "        \n",
              "  <svg xmlns=\"http://www.w3.org/2000/svg\" height=\"24px\"viewBox=\"0 0 24 24\"\n",
              "       width=\"24px\">\n",
              "    <path d=\"M0 0h24v24H0V0z\" fill=\"none\"/>\n",
              "    <path d=\"M18.56 5.44l.94 2.06.94-2.06 2.06-.94-2.06-.94-.94-2.06-.94 2.06-2.06.94zm-11 1L8.5 8.5l.94-2.06 2.06-.94-2.06-.94L8.5 2.5l-.94 2.06-2.06.94zm10 10l.94 2.06.94-2.06 2.06-.94-2.06-.94-.94-2.06-.94 2.06-2.06.94z\"/><path d=\"M17.41 7.96l-1.37-1.37c-.4-.4-.92-.59-1.43-.59-.52 0-1.04.2-1.43.59L10.3 9.45l-7.72 7.72c-.78.78-.78 2.05 0 2.83L4 21.41c.39.39.9.59 1.41.59.51 0 1.02-.2 1.41-.59l7.78-7.78 2.81-2.81c.8-.78.8-2.07 0-2.86zM5.41 20L4 18.59l7.72-7.72 1.47 1.35L5.41 20z\"/>\n",
              "  </svg>\n",
              "      </button>\n",
              "      \n",
              "  <style>\n",
              "    .colab-df-container {\n",
              "      display:flex;\n",
              "      flex-wrap:wrap;\n",
              "      gap: 12px;\n",
              "    }\n",
              "\n",
              "    .colab-df-convert {\n",
              "      background-color: #E8F0FE;\n",
              "      border: none;\n",
              "      border-radius: 50%;\n",
              "      cursor: pointer;\n",
              "      display: none;\n",
              "      fill: #1967D2;\n",
              "      height: 32px;\n",
              "      padding: 0 0 0 0;\n",
              "      width: 32px;\n",
              "    }\n",
              "\n",
              "    .colab-df-convert:hover {\n",
              "      background-color: #E2EBFA;\n",
              "      box-shadow: 0px 1px 2px rgba(60, 64, 67, 0.3), 0px 1px 3px 1px rgba(60, 64, 67, 0.15);\n",
              "      fill: #174EA6;\n",
              "    }\n",
              "\n",
              "    [theme=dark] .colab-df-convert {\n",
              "      background-color: #3B4455;\n",
              "      fill: #D2E3FC;\n",
              "    }\n",
              "\n",
              "    [theme=dark] .colab-df-convert:hover {\n",
              "      background-color: #434B5C;\n",
              "      box-shadow: 0px 1px 3px 1px rgba(0, 0, 0, 0.15);\n",
              "      filter: drop-shadow(0px 1px 2px rgba(0, 0, 0, 0.3));\n",
              "      fill: #FFFFFF;\n",
              "    }\n",
              "  </style>\n",
              "\n",
              "      <script>\n",
              "        const buttonEl =\n",
              "          document.querySelector('#df-db915e3b-eff1-4b8c-8fe5-40bf4a5e9adc button.colab-df-convert');\n",
              "        buttonEl.style.display =\n",
              "          google.colab.kernel.accessAllowed ? 'block' : 'none';\n",
              "\n",
              "        async function convertToInteractive(key) {\n",
              "          const element = document.querySelector('#df-db915e3b-eff1-4b8c-8fe5-40bf4a5e9adc');\n",
              "          const dataTable =\n",
              "            await google.colab.kernel.invokeFunction('convertToInteractive',\n",
              "                                                     [key], {});\n",
              "          if (!dataTable) return;\n",
              "\n",
              "          const docLinkHtml = 'Like what you see? Visit the ' +\n",
              "            '<a target=\"_blank\" href=https://colab.research.google.com/notebooks/data_table.ipynb>data table notebook</a>'\n",
              "            + ' to learn more about interactive tables.';\n",
              "          element.innerHTML = '';\n",
              "          dataTable['output_type'] = 'display_data';\n",
              "          await google.colab.output.renderOutput(dataTable, element);\n",
              "          const docLink = document.createElement('div');\n",
              "          docLink.innerHTML = docLinkHtml;\n",
              "          element.appendChild(docLink);\n",
              "        }\n",
              "      </script>\n",
              "    </div>\n",
              "  </div>\n",
              "  "
            ]
          },
          "metadata": {},
          "execution_count": 35
        }
      ]
    },
    {
      "cell_type": "code",
      "source": [
        "pay = df.groupby(\"payment\")\n",
        "df[\"tip\"].describe()"
      ],
      "metadata": {
        "id": "_JPIqi9cXE6Z",
        "outputId": "aefc1ccb-f561-467a-cec7-138312de2b22",
        "colab": {
          "base_uri": "https://localhost:8080/"
        }
      },
      "execution_count": 39,
      "outputs": [
        {
          "output_type": "execute_result",
          "data": {
            "text/plain": [
              "count    754978.000000\n",
              "mean          1.048835\n",
              "std           1.788253\n",
              "min           0.000000\n",
              "25%           0.000000\n",
              "50%           0.000000\n",
              "75%           1.800000\n",
              "max         100.000000\n",
              "Name: tip, dtype: float64"
            ]
          },
          "metadata": {},
          "execution_count": 39
        }
      ]
    },
    {
      "cell_type": "code",
      "source": [
        "pay[\"tip_pct\"].describe()"
      ],
      "metadata": {
        "id": "pjj7TS9wX-Qd",
        "outputId": "4a4b39fa-6722-4221-a696-e0296fecc7af",
        "colab": {
          "base_uri": "https://localhost:8080/",
          "height": 238
        }
      },
      "execution_count": 38,
      "outputs": [
        {
          "output_type": "execute_result",
          "data": {
            "text/plain": [
              "                count      mean       std  min  25%       50%       75%  \\\n",
              "payment                                                                   \n",
              "Cash         337087.0  0.000000  0.000000  0.0  0.0  0.000000  0.000000   \n",
              "Credit Card  415607.0  0.120013  0.082360  0.0  0.0  0.166052  0.166667   \n",
              "Dispute         731.0  0.000368  0.006138  0.0  0.0  0.000000  0.000000   \n",
              "No Charge      1532.0  0.000684  0.009241  0.0  0.0  0.000000  0.000000   \n",
              "Unknown          21.0  0.012426  0.039247  0.0  0.0  0.000000  0.000000   \n",
              "\n",
              "                  max  \n",
              "payment                \n",
              "Cash         0.000000  \n",
              "Credit Card  0.949471  \n",
              "Dispute      0.130584  \n",
              "No Charge    0.165919  \n",
              "Unknown      0.130520  "
            ],
            "text/html": [
              "\n",
              "  <div id=\"df-6f61032f-c13b-4543-88ee-7ad367f68ce6\">\n",
              "    <div class=\"colab-df-container\">\n",
              "      <div>\n",
              "<style scoped>\n",
              "    .dataframe tbody tr th:only-of-type {\n",
              "        vertical-align: middle;\n",
              "    }\n",
              "\n",
              "    .dataframe tbody tr th {\n",
              "        vertical-align: top;\n",
              "    }\n",
              "\n",
              "    .dataframe thead th {\n",
              "        text-align: right;\n",
              "    }\n",
              "</style>\n",
              "<table border=\"1\" class=\"dataframe\">\n",
              "  <thead>\n",
              "    <tr style=\"text-align: right;\">\n",
              "      <th></th>\n",
              "      <th>count</th>\n",
              "      <th>mean</th>\n",
              "      <th>std</th>\n",
              "      <th>min</th>\n",
              "      <th>25%</th>\n",
              "      <th>50%</th>\n",
              "      <th>75%</th>\n",
              "      <th>max</th>\n",
              "    </tr>\n",
              "    <tr>\n",
              "      <th>payment</th>\n",
              "      <th></th>\n",
              "      <th></th>\n",
              "      <th></th>\n",
              "      <th></th>\n",
              "      <th></th>\n",
              "      <th></th>\n",
              "      <th></th>\n",
              "      <th></th>\n",
              "    </tr>\n",
              "  </thead>\n",
              "  <tbody>\n",
              "    <tr>\n",
              "      <th>Cash</th>\n",
              "      <td>337087.0</td>\n",
              "      <td>0.000000</td>\n",
              "      <td>0.000000</td>\n",
              "      <td>0.0</td>\n",
              "      <td>0.0</td>\n",
              "      <td>0.000000</td>\n",
              "      <td>0.000000</td>\n",
              "      <td>0.000000</td>\n",
              "    </tr>\n",
              "    <tr>\n",
              "      <th>Credit Card</th>\n",
              "      <td>415607.0</td>\n",
              "      <td>0.120013</td>\n",
              "      <td>0.082360</td>\n",
              "      <td>0.0</td>\n",
              "      <td>0.0</td>\n",
              "      <td>0.166052</td>\n",
              "      <td>0.166667</td>\n",
              "      <td>0.949471</td>\n",
              "    </tr>\n",
              "    <tr>\n",
              "      <th>Dispute</th>\n",
              "      <td>731.0</td>\n",
              "      <td>0.000368</td>\n",
              "      <td>0.006138</td>\n",
              "      <td>0.0</td>\n",
              "      <td>0.0</td>\n",
              "      <td>0.000000</td>\n",
              "      <td>0.000000</td>\n",
              "      <td>0.130584</td>\n",
              "    </tr>\n",
              "    <tr>\n",
              "      <th>No Charge</th>\n",
              "      <td>1532.0</td>\n",
              "      <td>0.000684</td>\n",
              "      <td>0.009241</td>\n",
              "      <td>0.0</td>\n",
              "      <td>0.0</td>\n",
              "      <td>0.000000</td>\n",
              "      <td>0.000000</td>\n",
              "      <td>0.165919</td>\n",
              "    </tr>\n",
              "    <tr>\n",
              "      <th>Unknown</th>\n",
              "      <td>21.0</td>\n",
              "      <td>0.012426</td>\n",
              "      <td>0.039247</td>\n",
              "      <td>0.0</td>\n",
              "      <td>0.0</td>\n",
              "      <td>0.000000</td>\n",
              "      <td>0.000000</td>\n",
              "      <td>0.130520</td>\n",
              "    </tr>\n",
              "  </tbody>\n",
              "</table>\n",
              "</div>\n",
              "      <button class=\"colab-df-convert\" onclick=\"convertToInteractive('df-6f61032f-c13b-4543-88ee-7ad367f68ce6')\"\n",
              "              title=\"Convert this dataframe to an interactive table.\"\n",
              "              style=\"display:none;\">\n",
              "        \n",
              "  <svg xmlns=\"http://www.w3.org/2000/svg\" height=\"24px\"viewBox=\"0 0 24 24\"\n",
              "       width=\"24px\">\n",
              "    <path d=\"M0 0h24v24H0V0z\" fill=\"none\"/>\n",
              "    <path d=\"M18.56 5.44l.94 2.06.94-2.06 2.06-.94-2.06-.94-.94-2.06-.94 2.06-2.06.94zm-11 1L8.5 8.5l.94-2.06 2.06-.94-2.06-.94L8.5 2.5l-.94 2.06-2.06.94zm10 10l.94 2.06.94-2.06 2.06-.94-2.06-.94-.94-2.06-.94 2.06-2.06.94z\"/><path d=\"M17.41 7.96l-1.37-1.37c-.4-.4-.92-.59-1.43-.59-.52 0-1.04.2-1.43.59L10.3 9.45l-7.72 7.72c-.78.78-.78 2.05 0 2.83L4 21.41c.39.39.9.59 1.41.59.51 0 1.02-.2 1.41-.59l7.78-7.78 2.81-2.81c.8-.78.8-2.07 0-2.86zM5.41 20L4 18.59l7.72-7.72 1.47 1.35L5.41 20z\"/>\n",
              "  </svg>\n",
              "      </button>\n",
              "      \n",
              "  <style>\n",
              "    .colab-df-container {\n",
              "      display:flex;\n",
              "      flex-wrap:wrap;\n",
              "      gap: 12px;\n",
              "    }\n",
              "\n",
              "    .colab-df-convert {\n",
              "      background-color: #E8F0FE;\n",
              "      border: none;\n",
              "      border-radius: 50%;\n",
              "      cursor: pointer;\n",
              "      display: none;\n",
              "      fill: #1967D2;\n",
              "      height: 32px;\n",
              "      padding: 0 0 0 0;\n",
              "      width: 32px;\n",
              "    }\n",
              "\n",
              "    .colab-df-convert:hover {\n",
              "      background-color: #E2EBFA;\n",
              "      box-shadow: 0px 1px 2px rgba(60, 64, 67, 0.3), 0px 1px 3px 1px rgba(60, 64, 67, 0.15);\n",
              "      fill: #174EA6;\n",
              "    }\n",
              "\n",
              "    [theme=dark] .colab-df-convert {\n",
              "      background-color: #3B4455;\n",
              "      fill: #D2E3FC;\n",
              "    }\n",
              "\n",
              "    [theme=dark] .colab-df-convert:hover {\n",
              "      background-color: #434B5C;\n",
              "      box-shadow: 0px 1px 3px 1px rgba(0, 0, 0, 0.15);\n",
              "      filter: drop-shadow(0px 1px 2px rgba(0, 0, 0, 0.3));\n",
              "      fill: #FFFFFF;\n",
              "    }\n",
              "  </style>\n",
              "\n",
              "      <script>\n",
              "        const buttonEl =\n",
              "          document.querySelector('#df-6f61032f-c13b-4543-88ee-7ad367f68ce6 button.colab-df-convert');\n",
              "        buttonEl.style.display =\n",
              "          google.colab.kernel.accessAllowed ? 'block' : 'none';\n",
              "\n",
              "        async function convertToInteractive(key) {\n",
              "          const element = document.querySelector('#df-6f61032f-c13b-4543-88ee-7ad367f68ce6');\n",
              "          const dataTable =\n",
              "            await google.colab.kernel.invokeFunction('convertToInteractive',\n",
              "                                                     [key], {});\n",
              "          if (!dataTable) return;\n",
              "\n",
              "          const docLinkHtml = 'Like what you see? Visit the ' +\n",
              "            '<a target=\"_blank\" href=https://colab.research.google.com/notebooks/data_table.ipynb>data table notebook</a>'\n",
              "            + ' to learn more about interactive tables.';\n",
              "          element.innerHTML = '';\n",
              "          dataTable['output_type'] = 'display_data';\n",
              "          await google.colab.output.renderOutput(dataTable, element);\n",
              "          const docLink = document.createElement('div');\n",
              "          docLink.innerHTML = docLinkHtml;\n",
              "          element.appendChild(docLink);\n",
              "        }\n",
              "      </script>\n",
              "    </div>\n",
              "  </div>\n",
              "  "
            ]
          },
          "metadata": {},
          "execution_count": 38
        }
      ]
    },
    {
      "cell_type": "code",
      "source": [
        ""
      ],
      "metadata": {
        "id": "BRzf1bDZYBBJ"
      },
      "execution_count": null,
      "outputs": []
    }
  ]
}