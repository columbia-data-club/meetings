{
  "nbformat": 4,
  "nbformat_minor": 0,
  "metadata": {
    "colab": {
      "name": "Python for Women in STEM at SIPA",
      "provenance": [],
      "collapsed_sections": [],
      "include_colab_link": true
    },
    "kernelspec": {
      "name": "python3",
      "display_name": "Python 3"
    },
    "language_info": {
      "name": "python"
    }
  },
  "cells": [
    {
      "cell_type": "markdown",
      "metadata": {
        "id": "view-in-github",
        "colab_type": "text"
      },
      "source": [
        "<a href=\"https://colab.research.google.com/github/cul-data-club/meetings/blob/main/2022/april-1-women-in-stem-at-sipa/april-1-women-in-stem-at-sipa.ipynb\" target=\"_parent\"><img src=\"https://colab.research.google.com/assets/colab-badge.svg\" alt=\"Open In Colab\"/></a>"
      ]
    },
    {
      "cell_type": "markdown",
      "source": [
        "# Introduction to Python for Women in STEM at SIPA\n",
        "\n",
        "by Moacir, from [Research Data Services](https://library.columbia.edu/services/research-data-services/)\n",
        "\n",
        "## Welcome\n",
        "\n",
        "Welcome to this notebook and workshop! If you’ve never used this kind of page before, this is an **interactive notebook**. You might have used something similar, called a [Jupyter Notebook](http://jupyter.org), but if not, that’s ok. We’re here to learn, after all."
      ],
      "metadata": {
        "id": "g7qw85jiqJoy"
      }
    },
    {
      "cell_type": "markdown",
      "source": [
        "## Interactive notebook?\n",
        "\n",
        "This notebook is made up of a bunch of blocks (called “cells”) going down the page. Each cell can hold either text, like this one, or code, where you can type in Python. This provides a very flexible environment for you as you learn, because you can experiment inside a code cell and slowly iterate through your project.\n",
        "\n",
        "These interactive notebooks are especially helpful for [Exploratory Data Analysis](https://en.wikipedia.org/wiki/Exploratory_data_analysis), because none of the changes are permanent, yet you have a space where you can move quickly to understand your data. Jupyter Notebooks (and their Google cousin, Colab, which this is) are a centerpiece of contemporary data science for scholars writing Python, R, or Julia code."
      ],
      "metadata": {
        "id": "hLGgU0vCrCW2"
      }
    },
    {
      "cell_type": "code",
      "execution_count": null,
      "metadata": {
        "id": "BtuGyU43p8yC"
      },
      "outputs": [],
      "source": [
        "# This is a code cell. It has a slightly different look from the text cells,\n",
        "# as you can see. I can execute (or \"run\") the code in this cell by typing\n",
        "# shift-enter. I can also run the code by pressing the \"play\" button to the left.\n",
        "# The text I'm writing here is \"commented,\" so nothing happens. It's commented\n",
        "# because each line begins with a \"#\". Colab also colors comments green.\n",
        "#\n",
        "# This is real code, though. Type shift-enter and see what happens. Even better,\n",
        "# look at the code and try to guess!\n",
        "\n",
        "print(\"Hello, learners!\")"
      ]
    },
    {
      "cell_type": "markdown",
      "source": [
        "(back in text mode!) Try changing the cell above to have it print your name instead of “`learners`.”\n",
        "\n",
        "## Python Resources at Columbia and Beyond\n",
        "\n",
        "Ninety minutes is nowhere near enough time to get a good grasp of Python. Python is a very rich language with lots of applications. You can use it to [analyze data](https://pandas.pydata.org/) and [geospatial data](http://geopandas.org), [explore open quantum systems](https://qutip.org/), [transcribe audio interviews](https://alphacephei.com/vosk/), [make maps](https://python-visualization.github.io/folium/), [model weather](https://unidata.github.io/MetPy/latest/userguide/startingguide.html), [design games](https://www.pygame.org/news), [encrypt data](https://cryptography.io/en/latest), [analyze a large corpus of text](https://spacy.io/), [research family histories](https://github.com/gramps-project/gramps), [build websites](https://www.djangoproject.com/), [control embedded systems and the Internet of Things](https://projects.raspberrypi.org/en/projects), [edit movies](https://zulko.github.io/moviepy/), [scrape the web](https://www.crummy.com/software/BeautifulSoup/bs4/doc/), [simulate ocean dynamics](https://xgcm.readthedocs.io/en/latest/), [generate algorithmic art](https://spin.atomicobject.com/2021/12/14/generative-art-zero-random/),\n",
        "and [study the stars](https://www.astropy.org/).\n",
        "\n",
        "Today, we’ll focus on how an interactive Python notebook can analyze data, much like Microsoft Excel or Google Sheets. But in the meantime, here are some resources where you can learn more:\n",
        "\n",
        "- Columbia\n",
        "  - [Research Data Services](https://library.columbia.edu/services/research-data-services/) (that’s me! (and my colleagues). We provide various research data-related consultation services for free to Columbia researchers. That’s why I’m here. Reach out to us by emailing data@library.columbia.edu\n",
        "  - [Data Club](https://library.columbia.edu/services/research-data-services/data-club.html). RDS hosts Data Club, which meets a few times every semester to learn more about data, usually with Python. [Join the email list](https://listserv.cuit.columbia.edu/scripts/wa.exe?SUBED1=CUL-DATA-CLUB&A=1)\n",
        "  - [Foundations for Research Computing](https://rcfoundations.research.columbia.edu/) Foundations hosts two-day intensive workshops on Python, R, and Git a few times each year. The material is based on [Software Carpentry’s “Plotting and Programming with Python”](https://swcarpentry.github.io/python-novice-gapminder/), and you can learn on your own that way, too.\n",
        "  - “[Computing in Context](https://www.cs.columbia.edu/2016/computing-in-context-a-computer-science-course-for-liberal-arts-majors-expands-with-new-sipa-track/).” SIPA students have access to their own, semester-long course for Python beginners, typically taught in the Fall. Check [the Directory of Courses](https://doc.search.columbia.edu/classes/computing+in+context?instr=&name=&days=&semes=&hour=&moi=) for availability.\n",
        "- Online\n",
        "  - “[Plotting and Programming in Python](https://swcarpentry.github.io/python-novice-gapminder/).” Take the intensive Foundations Python workshop at your own speed.\n",
        "  - [_Think Python 2e_](https://greenteapress.com/wp/think-python-2e/) is a free textbook for Python that approaches the language thoughtfully and for learners with no programming experience\n",
        "  - [Women who Code Python](https://www.womenwhocode.com/python) is an online forum with webinars and networking opportunities for women who use Python.\n",
        "  - [Data Umbrella](https://dataumbrella.substack.com/) is a community for underrepresented persons in data science. While not Python-specific, they often co-host events with [NYC PyLadies](https://www.meetup.com/NYC-PyLadies/events/), which is Python-specific."
      ],
      "metadata": {
        "id": "rbRcLzwvtDIy"
      }
    },
    {
      "cell_type": "markdown",
      "source": [
        "I put all these resources at the beginning of this notebook instead of the end because I want to underscore how cursory today’s workshop will be. Yet the most important part is these resources.\n",
        "\n",
        "## Data Types in Python\n",
        "\n",
        "For today, we’re going to focus on three basic data types in Python: `strings`, `numbers`, and `lists`.\n",
        "\n",
        "- **Strings** are easy: they look like text, are surrounded by `\"\"`, and get colored red in code cells. `\"Hello, learner!\"` above is an example of a string\n",
        "- **Numbers** are, well, numbers. Python does, however, distinguish between integers, non-integers (called \"floats\"), and complex numbers. Integers and floats are colored green in code cells\n",
        "- **Lists** are collections of things, like strings or numbers or other things we won't have time to learn about today. They are notated with `[]`."
      ],
      "metadata": {
        "id": "abA_8LFQzJ1U"
      }
    },
    {
      "cell_type": "code",
      "source": [
        "### Strings ###\n",
        "\n",
        "# I'm going to assign a string to a variable called \"my_string\":\n",
        "\n",
        "my_string = \"Hello, learners. I am a string.\"\n",
        "\n",
        "# As you can see, the string is colored red. Let's print the variable:\n",
        "\n",
        "print(my_string)"
      ],
      "metadata": {
        "id": "3xpqkLJtzIVW"
      },
      "execution_count": null,
      "outputs": []
    },
    {
      "cell_type": "code",
      "source": [
        "# Variables can carry over from one cell to the next, as long as they're run\n",
        "# in the right order. Also, let's goof around:\n",
        "\n",
        "print(my_string * 3)"
      ],
      "metadata": {
        "id": "s2-xLe6D1BQD"
      },
      "execution_count": null,
      "outputs": []
    },
    {
      "cell_type": "code",
      "source": [
        "### Numbers ###\n",
        "\n",
        "# Now I'm going to assign a number to a variable called my_number.\n",
        "\n",
        "my_number = 24\n",
        "\n",
        "# The number is green. We saw above how \"* 3\" multiplied the string three times.\n",
        "# Let's try the same thing here:\n",
        "\n",
        "print(my_number * 3)"
      ],
      "metadata": {
        "id": "azWstoKS1ZfL"
      },
      "execution_count": null,
      "outputs": []
    },
    {
      "cell_type": "code",
      "source": [
        "print(my_string * my_number)"
      ],
      "metadata": {
        "id": "_3dHNgSK15Uo"
      },
      "execution_count": null,
      "outputs": []
    },
    {
      "cell_type": "code",
      "source": [
        "# Interesting. Let's try addition:\n",
        "\n",
        "print(my_number + 3)"
      ],
      "metadata": {
        "id": "QK9_6lzX1-za"
      },
      "execution_count": null,
      "outputs": []
    },
    {
      "cell_type": "code",
      "source": [
        "print(my_number + my_string)"
      ],
      "metadata": {
        "id": "xBLIJe6B2DZD"
      },
      "execution_count": null,
      "outputs": []
    },
    {
      "cell_type": "markdown",
      "source": [
        "Argh. We haven’t even gotten to lists yet, and we already have a bug. Python tries to give helpful errors when it crashes, but it takes a bit of practice to learn to understand what Python means. Why did this crash?"
      ],
      "metadata": {
        "id": "6UMTiQzA2Wgg"
      }
    },
    {
      "cell_type": "code",
      "source": [
        "### Lists ###\n",
        "\n",
        "my_list = [my_string, my_number, \"Pikachu\", my_string, 92]\n",
        "\n",
        "print(my_list)"
      ],
      "metadata": {
        "id": "Rx23Xh2S2T0K"
      },
      "execution_count": null,
      "outputs": []
    },
    {
      "cell_type": "code",
      "source": [
        "# We can get the length of a list this way:\n",
        "\n",
        "print(len(my_list))\n",
        "\n",
        "# (We can even use len() with strings:)\n",
        "\n",
        "print(len(my_string))\n"
      ],
      "metadata": {
        "id": "N9gmaUvZ2r2G"
      },
      "execution_count": null,
      "outputs": []
    },
    {
      "cell_type": "code",
      "source": [
        "# Lists are kind of funny, because the \"first\" member has an index [subscript] \n",
        "# value of 0. \n",
        "#\n",
        "# Whenever I talk about lists, I say the \"zeroth\" member, and then the \"oneth\"\n",
        "# and \"twoth\" and \"threeth\" members to get this across:\n",
        "\n",
        "print(my_list[0])\n",
        "\n",
        "# You put the index value inside [] right after the list.\n",
        "\n",
        "print(my_list[2])\n",
        "\n",
        "# And you can even do math to get the last member of the list:\n",
        "\n",
        "print(my_list[len(my_list) - 1])\n",
        "\n",
        "# Or just:\n",
        "\n",
        "print(my_list[4])\n",
        "\n",
        "# Oh, strings can be indexed the same way:\n",
        "\n",
        "print(my_string[3])"
      ],
      "metadata": {
        "id": "xn65oCsI25Ld"
      },
      "execution_count": null,
      "outputs": []
    },
    {
      "cell_type": "markdown",
      "source": [
        "Strings, numbers, and lists can obviously do much more than the above. Here are links to the official Python tutorial that introduces these three types:\n",
        "\n",
        "- [Strings](https://docs.python.org/3/tutorial/introduction.html#strings)\n",
        "- [Numbers](https://docs.python.org/3/tutorial/introduction.html#numbers) (a description of all three types)\n",
        "- [Lists](https://docs.python.org/3/tutorial/introduction.html#lists)\n",
        "\n",
        "As you can see, they go into much more detail in their introduction!"
      ],
      "metadata": {
        "id": "Q-gb4lJF4naR"
      }
    },
    {
      "cell_type": "markdown",
      "source": [
        "### Quick Note on Functions and Methods\n",
        "\n",
        "Finally, `len()` and `print()` are examples of `functions`. Functions do things, and typically whatever is in the parentheses is the argument or arguments that tell the function what to work with.\n",
        "\n",
        "Some types have functions inherent in them. These are called `methods`. You can always distinguish a method from a function, because a method always has something and a period before it."
      ],
      "metadata": {
        "id": "sRhpSBdE7RnY"
      }
    },
    {
      "cell_type": "code",
      "source": [
        "# len() is a function. It \"returns\" the length of whatever argument is passed to it:\n",
        "\n",
        "my_string_length = len(my_string)\n",
        "\n",
        "print(my_string_length)\n",
        "\n",
        "# Strings also have methods, like .upper():\n",
        "\n",
        "my_string_shouty = my_string.upper()\n",
        "\n",
        "print(my_string_shouty)"
      ],
      "metadata": {
        "id": "hILtIC8S8RpJ"
      },
      "execution_count": null,
      "outputs": []
    },
    {
      "cell_type": "markdown",
      "source": [
        "## Data Analysis with Pandas\n",
        "\n",
        "We’re making a gigantic leap here from basic data types to using a **library** for data analysis called [pandas](https://pandas.pydata.org/). Surprisingly, a lot can be accomplished with just the various methods pandas makes available via two new data types: [pandas itself](https://pandas.pydata.org/docs/reference/general_functions.html) and the pandas [`DataFrame`](https://pandas.pydata.org/docs/reference/frame.html).\n",
        "\n",
        "If you want to learn more about pandas, you can [read the book](https://clio.columbia.edu/catalog/13626019) online, made possible because of the Columbia Libraries subscription.\n",
        "\n",
        "Pandas is available in Google Colab, but it’s not loaded by default, so the first step is to import it. While we’re at it, we’ll also import a plotting library."
      ],
      "metadata": {
        "id": "B5a8Kbmc650Q"
      }
    },
    {
      "cell_type": "code",
      "source": [
        "import pandas as pd # We can now access pandas by using the variable \"pd\"\n",
        "import matplotlib.pyplot as plt # Same thing, but for the plotting library & \"plt\""
      ],
      "metadata": {
        "id": "9WZqkHwy3rj1"
      },
      "execution_count": null,
      "outputs": []
    },
    {
      "cell_type": "code",
      "source": [
        "# Here, we'll use Colab's built in autocomplete to investigate Pandas.\n",
        "\n",
        "pd"
      ],
      "metadata": {
        "id": "vSD53VDN-jcu"
      },
      "execution_count": null,
      "outputs": []
    },
    {
      "cell_type": "markdown",
      "source": [
        "### Getting Data\n",
        "\n",
        "First, we need to find our data. This is where emailing RDS (`data@library.columbia.edu`) can come in handy, as my colleagues and I are always eager to help researchers find data. In the [Data Club introduction to EDA with Pandas](https://colab.research.google.com/github/cul-data-club/meetings/blob/main/2022/General_Introduction_to_Pandas_and_Exploratory_Data_Analysis_(EDA).ipynb#scrollTo=KdL06uPvhZ5Q) Colab, we use a dataset of NYC yellow cab taxi rides taken in February 2018 that we isolated from the [general NYC government TLC (Taxi and Limousine Commission) dataset](https://www1.nyc.gov/site/tlc/about/tlc-trip-record-data.page). \n",
        "\n",
        "The data as we downloaded it had a few errors, and much of the Colab above is devoted to standardizing the data and preparing it for analysis, with just a little analysis at the end. Here, instead, we’ll jump straight to the wrangled data and start right away with analysis."
      ],
      "metadata": {
        "id": "P0rrw0xHGyq9"
      }
    },
    {
      "cell_type": "code",
      "source": [
        "# Grab the cleaned up dataset from GitHub:\n",
        "\n",
        "dataset_url = \"https://media.githubusercontent.com/media/cul-data-club/meetings/main/2022/february-17-pandas/cleaned-taxi-data-at-end-of-pandas-colab.csv\"\n",
        "\n",
        "# \"!wget\" tells the notebook to execute the \"wget\" command that exists outside\n",
        "# of the notebook. It downloads stuff from the internet and puts it in the\n",
        "# folder you can acess on the left.\n",
        "!wget {dataset_url}\n"
      ],
      "metadata": {
        "id": "KHBFAFapHz6f"
      },
      "execution_count": null,
      "outputs": []
    },
    {
      "cell_type": "code",
      "source": [
        "# Let's see how big the data file we just downloaded is.\n",
        "\n",
        "import os # Gives us access to the file system\n",
        "\n",
        "data_file = \"cleaned-taxi-data-at-end-of-pandas-colab.csv\"\n",
        "\n",
        "size_in_bytes = os.stat(data_file).st_size\n",
        "\n",
        "print(f\"The size is {size_in_bytes} bytes or {size_in_bytes / 1024 / 1024} Mb\")"
      ],
      "metadata": {
        "id": "dS-ImtdEmfId"
      },
      "execution_count": null,
      "outputs": []
    },
    {
      "cell_type": "markdown",
      "source": [
        "Oops I did something fancy there with the `f\"string\"`. That makes use of Python’s [new “f-strings” language feature](https://realpython.com/python-f-strings/) that lets you execute code / access variables from _within_ a string. It’s a big deal, trust me."
      ],
      "metadata": {
        "id": "x5DF-6LAoLnw"
      }
    },
    {
      "cell_type": "code",
      "source": [
        "# Read the file into Pandas, or, more precisely, create a DataFrame and inject\n",
        "# the data we downloaded into it. We'll call the DataFrame \"df,\" which is \n",
        "# idiomatic Python (\"Pythonic\")\n",
        "\n",
        "# Even though the data is already prepared, I still am doing a little extra\n",
        "# finessing here. First, I'm only reading in the columns I'm interested in.\n",
        "# Next, I'm telling pandas which columns store dates/times (\"pickup\" and \n",
        "# \"dropoff\").\n",
        "\n",
        "use_these_columns = [\"pickup\", \"dropoff\", \n",
        "           \"passengers\", \"distance\", \"fare\", \n",
        "           \"tip\", \"total\", \"payment_type\",\n",
        "           \"payment\", \"passenger_type\"]\n",
        "df = pd.read_csv(data_file, \n",
        "                 parse_dates=['pickup', 'dropoff'], usecols=use_these_columns)"
      ],
      "metadata": {
        "id": "H1omfe4bnAga"
      },
      "execution_count": null,
      "outputs": []
    },
    {
      "cell_type": "code",
      "source": [
        "# We can start with a few simple methods each DataFrame has to understand\n",
        "# its basic characteristics better\n",
        "\n",
        "df.info()\n",
        "\n",
        "# What do you make of this readout? Does the Dtype column make sense?\n",
        "# Why are \"payment\" and \"passenger_type\" \"object\"s?"
      ],
      "metadata": {
        "id": "2LcSvyRXqvF-"
      },
      "execution_count": null,
      "outputs": []
    },
    {
      "cell_type": "code",
      "source": [
        "df.describe()"
      ],
      "metadata": {
        "id": "B_lZxeFvrC7G"
      },
      "execution_count": null,
      "outputs": []
    },
    {
      "cell_type": "code",
      "source": [
        "# How many empty cells are there in the data?\n",
        "\n",
        "df.isnull().sum()"
      ],
      "metadata": {
        "id": "QlS1hjPUrNXm"
      },
      "execution_count": null,
      "outputs": []
    },
    {
      "cell_type": "code",
      "source": [
        "# We can plot histograms to get a sense of the shape of the data, too. \n",
        "\n",
        "fig, axs = plt.subplots(4, 2, figsize=(15, 15))\n",
        "axs[0, 0].hist(df[\"pickup\"])\n",
        "axs[0, 0].set_title(\"Pickup dates\")\n",
        "axs[0, 1].hist(df[\"dropoff\"])\n",
        "axs[0, 1].set_title(\"Dropoff dates\")\n",
        "axs[1, 0].hist(df[\"passengers\"])\n",
        "axs[1, 0].set_title(\"Passengers\")\n",
        "axs[1, 1].hist(df[\"distance\"])\n",
        "axs[1, 1].set_title(\"Distance\")\n",
        "axs[2, 0].hist(df[\"fare\"])\n",
        "axs[2, 0].set_title(\"Fare\")\n",
        "axs[2, 1].hist(df[\"tip\"])\n",
        "axs[2, 1].set_title(\"Tip amount\")\n",
        "axs[3, 0].bar(df[\"payment\"].value_counts().index, df[\"payment\"].value_counts())\n",
        "axs[3, 0].set_title(\"Payment\")"
      ],
      "metadata": {
        "id": "FHqJTUbxvXeH"
      },
      "execution_count": null,
      "outputs": []
    },
    {
      "cell_type": "code",
      "source": [
        "# Let's do that again, but this time, let's make the y-axis a log scale.\n",
        "\n",
        "fig, axs = plt.subplots(4, 2, figsize=(15, 15))\n",
        "axs[0, 0].hist(df[\"pickup\"])\n",
        "axs[0, 0].set_title(\"Pickup dates\")\n",
        "axs[0, 1].hist(df[\"dropoff\"])\n",
        "axs[0, 1].set_title(\"Dropoff dates\")\n",
        "axs[1, 0].hist(df[\"passengers\"], log=True)\n",
        "axs[1, 0].set_title(\"Passengers\")\n",
        "axs[1, 1].hist(df[\"distance\"], log=True)\n",
        "axs[1, 1].set_title(\"Distance\")\n",
        "axs[2, 0].hist(df[\"fare\"], log=True)\n",
        "axs[2, 0].set_title(\"Fare\")\n",
        "axs[2, 1].hist(df[\"tip\"], log=True)\n",
        "axs[2, 1].set_title(\"Tip amount\")\n",
        "axs[3, 0].bar(df[\"payment\"].value_counts().index, df[\"payment\"].value_counts(), log=True)\n",
        "axs[3, 0].set_title(\"Payment\")"
      ],
      "metadata": {
        "id": "OhTbtP4o_q2C"
      },
      "execution_count": null,
      "outputs": []
    },
    {
      "cell_type": "markdown",
      "source": [
        "## Time to Talk Policy\n",
        "\n",
        "What kinds of policy-related questions can we ask about this dataset? Is there anything you would want to know about this data, perhaps to encourage some kind of behavioral change in drivers or passengers? What can we do to interact with this data **creatively**? \n",
        "\n",
        "If you come up with an idea or two, I can try to model them in the time we have left, thereby showing some more of the functionality Pandas provides."
      ],
      "metadata": {
        "id": "TtViVzZxEdNi"
      }
    },
    {
      "cell_type": "code",
      "source": [
        ""
      ],
      "metadata": {
        "id": "3zdhpGi2OS6F"
      },
      "execution_count": null,
      "outputs": []
    }
  ]
}