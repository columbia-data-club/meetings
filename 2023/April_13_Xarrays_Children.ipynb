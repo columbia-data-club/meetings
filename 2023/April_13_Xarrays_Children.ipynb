{
  "cells": [
    {
      "cell_type": "markdown",
      "metadata": {
        "id": "view-in-github",
        "colab_type": "text"
      },
      "source": [
        "<a href=\"https://colab.research.google.com/github/columbia-data-club/meetings/blob/main/2023/April_13_Xarrays_Children.ipynb\" target=\"_parent\"><img src=\"https://colab.research.google.com/assets/colab-badge.svg\" alt=\"Open In Colab\"/></a>"
      ]
    },
    {
      "cell_type": "markdown",
      "source": [
        "<center> <img src=\"https://i.etsystatic.com/7750602/r/il/e14fba/2242302522/il_570xN.2242302522_fbes.jpg\" alt=\"Drawing\" style=\"width: 450px;\"/> </center>\n",
        "\n",
        "## Xarray's Children\n",
        "\n",
        "April 13th, 2023\n",
        "\n",
        "by [Roger Creel](https://rogercreel.com) for the [Columbia Data Club](https://github.com/columbia-data-club/).\n",
        "\n",
        "This notebook underpins a ~60-75 minute presentation that discusses several python libraries built on top of Xarray.  The notebook draws heavily on the documentation of each of these libraries. It is geared towards beginners to Python. \n"
      ],
      "metadata": {
        "id": "cLBwg1dPAZYN"
      }
    },
    {
      "cell_type": "markdown",
      "source": [],
      "metadata": {
        "id": "m7l5iljQcjmA"
      }
    },
    {
      "cell_type": "markdown",
      "source": [
        "# **Xarray's Children**\n",
        "*Presented by Columbia University Libraries*\n",
        "***\n",
        "\n",
        "Welcome to the Columbia University Library's workshop on the python library offspring of Xarray! These are our objectives:\n",
        "\n",
        "\n",
        "* Review Xarray as a tool for data analysis\n",
        "* Introduce MetPy, a Python library for meteorogical observations\n",
        "* Mention Pint, a python library for unit management\n",
        "\n",
        "\n",
        "\n",
        "* Introduce OGGM, a Python library for glacier modeling\n",
        "* Mention Salem, a pythoon library for data processing and plotting\n",
        "\n",
        "\n",
        "\n",
        "* Answer questions! \n",
        "\n",
        "\n",
        "\n",
        "\n"
      ],
      "metadata": {
        "id": "x1ApxJIqAlhG"
      }
    },
    {
      "cell_type": "markdown",
      "source": [
        "## Xarray primer\n",
        "You may be familiar with [Pandas](https://pandas.pydata.org/pandas-docs/stable/) or [Geopandas](http://geopandas.org) as excellent libraries for analyzing tabular \"labeled data\". [Xarray](http://xarray.pydata.org/en/stable/) is designed to make it easier to work with with _labeled multidimensional data_. By _multidimensional data_ (also often called _N-dimensional_), we mean data with many independent dimensions or axes. For example, we might represent Earth's surface temperature $T$ as a three dimensional variable\n",
        "\n",
        "$$ T(x, y, t) $$\n",
        "\n",
        "where $x$ and $y$ are spatial dimensions and and $t$ is time. \n",
        "\n",
        "By _labeled_, we mean data that has metadata associated with it describing the names and relationships between the variables. The cartoon below shows a \"data cube\" schematic dataset with temperature and preciptation sharing the same three dimensions, plus longitude and latitude as auxilliary coordinates.\n",
        "\n",
        "\n",
        "The point of xarray is to provide pandas-level convenience for working with this type of data.\n",
        "\n",
        "\n",
        "![xarray data model](https://github.com/pydata/xarray/blob/main/doc/_static/dataset-diagram.png?raw=true)\n",
        "\n",
        "### Xarray data structures\n",
        "\n",
        "Like Pandas, xarray has two fundamental data structures:\n",
        "* a `DataArray`, which holds a single multi-dimensional variable and its coordinates\n",
        "* a `Dataset`, which holds multiple variables that potentially share the same coordinates\n",
        "\n",
        "#### DataArray\n",
        "\n",
        "A `DataArray` has four essential attributes:\n",
        "* `values`: a `numpy.ndarray` holding the array’s values\n",
        "* `dims`: dimension names for each axis (e.g., `('x', 'y', 'z')`)\n",
        "* `coords`: a dict-like container of arrays (coordinates) that label each point (e.g., 1-dimensional arrays of numbers, datetime objects or strings)\n",
        "* `attrs`: an `OrderedDict` to hold arbitrary metadata (attributes)\n",
        "\n",
        "#### DataSet\n",
        "\n",
        "A dataset is simply an object containing multiple DataArrays indexed by variable name\n",
        "\n",
        "\n"
      ],
      "metadata": {
        "id": "gArvoUi8Bb9L"
      }
    },
    {
      "cell_type": "markdown",
      "source": [
        "----------------------------\n",
        "<center> <img src=\"https://unidata.github.io/MetPy/latest/_static/metpy_horizontal.png\" alt=\"Drawing\" style=\"width: 450px;\"/>\n",
        "\n",
        "\n",
        "# MetPy: meteorological calculations with xarray \n",
        "\n",
        "### (With cameo appearance by Pint)\n",
        "\n",
        "\n",
        "\n",
        "<td> <img src=\"https://pint.readthedocs.io/en/stable/_static/logo-full.jpg\" alt=\"Drawing\" style=\"width: 450px;\"/> </td>\n",
        "\n",
        " </center>"
      ],
      "metadata": {
        "id": "7pUZWck5Br65"
      }
    },
    {
      "cell_type": "markdown",
      "metadata": {
        "id": "YwYOD38bAHYV"
      },
      "source": [
        " MetPy's suite of meteorological calculations are designed to integrate with xarray DataArrays as one of its two\n",
        "primary data models (the other being Pint Quantities). MetPy also provides DataArray and\n",
        "Dataset *accessors* (collections of methods and properties attached to the ``.metpy`` property)\n",
        "for coordinate/CRS and unit operations.\n",
        "\n",
        "Here we will demonstrate the three main components of MetPy's integration with xarray: \n",
        "* coordinates/coordinate reference systems\n",
        "* units\n",
        "* calculations\n",
        "\n",
        "First, some general imports...\n"
      ]
    },
    {
      "cell_type": "code",
      "source": [
        "%matplotlib inline\n",
        "!python -m pip install 'metpy'\n",
        "!pip install cartopy\n",
        "!apt-get -qq install python-cartopy python3-cartopy\n",
        "!pip uninstall -y shapely\n",
        "!pip install shapely --no-binary shapely\n",
        "!pip install cartopy\n"
      ],
      "metadata": {
        "id": "s_X7A_GtCy9O"
      },
      "execution_count": null,
      "outputs": []
    },
    {
      "cell_type": "code",
      "execution_count": null,
      "metadata": {
        "id": "O-BXlKGeAHYW"
      },
      "outputs": [],
      "source": [
        "from datetime import datetime, timedelta\n",
        "\n",
        "import xarray as xr\n",
        "import cartopy\n",
        "\n",
        "import metpy.calc as mpcalc\n",
        "from metpy.cbook import get_test_data\n",
        "from metpy.io import metar\n",
        "from metpy.plots.declarative import (BarbPlot, ContourPlot, FilledContourPlot, MapPanel,\n",
        "                                     PanelContainer, PlotObs)\n",
        "from metpy.units import units\n",
        "\n",
        "import numpy as np\n"
      ]
    },
    {
      "cell_type": "markdown",
      "metadata": {
        "id": "CJt5J5omAHYX"
      },
      "source": [
        "...and opening some sample data to work with.\n",
        "\n"
      ]
    },
    {
      "cell_type": "code",
      "execution_count": null,
      "metadata": {
        "id": "uPGEDmhiAHYX"
      },
      "outputs": [],
      "source": [
        "# Open the netCDF file as a xarray Dataset\n",
        "data = xr.open_dataset(get_test_data('irma_gfs_example.nc', False))\n",
        "\n",
        "# View a summary of the Dataset\n",
        "data"
      ]
    },
    {
      "cell_type": "markdown",
      "metadata": {
        "id": "Pc_yxWp_AHYX"
      },
      "source": [
        "While xarray can handle a variety of n-dimensional data (essentially anything storable in a netCDF file), a common use case is working with gridded model output. Here we'll use an example subset of GFS data\n",
        "from Hurricane Irma (September 5th, 2017) included in MetPy's test suite. \n",
        "\n",
        "Going back to the above object, this ``Dataset`` consists of:\n",
        " * *dimensions* \n",
        "\n",
        " and their associated\n",
        " * *coordinates*\n",
        " \n",
        " which in turn make up the axes along which the \n",
        " * *data variables*\n",
        "\n",
        "are defined. The dataset also has a dictionary-like collection of \n",
        "* *attributes*. \n",
        "\n",
        "What happens if we look at just a single data variable?\n",
        "\n"
      ]
    },
    {
      "cell_type": "code",
      "execution_count": null,
      "metadata": {
        "id": "3biMykvbAHYY"
      },
      "outputs": [],
      "source": [
        "temperature = data['Temperature_isobaric']\n",
        "temperature"
      ]
    },
    {
      "cell_type": "markdown",
      "metadata": {
        "id": "cnJwPlT9AHYY"
      },
      "source": [
        "This is a \n",
        "* ``DataArray``, \n",
        "\n",
        "which stores just a single data variable with its associated\n",
        "coordinates and attributes. \n",
        "\n",
        "MetPy takes these kinds of ``DataArray`` objects as inputs.\n",
        "\n",
        "\n",
        "## Coordinates and Coordinate Reference Systems\n",
        "\n",
        "MetPy's first set of helpers comes with identifying *coordinate types*. In a given dataset,\n",
        "coordinates can have a variety of different names and yet refer to the same type (such as\n",
        "\"isobaric1\" and \"isobaric3\" both referring to vertical isobaric coordinates). Following\n",
        "CF conventions, as well as using some fall-back regular expressions, MetPy can\n",
        "systematically identify coordinates of the following types:\n",
        "\n",
        "- time\n",
        "- vertical\n",
        "- latitude\n",
        "- y\n",
        "- longitude\n",
        "- x\n",
        "\n",
        "When identifying a single coordinate, it is best to use the property directly associated\n",
        "with that type.\n",
        "\n"
      ]
    },
    {
      "cell_type": "code",
      "execution_count": null,
      "metadata": {
        "id": "uvs8BYZUAHYY"
      },
      "outputs": [],
      "source": [
        "temperature.metpy.time"
      ]
    },
    {
      "cell_type": "markdown",
      "metadata": {
        "id": "ZwxvUzPPAHYZ"
      },
      "source": [
        "You can use the ``.coordinates()``\n",
        "method to yield a generator for coordinates when accessing multiple coordinate types simultaneously\n",
        "\n"
      ]
    },
    {
      "cell_type": "code",
      "execution_count": null,
      "metadata": {
        "id": "5MxhOBmvAHYZ"
      },
      "outputs": [],
      "source": [
        "x, y = temperature.metpy.coordinates('x', 'y')"
      ]
    },
    {
      "cell_type": "markdown",
      "metadata": {
        "id": "Zz0D7VXQAHYZ"
      },
      "source": [
        "These coordinate type aliases can also be used in MetPy's wrapped ``.sel`` and ``.loc``\n",
        "for indexing and selecting on ``DataArray``s. For example, to access 500 hPa heights at\n",
        "1800Z,\n",
        "\n"
      ]
    },
    {
      "cell_type": "code",
      "execution_count": null,
      "metadata": {
        "id": "nKxQd71HAHYZ"
      },
      "outputs": [],
      "source": [
        "heights = data['Geopotential_height_isobaric'].metpy.sel(\n",
        "    time='2017-09-05 18:00',\n",
        "    vertical=50000.\n",
        ")"
      ]
    },
    {
      "cell_type": "markdown",
      "metadata": {
        "id": "wzm1ho4GAHYZ"
      },
      "source": [
        "Notice how we specified 50000 here without units...\n",
        "\n",
        "Let's look at a better alternative."
      ]
    },
    {
      "cell_type": "markdown",
      "metadata": {
        "id": "L6VoWRUBAHYb"
      },
      "source": [
        "## Units\n",
        "\n",
        "Unit-aware calculations are a major part of the MetPy library, and unit support is a major\n",
        "part of MetPy's xarray integration!\n",
        "\n",
        "xarray data variables can store both unit-aware and unit-naive array types.\n",
        "\n",
        "Xarray defaults to unit-naive array types, so we convert to a unit-aware type to use xarray operations while preserving unit correctness. MetPy\n",
        "provides the ``.quantify()`` method for this (named since we are turning the data stored inside the xarray object into a Pint ``Quantity`` object)\n",
        "\n"
      ]
    },
    {
      "cell_type": "code",
      "execution_count": null,
      "metadata": {
        "id": "ni6GgAGYAHYb"
      },
      "outputs": [],
      "source": [
        "heights = heights.metpy.quantify()\n",
        "heights"
      ]
    },
    {
      "cell_type": "markdown",
      "metadata": {
        "id": "8P8bmhQOAHYb"
      },
      "source": [
        "Notice how the units are now represented in the data itself, rather than as a text\n",
        "attribute. Now, even if we perform some kind of xarray operation (such as taking the zonal\n",
        "mean), the units are preserved:\n",
        "\n"
      ]
    },
    {
      "cell_type": "code",
      "execution_count": null,
      "metadata": {
        "id": "--sjePxvAHYb"
      },
      "outputs": [],
      "source": [
        "heights_mean = heights.mean('longitude')\n",
        "heights_mean"
      ]
    },
    {
      "cell_type": "markdown",
      "metadata": {
        "id": "M4_nnVLTAHYb"
      },
      "source": [
        "However, this \"quantification\" is not without its consequences. By default, xarray loads its\n",
        "data lazily to conserve memory usage. Unless your data is chunked into a Dask array (using\n",
        "the ``chunks`` argument), this ``.quantify()`` method will load data into memory, which\n",
        "could slow your script or even cause your process to run out of memory. And so, we recommend\n",
        "subsetting your data before quantifying it.\n",
        "\n",
        "Also, these Pint ``Quantity`` data objects are not properly handled by xarray when writing\n",
        "to disk. And so, if you want to safely export your data, you will need to undo the\n",
        "quantification with the ``.dequantify()`` method, which converts your data back to a\n",
        "unit-naive array with the unit as a text attribute\n",
        "\n"
      ]
    },
    {
      "cell_type": "code",
      "execution_count": null,
      "metadata": {
        "id": "cUvOclrmAHYb"
      },
      "outputs": [],
      "source": [
        "heights_mean_str_units = heights_mean.metpy.dequantify()\n",
        "heights_mean_str_units"
      ]
    },
    {
      "cell_type": "markdown",
      "metadata": {
        "id": "wNqUMvSMAHYc"
      },
      "source": [
        "Other useful unit integration features include:\n",
        "\n",
        "Unit-based selection/indexing:\n",
        "\n"
      ]
    },
    {
      "cell_type": "code",
      "execution_count": null,
      "metadata": {
        "id": "IhDEgnjuAHYc"
      },
      "outputs": [],
      "source": [
        "heights_at_45_north = data['Geopotential_height_isobaric'].metpy.sel(\n",
        "    latitude=45 * units.degrees_north,\n",
        "    vertical=300 * units.hPa\n",
        ")\n",
        "heights_at_45_north"
      ]
    },
    {
      "cell_type": "markdown",
      "metadata": {
        "id": "nPTkblNeAHYc"
      },
      "source": [
        "Unit conversion:\n",
        "\n"
      ]
    },
    {
      "cell_type": "code",
      "execution_count": null,
      "metadata": {
        "id": "wjA-IjvpAHYc"
      },
      "outputs": [],
      "source": [
        "temperature_degc = temperature[0].metpy.convert_units('degC')\n",
        "temperature_degc"
      ]
    },
    {
      "cell_type": "markdown",
      "metadata": {
        "id": "k3Eq6mD-AHYc"
      },
      "source": [
        "To base unit conversion:\n",
        "\n"
      ]
    },
    {
      "cell_type": "code",
      "execution_count": null,
      "metadata": {
        "id": "EKIbdjDnAHYc"
      },
      "outputs": [],
      "source": [
        "temperature_degk = temperature_degc.metpy.convert_to_base_units()\n",
        "temperature_degk"
      ]
    },
    {
      "cell_type": "markdown",
      "metadata": {
        "id": "-0_KAjHfAHYc"
      },
      "source": [
        "Unit conversion for coordinates:\n",
        "\n"
      ]
    },
    {
      "cell_type": "code",
      "execution_count": null,
      "metadata": {
        "id": "4pffxDLHAHYd"
      },
      "outputs": [],
      "source": [
        "heights_on_hpa_levels = heights.metpy.convert_coordinate_units('isobaric3', 'hPa')\n",
        "heights_on_hpa_levels['isobaric3']"
      ]
    },
    {
      "cell_type": "markdown",
      "metadata": {
        "id": "ZnPWPQOcAHYd"
      },
      "source": [
        "Accessing just the underlying unit array:\n",
        "\n"
      ]
    },
    {
      "cell_type": "code",
      "execution_count": null,
      "metadata": {
        "id": "01FauSa4AHYd"
      },
      "outputs": [],
      "source": [
        "heights_unit_array = heights.metpy.unit_array\n",
        "heights_unit_array"
      ]
    },
    {
      "cell_type": "markdown",
      "metadata": {
        "id": "Tby-Nii3AHYd"
      },
      "source": [
        "Accessing just the underlying units:\n",
        "\n"
      ]
    },
    {
      "cell_type": "code",
      "execution_count": null,
      "metadata": {
        "id": "ybAmmEhqAHYd"
      },
      "outputs": [],
      "source": [
        "height_units = heights.metpy.units\n",
        "height_units"
      ]
    },
    {
      "cell_type": "markdown",
      "source": [
        "\n",
        "# MetPy Declarative Syntax Tutorial\n",
        "\n",
        "The declarative syntax that is a part of the MetPy packaged is designed to aid in simple\n",
        "data exploration and analysis needs by simplifying the plotting context from typical verbose\n",
        "Python code. The complexity of data wrangling and plotting are hidden behind the simplified\n",
        "syntax to allow a lower barrier to investigating your data.\n"
      ],
      "metadata": {
        "id": "CYfXl2F_J25M"
      }
    },
    {
      "cell_type": "code",
      "source": [
        "from metpy.io import metar\n",
        "from metpy.plots.declarative import (BarbPlot, ContourPlot, FilledContourPlot, MapPanel,\n",
        "                                     PanelContainer, PlotObs)\n",
        "from datetime import datetime, timedelta\n",
        "import cartopy"
      ],
      "metadata": {
        "id": "sPBq8NJiJ3Wm"
      },
      "execution_count": null,
      "outputs": []
    },
    {
      "cell_type": "code",
      "source": [
        "# Open the netCDF file as a xarray Dataset and parse the full dataset\n",
        "data = xr.open_dataset(get_test_data('GFS_test.nc', False)).metpy.parse_cf()\n",
        "\n",
        "# View a summary of the Dataset\n",
        "print(data)"
      ],
      "metadata": {
        "id": "nWC_9jCaKBb8"
      },
      "execution_count": null,
      "outputs": []
    },
    {
      "cell_type": "markdown",
      "source": [
        "## Set Datetime\n",
        "\n",
        "Set the date/time of that you desire to plot\n"
      ],
      "metadata": {
        "id": "3u-OC1E4KMbK"
      }
    },
    {
      "cell_type": "code",
      "source": [
        "plot_time = datetime(2010, 10, 26, 12)"
      ],
      "metadata": {
        "id": "lpPbWu1dKKC_"
      },
      "execution_count": null,
      "outputs": []
    },
    {
      "cell_type": "markdown",
      "source": [
        "## Subsetting Data\n",
        "\n",
        "MetPy provides wrappers for the usual xarray indexing and selection routines that can handle\n",
        "quantities with units. For DataArrays, MetPy also allows using the coordinate axis types\n",
        "mentioned above as aliases for the coordinates. And so, if we wanted data to be just over\n",
        "the U.S. for plotting purposes"
      ],
      "metadata": {
        "id": "GYp0Zps0KqEi"
      }
    },
    {
      "cell_type": "code",
      "source": [
        "ds = data.metpy.sel(lat=slice(70, 10), lon=slice(360 - 150, 360 - 55))"
      ],
      "metadata": {
        "id": "PQJ5ecmDKqZn"
      },
      "execution_count": null,
      "outputs": []
    },
    {
      "cell_type": "markdown",
      "source": [
        "## Calculations\n",
        "\n",
        "MetPY calculation functions accept Xarray DataArray's as input and output a DataArray that can be easily added to an existing Dataset.\n",
        "\n",
        "As an example, we calculate wind speed from the wind components and add it as a new variable\n",
        "to our Dataset:\n",
        "\n"
      ],
      "metadata": {
        "id": "BQrSFpyZLZo6"
      }
    },
    {
      "cell_type": "code",
      "source": [
        "ds['wind_speed'] = mpcalc.wind_speed(ds['u-component_of_wind_isobaric'],\n",
        "                                     ds['v-component_of_wind_isobaric'])"
      ],
      "metadata": {
        "id": "obJGS5qYKwVy"
      },
      "execution_count": null,
      "outputs": []
    },
    {
      "cell_type": "markdown",
      "source": [
        "## Plotting\n",
        "\n",
        "With that minimal preparation, we are now ready to use the simplified plotting syntax to be\n",
        "able to plot our data and analyze the meteorological situation.\n",
        "\n",
        "General Structure\n",
        "\n",
        "1. Set contour attributes\n",
        "\n",
        "2. Set map characteristics and collect contours\n",
        "\n",
        "3. Collect panels and plot\n",
        "\n",
        "4. Show (or save) the results\n",
        "\n",
        "Valid Plotting Types for Gridded Data:\n",
        "\n",
        "- ``ContourPlot()``\n",
        "\n",
        "- ``FilledContourPlot()``\n",
        "\n",
        "- ``ImagePlot()``\n",
        "\n",
        "- ``BarbPlot()``\n",
        "\n",
        "Let's plot a 300-hPa map with color-filled wind speed, which we calculated and added to\n",
        "our Dataset above, and geopotential heights over the CONUS.\n",
        "\n"
      ],
      "metadata": {
        "id": "ZHyJDhnyLQFB"
      }
    },
    {
      "cell_type": "markdown",
      "source": [
        "We'll start by setting attributes for contours of Geopotential Heights at 300 hPa.\n",
        "We need to set at least the data, field, level, and time attributes. We'll set a few others\n",
        "to have greater control over hour the data is plotted.\n",
        "\n"
      ],
      "metadata": {
        "id": "34yScMh4L5Nh"
      }
    },
    {
      "cell_type": "code",
      "source": [
        "# Set attributes for contours of Geopotential Heights at 300 hPa\n",
        "cntr2 = ContourPlot()\n",
        "cntr2.data = ds\n",
        "cntr2.field = 'Geopotential_height_isobaric'\n",
        "cntr2.level = 300 * units.hPa\n",
        "cntr2.time = plot_time\n",
        "cntr2.contours = list(range(0, 10000, 120))\n",
        "cntr2.linecolor = 'black'\n",
        "cntr2.linestyle = 'solid'\n",
        "cntr2.clabels = True"
      ],
      "metadata": {
        "id": "7q49SlInL491"
      },
      "execution_count": null,
      "outputs": []
    },
    {
      "cell_type": "markdown",
      "source": [
        "Now we'll set the attributes for plotting color-filled contours of wind speed at 300 hPa.\n",
        "Again, the attributes that must be set include data, field, level, and time. We'll also set\n",
        "a colormap and colorbar to be purposeful for wind speed. Additionally, we'll set the\n",
        "attribute to change the units from m/s to knots, which is the common plotting units for\n",
        "wind speed."
      ],
      "metadata": {
        "id": "rB9Hei9wMASl"
      }
    },
    {
      "cell_type": "code",
      "source": [
        "# Set attributes for plotting color-filled contours of wind speed at 300 hPa\n",
        "cfill = FilledContourPlot()\n",
        "cfill.data = ds\n",
        "cfill.field = 'wind_speed'\n",
        "cfill.level = 300 * units.hPa\n",
        "cfill.time = plot_time\n",
        "cfill.contours = list(range(10, 201, 20))\n",
        "cfill.colormap = 'BuPu'\n",
        "cfill.colorbar = 'horizontal'\n",
        "cfill.plot_units = 'knot'"
      ],
      "metadata": {
        "id": "zzANkrtvL4yA"
      },
      "execution_count": null,
      "outputs": []
    },
    {
      "cell_type": "markdown",
      "source": [
        "Once we have our contours (and any colorfill plots) set up, we will want to define the map\n",
        "panel that we'll plot the data on. This is the place where we can set the view extent,\n",
        "projection of our plot, add map lines like coastlines and states, set a plot title.\n",
        "One of the key elements is to add the data to the map panel as a list with the plots\n",
        "attribute.\n",
        "\n"
      ],
      "metadata": {
        "id": "duAqJWo8MFpe"
      }
    },
    {
      "cell_type": "code",
      "source": [
        "# Set the attributes for the map and add our data to the map\n",
        "panel = MapPanel()\n",
        "panel.area = [-125, -74, 20, 55]\n",
        "panel.projection = 'lcc'\n",
        "panel.layers = ['states', 'coastline', 'borders']\n",
        "panel.title = f'{cfill.level.m}-hPa Heights and Wind Speed at {plot_time}'\n",
        "panel.plots = [cfill, cntr2]"
      ],
      "metadata": {
        "id": "fVuBkAhJKtXi"
      },
      "execution_count": null,
      "outputs": []
    },
    {
      "cell_type": "markdown",
      "source": [
        "Finally we'll collect all the panels to plot on the figure, set the size of the figure,\n",
        "and ultimately show or save the figure.\n"
      ],
      "metadata": {
        "id": "9AY-i5CSPIqB"
      }
    },
    {
      "cell_type": "code",
      "source": [
        "# Set the attributes for the panel and put the panel in the figure\n",
        "pc = PanelContainer()\n",
        "pc.size = (15, 15)\n",
        "pc.panels = [panel]"
      ],
      "metadata": {
        "id": "9NJBwl0OMoNK"
      },
      "execution_count": null,
      "outputs": []
    },
    {
      "cell_type": "code",
      "source": [
        "# Show the image\n",
        "pc.show()"
      ],
      "metadata": {
        "id": "1_-i7kJ3PJZf"
      },
      "execution_count": null,
      "outputs": []
    },
    {
      "cell_type": "markdown",
      "source": [
        "--------------------------------------\n",
        "# **BONUS ROUND**: Open Global Glacier Model + Salem"
      ],
      "metadata": {
        "id": "XQGBIr6cSawq"
      }
    },
    {
      "cell_type": "markdown",
      "source": [
        "<center><img src=\"\n",
        "https://oggm.org/tutorials/stable/_static/logo.png\" alt=\"Drawing\" style=\"width: 450px;\"/></center>\n",
        "\n",
        "\n",
        "<center><h1 style=font-size:500%> + </h1></center>\n",
        "\n",
        "\n",
        "<center><img src=\"https://www.insidehook.com/wp-content/uploads/2020/10/salem_ma.jpg?fit=3563%2C2375\" alt=\"Drawing\" style=\"width: 100px;\"/> </center>\n",
        "\n"
      ],
      "metadata": {
        "id": "HNrJTt8zSvRU"
      }
    },
    {
      "cell_type": "code",
      "source": [
        "!python -m pip install 'geopandas'\n",
        "!python -m pip install 'salem'\n",
        "!python -m pip install 'oggm'\n"
      ],
      "metadata": {
        "id": "UVwMfCTUWXCR"
      },
      "execution_count": null,
      "outputs": []
    },
    {
      "cell_type": "code",
      "source": [
        "## Libs\n",
        "import matplotlib.pyplot as plt\n",
        "import salem\n",
        "import geopandas as gpd\n",
        "\n",
        "# OGGM\n",
        "import oggm.cfg as cfg\n",
        "from oggm import utils, workflow, tasks, graphics"
      ],
      "metadata": {
        "id": "yPLDj-AZPLW3"
      },
      "execution_count": null,
      "outputs": []
    },
    {
      "cell_type": "code",
      "source": [
        "# Initialize OGGM and set up the default run parameters\n",
        "cfg.initialize(logging_level='WARNING')\n",
        "cfg.PARAMS['use_multiprocessing'] = False\n",
        "# Local working directory (where OGGM will write its output)\n",
        "cfg.PATHS['working_dir'] = utils.gettempdir('OGGM_Toy_Thickness_Model')\n",
        "# We use the directories with the shop data in it: \"W5E5_w_data\"\n",
        "base_url = 'https://cluster.klima.uni-bremen.de/~oggm/gdirs/oggm_v1.6/L3-L5_files/2023.1/elev_bands/W5E5_w_data/'\n",
        "\n",
        "# Pick our glacier\n",
        "gdir = workflow.init_glacier_directories(['RGI60-01.16195'], \n",
        "                                          from_prepro_level=3, \n",
        "                                          prepro_base_url=base_url,\n",
        "                                          prepro_border=10)[0]\n",
        "gdir                "
      ],
      "metadata": {
        "id": "jk4f42CBWVxt"
      },
      "execution_count": null,
      "outputs": []
    },
    {
      "cell_type": "markdown",
      "source": [
        "We are going to use the South Glacier example taken from the [ITMIX experiment](https://www.the-cryosphere.net/11/949/2017/). It is a small (5.6 km2) glacier in Alaska."
      ],
      "metadata": {
        "id": "Ys3OFcKKDRUF"
      }
    },
    {
      "cell_type": "code",
      "source": [
        "with xr.open_dataset(gdir.get_filepath('gridded_data')) as ds:\n",
        "    ds = ds.load()\n",
        "# List all variables\n",
        "ds"
      ],
      "metadata": {
        "id": "-7BF0257W6Qb"
      },
      "execution_count": null,
      "outputs": []
    },
    {
      "cell_type": "code",
      "source": [
        "import salem\n",
        "# import matplotlib.pyplot as plt\n",
        "smap = ds.salem.get_map(countries=False)\n",
        "smap.set_shapefile(gdir.read_shapefile('outlines'))\n",
        "smap.set_topography(ds.topo.data);"
      ],
      "metadata": {
        "id": "T9a6DDgZbezx"
      },
      "execution_count": null,
      "outputs": []
    },
    {
      "cell_type": "markdown",
      "source": [
        "# ITSLive velocity data "
      ],
      "metadata": {
        "id": "DhOcEZ57Dfaq"
      }
    },
    {
      "cell_type": "code",
      "source": [
        "# get the velocity data\n",
        "u = ds.itslive_vx.where(ds.glacier_mask)\n",
        "v = ds.itslive_vy.where(ds.glacier_mask)\n",
        "ws = ds.itslive_v.where(ds.glacier_mask)"
      ],
      "metadata": {
        "id": "KuF73_z7bip3"
      },
      "execution_count": null,
      "outputs": []
    },
    {
      "cell_type": "markdown",
      "source": [
        "The `.where(ds.glacier_mask)` command will remove the data outside of the glacier outline."
      ],
      "metadata": {
        "id": "iHDwzxuRbmMR"
      }
    },
    {
      "cell_type": "code",
      "source": [
        "# get the axes ready\n",
        "f, ax = plt.subplots(figsize=(9, 9))\n",
        "\n",
        "# Quiver only every N grid point\n",
        "us = u[1::3, 1::3]\n",
        "vs = v[1::3, 1::3]\n",
        "\n",
        "smap.set_data(ws)\n",
        "smap.set_cmap('Blues')\n",
        "smap.plot(ax=ax)\n",
        "smap.append_colorbar(ax=ax, label='ice velocity (m yr$^{-1}$)')\n",
        "\n",
        "# transform their coordinates to the map reference system and plot the arrows\n",
        "xx, yy = smap.grid.transform(us.x.values, us.y.values, crs=gdir.grid.proj)\n",
        "xx, yy = np.meshgrid(xx, yy)\n",
        "qu = ax.quiver(xx, yy, us.values, vs.values)\n",
        "qk = ax.quiverkey(qu, 0.82, 0.97, 10, '10 m yr$^{-1}$',\n",
        "                  labelpos='E', coordinates='axes')\n",
        "ax.set_title('ITS-LIVE velocity');"
      ],
      "metadata": {
        "id": "7ln8L6heblyL"
      },
      "execution_count": null,
      "outputs": []
    },
    {
      "cell_type": "markdown",
      "source": [
        "## Millan 2022 velocity data "
      ],
      "metadata": {
        "id": "sGZNG32fDi3b"
      }
    },
    {
      "cell_type": "code",
      "source": [
        "# get the velocity data\n",
        "u = ds.millan_vx.where(ds.glacier_mask)\n",
        "v = ds.millan_vy.where(ds.glacier_mask)\n",
        "ws = ds.millan_v.where(ds.glacier_mask)"
      ],
      "metadata": {
        "id": "6_KMJohpDnxH"
      },
      "execution_count": null,
      "outputs": []
    },
    {
      "cell_type": "code",
      "source": [
        "# get the axes ready\n",
        "f, ax = plt.subplots(figsize=(9, 9))\n",
        "\n",
        "# Quiver only every N grid point\n",
        "us = u[1::3, 1::3]\n",
        "vs = v[1::3, 1::3]\n",
        "\n",
        "smap.set_data(ws)\n",
        "smap.set_cmap('Blues')\n",
        "smap.plot(ax=ax)\n",
        "smap.append_colorbar(ax=ax, label='ice velocity (m yr$^{-1}$)')\n",
        "\n",
        "# transform their coordinates to the map reference system and plot the arrows\n",
        "xx, yy = smap.grid.transform(us.x.values, us.y.values, crs=gdir.grid.proj)\n",
        "xx, yy = np.meshgrid(xx, yy)\n",
        "qu = ax.quiver(xx, yy, us.values, vs.values)\n",
        "qk = ax.quiverkey(qu, 0.82, 0.97, 10, '10 m yr$^{-1}$',\n",
        "                  labelpos='E', coordinates='axes')\n",
        "ax.set_title('Millan 2022 velocity');"
      ],
      "metadata": {
        "id": "QfWXP6KODonI"
      },
      "execution_count": null,
      "outputs": []
    },
    {
      "cell_type": "markdown",
      "source": [
        "## Thickness data from Farinotti 2019 and Millan 2022 "
      ],
      "metadata": {
        "id": "T0HcTAabDoWM"
      }
    },
    {
      "cell_type": "code",
      "source": [
        "# get the axes ready\n",
        "f, ax = plt.subplots(figsize=(9, 9))\n",
        "smap.set_cmap('viridis')\n",
        "smap.set_data(ds.consensus_ice_thickness)\n",
        "smap.plot(ax=ax)\n",
        "smap.append_colorbar(ax=ax, label='ice thickness (m)')\n",
        "ax.set_title('Farinotti 2019 thickness');"
      ],
      "metadata": {
        "id": "6bLoAwuwbqtl"
      },
      "execution_count": null,
      "outputs": []
    },
    {
      "cell_type": "code",
      "source": [
        "# get the axes ready\n",
        "f, ax = plt.subplots(figsize=(9, 9))\n",
        "smap.set_cmap('viridis')\n",
        "smap.set_data(ds.millan_ice_thickness.where(ds.glacier_mask))\n",
        "smap.plot(ax=ax)\n",
        "smap.append_colorbar(ax=ax, label='ice thickness (m)')\n",
        "ax.set_title('Millan 2022 thickness');"
      ],
      "metadata": {
        "id": "9kiafEL4bya2"
      },
      "execution_count": null,
      "outputs": []
    },
    {
      "cell_type": "markdown",
      "source": [
        "Let's also add some attributes that OGGM can compute for us:\n"
      ],
      "metadata": {
        "id": "PiYLE-pUDzRd"
      }
    },
    {
      "cell_type": "code",
      "source": [
        "# Tested tasks\n",
        "task_list = [\n",
        "    tasks.gridded_attributes,\n",
        "    tasks.gridded_mb_attributes,\n",
        "]\n",
        "for task in task_list:\n",
        "    workflow.execute_entity_task(task, gdir)"
      ],
      "metadata": {
        "id": "2MjWGM7Sb0ag"
      },
      "execution_count": null,
      "outputs": []
    },
    {
      "cell_type": "markdown",
      "source": [
        "Let's open the gridded data file again with xarray:"
      ],
      "metadata": {
        "id": "MeAnptLdcAek"
      }
    },
    {
      "cell_type": "code",
      "source": [
        "with xr.open_dataset(gdir.get_filepath('gridded_data')) as ds:\n",
        "    ds = ds.load()\n",
        "# List all variables\n",
        "ds"
      ],
      "metadata": {
        "id": "L-qRQZSPb2l4"
      },
      "execution_count": null,
      "outputs": []
    },
    {
      "cell_type": "markdown",
      "source": [
        "The file contains several new variables with their description. For example:"
      ],
      "metadata": {
        "id": "EuGK524Ab_dB"
      }
    },
    {
      "cell_type": "code",
      "source": [
        "ds.oggm_mb_above_z"
      ],
      "metadata": {
        "id": "nMCqqaA3b5yd"
      },
      "execution_count": null,
      "outputs": []
    },
    {
      "cell_type": "markdown",
      "source": [
        "Let's plot a few of them (we show how to plot them with xarray and with oggm:"
      ],
      "metadata": {
        "id": "xErBGRTHcKtH"
      }
    },
    {
      "cell_type": "code",
      "source": [
        "ds.slope.plot();\n",
        "plt.axis('equal');"
      ],
      "metadata": {
        "id": "V1HLHZVZcHQA"
      },
      "execution_count": null,
      "outputs": []
    },
    {
      "cell_type": "code",
      "source": [
        "f, (ax1, ax2) = plt.subplots(1, 2, figsize=(14, 6))\n",
        "graphics.plot_raster(gdir, var_name='aspect', cmap='twilight', ax=ax1)\n",
        "graphics.plot_raster(gdir, var_name='oggm_mb_above_z', ax=ax2)"
      ],
      "metadata": {
        "id": "A_E21AyacM_S"
      },
      "execution_count": null,
      "outputs": []
    },
    {
      "cell_type": "markdown",
      "source": [
        "<div class=\"alert alert-info\">\n",
        "    <b>\n",
        "        In a few lines of code, we have used OGGM to generate or deliver a bunch of data for this glaciers. A similar workflow can be used on ALL of them!\n",
        "    </b>\n",
        "</div>"
      ],
      "metadata": {
        "id": "dABdg_dKcVEg"
      }
    },
    {
      "cell_type": "code",
      "source": [],
      "metadata": {
        "id": "j318ozzCcPkH"
      },
      "execution_count": null,
      "outputs": []
    }
  ],
  "metadata": {
    "kernelspec": {
      "display_name": "Python 3",
      "language": "python",
      "name": "python3"
    },
    "language_info": {
      "codemirror_mode": {
        "name": "ipython",
        "version": 3
      },
      "file_extension": ".py",
      "mimetype": "text/x-python",
      "name": "python",
      "nbconvert_exporter": "python",
      "pygments_lexer": "ipython3",
      "version": "3.10.10"
    },
    "colab": {
      "provenance": [],
      "include_colab_link": true
    }
  },
  "nbformat": 4,
  "nbformat_minor": 0
}
