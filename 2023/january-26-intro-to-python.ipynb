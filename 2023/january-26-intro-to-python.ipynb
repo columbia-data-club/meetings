{
  "nbformat": 4,
  "nbformat_minor": 0,
  "metadata": {
    "colab": {
      "provenance": [],
      "authorship_tag": "ABX9TyNed387Kk8YtN7JruLNNyCD",
      "include_colab_link": true
    },
    "kernelspec": {
      "name": "python3",
      "display_name": "Python 3"
    },
    "language_info": {
      "name": "python"
    }
  },
  "cells": [
    {
      "cell_type": "markdown",
      "metadata": {
        "id": "view-in-github",
        "colab_type": "text"
      },
      "source": [
        "<a href=\"https://colab.research.google.com/github/columbia-data-club/meetings/blob/main/2023/january-26-intro-to-python.ipynb\" target=\"_parent\"><img src=\"https://colab.research.google.com/assets/colab-badge.svg\" alt=\"Open In Colab\"/></a>"
      ]
    },
    {
      "cell_type": "markdown",
      "source": [
        "![A blue background with the Python logo and the words Data Club on it](https://raw.githubusercontent.com/columbia-data-club/meetings/main/assets/images/data-club-python.png)\n",
        "\n",
        "## Introduction to Python\n",
        "\n",
        "January 26, 2023\n",
        "\n",
        "by [Moacir P. de Sá Pereira](https://moacir.com) for the [Columbia Data Club](https://github.com/columbia-data-club/)\n",
        "\n",
        "This notebook accompanies a ~70-minute presentation that introduces Python to complete beginners to Python and to programming. \n",
        "\n",
        "* _Think Python 2e_ by Allen Downey and [available for free download](https://greenteapress.com/wp/think-python-2e/) is a good introduction to programming in general via Python. \n"
      ],
      "metadata": {
        "id": "aCv17SGHmgF9"
      }
    },
    {
      "cell_type": "markdown",
      "source": [
        "## Introductory Caveats\n",
        "\n",
        "* There is _no such thing_ as “learning Python.” Good beginner Python instruction comes in two flavors:\n",
        "  * Specific instruction on a library or module to solve a specific task (this is what we do in most Data Club meetings)\n",
        "  * General instruction to teach insights into programming\n",
        "* “Learning Python” in a vacuum will likely feel frustrating and unsatisfying. Better to have a specific task you want to complete with computation in general.\n",
        "* Abstractly, programming languages are not different from each other. Almost all of them are “[Turing-complete](https://en.wikipedia.org/wiki/Turing_completeness),” meaning they can all be used to solve the same set of problems. As such, skills you learn on any programming language will carry over into Python.\n",
        "* Nevertheless there are two good reasons to start your programming career with Python:\n",
        "  1. Python is allegedly easy and has rather human-readable code\n",
        "  2. Python has a rich library of additional modules that you can use to [analyze data](https://pandas.pydata.org/) and [geospatial data](http://geopandas.org), [explore open quantum systems](https://qutip.org/), [transcribe audio interviews](https://alphacephei.com/vosk/), [make maps](https://python-visualization.github.io/folium/), [model weather](https://unidata.github.io/MetPy/latest/userguide/startingguide.html), [design games](https://www.pygame.org/news), [encrypt data](https://cryptography.io/en/latest), [analyze a large corpus of text](https://spacy.io/), [research family histories](https://github.com/gramps-project/gramps), [build websites](https://www.djangoproject.com/), [control embedded systems and the Internet of Things](https://projects.raspberrypi.org/en/projects), [edit movies](https://zulko.github.io/moviepy/), [scrape the web](https://www.crummy.com/software/BeautifulSoup/bs4/doc/), [simulate ocean dynamics](https://xgcm.readthedocs.io/en/latest/), [generate algorithmic art](https://spin.atomicobject.com/2021/12/14/generative-art-zero-random/),\n",
        "and [study the stars](https://www.astropy.org/). For starters. We will use none of these today."
      ],
      "metadata": {
        "id": "qMYYmkA-vKp0"
      }
    },
    {
      "cell_type": "markdown",
      "source": [
        "## Python Resources\n",
        "\n",
        "Because our time today is so short, it's important to emphasize that there are many resources both on campus and online for people taking their first steps programming. \n",
        "\n",
        "- Columbia\n",
        "  - [**Research Data Services**](https://library.columbia.edu/services/research-data-services/) This is me and my colleagues. We provide various research data-related consultation services for free to Columbia researchers. That’s why I’m here. Reach out to us by emailing data@library.columbia.edu\n",
        "  - [**Data Club**](https://library.columbia.edu/services/research-data-services/data-club.html). RDS hosts Data Club, which meets a few times every semester to learn more about data, usually with Python. [Join the email list](https://listserv.cuit.columbia.edu/scripts/wa.exe?SUBED1=CUL-DATA-CLUB&A=1)\n",
        "  - [**Foundations for Research Computing**](https://rcfoundations.research.columbia.edu/) Foundations hosts two-day intensive workshops on Python, R, and Git a few times each year. The material is based on [Software Carpentry’s “Plotting and Programming with Python”](https://swcarpentry.github.io/python-novice-gapminder/), and you can learn on your own that way, too.\n",
        "  - “[**Computing in Context**](https://www.cs.columbia.edu/2016/computing-in-context-a-computer-science-course-for-liberal-arts-majors-expands-with-new-sipa-track/).” This is a course for undergraduates and SIPA students. It is typically taught in the Fall. Check [the Directory of Courses](https://doc.search.columbia.edu/classes/computing+in+context?instr=&name=&days=&semes=&hour=&moi=) for availability.\n",
        "- Online\n",
        "  - “[Plotting and Programming in Python](https://swcarpentry.github.io/python-novice-gapminder/).” Take the intensive Foundations Python workshop at your own speed.\n",
        "  - [_Think Python 2e_](https://greenteapress.com/wp/think-python-2e/) is a free textbook for Python that approaches the language thoughtfully and for learners with no programming experience\n",
        "  - [Women who Code Python](https://www.womenwhocode.com/python) is an online forum with webinars and networking opportunities for women who use Python.\n",
        "  - [Data Umbrella](https://dataumbrella.substack.com/) is a community for underrepresented persons in data science. While not Python-specific, they often co-host events with [NYC PyLadies](https://www.meetup.com/NYC-PyLadies/events/), which is Python-specific."
      ],
      "metadata": {
        "id": "Lk4_svQDxhYa"
      }
    },
    {
      "cell_type": "markdown",
      "source": [
        "## What Is This Webpage You Are Using?\n",
        "\n",
        "This is an interactive notebook. It lets you write prose (as I have done so far) and also code. That is, this notebook is made up of a bunch of blocks (called “cells”) going down the page. Each cell can hold either text, like this one, or code, where you can type in Python. This provides a very flexible environment for you as you learn, because you can experiment inside a code cell and slowly iterate through your project.\n",
        "\n",
        "It also solves a common problem regarding using Python on a personal computer; installing it can be cumbersome, but these interactive notebooks let you Python away within your web browser.\n",
        "\n",
        "[Project Jupyter](https://en.wikipedia.org/wiki/Project_Jupyter) is the gold standard for interactive notebooks, but we are using Google's interpretation of Jupyter notebooks through Google's Colaboratory. Notebooks are not limited to Python. [Observable notebooks](http://www.observablehq.com), for example, work with JavaScript.\n",
        "\n",
        "Interactive notebooks are especially helpful for [Exploratory Data Analysis](https://en.wikipedia.org/wiki/Exploratory_data_analysis), because none of the changes are permanent, yet you have a space where you can move quickly to understand your data.\n",
        "\n",
        "So let's start programming!"
      ],
      "metadata": {
        "id": "eMbTAdAEzrIm"
      }
    },
    {
      "cell_type": "code",
      "execution_count": null,
      "metadata": {
        "id": "w18gt2eRlSS2"
      },
      "outputs": [],
      "source": [
        "# This text is a comment. Anything showing up after a \"#\" sign is ignored\n",
        "# by the computer. Colab also colors comments in dark green, so you know\n",
        "# that any text in dark green will be ignored.\n",
        "\n",
        "# Code cells like this one have a little play button beside them. You press\n",
        "# that to execute the code in the cell. Alternatively, you can type\n",
        "# Shift+Enter/Return to execute the code. Despite all these comments, this\n",
        "# cell has only one line of code, and it is the print statement below.\n",
        "\n",
        "# The print() function prints whatever is inside the parentheses to the\n",
        "# screen, but keep in mind that the text we want printed is surrounded by\n",
        "# quote marks. Whether you use single or double quotes doesn't matter, but\n",
        "# you should be consistent.\n",
        "\n",
        "print(\"Hello from a code cell!\")"
      ]
    },
    {
      "cell_type": "code",
      "source": [],
      "metadata": {
        "id": "_Rp4WVqa4cog"
      },
      "execution_count": null,
      "outputs": []
    },
    {
      "cell_type": "markdown",
      "source": [
        "I left the code cell empty above so you can try typing comments in it and testing what happens with the `print()` function. Of course you can also edit the code cell above it. Or this text cell."
      ],
      "metadata": {
        "id": "AA5n8rx7571-"
      }
    },
    {
      "cell_type": "markdown",
      "source": [
        "## (Data) Types in Python\n",
        "\n",
        "There is no limit to how we can describe and imagine things in Python, but everything has the same basic building blocks. We'll look at these today:\n",
        "\n",
        " * Numbers\n",
        " * Strings\n",
        " * Booleans\n",
        " * Functions\n",
        " * Lists\n",
        " * Dictionaries\n",
        " * Classes"
      ],
      "metadata": {
        "id": "w_uSD13_6IAG"
      }
    },
    {
      "cell_type": "markdown",
      "source": [
        "### Numbers\n",
        "\n",
        "Numbers are, well, numbers. Under the hood, Python distinguishes between integers and non-integers (called \"floats\"), but you can use them pretty interchangeably. Try out some basic math in the code cell below. Type an expression inside a `print()` function."
      ],
      "metadata": {
        "id": "CWYRE-T9CXGn"
      }
    },
    {
      "cell_type": "code",
      "source": [
        "# As you can see, Colab colors numbers dark green like comments.\n",
        "\n",
        "print(7 * 6)"
      ],
      "metadata": {
        "id": "Ks2o3JU654qm"
      },
      "execution_count": null,
      "outputs": []
    },
    {
      "cell_type": "markdown",
      "source": [
        "Like everything we're going to be working with today, numbers can be assigned to variables. Variables can be named anything, but idiomatic Python (\"Pythonic\") practice is to use descriptive variable names made up of lowercase words separated by an underscore."
      ],
      "metadata": {
        "id": "ufrTRAyaDrOM"
      }
    },
    {
      "cell_type": "code",
      "source": [
        "# Let's create a variable, \"my_number\", and assign the value 7 to it:\n",
        "\n",
        "my_number = 7\n",
        "print(my_number * 3)"
      ],
      "metadata": {
        "id": "I9skUt42ETRN"
      },
      "execution_count": null,
      "outputs": []
    },
    {
      "cell_type": "markdown",
      "source": [
        "Variables, once defined in a cell (that is, the cell is executed), are available in subsquent cells."
      ],
      "metadata": {
        "id": "SwmCD9wwEjDX"
      }
    },
    {
      "cell_type": "code",
      "source": [
        "# my_number was set above.\n",
        "\n",
        "print(my_number + 2)"
      ],
      "metadata": {
        "id": "GPyAS_FnEiuy"
      },
      "execution_count": null,
      "outputs": []
    },
    {
      "cell_type": "markdown",
      "source": [
        "### Strings\n",
        "\n",
        "Strings are characters (letters, numbers, punctuation, emoji) surrounded by quotes. We used a string in the first code cell in this notebook. You can use some basic math on strings, too, but the results might be a bit unexpected. "
      ],
      "metadata": {
        "id": "8htzICdBE3TL"
      }
    },
    {
      "cell_type": "code",
      "source": [
        "# Strings are represented in red in Colab.\n",
        "\n",
        "my_string = \"Hello, how are you? 😅\"\n",
        "\n",
        "print(my_string * 3)\n",
        "print(my_string + \"2\")"
      ],
      "metadata": {
        "id": "DaIZ_Ch-F956"
      },
      "execution_count": null,
      "outputs": []
    },
    {
      "cell_type": "markdown",
      "source": [
        "As of a few years ago, strings in Python can also interpolate the values of variables if they are \"f-strings.\"\n",
        "\n"
      ],
      "metadata": {
        "id": "XyQvR-ZYGeAW"
      }
    },
    {
      "cell_type": "code",
      "source": [
        "## Note the color of the f in the f string and of the text in the braces\"\n",
        "my_name = \"Moacir\"\n",
        "my_greeting = f\"Hello, {my_name}\"\n",
        "my_non_f_string_greeting = \"Hello, {my_name}\"\n",
        "\n",
        "\n",
        "print(my_greeting)\n",
        "print(my_non_f_string_greeting)"
      ],
      "metadata": {
        "id": "N4RUlotXGyAz"
      },
      "execution_count": null,
      "outputs": []
    },
    {
      "cell_type": "markdown",
      "source": [
        "### Booleans\n",
        "\n",
        "There are two values for Booleans, `True` and `False` (capitals matter). We might not assign these values to variables, but we do rely on them to do comparisons and to evaluate conditional statements."
      ],
      "metadata": {
        "id": "CPOxFRWmH7N7"
      }
    },
    {
      "cell_type": "code",
      "source": [
        "# The \"==\" means \"is equal to\" and is distinct from \"=\",\n",
        "# which is used to assign values to variables.\n",
        "\n",
        "print(f\"`my_number` is {my_number}\")\n",
        "print(f\"Is `my_number` equal to 2? {my_number == 2}\")\n",
        "print(f\"Is `my_number` less or equal to 100? {my_number <= 100}\")\n",
        "print(f'Is `my_number` equal to \"a number\"? {my_number == \"a number\"}')\n",
        "# Note I switched to single quotes above. Why?"
      ],
      "metadata": {
        "id": "wL0-UEJVH6YB"
      },
      "execution_count": null,
      "outputs": []
    },
    {
      "cell_type": "markdown",
      "source": [
        "### Functions\n",
        "\n",
        "Functions are where the action starts to happen. Functions often expect something to be passed to them, one or more parameters. They then take these parameters and do something with them. I'm vague here because that's the point. These are expressive features!\n",
        "\n",
        "Functions are also a place where we can talk about how white-space (tabs and spaces) matters in Python. Everything inside the function has to be indented with tabs or spaces. The first line that's back to the normal margin exists outside of function.\n",
        "\n",
        "We've already used the `print()` function several times. It is built into Python. Similarly, the `len()` function can tell us the length of a name. But we can also create our own."
      ],
      "metadata": {
        "id": "9ilEwLA_KCFJ"
      }
    },
    {
      "cell_type": "code",
      "source": [
        "print(f\"`my_name` is {len(my_name)} letters long\")\n",
        "\n",
        "def how_long_is_a_word(word):\n",
        "  ## Note the two space indent!\n",
        "  print(f'Your word, \"{word},\" is {len(word)} letters long')\n",
        "\n",
        "# Now we \"call\" the function and pass in an argument.\n",
        "how_long_is_a_word(\"a word\")"
      ],
      "metadata": {
        "id": "9P5ZL6sJO234"
      },
      "execution_count": null,
      "outputs": []
    },
    {
      "cell_type": "markdown",
      "source": [
        "Conditional statements (`if` statements) and loops also use the same kind of indented syntax. We'll get to loops later, but let's incorporate a lot of what we have learned into a tip calculator."
      ],
      "metadata": {
        "id": "U7z_l36aRCH4"
      }
    },
    {
      "cell_type": "code",
      "source": [
        "def tip_calculator(total, good_service = True):\n",
        "  # We are passing in two parameters, \"total\" and \"good_service\".\n",
        "  # We also create a default value for \"good_service\"\n",
        "  if good_service:\n",
        "    total_with_tip = 1.2 * total\n",
        "  else: \n",
        "    total_with_tip = 1.18 * total\n",
        "  \n",
        "  # Blank lines don't matter.\n",
        "\n",
        "  return total_with_tip # this is what the function outputs\n",
        "\n",
        "# Now we're outside the function and we can call it:\n",
        "\n",
        "print(f\"You owe ${tip_calculator(20, good_service = False)}\")\n",
        "print(f\"You owe ${tip_calculator(20)}\")\n",
        "print(f\"You owe ${tip_calculator(20, True)}\")\n",
        "\n",
        "# We can use variable and assign return values to variables!\n",
        "my_total = 40\n",
        "my_service = 20 > 10\n",
        "my_total_with_tip = tip_calculator(my_total, good_service = my_service)\n",
        "print(f\"I owe ${my_total_with_tip}\")"
      ],
      "metadata": {
        "id": "dYDEwGUyRR-P"
      },
      "execution_count": null,
      "outputs": []
    },
    {
      "cell_type": "markdown",
      "source": [
        "### Lists\n",
        "\n",
        "So far, we've been working with single things, like a single number or a single string. However, we often get want to work with many things at once. One way of arranging information is with a list. A list is what it sounds like: a list of things, separated by commas, inside brackets (`[]`).\n",
        "\n",
        "Lists can have different types of things inside (numbers, strings, other lists, etc.) or all the same kind of thing. Lists are iterable, so you can do the same transformation on every element in the list.\n",
        "\n",
        "In a list, order matters, and you can access each member of the list with its index value. The tricky thing about lists, though, is that the first member of the list has an index value of `0`, not `1`. As such, I tend to talk about the \"zeroth\" member and then the \"oneth\" and \"twoth\" members, to underscore the difference."
      ],
      "metadata": {
        "id": "yOjTPyKJWnul"
      }
    },
    {
      "cell_type": "code",
      "source": [
        "# Lists are lists of things surrounded by brackets\n",
        "\n",
        "my_list = [my_name, 2, \"tree\", 82.4]\n",
        "my_list_of_numbers = [3, 5, 2, 8, 29, 3.2]\n",
        "\n",
        "\n",
        "print(my_list[0]) # get the zeroth member of the list.\n",
        "print(my_list_of_numbers[-1]) # get the last member of the list.\n"
      ],
      "metadata": {
        "id": "mhpSu1oCWnVl"
      },
      "execution_count": null,
      "outputs": []
    },
    {
      "cell_type": "code",
      "source": [
        "# Lists have lengths\"\n",
        "\n",
        "print(len(my_list))\n",
        "print(len(my_list_of_numbers))"
      ],
      "metadata": {
        "id": "0aENDm-ybb5k"
      },
      "execution_count": null,
      "outputs": []
    },
    {
      "cell_type": "code",
      "source": [
        "# You can iterate over a list using a `for` loop\")\n",
        "for element in my_list_of_numbers: # Note the colon! We've got to indent\n",
        "  # \"element\" is an arbitrary variable that refers to the current list\n",
        "  # member in the loop\n",
        "  print(element * 2.1)"
      ],
      "metadata": {
        "id": "h4uCRAjLbbuH"
      },
      "execution_count": null,
      "outputs": []
    },
    {
      "cell_type": "code",
      "source": [
        "# You can also iterate over lists using the very Pythonic \n",
        "# \"list comprehension\" syntax. This is hard to understand\n",
        "# at first, but it allows for very pithy yet expressive code\n",
        "\n",
        "my_list_of_squared_numbers = [n * n for n in my_list_of_numbers]\n",
        "# above, \"n\" is doing the same work as \"element\" in the previous cell\n",
        "\n",
        "print(my_list_of_squared_numbers)"
      ],
      "metadata": {
        "id": "hL2PfKuub5U5"
      },
      "execution_count": null,
      "outputs": []
    },
    {
      "cell_type": "markdown",
      "source": [
        "### Dictionaries\n",
        "\n",
        "Dictionaries are objects that have properties. You define them by surrounding a list of properties by braces (`{}`). Properties take the form of a string that's the key, then a colon, and then the value. The value can be anything.\n",
        "\n",
        "You can then refer to a property of a dictionary with bracket syntax, like with a list, but using the property key instead of the index."
      ],
      "metadata": {
        "id": "izZP1mjZWqjk"
      }
    },
    {
      "cell_type": "code",
      "source": [
        "# Let's define four dictionaries. They may be familiar.\n",
        "\n",
        "raphael = {\n",
        "    \"name\": \"Raphael\",\n",
        "    \"aliases\": [\"The Green Defender\"],\n",
        "    \"weapons\": [\"Sai\", \"Trident\", \"Laser Gun\"],\n",
        "    \"occupation\": \"Cool But Rude\",\n",
        "    \"height\": 1.55,\n",
        "    \"weight\": 67,\n",
        "    \"bandana\": \"red\"\n",
        "}\n",
        "leonardo = {\n",
        "    \"name\": \"Leonardo\",\n",
        "    \"aliases\": [\"D'Artagnan\", \"The Leo-meister\", \"Leo\"],\n",
        "    \"weapons\": [\"Ninjato blades\", \"Ninja Stars\", \"Sword\", \"Twin Katanas\"],\n",
        "    \"occupation\": \"Turtle Leader\",\n",
        "    \"height\": 1.55,\n",
        "    \"weight\": 70,\n",
        "    \"bandana\": \"blue\"    \n",
        "}\n",
        "donatello = {\n",
        "    \"name\": \"Donatello\",\n",
        "    \"aliases\": [\"Donny\", \"The Donster\"],\n",
        "    \"weapons\": [\"Bō staff\", \"Spear\", \"Laser Gun\"],\n",
        "    \"occupation\": \"Inventor (does machines)\",\n",
        "    \"height\": 1.45,\n",
        "    \"weight\": 66,\n",
        "    \"bandana\": \"purple\"    \n",
        "}\n",
        "michelangelo = {\n",
        "    \"name\": \"Michelangelo\",\n",
        "    \"aliases\": [\"Mikey\" \"Michael J. Angelo\"],\n",
        "    \"weapons\": [\"Nunchaku\", \"Manriki-gusari\", \"Turtle Line\", \"Laser Gun\"],\n",
        "    \"occupation\": \"Pizza Delivery Boy\",\n",
        "    \"height\": 1.52,\n",
        "    \"weight\": 68,\n",
        "    \"bandana\": \"orange\"  \n",
        "}\n",
        "\n",
        "# Now let's put all the dictionaries into a list.\n",
        "turtles = [donatello, leonardo, michelangelo, raphael]"
      ],
      "metadata": {
        "id": "z1a0-PkY8P8q"
      },
      "execution_count": null,
      "outputs": []
    },
    {
      "cell_type": "code",
      "source": [
        "# Now we can iterate over the list and pull out specific properties\n",
        "\n",
        "for turtle in turtles:\n",
        "  print(f\"{turtle['name']} is {turtle['height']}m tall, and his primary weapon is {turtle['weapons'][0].lower()}.\")"
      ],
      "metadata": {
        "id": "6DAaWXqiejlh"
      },
      "execution_count": null,
      "outputs": []
    },
    {
      "cell_type": "markdown",
      "source": [
        "### Classes\n",
        "\n",
        "Classes are a further step in reasoning about things in Python. In the dictionaries example, we had the same basic structure for each of the four dictionaries, as each referred to a different ninja turtle. We can abstract that structure out and create a class specifically for ninja turtles. Then we can add additional functionality for the ninja turtle class.\n",
        "\n",
        "Classes are defined with the `class` keyword and typically use PascalCasing. They also have a few built in functions, called \"dunders\" (because they use double underscores) to help describe the class better. If a class has a function, we usually call that function a method."
      ],
      "metadata": {
        "id": "PPaHktlfWwFO"
      }
    },
    {
      "cell_type": "code",
      "source": [
        "class NinjaTurtle:\n",
        "  # The \"__init__\" dunder is run in the background whenever we make a new\n",
        "  # instance of the class\n",
        "  def __init__(self, name, aliases, weapons, occupation, height, weight, bandana):\n",
        "    self.name = name # note indent!\n",
        "    self.aliases = aliases\n",
        "    self.weapons = weapons\n",
        "    self.occupation = occupation\n",
        "    self.height = height\n",
        "    self.weight = weight\n",
        "    self.bandana = bandana\n",
        "  # End of indent for \"__init__\"\n",
        "\n",
        "  # Let's create a method that gives the turtle's height in inches.\n",
        "  def height_in_inches(self):\n",
        "    return self.height * 39.37008\n",
        "\n",
        "  # And let's create a method that gives the turtle's BMI.\n",
        "  def bmi(self):\n",
        "    return self.weight / (self.height * self.height)\n",
        "\n",
        "# \"self\" refers to the class instance itself, but we don't have to include\n",
        "# it when calling these method functions."
      ],
      "metadata": {
        "id": "KYr4ReXXoLqi"
      },
      "execution_count": null,
      "outputs": []
    },
    {
      "cell_type": "code",
      "source": [
        "# Let's recreate the turtles, but as NinjaTurtles, not dictionaries.\n",
        "\n",
        "# Order of parameters matters!\n",
        "raphael_as_ninja_turtle = NinjaTurtle(\"Raphael\", [\"The Green Defender\"], \n",
        "                      [\"Sai\", \"Trident\", \"Laser Gun\"], \n",
        "                      \"Cool But Rude\", 1.55, 67, \"red\")\n",
        "\n",
        "# Or we can use keyword arguments:\n",
        "leonardo_as_ninja_turtle = NinjaTurtle(name=\"Leonardo\", \n",
        "                       aliases=[\"D'Artagnan\", \"The Leo-meister\", \"Leo\"],\n",
        "                       weapons=[\"Ninjato blades\", \"Ninja Stars\", \"Sword\", \"Twin Katanas\"],\n",
        "                       occupation=\"Turtle Leader\",\n",
        "                       height=1.55, weight=70, bandana=\"blue\")   \n",
        "\n",
        "donatello_as_ninja_turtle = NinjaTurtle(\"Donatello\", [\"Donny\", \"The Donster\"],\n",
        "                        [\"Bō staff\", \"Spear\", \"Laser Gun\"],\n",
        "                        \"Inventor (does machines)\", 1.45, 66, \"purple\")    \n",
        "michelangelo_as_ninja_turtle = NinjaTurtle(\"Michelangelo\", [\"Mikey\" \"Michael J. Angelo\"], \n",
        "                           [\"Nunchaku\", \"Manriki-gusari\", \"Turtle Line\", \"Laser Gun\"], \n",
        "                           \"Pizza Delivery Boy\", 1.52, 68, \"orange\")\n",
        "\n",
        "# Now we can put our NinjaTurtles in the \"turtles\" list and iterate over them.\n",
        "turtles = [donatello_as_ninja_turtle, leonardo_as_ninja_turtle, michelangelo_as_ninja_turtle, raphael_as_ninja_turtle]"
      ],
      "metadata": {
        "id": "Z7gSdMZfr89j"
      },
      "execution_count": null,
      "outputs": []
    },
    {
      "cell_type": "code",
      "source": [
        "# What are the turtles' BMIs?\n",
        "\n",
        "for turtle in turtles:\n",
        "  print(f\"{turtle.name}'s BMI is {turtle.bmi()}\")"
      ],
      "metadata": {
        "id": "53epWz_jsQzr"
      },
      "execution_count": null,
      "outputs": []
    },
    {
      "cell_type": "code",
      "source": [
        "# We can also reproduce the loop we did above, with more elegant syntax.\n",
        "\n",
        "for turtle in turtles:\n",
        "  print(f\"{turtle.name} is {turtle.height_in_inches()} in. tall, and his primary weapon is {turtle.weapons[0].lower()}.\")"
      ],
      "metadata": {
        "id": "zehvQvIqscG2"
      },
      "execution_count": null,
      "outputs": []
    },
    {
      "cell_type": "code",
      "source": [
        "# Note what happens when we try to \"print()\" a NinjaTurtle:\n",
        "\n",
        "print(donatello)\n",
        "print(donatello_as_ninja_turtle)"
      ],
      "metadata": {
        "id": "Tc-K0X-Ss9Y0"
      },
      "execution_count": null,
      "outputs": []
    },
    {
      "cell_type": "code",
      "source": [
        "# Neither is a great experience, but we can make use of dunder methods,\n",
        "# docstrings, and subclasses to improve on the results.\n",
        "# \n",
        "# This is just a demonstration! We're getting advanced and tickling\n",
        "# very specific Pythonic itches.\n",
        "\n",
        "class DocumentedNinjaTurtle(NinjaTurtle):\n",
        "  \"\"\"A helpful class for managing ninja turtles\"\"\"\n",
        "  def __str__(self):\n",
        "    return self.name\n",
        "  \n",
        "donatello_as_documented_ninja_turtle = DocumentedNinjaTurtle(\"Donatello\", \n",
        "                                                             [\"Donny\", \"The Donster\"],\n",
        "                                                             [\"Bō staff\", \"Spear\", \"Laser Gun\"],\n",
        "                                                             \"Inventor (does machines)\", \n",
        "                                                             1.45, 66, \"purple\")\n",
        "\n",
        "print(donatello_as_documented_ninja_turtle)\n",
        "print(donatello_as_documented_ninja_turtle.__doc__)"
      ],
      "metadata": {
        "id": "9DT6TTBJtUIY"
      },
      "execution_count": null,
      "outputs": []
    },
    {
      "cell_type": "markdown",
      "source": [
        "## Writing to Files\n",
        "\n",
        "Finally, let's quickly look at writing to files. Even though with Colab you are inside the web browser, there's still a file explorer on the left side you can use to upload or download files. This is one way of reading data into your notebook, but for this exercise, we'll write our height and weapons report out to a file we can download and share with Shredder."
      ],
      "metadata": {
        "id": "dzgXPq4Www6n"
      }
    },
    {
      "cell_type": "code",
      "source": [
        "with open(\"height_and_weapons_secrets.txt\", \"a\") as file:\n",
        "  for turtle in turtles:\n",
        "    # \"\\n\" is the symbol to create a new line in Python.\n",
        "    file.write(f\"{turtle.name} is {turtle.height_in_inches()} in. tall, and his primary weapon is {turtle.weapons[0].lower()}.\\n\")"
      ],
      "metadata": {
        "id": "u5hyLgefuY64"
      },
      "execution_count": null,
      "outputs": []
    },
    {
      "cell_type": "markdown",
      "source": [
        "## Conclusion\n",
        "\n",
        "There's a lot we didn't do today. We didn't use a single `import` statement, meaning we only used built-in Python code. There's a lot we skipped, most notably error checking and dealing with errors. Python is pretty good at describing errors, but it's annoying to write code that causes them intentionally. Better to have them arise organically in a group of beginners. \n",
        "\n",
        "At intermediate levels, you can start [handling the errors](https://docs.python.org/3/tutorial/errors.html). If we tried to create a `NinjaTurtle` with a height of \"🥰,\" Python would let us, but when we tried to calculate that turtle's BMI, the program would crash, because you can't multiply \"🥰\" times itself. You also can't convert \"🥰\" to inches. A more robust class definition would check to make sure that the value given for height is a number, for example, and raise an exception that alerts us that \"A `NinjaTurtle`'s `height` must be represented by a number.\"\n",
        "\n",
        "Hopefully this workshop has shown you that Python is accessible, especially if you like puzzles and problem solving. You can also get started doing things with Python with little training, picking things up as you go and improving every time you sit down to code.\n",
        "\n",
        "At the same time, it's important to underscore that, outside of list comprehensions and dunder methods, everything here is quickly portable to other languages. It's the concepts that matter, and it's the concepts that will occupy your imagination."
      ],
      "metadata": {
        "id": "iJa9pLV9ySom"
      }
    },
    {
      "cell_type": "code",
      "source": [
        "# See?\n",
        "\n",
        "\"🥰\" * \"🥰\""
      ],
      "metadata": {
        "id": "iJD__tjsx3XN"
      },
      "execution_count": null,
      "outputs": []
    },
    {
      "cell_type": "code",
      "source": [
        "crashing_michelangelo = NinjaTurtle(\"Michelangelo\", [\"Mikey\" \"Michael J. Angelo\"], \n",
        "                           [\"Nunchaku\", \"Manriki-gusari\", \"Turtle Line\", \"Laser Gun\"], \n",
        "                           \"Pizza Delivery Boy\", \"🥰\", 68, \"orange\")\n",
        "print(crashing_michelangelo.height_in_inches())"
      ],
      "metadata": {
        "id": "A2lXwsdOzKt7"
      },
      "execution_count": null,
      "outputs": []
    },
    {
      "cell_type": "code",
      "source": [],
      "metadata": {
        "id": "2Efm5xvQ0Sr3"
      },
      "execution_count": null,
      "outputs": []
    }
  ]
}
