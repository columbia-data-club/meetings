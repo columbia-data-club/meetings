{
  "nbformat": 4,
  "nbformat_minor": 0,
  "metadata": {
    "colab": {
      "provenance": [],
      "authorship_tag": "ABX9TyPbn9jO5mS/0UXyKdXi68dH",
      "include_colab_link": true
    },
    "kernelspec": {
      "name": "python3",
      "display_name": "Python 3"
    },
    "language_info": {
      "name": "python"
    }
  },
  "cells": [
    {
      "cell_type": "markdown",
      "metadata": {
        "id": "view-in-github",
        "colab_type": "text"
      },
      "source": [
        "<a href=\"https://colab.research.google.com/github/columbia-data-club/meetings/blob/main/2023/studio_open_data_and_rest_apis.ipynb\" target=\"_parent\"><img src=\"https://colab.research.google.com/assets/colab-badge.svg\" alt=\"Open In Colab\"/></a>"
      ]
    },
    {
      "cell_type": "markdown",
      "source": [
        "![A blue background with a REST API logo and the Studio logo, a lion’s head and the word “Studio”](https://raw.githubusercontent.com/columbia-data-club/meetings/main/assets/images/studio-images/rest-api.png)\n",
        "\n",
        "# Open Data and REST APIs\n",
        "\n",
        "March 31, 2023\n",
        "\n",
        "by [Moacir P. de Sá Pereira](https://moacir.com) for the [Columbia University Libraries Studio](https://studio.cul.columbia.edu).\n",
        "\n",
        "This is a low-impact Python notebook that shows researchers how to use open data that often sits behind a [REST API](https://en.wikipedia.org/wiki/Representational_state_transfer) or something similar. We’ll start with [The Metropolitan Museum of Art Collection API](https://metmuseum.github.io/). This should be a perfect introduction for digital humanists who don’t yet know how to turn JSON into a spreadsheet.\n",
        "\n",
        "We’ll be using two Python libraries, both useful for any sort of data acquisition and analysis, [Requests](https://pypi.org/project/requests/) and [pandas](https://pandas.pydata.org/), but we hope the touch will be light, as the goal is to describe how REST (or REST-like) APIs work and how humans (and humanists) can make use of them."
      ],
      "metadata": {
        "id": "d5h_3XedYhfn"
      }
    },
    {
      "cell_type": "markdown",
      "source": [
        "## What Is an API?\n",
        "\n",
        "“API” stands for “[Application Programming Interface](https://en.wikipedia.org/wiki/API),” and it can often be used somewhat imprecisely. As an interface, it means precisely that it is the means by which something (typically a computer program) can access or use an “application.” \n",
        "\n",
        "One way of thinking about this is about the lock on your apartment door. The lock exposes an interface that allows something else to lock or unlock the lock, typically a key. Furthermore, that interface is typically “documented” in some way, meaning that a user can fashion their key following the documentation and thereby lock and unlock the door. The documentation can describe the pattern of teeth and grooves for a mechanical lock, or the number required for a numpad lock, or the particular encoding needed for a keycard lock. \n",
        "\n",
        "The door lock has one input (the key), and it can then lock or unlock, so the interface is rather straight forward. Furthermore, the user of the lock does not have to understand exactly what the lock’s mechanism is. They simply need to know that if they use the key in a certain way, the lock will either lock or unlock. This lets the creator of the lock only “expose” the necessary components of the lock to the user and “obscure” the internal details, about which the user probably doesn’t care too much. \n",
        "\n",
        "In other words, I don’t know (or need to know) how the lock to my apartment works. I just know that the key I have will unlock and lock it, though sometimes I need to jiggle it a bit since the interface isn’t perfect!\n",
        "\n",
        "APIs for computer programs can be far more complex than a lock, but the idea is the same: there exist a finite number of means by which a user can interact with the computer program, and those means tend to be documented, so programmers can use the programs predictably; they can be confident that a certain set of inputs will generate the outputs they want. The internal details are not  important to the user/programmer.\n",
        "\n",
        "\n"
      ],
      "metadata": {
        "id": "2ZP2O1uJaEbD"
      }
    },
    {
      "cell_type": "markdown",
      "source": [
        "## What Is a REST or REST-like API?\n",
        "\n",
        "APIs are widespread in software engineering, but often people will use the term a bit imprecisely to refer specifically to “[Web APIs](https://en.wikipedia.org/wiki/Web_API),” what I am calling “REST or REST-like APIs.” The Web API is still a documented set of inputs made available to the user/programmer, but the difference is that the user/programmer typically interacts with the application over the Web, using different forms of URLs to access different parts of the API. \n",
        "\n",
        "Web APIs make it possible for websites to effectively talk to each other. You could hypothetically make a personal homepage that uses [Twitter’s API](https://developer.twitter.com/en) to load your ten most recent Tweets on one part of your webpage, [Reddit’s API](https://www.reddit.com/dev/api/) to load your Reddit profile on another part of your webpage, and [Facebook’s Graph API](https://developers.facebook.com/docs/graph-api) to load information from your Facebook in another part of your webpage.\n",
        "\n",
        "What’s more, you can often use APIs not only to `GET` information ([`GET` is a “verb” that is part of the http protocol](https://developer.mozilla.org/en-US/docs/Web/HTTP/Methods/GET), but also [`POST`](https://developer.mozilla.org/en-US/docs/Web/HTTP/Methods/POST) new information. It’s via Twitter’s Web API that many Twitter bots are able to post “automatically.” They don’t click on a webpage and type in a message; they build a payload and `POST` that payload to the API, which creates a Tweet.\n",
        "\n",
        "[REST APIs](https://en.wikipedia.org/wiki/Representational_state_transfer) are a specific type of Web API that rely on specific principles and constraints to make the API somewhat predictable; if you know a Web API is a REST API, you can save on reading some documentation! RESTful APIs can be very useful when designing your own web application, and popular web frameworks often have built-in logic for creating or interacting with RESTful APIs.\n",
        "\n",
        "Though “REST” is in the title of this notebook and the Web API we will be using, [The Metropolitan Museum of Art Collection API](https://metmuseum.github.io/), presents itself as RESTful, there won’t be any more discussion of REST!"
      ],
      "metadata": {
        "id": "LXbeTCBcdD9W"
      }
    },
    {
      "cell_type": "markdown",
      "source": [
        "## The Metropolitan Museum of Art Collection API\n",
        "\n",
        "[The Metropolitan Museum of Art Collection API](https://metmuseum.github.io/) lets us connect, programmatically (as in, with a computer program like this notebook), to The Met’s entire collection. We can feed the API search terms and get data about the 470k+ artworks in The Met’s collection. \n",
        "\n",
        "Choosing The Met’s API is a bit of a funny choice, since you can actually [download the entire dataset](https://github.com/metmuseum/openaccess/blob/master/MetObjects.csv?raw=true) from GitHub as a 300MB spreadsheet. This obviates the need for the API, since with the download, we can query it however we want to, without needing to use the API’s specific points of entry. Of course, loading a 300MB spreadsheet into Excel may not be a lot of fun.\n",
        "\n",
        "We’ll be using two specific “endpoints” for our API access, the search endpoint, which lets us query the collection, and the object endpoint, which lets us get data about specific objects. Endpoints are what they sound like: they are the URLs you use to access those specific points of entry into the API, and you can attach information to the endpoints to get specific information.\n",
        "\n",
        "### Search\n",
        "\n",
        "We can see that the [search endpoint](https://metmuseum.github.io/#search) (`/public/collection/v1/search`) lets us attach several query parameters that let us fine-tune our query. The `q` parameter is for the query itself, but we can limit the query to works that have images, for example, by also making use of the `hasImages` parameter.\n",
        "\n",
        "When we execute a search, the API returns for us a list of `objectIDs` (as well as the total number of objects) that match our query. But the `objectIDs` by themselves don’t tell us anything. We need to then use the object endpoint for each `objectID` to get the data about each individual object.\n",
        "\n",
        "### Object\n",
        "\n",
        "The [object endpoint](https://metmuseum.github.io/#object) (`/public/collection/v1/objects/[objectID]`) has no parameters other than the `objectID`, which makes up a part of the URL itself. But where the search endpoint only returns two values (total number of hits and list of `objectIDs`), the object endpoint returns over 50 properties of the object, though of course not every object has values for all of those properties. \n",
        "\n",
        "But let’s see this in action"
      ],
      "metadata": {
        "id": "Y9XX2kNdh74-"
      }
    },
    {
      "cell_type": "markdown",
      "source": [
        "## Postman\n",
        "\n",
        "Before accessing The Met’s API with Python, I want to first access it using [Postman](https://www.postman.com/). Postman is a webapp that lets users interact with Web APIs in a way that might be a bit friendlier than a Python notebook, at first. \n",
        "\n",
        "1. Go to postman.com and log in or create an account (you can use your Google credentials if you like). \n",
        "2. Get to your workspace, and click “New” and choose “HTTP Request.”\n",
        "3. For the URL, beside the “GET” button, paste in `https://collectionapi.metmuseum.org/public/collection/v1/search`\n",
        "4. Under “Query Params,” for “Key,” type in “q”, and for the “Value,” type in whatever artist you want to find. I’ll be searching for [Rayyane Tabet](https://en.wikipedia.org/wiki/Rayyane_Tabet), but you can type whatever you want—and it does not have to be an artist’s name.\n",
        "5. Click on “Send,” and results should appear at the bottom, something like this:\n",
        "\n",
        "![A screenshot of the Postman interface showing a search for Rayyane Tabet using The Met’s API and the server response](https://raw.githubusercontent.com/columbia-data-club/meetings/main/assets/images/studio-images/met-api-tabet-search.png)\n",
        "\n",
        "And the results will look something like this:\n",
        "\n",
        "```json\n",
        "{\n",
        "    \"total\": 5,\n",
        "    \"objectIDs\": [\n",
        "        820847,\n",
        "        324008,\n",
        "        324010,\n",
        "        324009,\n",
        "        324007\n",
        "    ]\n",
        "}\n",
        "```\n",
        "\n",
        "This is [JSON](https://en.wikipedia.org/wiki/JSON), a means of sending data over the web (among other things), and we can see that it returned two properties: `total` and `objectIDs`. The former has a value of a single number (`5`), and the latter is a list of IDs, where each ID corresponds to a work that matched our query. \n",
        "\n",
        "We can now pick one of those IDs and use the object endpoint.\n",
        "\n",
        "1. Click on “New” again and choose “HTTP Request.”\n",
        "1. For the URL, paste in `https://collectionapi.metmuseum.org/public/collection/v1/objects/:objectID`\n",
        "1. By typing in `:objectID`, there should now be a section under “Query Params” called “Path Variables.” For the `objectID` key’s value, paste in one of the `objectIDs` from above. I’ll use `324008`, because it has images.\n",
        "1. When you click on “Send,” you should get something like this at the bottom:\n",
        "\n",
        "![A screenshot of the Postman interface showing a search for Rayyane Tabet using The Met’s API and the server response](https://raw.githubusercontent.com/columbia-data-club/meetings/main/assets/images/studio-images/met-api-object-hittite-fragment.png)\n",
        "\n",
        "Now, Tabat was born in 1983, and this piece came to The Met in 1943, as we can tell from the `accessionYear` value. This means that for some reason, this piece was returned when we did our query, even though the piece is not by the artist in question. Nevertheless, we are treated to a few images of the piece:\n",
        "\n",
        "![A photo of a lion-hunt scene from a Neo-Hittite relief](https://images.metmuseum.org/CRDImages/an/web-large/DP-16679-001.jpg)\n",
        "\n",
        "So let’s change the `objectID` to `820847` so we can get an actual piece by Tabat, Orthostates. One of the properties we’re given is the `objectURL`, which in this case happens to be https://www.metmuseum.org/art/collection/search/820847, so we can click on that to learn more about the piece, and we can see that Orthostates is linked to the four Neo-Hittite pieces, because Orthostates is “composed of thirty-two charcoal rubbings made by the artist from basalt fragments of a 10th–9th century B.C. Neo-Hittite frieze originally from the site of Tell Halaf,” and The Met happens to own four of those fragments.\n",
        "\n",
        "But what if we wanted to get the data on all five pieces and save them to a spreadsheet? Here’s where we can start using Python.\n",
        "\n",
        "One last note, though. There are some [sample API calls to various museums’ collections](https://www.postman.com/opamcurators/workspace/open-access-museums/documentation/1501710-22671d6d-74c0-44af-b258-3fa06f4c920c) available as a Postman collection that you can try out."
      ],
      "metadata": {
        "id": "BtD2K_OlnqQs"
      }
    },
    {
      "cell_type": "markdown",
      "source": [
        "## Accessing The Met with Python\n",
        "\n",
        "As mentioned above, we’ll be accessing The Met’s API with the [Requests](https://pypi.org/project/requests/) library, and then we will collect the information into a [pandas](https://pandas.pydata.org/) dataframe before exporting it out. The process is remarkably similar to using Postman, but we have extra tricks up our sleeve. We’ll start by importing our libraries and setting a few constants. The first constant is the URL for The Met’s API. The second constant is how long to wait between API calls. Typically, there is a limit on how many API calls one can make in a certain period of time. For The Met, it’s 80 calls per second, so we’ll tell Python to wait $\\frac{1}{80}$ of a second between each call. We need to import the Time library to tell Python to sleep."
      ],
      "metadata": {
        "id": "QdmaLCnI6PJn"
      }
    },
    {
      "cell_type": "code",
      "execution_count": 22,
      "metadata": {
        "id": "e8UiwicyYRV5"
      },
      "outputs": [],
      "source": [
        "import time\n",
        "import requests\n",
        "import pandas as pd\n",
        "\n",
        "api_url = \"https://collectionapi.metmuseum.org/public/collection/v1/\"\n",
        "sleep_time = 1 / 80"
      ]
    },
    {
      "cell_type": "markdown",
      "source": [
        "Next, we’ll write a pair of functions for querying The Met’s API. The first is a generic function that makes an HTTP `GET` request and handles errors. The second function I’m going to make this a bit complex in order to make it thorough. By that I mean I’m including the entire set of query parameters one can submit."
      ],
      "metadata": {
        "id": "Nx6Im5DV7mrF"
      }
    },
    {
      "cell_type": "code",
      "source": [
        "def make_request(url, params=None):\n",
        "  try:\n",
        "    response = requests.get(url, params=params)\n",
        "    if response.status_code == 200:\n",
        "      return response\n",
        "    else:\n",
        "      raise Exception(f\"Status code for {url} was {response.status_code}\")\n",
        "  except Exception as e:\n",
        "    print(f\"ERROR: {str(e)}\")\n",
        "\n",
        "def search_endpoint(payload):\n",
        "  # q = search term\n",
        "  # isHighlight = true or false\n",
        "  # title = true or false\n",
        "  # tags = true or false\n",
        "  # departmentId = integer\n",
        "  # isOnView = true or false\n",
        "  # artistOrCulture = true or false\n",
        "  # medium = string\n",
        "  # hasImages = true or false\n",
        "  # geoLocaltion = string\n",
        "  # dateBegin = integer\n",
        "  # dateEnd = integer. Need both.\n",
        "  time.sleep(sleep_time)\n",
        "  response = make_request(api_url + \"search\", payload)\n",
        "  return response.json()\n"
      ],
      "metadata": {
        "id": "agCVI3RhYXor"
      },
      "execution_count": 25,
      "outputs": []
    },
    {
      "cell_type": "code",
      "source": [
        "payload = {\n",
        "    \"q\": \"Rayyane Tabet\",\n",
        "}\n",
        "\n",
        "response = search_endpoint(payload)\n",
        "print(f'Searching for \"{payload[\"q\"]}\" yielded {response[\"total\"]} objects.')\n",
        "print(f\"Their objectIDs are {response['objectIDs']}\")"
      ],
      "metadata": {
        "colab": {
          "base_uri": "https://localhost:8080/"
        },
        "id": "kelDHuQe9_8X",
        "outputId": "af1ec818-c5c9-48ea-d51a-f6b987704f1f"
      },
      "execution_count": 26,
      "outputs": [
        {
          "output_type": "stream",
          "name": "stdout",
          "text": [
            "Searching for \"Rayyane Tabet\" yielded 5 objects.\n",
            "Their objectIDs are [820847, 324008, 324010, 324009, 324007]\n"
          ]
        }
      ]
    },
    {
      "cell_type": "markdown",
      "source": [
        "We can now make a second function for accessing the object endpoint, to which we can feed `objectIDs`."
      ],
      "metadata": {
        "id": "6imKgkL6zrg7"
      }
    },
    {
      "cell_type": "code",
      "source": [
        "def object_endpoint(objectID):\n",
        "  time.sleep(sleep_time)\n",
        "  response = make_request(api_url + \"objects/\" + str(objectID))\n",
        "  return response.json()\n"
      ],
      "metadata": {
        "id": "EIUgNmNm-Lr4"
      },
      "execution_count": 30,
      "outputs": []
    },
    {
      "cell_type": "code",
      "source": [
        "object_endpoint(820847)\n"
      ],
      "metadata": {
        "colab": {
          "base_uri": "https://localhost:8080/"
        },
        "id": "HpPWLJoQzFLb",
        "outputId": "7ce486d3-8233-4a4d-feba-c25f7cf0fb28"
      },
      "execution_count": 31,
      "outputs": [
        {
          "output_type": "execute_result",
          "data": {
            "text/plain": [
              "{'objectID': 820847,\n",
              " 'isHighlight': False,\n",
              " 'accessionNumber': '2019.288.1–.32',\n",
              " 'accessionYear': '2019',\n",
              " 'isPublicDomain': False,\n",
              " 'primaryImage': '',\n",
              " 'primaryImageSmall': '',\n",
              " 'additionalImages': [],\n",
              " 'constituents': [{'constituentID': 207170,\n",
              "   'role': 'Artist',\n",
              "   'name': 'Rayyane Tabet',\n",
              "   'constituentULAN_URL': '',\n",
              "   'constituentWikidata_URL': '',\n",
              "   'gender': ''}],\n",
              " 'department': 'Ancient Near Eastern Art',\n",
              " 'objectName': '',\n",
              " 'title': 'Orthostates',\n",
              " 'culture': '',\n",
              " 'period': '',\n",
              " 'dynasty': '',\n",
              " 'reign': '',\n",
              " 'portfolio': '',\n",
              " 'artistRole': 'Artist',\n",
              " 'artistPrefix': '',\n",
              " 'artistDisplayName': 'Rayyane Tabet',\n",
              " 'artistDisplayBio': 'Lebanese, born 1983',\n",
              " 'artistSuffix': '',\n",
              " 'artistAlphaSort': 'Tabet, Rayyane',\n",
              " 'artistNationality': 'Lebanese',\n",
              " 'artistBeginDate': '1983',\n",
              " 'artistEndDate': '9999',\n",
              " 'artistGender': '',\n",
              " 'artistWikidata_URL': '',\n",
              " 'artistULAN_URL': '',\n",
              " 'objectDate': '2017-ongoing',\n",
              " 'objectBeginDate': 2017,\n",
              " 'objectEndDate': 2017,\n",
              " 'medium': '32 charcoal on paper drawings',\n",
              " 'dimensions': 'Each (29): 42 1/8 × 30 5/16 in. (107 × 77 cm)\\r\\nEach (3): 30 5/16 × 42 1/8 in. (77 × 107 cm)',\n",
              " 'measurements': [{'elementName': 'Overall',\n",
              "   'elementDescription': 'Each',\n",
              "   'elementMeasurements': {'Height': 77, 'Width': 107}},\n",
              "  {'elementName': 'Overall',\n",
              "   'elementDescription': 'Each',\n",
              "   'elementMeasurements': {'Height': 107, 'Width': 77}}],\n",
              " 'creditLine': 'Purchase, Bequest of Henrie Jo Barth and Josephine Lois Berger-Nadler Endowment Fund, 2019',\n",
              " 'geographyType': '',\n",
              " 'city': '',\n",
              " 'state': '',\n",
              " 'county': '',\n",
              " 'country': '',\n",
              " 'region': '',\n",
              " 'subregion': '',\n",
              " 'locale': '',\n",
              " 'locus': '',\n",
              " 'excavation': '',\n",
              " 'river': '',\n",
              " 'classification': '',\n",
              " 'rightsAndReproduction': '',\n",
              " 'linkResource': '',\n",
              " 'metadataDate': '2023-03-17T10:45:37.563Z',\n",
              " 'repository': 'Metropolitan Museum of Art, New York, NY',\n",
              " 'objectURL': 'https://www.metmuseum.org/art/collection/search/820847',\n",
              " 'tags': None,\n",
              " 'objectWikidata_URL': '',\n",
              " 'isTimelineWork': False,\n",
              " 'GalleryNumber': ''}"
            ]
          },
          "metadata": {},
          "execution_count": 31
        }
      ]
    },
    {
      "cell_type": "markdown",
      "source": [
        "Now we can combine the search and object functions and make use of the `title` property on each object to make a little report."
      ],
      "metadata": {
        "id": "W4K-kayO02hP"
      }
    },
    {
      "cell_type": "code",
      "source": [
        "search = search_endpoint({\"q\": \"Rayyane Tabet\"})\n",
        "print(f'The search yielded {search[\"total\"]} objects.')\n",
        "print(f\"Their titles are:\")\n",
        "for objectID in search[\"objectIDs\"]:\n",
        "  object = object_endpoint(objectID)\n",
        "  print(f\"    * {object['title']}\")"
      ],
      "metadata": {
        "colab": {
          "base_uri": "https://localhost:8080/"
        },
        "id": "9JA9ZwXu0nhU",
        "outputId": "fe0834c6-0fa3-42b2-9d65-3f10b017dfb4"
      },
      "execution_count": 33,
      "outputs": [
        {
          "output_type": "stream",
          "name": "stdout",
          "text": [
            "The search yielded 5 objects.\n",
            "Their titles are:\n",
            "    * Orthostates\n",
            "    * Orthostat relief: lion-hunt scene\n",
            "    * Orthostat relief: winged human-headed lion\n",
            "    * Orthostat relief: lion attacking a deer\n",
            "    * Orthostat relief: seated figure holding a lotus flower\n"
          ]
        }
      ]
    },
    {
      "cell_type": "markdown",
      "source": [
        "Finally, let’s choose some of the properties of the object and create a pandas dataframe out of our responses."
      ],
      "metadata": {
        "id": "zPzM_A613Mte"
      }
    },
    {
      "cell_type": "code",
      "source": [
        "columns = [\"objectID\", \"title\", \"artistDisplayName\", \"objectDate\", \n",
        "           \"accessionNumber\", \"accessionYear\", \"isPublicDomain\",\n",
        "           \"department\", \"objectURL\"]\n",
        "objects = [object_endpoint(objectID) for objectID in search[\"objectIDs\"]]\n",
        "df = pd.DataFrame(objects, columns=columns)\n",
        "df.head()"
      ],
      "metadata": {
        "colab": {
          "base_uri": "https://localhost:8080/",
          "height": 547
        },
        "id": "MrG6Zdlr1k4F",
        "outputId": "3305965b-497e-40dc-c423-33114b547a02"
      },
      "execution_count": 36,
      "outputs": [
        {
          "output_type": "execute_result",
          "data": {
            "text/plain": [
              "   objectID                                              title  \\\n",
              "0    820847                                        Orthostates   \n",
              "1    324008                  Orthostat relief: lion-hunt scene   \n",
              "2    324010         Orthostat relief: winged human-headed lion   \n",
              "3    324009            Orthostat relief: lion attacking a deer   \n",
              "4    324007  Orthostat relief: seated figure holding a lotu...   \n",
              "\n",
              "  artistDisplayName                objectDate accessionNumber accessionYear  \\\n",
              "0     Rayyane Tabet              2017-ongoing  2019.288.1–.32          2019   \n",
              "1                    ca. 10th−9th century BCE        43.135.2          1943   \n",
              "2                    ca. 10th−9th century BCE        43.135.4          1943   \n",
              "3                    ca. 10th−9th century BCE        43.135.3          1943   \n",
              "4                    ca. 10th−9th century BCE        43.135.1          1943   \n",
              "\n",
              "   isPublicDomain                department  \\\n",
              "0           False  Ancient Near Eastern Art   \n",
              "1            True  Ancient Near Eastern Art   \n",
              "2            True  Ancient Near Eastern Art   \n",
              "3            True  Ancient Near Eastern Art   \n",
              "4            True  Ancient Near Eastern Art   \n",
              "\n",
              "                                           objectURL  \n",
              "0  https://www.metmuseum.org/art/collection/searc...  \n",
              "1  https://www.metmuseum.org/art/collection/searc...  \n",
              "2  https://www.metmuseum.org/art/collection/searc...  \n",
              "3  https://www.metmuseum.org/art/collection/searc...  \n",
              "4  https://www.metmuseum.org/art/collection/searc...  "
            ],
            "text/html": [
              "\n",
              "  <div id=\"df-46b558cc-353d-4e0e-92e0-2a1cf7a45e3c\">\n",
              "    <div class=\"colab-df-container\">\n",
              "      <div>\n",
              "<style scoped>\n",
              "    .dataframe tbody tr th:only-of-type {\n",
              "        vertical-align: middle;\n",
              "    }\n",
              "\n",
              "    .dataframe tbody tr th {\n",
              "        vertical-align: top;\n",
              "    }\n",
              "\n",
              "    .dataframe thead th {\n",
              "        text-align: right;\n",
              "    }\n",
              "</style>\n",
              "<table border=\"1\" class=\"dataframe\">\n",
              "  <thead>\n",
              "    <tr style=\"text-align: right;\">\n",
              "      <th></th>\n",
              "      <th>objectID</th>\n",
              "      <th>title</th>\n",
              "      <th>artistDisplayName</th>\n",
              "      <th>objectDate</th>\n",
              "      <th>accessionNumber</th>\n",
              "      <th>accessionYear</th>\n",
              "      <th>isPublicDomain</th>\n",
              "      <th>department</th>\n",
              "      <th>objectURL</th>\n",
              "    </tr>\n",
              "  </thead>\n",
              "  <tbody>\n",
              "    <tr>\n",
              "      <th>0</th>\n",
              "      <td>820847</td>\n",
              "      <td>Orthostates</td>\n",
              "      <td>Rayyane Tabet</td>\n",
              "      <td>2017-ongoing</td>\n",
              "      <td>2019.288.1–.32</td>\n",
              "      <td>2019</td>\n",
              "      <td>False</td>\n",
              "      <td>Ancient Near Eastern Art</td>\n",
              "      <td>https://www.metmuseum.org/art/collection/searc...</td>\n",
              "    </tr>\n",
              "    <tr>\n",
              "      <th>1</th>\n",
              "      <td>324008</td>\n",
              "      <td>Orthostat relief: lion-hunt scene</td>\n",
              "      <td></td>\n",
              "      <td>ca. 10th−9th century BCE</td>\n",
              "      <td>43.135.2</td>\n",
              "      <td>1943</td>\n",
              "      <td>True</td>\n",
              "      <td>Ancient Near Eastern Art</td>\n",
              "      <td>https://www.metmuseum.org/art/collection/searc...</td>\n",
              "    </tr>\n",
              "    <tr>\n",
              "      <th>2</th>\n",
              "      <td>324010</td>\n",
              "      <td>Orthostat relief: winged human-headed lion</td>\n",
              "      <td></td>\n",
              "      <td>ca. 10th−9th century BCE</td>\n",
              "      <td>43.135.4</td>\n",
              "      <td>1943</td>\n",
              "      <td>True</td>\n",
              "      <td>Ancient Near Eastern Art</td>\n",
              "      <td>https://www.metmuseum.org/art/collection/searc...</td>\n",
              "    </tr>\n",
              "    <tr>\n",
              "      <th>3</th>\n",
              "      <td>324009</td>\n",
              "      <td>Orthostat relief: lion attacking a deer</td>\n",
              "      <td></td>\n",
              "      <td>ca. 10th−9th century BCE</td>\n",
              "      <td>43.135.3</td>\n",
              "      <td>1943</td>\n",
              "      <td>True</td>\n",
              "      <td>Ancient Near Eastern Art</td>\n",
              "      <td>https://www.metmuseum.org/art/collection/searc...</td>\n",
              "    </tr>\n",
              "    <tr>\n",
              "      <th>4</th>\n",
              "      <td>324007</td>\n",
              "      <td>Orthostat relief: seated figure holding a lotu...</td>\n",
              "      <td></td>\n",
              "      <td>ca. 10th−9th century BCE</td>\n",
              "      <td>43.135.1</td>\n",
              "      <td>1943</td>\n",
              "      <td>True</td>\n",
              "      <td>Ancient Near Eastern Art</td>\n",
              "      <td>https://www.metmuseum.org/art/collection/searc...</td>\n",
              "    </tr>\n",
              "  </tbody>\n",
              "</table>\n",
              "</div>\n",
              "      <button class=\"colab-df-convert\" onclick=\"convertToInteractive('df-46b558cc-353d-4e0e-92e0-2a1cf7a45e3c')\"\n",
              "              title=\"Convert this dataframe to an interactive table.\"\n",
              "              style=\"display:none;\">\n",
              "        \n",
              "  <svg xmlns=\"http://www.w3.org/2000/svg\" height=\"24px\"viewBox=\"0 0 24 24\"\n",
              "       width=\"24px\">\n",
              "    <path d=\"M0 0h24v24H0V0z\" fill=\"none\"/>\n",
              "    <path d=\"M18.56 5.44l.94 2.06.94-2.06 2.06-.94-2.06-.94-.94-2.06-.94 2.06-2.06.94zm-11 1L8.5 8.5l.94-2.06 2.06-.94-2.06-.94L8.5 2.5l-.94 2.06-2.06.94zm10 10l.94 2.06.94-2.06 2.06-.94-2.06-.94-.94-2.06-.94 2.06-2.06.94z\"/><path d=\"M17.41 7.96l-1.37-1.37c-.4-.4-.92-.59-1.43-.59-.52 0-1.04.2-1.43.59L10.3 9.45l-7.72 7.72c-.78.78-.78 2.05 0 2.83L4 21.41c.39.39.9.59 1.41.59.51 0 1.02-.2 1.41-.59l7.78-7.78 2.81-2.81c.8-.78.8-2.07 0-2.86zM5.41 20L4 18.59l7.72-7.72 1.47 1.35L5.41 20z\"/>\n",
              "  </svg>\n",
              "      </button>\n",
              "      \n",
              "  <style>\n",
              "    .colab-df-container {\n",
              "      display:flex;\n",
              "      flex-wrap:wrap;\n",
              "      gap: 12px;\n",
              "    }\n",
              "\n",
              "    .colab-df-convert {\n",
              "      background-color: #E8F0FE;\n",
              "      border: none;\n",
              "      border-radius: 50%;\n",
              "      cursor: pointer;\n",
              "      display: none;\n",
              "      fill: #1967D2;\n",
              "      height: 32px;\n",
              "      padding: 0 0 0 0;\n",
              "      width: 32px;\n",
              "    }\n",
              "\n",
              "    .colab-df-convert:hover {\n",
              "      background-color: #E2EBFA;\n",
              "      box-shadow: 0px 1px 2px rgba(60, 64, 67, 0.3), 0px 1px 3px 1px rgba(60, 64, 67, 0.15);\n",
              "      fill: #174EA6;\n",
              "    }\n",
              "\n",
              "    [theme=dark] .colab-df-convert {\n",
              "      background-color: #3B4455;\n",
              "      fill: #D2E3FC;\n",
              "    }\n",
              "\n",
              "    [theme=dark] .colab-df-convert:hover {\n",
              "      background-color: #434B5C;\n",
              "      box-shadow: 0px 1px 3px 1px rgba(0, 0, 0, 0.15);\n",
              "      filter: drop-shadow(0px 1px 2px rgba(0, 0, 0, 0.3));\n",
              "      fill: #FFFFFF;\n",
              "    }\n",
              "  </style>\n",
              "\n",
              "      <script>\n",
              "        const buttonEl =\n",
              "          document.querySelector('#df-46b558cc-353d-4e0e-92e0-2a1cf7a45e3c button.colab-df-convert');\n",
              "        buttonEl.style.display =\n",
              "          google.colab.kernel.accessAllowed ? 'block' : 'none';\n",
              "\n",
              "        async function convertToInteractive(key) {\n",
              "          const element = document.querySelector('#df-46b558cc-353d-4e0e-92e0-2a1cf7a45e3c');\n",
              "          const dataTable =\n",
              "            await google.colab.kernel.invokeFunction('convertToInteractive',\n",
              "                                                     [key], {});\n",
              "          if (!dataTable) return;\n",
              "\n",
              "          const docLinkHtml = 'Like what you see? Visit the ' +\n",
              "            '<a target=\"_blank\" href=https://colab.research.google.com/notebooks/data_table.ipynb>data table notebook</a>'\n",
              "            + ' to learn more about interactive tables.';\n",
              "          element.innerHTML = '';\n",
              "          dataTable['output_type'] = 'display_data';\n",
              "          await google.colab.output.renderOutput(dataTable, element);\n",
              "          const docLink = document.createElement('div');\n",
              "          docLink.innerHTML = docLinkHtml;\n",
              "          element.appendChild(docLink);\n",
              "        }\n",
              "      </script>\n",
              "    </div>\n",
              "  </div>\n",
              "  "
            ]
          },
          "metadata": {},
          "execution_count": 36
        }
      ]
    },
    {
      "cell_type": "markdown",
      "source": [
        "Um. This really looked straightforward? Let's export as a csv, then, and call it a day!"
      ],
      "metadata": {
        "id": "7_v3eYQa4y9x"
      }
    },
    {
      "cell_type": "code",
      "source": [
        "df.to_csv(\"met_objects.csv\")"
      ],
      "metadata": {
        "id": "AJaS-24k4yYQ"
      },
      "execution_count": 37,
      "outputs": []
    },
    {
      "cell_type": "markdown",
      "source": [
        "That’s all. The only place left to go is up, probably by doing lateral moves. We can start trying different query parameters and comparing how they work compared with Postman. We can start doing some like exploratory data analysis on our results. Or we can abandon The Met’s API and [use another Museum API](https://www.postman.com/opamcurators/workspace/open-access-museums/documentation/1501710-22671d6d-74c0-44af-b258-3fa06f4c920c) to investigate their collection. Or even transcend the museum milieu and practice with any of the Web APIs [Todd Motto tracks](https://github.com/toddmotto/public-apis).\n",
        "\n",
        "The goal here has been to break down the “working with an API” problem into its constituent parts:\n",
        "\n",
        "1. Learn about the API from the documentation\n",
        "1. Query the API\n",
        "1. Manage the results of the query and do additional requests as needed\n",
        "1. Collect the results into a dataframe\n",
        "1. Download the dataframe for further use as a spreadsheet.\n",
        "\n",
        "We lucked out (well, it was intentional) in that The Met’s API did not require any authentication or requesting an API key for access. That can complicate the process, of course, but ultimately it just adds a step between the first two above. Furthermore, once the authentication is captured in code, you can reuse it as much as you need.\n",
        "\n",
        "Happy data gathering!"
      ],
      "metadata": {
        "id": "II-RRbJy-uVy"
      }
    },
    {
      "cell_type": "code",
      "source": [],
      "metadata": {
        "id": "zYUJfbyVCM6P"
      },
      "execution_count": null,
      "outputs": []
    }
  ]
}