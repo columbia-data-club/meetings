{
  "nbformat": 4,
  "nbformat_minor": 0,
  "metadata": {
    "colab": {
      "provenance": [],
      "include_colab_link": true
    },
    "kernelspec": {
      "name": "python3",
      "display_name": "Python 3"
    },
    "language_info": {
      "name": "python"
    }
  },
  "cells": [
    {
      "cell_type": "markdown",
      "metadata": {
        "id": "view-in-github",
        "colab_type": "text"
      },
      "source": [
        "<a href=\"https://colab.research.google.com/github/columbia-data-club/meetings/blob/main/2023/march_23_textual_analysis.ipynb\" target=\"_parent\"><img src=\"https://colab.research.google.com/assets/colab-badge.svg\" alt=\"Open In Colab\"/></a>"
      ]
    },
    {
      "cell_type": "markdown",
      "source": [
        "![A blue background with the SQLite logo and the words Data Club on it](https://raw.githubusercontent.com/columbia-data-club/meetings/main/assets/images/data-club-textacy.png)\n",
        "\n",
        "# Exploratory Analysis of Textual Data\n",
        "\n",
        "March 23, 2023\n",
        "\n",
        "by [Moacir P. de Sá Pereira](https://moacir.com) for the [Columbia Data Club](https://github.com/columbia-data-club/).\n",
        "\n",
        "Working with unstructured, textual data in Python presents new challenges. We can use some of our familiar pandas idioms to organize our corpus of text documents, but even a surface knowledge of the corpus demands new tools for analyzing data. Here, we’ll build a corpus of text and begin looking for macro trends in it.\n",
        "\n",
        "This notebook was inspired by “[A Full Guide on Scraping Yahoo Finance](https://www.octoparse.com/blog/how-to-scrape-yahoo-finance),” by Octoparse."
      ],
      "metadata": {
        "id": "ABH8foDOT6D6"
      }
    },
    {
      "cell_type": "markdown",
      "source": [
        "## Getting the Text\n",
        "\n",
        "A corpus of text can come ready-made or it has to be collected by the researcher through a process that often calls for a certain amount of creativity. The Libraries’ [Guide on Text Mining](https://guides.library.columbia.edu/text-mining) includes a few resources for finding both free and licensed corpora. But often a ready-made corpus fits the needs of a researcher looking to improve an algorithm, not a researcher looking to glean information from the content of the corpus.\n",
        "\n",
        "In this latter case, the researcher has to build the corpus. If the text is online, there are usually three ways to do this:\n",
        "\n",
        "1. **Access the Site’s Database**: This is probably the easiest solution, but it’s also the least likely. Still, it probably does not hurt to reach out to the admin of a site you want to mine and ask for either a dump of their content or read access to their database. But, again, this is unlikely.\n",
        "1. **Access via the Site’s API**: If the site has a [REST API](https://restfulapi.net/) or similar, then it’s often possible to interact with the site programmatically to get the site’s content. For example, historically both [Twitter](https://developer.twitter.com/en/docs/twitter-api) and [Reddit](https://www.reddit.com/dev/api/) have had friendly APIs in the past that have since been somewhat curtailed. Twitter’s API is still rather open for academic researchers, but, of course, in March 2023, it’s hard to tell what’s exactly going on on Twitter. With Reddit, historical access to the content of posts seems no longer possible, but there are external tools like [PushShift](https://pushshift.io/) that can help.\n",
        "1. **Scrape the Site**: This is the technique we will be using. This is the **WORST OPTION** for two reasons: it’s the finickiest, as what works today might not work in the future with no prior warning, and, second, websites often **EXPLICITLY FORBID** scraping. This forbidding is often listed on the site’s `robots.txt` file, which tells webcrawlers if they are allowed to crawl the site and which parts are crawlable. However, sometimes, like in [Facebook’s `robots.txt` file](https://facebook.com/robots.txt), the limitations are spelled out in clear language.\n",
        "\n",
        "Since we’ll be scraping, let’s move on to strategies for doing that."
      ],
      "metadata": {
        "id": "E9b_N6jKVszv"
      }
    },
    {
      "cell_type": "markdown",
      "source": [
        "## Scraping and Parsing the Internet\n",
        "\n",
        "First, sometimes [`wget`](https://www.gnu.org/software/wget/) is sufficient for collecting the contents of a website. A command-line tool, `wget` can recursively work its way through an entire sitemap, following links and downloading pages. \n",
        "\n",
        "Additionally, we could write our own webcrawling spider in Python using [Scrapy](https://scrapy.org/), which both downloads and parses html files, while `wget` only downloads.\n",
        "\n",
        "Instead, we’ll be doing our downloading the old fashioned way, with vanilla `HTTP` requests. We’ll do this using the [Requests](https://requests.readthedocs.io/en/latest/) library. As for parsing, we’ll use the [Beautiful Soup](https://beautiful-soup-4.readthedocs.io/en/latest/) library.\n",
        "\n",
        "That said, here’s where we need to start optimizing for the nature of the documents we hope to download."
      ],
      "metadata": {
        "id": "FIAb9f0rNUFe"
      }
    },
    {
      "cell_type": "markdown",
      "source": [
        "## Yahoo Finance at a Glance\n",
        "\n",
        "We’re going to be working with the [Yahoo Finance Latest News](http://finance.yahoo.com/news), which at the time of this typing, looks like this:\n",
        "\n",
        "![A screenshot of the Yahoo Finance news website](https://raw.githubusercontent.com/columbia-data-club/meetings/main/assets/images/yahoo-1.png)\n",
        "\n",
        "Visually, the page has a simple structure. There’s a header bar with navigation links and little widgets giving information about the state of the market. There’s a sidebar with a few articles on it and a footer just out of view, but the bulk of the news content is on an infinite scroll bar that loads articles as you keep scrolling. In a production environment, this would cause problems, but we’re keeping things light for this workshop.\n",
        "\n",
        "To smooth things along, we can investigate the semantic structure of the news page to see how it signals articles:\n",
        "\n",
        "![A view of the DOM of the Yahoo Finance news page](https://raw.githubusercontent.com/columbia-data-club/meetings/main/assets/images/yahoo-2.png)\n",
        "\n",
        "Note `<div id=\"Fin-Stream\"…>`. This is the container that holds the stream of articles, which are members of an unordered list. Each list member seems to have the shape of `<li class=\"js-stream-content Pos(r)\">`, so we can use that to parse out objects."
      ],
      "metadata": {
        "id": "V7CzIjl4PxOX"
      }
    },
    {
      "cell_type": "code",
      "source": [
        "from bs4 import BeautifulSoup\n",
        "import requests\n",
        "\n",
        "def getWebPage(url):\n",
        "  try:\n",
        "    r = requests.get(url)\n",
        "    if r.status_code == 200:\n",
        "      return r.text\n",
        "    else:\n",
        "      raise Exception(f\"Status code for {url} was {r.status_code}\")\n",
        "  except:\n",
        "    print(f\"getWebPage failed on {url} ({r.status_code})\")"
      ],
      "metadata": {
        "id": "W6FYct_8V4I8"
      },
      "execution_count": 3,
      "outputs": []
    },
    {
      "cell_type": "code",
      "source": [
        "from bs4 import BeautifulSoup\n",
        "\n",
        "webpage = getWebPage(\"https://finance.yahoo.com/news\")\n",
        "parsed_doc = BeautifulSoup(webpage, \"html.parser\")\n",
        "\n",
        "for i, article in enumerate(parsed_doc.find_all(\"li\", class_=\"js-stream-content\")):\n",
        "  # The article headline is in an <h3> tag\n",
        "  print(f\"{i + 1}. “{article.h3.get_text()}”\")"
      ],
      "metadata": {
        "id": "wGLJjgfGZaJ6"
      },
      "execution_count": null,
      "outputs": []
    },
    {
      "cell_type": "markdown",
      "source": [
        "When we naively grab the news page, then, we only get the top 26 articles. If we were a business that had a crawler ping the site every five minutes and grab the top 26, then this might be a useful way to construct a corpus. But if we want to do historical research on Yahoo Finance or get the news more systematically, this is not a particularly efficient way to go about doing this.\n",
        "\n",
        "Again, creativity."
      ],
      "metadata": {
        "id": "AtUC5MPIbCQg"
      }
    },
    {
      "cell_type": "markdown",
      "source": [
        "## Scraping Yahoo Finance\n",
        "\n",
        "There are a few options even within Yahoo Finance. One is a robot working every five minutes. Going forward, that’s not a terrible idea. Going backward, however, it is. Luckily, Yahoo Finance publishes a systematic index of [all of its articles](https://finance.yahoo.com/sitemap/) on its sitemap. What’s more, the map is broken apart into days, meaning we can target a specific date or range of dates and download all the articles. \n",
        "\n",
        "The structure of the page is pretty straightforward: there is a `<ul>` inside `<div class=\"sitemapcontent\"…>` that holds the list of articles, where every article is `<li><a>Headline</a></li>`, more or less. As such, the code is not much different than above to see the list of articles.\n",
        "\n",
        "The Silicon Valley Bank failure, recently in the news, happened on March 10, 2023. Initially, I planned on getting every article published on Yahoo Finance on that day, but it’s over 1000 articles, so instead let’s just get about 500 and call it a day."
      ],
      "metadata": {
        "id": "yIM-PXbeXBUa"
      }
    },
    {
      "cell_type": "code",
      "source": [
        "import datetime\n",
        "\n",
        "# Doing this in code should we want to automate getting more than\n",
        "# one day's worth of articles.\n",
        "date = datetime.date(2023, 3, 10)\n",
        "base_url = \"https://finance.yahoo.com/sitemap/\"\n",
        "\n",
        "articles_url = base_url + date.strftime(\"%Y_%m_%d\")\n",
        "webpage = getWebPage(base_url + date.strftime(\"%Y_%m_%d\"))\n",
        "parsed_doc = BeautifulSoup(webpage, \"html.parser\")\n",
        "sitemap_content = parsed_doc.find(\"div\", class_=\"sitemapcontent\")\n",
        "\n",
        "# print(sitemap_content)\n",
        "for i, article in enumerate(sitemap_content.find_all(\"li\")):\n",
        "  print(f\"{i + 1}. “{article.get_text()}”\")"
      ],
      "metadata": {
        "id": "KLTSS6PNSzUn"
      },
      "execution_count": null,
      "outputs": []
    },
    {
      "cell_type": "markdown",
      "source": [
        "Now we get 50 articles, but we want more, still. At the bottom of the list of articles is a \"Next\" button (and sometimes “Start” button) that takes the form of:\n",
        "\n",
        "```html\n",
        "<div>\n",
        "  <a \n",
        "    href=\"https://finance.yahoo.com/sitemap/2023_03_10_start{some epoch time}\"…>\n",
        "    Next\n",
        "  </a>\n",
        "</div>\n",
        "```\n",
        "\n",
        "We can look for this link and follow it when it’s available. However, now we’re about to start looping with our requests, which means it’s a good idea to space out the process a bit using `time.sleep()`. Many websites have limits on how many times you can hit their servers in a given period, and other sites may be set up to intercept and block scraping. In short, it’s polite not to slam a website with a flurry of requests."
      ],
      "metadata": {
        "id": "zJp5PHNHrtaJ"
      }
    },
    {
      "cell_type": "code",
      "source": [
        "import time\n",
        "\n",
        "def add_articles(url, page=1, articles=[]):\n",
        "  webpage = getWebPage(url)\n",
        "  parsed_doc = BeautifulSoup(webpage, \"html.parser\").find(\"div\", class_=\"sitemapcontent\")\n",
        "  for article in parsed_doc.find_all(\"li\"):\n",
        "    articles.append(article)\n",
        "\n",
        "  # We assume there is a sibling to the <ul> that holds the Next button\n",
        "  nav_buttons = parsed_doc.ul.next_sibling\n",
        "  # Stop when we hit 10 pages (500 articles)\n",
        "  page += 1\n",
        "  if page < 11 and nav_buttons:\n",
        "    next_button = nav_buttons.find_all(\"a\").pop()\n",
        "    if next_button.text == \"Next\":\n",
        "      new_url = next_button.get(\"href\")\n",
        "      print(f\"Waiting five seconds before getting articles from page {page}\")\n",
        "      time.sleep(5)\n",
        "      return add_articles(new_url, page, articles)\n",
        "\n",
        "  return articles"
      ],
      "metadata": {
        "id": "DzhFgqvHfCrF"
      },
      "execution_count": null,
      "outputs": []
    },
    {
      "cell_type": "code",
      "source": [
        "articles = add_articles(base_url + date.strftime(\"%Y_%m_%d\"))"
      ],
      "metadata": {
        "id": "2eKCDH7hsyiL"
      },
      "execution_count": null,
      "outputs": []
    },
    {
      "cell_type": "markdown",
      "source": [
        "We now have links to 500 Yahoo Finance articles from March 10th. Let’s see where these links point to."
      ],
      "metadata": {
        "id": "rNbPF-UlHQ1j"
      }
    },
    {
      "cell_type": "code",
      "source": [
        "from urllib.parse import urlparse\n",
        "import pandas as pd\n",
        "\n",
        "df = pd.DataFrame({\n",
        "    \"url\": [article.find(\"a\").get(\"href\") for article in articles],\n",
        "    \"headline\": [article.text for article in articles]\n",
        "})\n",
        "df[\"hostname\"] = df[\"url\"].apply(lambda x: urlparse(x).hostname)\n",
        "df[\"hostname\"].value_counts()"
      ],
      "metadata": {
        "id": "fMMxXQkmGvYR"
      },
      "execution_count": null,
      "outputs": []
    },
    {
      "cell_type": "markdown",
      "source": [
        "Super. In my initial testing, it looked like a lot of the links were to sites other than Yahoo Finance, which would cause a problem for scraping. Namely, every single website has a different way of presenting information, which means avid scrapers like us have to manage different ways of getting the information we want without a bunch of information we don’t want. \n",
        "\n",
        "Let’s toss out everything except articles that point to `finance.yahoo.com` and grab their text. \n",
        "\n",
        "Luckily, Yahoo Finance puts all of their article content in an `<article>` tag, so we don’t need to do much to grab the text."
      ],
      "metadata": {
        "id": "vVHRLITwKCuk"
      }
    },
    {
      "cell_type": "code",
      "source": [
        "import numpy as np\n",
        "\n",
        "def get_yahoo_finance_article_text(url):\n",
        "  time.sleep(1)\n",
        "  print(url)\n",
        "  webpage = getWebPage(url)\n",
        "  try: \n",
        "    parsed_doc = BeautifulSoup(webpage, \"html.parser\")\n",
        "    if parsed_doc:\n",
        "      return parsed_doc.find(\"article\").prettify()\n",
        "    return np.nan\n",
        "  except:\n",
        "    return np.nan"
      ],
      "metadata": {
        "id": "22dN8J7cG_LD"
      },
      "execution_count": null,
      "outputs": []
    },
    {
      "cell_type": "code",
      "source": [
        "### This code is illustrative. The second line will make hundreds of calls\n",
        "#   to Yahoo Finance, which is probably not what you want to do, especially\n",
        "#   especially since all of the articles are already downloaded and saved to\n",
        "#   our repository as a parquet file.\n",
        "\n",
        "# df = df[df[\"hostname\"] == \"finance.yahoo.com\"]\n",
        "# df[\"raw_html_text\"] = df[\"url\"].apply(lambda url: get_yahoo_finance_article_text(url))\n",
        "# df[\"raw_html_text\"].isna().sum() #-> 50\n",
        "# df = df.dropna()\n",
        "# df.to_parquet(\"mar_10_articles.parquet\")"
      ],
      "metadata": {
        "id": "NJ2r2EiBK95o"
      },
      "execution_count": null,
      "outputs": []
    },
    {
      "cell_type": "markdown",
      "source": [
        "The process of getting all 393 articles obviously takes a while if we are waiting a second in between. Furthermore, there’s no real reason to go and download them all again for the purposes of this workshop, so instead, I drop all the ones that failed to grab an article for whatever reason (50 of 393) and convert the dataframe to a parquet so we can download it and keep working off it instead.\n",
        "\n",
        "This requires an extra little step because I save the raw HTML into the dataframe, not the parsed Beautiful Soup object, so when we import the parquet, we need to reparse everything.\n",
        "\n",
        "So let’s start from scratch with what we’ve got, because technically the scraping is over."
      ],
      "metadata": {
        "id": "JCEouMiuiybz"
      }
    },
    {
      "cell_type": "markdown",
      "source": [
        "## Parsing Yahoo Finance Articles\n",
        "\n",
        "Let’s install a library and grab our articles so we can start doing some light textual analysis.\n"
      ],
      "metadata": {
        "id": "NydDuIwSikkD"
      }
    },
    {
      "cell_type": "code",
      "source": [
        "!python -m pip install textacy"
      ],
      "metadata": {
        "colab": {
          "base_uri": "https://localhost:8080/"
        },
        "id": "pGdMVA-DuO5k",
        "outputId": "1befcc56-29e9-4de0-b3e5-e32c9d2db0ae"
      },
      "execution_count": 41,
      "outputs": [
        {
          "output_type": "stream",
          "name": "stdout",
          "text": [
            "Looking in indexes: https://pypi.org/simple, https://us-python.pkg.dev/colab-wheels/public/simple/\n",
            "Requirement already satisfied: textacy in /usr/local/lib/python3.9/dist-packages (0.11.0)\n",
            "Requirement already satisfied: cytoolz>=0.10.1 in /usr/local/lib/python3.9/dist-packages (from textacy) (0.12.1)\n",
            "Requirement already satisfied: jellyfish>=0.8.0 in /usr/local/lib/python3.9/dist-packages (from textacy) (0.9.0)\n",
            "Requirement already satisfied: tqdm>=4.19.6 in /usr/local/lib/python3.9/dist-packages (from textacy) (4.65.0)\n",
            "Requirement already satisfied: spacy>=3.0.0 in /usr/local/lib/python3.9/dist-packages (from textacy) (3.5.1)\n",
            "Requirement already satisfied: joblib>=0.13.0 in /usr/local/lib/python3.9/dist-packages (from textacy) (1.1.1)\n",
            "Requirement already satisfied: cachetools>=4.0.0 in /usr/local/lib/python3.9/dist-packages (from textacy) (5.3.0)\n",
            "Requirement already satisfied: pyphen>=0.10.0 in /usr/local/lib/python3.9/dist-packages (from textacy) (0.14.0)\n",
            "Requirement already satisfied: numpy>=1.17.0 in /usr/local/lib/python3.9/dist-packages (from textacy) (1.22.4)\n",
            "Requirement already satisfied: networkx>=2.0 in /usr/local/lib/python3.9/dist-packages (from textacy) (3.0)\n",
            "Requirement already satisfied: requests>=2.10.0 in /usr/local/lib/python3.9/dist-packages (from textacy) (2.27.1)\n",
            "Requirement already satisfied: scipy>=0.17.0 in /usr/local/lib/python3.9/dist-packages (from textacy) (1.10.1)\n",
            "Requirement already satisfied: scikit-learn>=0.19.0 in /usr/local/lib/python3.9/dist-packages (from textacy) (1.2.2)\n",
            "Requirement already satisfied: toolz>=0.8.0 in /usr/local/lib/python3.9/dist-packages (from cytoolz>=0.10.1->textacy) (0.12.0)\n",
            "Requirement already satisfied: charset-normalizer~=2.0.0 in /usr/local/lib/python3.9/dist-packages (from requests>=2.10.0->textacy) (2.0.12)\n",
            "Requirement already satisfied: certifi>=2017.4.17 in /usr/local/lib/python3.9/dist-packages (from requests>=2.10.0->textacy) (2022.12.7)\n",
            "Requirement already satisfied: idna<4,>=2.5 in /usr/local/lib/python3.9/dist-packages (from requests>=2.10.0->textacy) (3.4)\n",
            "Requirement already satisfied: urllib3<1.27,>=1.21.1 in /usr/local/lib/python3.9/dist-packages (from requests>=2.10.0->textacy) (1.26.15)\n",
            "Requirement already satisfied: threadpoolctl>=2.0.0 in /usr/local/lib/python3.9/dist-packages (from scikit-learn>=0.19.0->textacy) (3.1.0)\n",
            "Requirement already satisfied: cymem<2.1.0,>=2.0.2 in /usr/local/lib/python3.9/dist-packages (from spacy>=3.0.0->textacy) (2.0.7)\n",
            "Requirement already satisfied: thinc<8.2.0,>=8.1.8 in /usr/local/lib/python3.9/dist-packages (from spacy>=3.0.0->textacy) (8.1.9)\n",
            "Requirement already satisfied: srsly<3.0.0,>=2.4.3 in /usr/local/lib/python3.9/dist-packages (from spacy>=3.0.0->textacy) (2.4.6)\n",
            "Requirement already satisfied: pydantic!=1.8,!=1.8.1,<1.11.0,>=1.7.4 in /usr/local/lib/python3.9/dist-packages (from spacy>=3.0.0->textacy) (1.10.6)\n",
            "Requirement already satisfied: typer<0.8.0,>=0.3.0 in /usr/local/lib/python3.9/dist-packages (from spacy>=3.0.0->textacy) (0.7.0)\n",
            "Requirement already satisfied: langcodes<4.0.0,>=3.2.0 in /usr/local/lib/python3.9/dist-packages (from spacy>=3.0.0->textacy) (3.3.0)\n",
            "Requirement already satisfied: spacy-legacy<3.1.0,>=3.0.11 in /usr/local/lib/python3.9/dist-packages (from spacy>=3.0.0->textacy) (3.0.12)\n",
            "Requirement already satisfied: spacy-loggers<2.0.0,>=1.0.0 in /usr/local/lib/python3.9/dist-packages (from spacy>=3.0.0->textacy) (1.0.4)\n",
            "Requirement already satisfied: pathy>=0.10.0 in /usr/local/lib/python3.9/dist-packages (from spacy>=3.0.0->textacy) (0.10.1)\n",
            "Requirement already satisfied: wasabi<1.2.0,>=0.9.1 in /usr/local/lib/python3.9/dist-packages (from spacy>=3.0.0->textacy) (1.1.1)\n",
            "Requirement already satisfied: smart-open<7.0.0,>=5.2.1 in /usr/local/lib/python3.9/dist-packages (from spacy>=3.0.0->textacy) (6.3.0)\n",
            "Requirement already satisfied: packaging>=20.0 in /usr/local/lib/python3.9/dist-packages (from spacy>=3.0.0->textacy) (23.0)\n",
            "Requirement already satisfied: catalogue<2.1.0,>=2.0.6 in /usr/local/lib/python3.9/dist-packages (from spacy>=3.0.0->textacy) (2.0.8)\n",
            "Requirement already satisfied: jinja2 in /usr/local/lib/python3.9/dist-packages (from spacy>=3.0.0->textacy) (3.1.2)\n",
            "Requirement already satisfied: preshed<3.1.0,>=3.0.2 in /usr/local/lib/python3.9/dist-packages (from spacy>=3.0.0->textacy) (3.0.8)\n",
            "Requirement already satisfied: setuptools in /usr/local/lib/python3.9/dist-packages (from spacy>=3.0.0->textacy) (67.6.0)\n",
            "Requirement already satisfied: murmurhash<1.1.0,>=0.28.0 in /usr/local/lib/python3.9/dist-packages (from spacy>=3.0.0->textacy) (1.0.9)\n",
            "Requirement already satisfied: typing-extensions>=4.2.0 in /usr/local/lib/python3.9/dist-packages (from pydantic!=1.8,!=1.8.1,<1.11.0,>=1.7.4->spacy>=3.0.0->textacy) (4.5.0)\n",
            "Requirement already satisfied: blis<0.8.0,>=0.7.8 in /usr/local/lib/python3.9/dist-packages (from thinc<8.2.0,>=8.1.8->spacy>=3.0.0->textacy) (0.7.9)\n",
            "Requirement already satisfied: confection<1.0.0,>=0.0.1 in /usr/local/lib/python3.9/dist-packages (from thinc<8.2.0,>=8.1.8->spacy>=3.0.0->textacy) (0.0.4)\n",
            "Requirement already satisfied: click<9.0.0,>=7.1.1 in /usr/local/lib/python3.9/dist-packages (from typer<0.8.0,>=0.3.0->spacy>=3.0.0->textacy) (8.1.3)\n",
            "Requirement already satisfied: MarkupSafe>=2.0 in /usr/local/lib/python3.9/dist-packages (from jinja2->spacy>=3.0.0->textacy) (2.1.2)\n"
          ]
        }
      ]
    },
    {
      "cell_type": "code",
      "source": [
        "from bs4 import BeautifulSoup\n",
        "import pandas as pd\n",
        "\n",
        "df = pd.read_parquet(\"https://github.com/columbia-data-club/meetings/blob/main/assets/data/mar_10_articles.parquet?raw=true\")\n",
        "df.head()"
      ],
      "metadata": {
        "id": "5wAJycFKiU22",
        "colab": {
          "base_uri": "https://localhost:8080/",
          "height": 206
        },
        "outputId": "fd14206b-eb80-475c-e978-1e7698129c92"
      },
      "execution_count": 27,
      "outputs": [
        {
          "output_type": "execute_result",
          "data": {
            "text/plain": [
              "                                                  url  \\\n",
              "7   https://finance.yahoo.com/news/6-cheapest-plac...   \n",
              "8   https://finance.yahoo.com/news/elliott-stateme...   \n",
              "9   https://finance.yahoo.com/news/6-best-side-gig...   \n",
              "12  https://finance.yahoo.com/news/1-argentina-swa...   \n",
              "14  https://finance.yahoo.com/news/bill-71-buildin...   \n",
              "\n",
              "                                             headline           hostname  \\\n",
              "7   6 Cheapest Places To Eat at US Disney Theme Parks  finance.yahoo.com   \n",
              "8            Elliott Statement on Dai Nippon Printing  finance.yahoo.com   \n",
              "9                  6 Best Side Gigs for Active People  finance.yahoo.com   \n",
              "12  UPDATE 2-Argentina swaps $21.7 billion in dome...  finance.yahoo.com   \n",
              "14             BILL 71, BUILDING MORE MINES ACT, 2023  finance.yahoo.com   \n",
              "\n",
              "                                        raw_html_text  \n",
              "7   <article class=\"caas-container\" role=\"article\"...  \n",
              "8   <article class=\"caas-container\" role=\"article\"...  \n",
              "9   <article class=\"caas-container\" role=\"article\"...  \n",
              "12  <article class=\"caas-container\" role=\"article\"...  \n",
              "14  <article class=\"caas-container\" role=\"article\"...  "
            ],
            "text/html": [
              "\n",
              "  <div id=\"df-b2d699b8-3415-48ce-81cd-61e53c4cc987\">\n",
              "    <div class=\"colab-df-container\">\n",
              "      <div>\n",
              "<style scoped>\n",
              "    .dataframe tbody tr th:only-of-type {\n",
              "        vertical-align: middle;\n",
              "    }\n",
              "\n",
              "    .dataframe tbody tr th {\n",
              "        vertical-align: top;\n",
              "    }\n",
              "\n",
              "    .dataframe thead th {\n",
              "        text-align: right;\n",
              "    }\n",
              "</style>\n",
              "<table border=\"1\" class=\"dataframe\">\n",
              "  <thead>\n",
              "    <tr style=\"text-align: right;\">\n",
              "      <th></th>\n",
              "      <th>url</th>\n",
              "      <th>headline</th>\n",
              "      <th>hostname</th>\n",
              "      <th>raw_html_text</th>\n",
              "    </tr>\n",
              "  </thead>\n",
              "  <tbody>\n",
              "    <tr>\n",
              "      <th>7</th>\n",
              "      <td>https://finance.yahoo.com/news/6-cheapest-plac...</td>\n",
              "      <td>6 Cheapest Places To Eat at US Disney Theme Parks</td>\n",
              "      <td>finance.yahoo.com</td>\n",
              "      <td>&lt;article class=\"caas-container\" role=\"article\"...</td>\n",
              "    </tr>\n",
              "    <tr>\n",
              "      <th>8</th>\n",
              "      <td>https://finance.yahoo.com/news/elliott-stateme...</td>\n",
              "      <td>Elliott Statement on Dai Nippon Printing</td>\n",
              "      <td>finance.yahoo.com</td>\n",
              "      <td>&lt;article class=\"caas-container\" role=\"article\"...</td>\n",
              "    </tr>\n",
              "    <tr>\n",
              "      <th>9</th>\n",
              "      <td>https://finance.yahoo.com/news/6-best-side-gig...</td>\n",
              "      <td>6 Best Side Gigs for Active People</td>\n",
              "      <td>finance.yahoo.com</td>\n",
              "      <td>&lt;article class=\"caas-container\" role=\"article\"...</td>\n",
              "    </tr>\n",
              "    <tr>\n",
              "      <th>12</th>\n",
              "      <td>https://finance.yahoo.com/news/1-argentina-swa...</td>\n",
              "      <td>UPDATE 2-Argentina swaps $21.7 billion in dome...</td>\n",
              "      <td>finance.yahoo.com</td>\n",
              "      <td>&lt;article class=\"caas-container\" role=\"article\"...</td>\n",
              "    </tr>\n",
              "    <tr>\n",
              "      <th>14</th>\n",
              "      <td>https://finance.yahoo.com/news/bill-71-buildin...</td>\n",
              "      <td>BILL 71, BUILDING MORE MINES ACT, 2023</td>\n",
              "      <td>finance.yahoo.com</td>\n",
              "      <td>&lt;article class=\"caas-container\" role=\"article\"...</td>\n",
              "    </tr>\n",
              "  </tbody>\n",
              "</table>\n",
              "</div>\n",
              "      <button class=\"colab-df-convert\" onclick=\"convertToInteractive('df-b2d699b8-3415-48ce-81cd-61e53c4cc987')\"\n",
              "              title=\"Convert this dataframe to an interactive table.\"\n",
              "              style=\"display:none;\">\n",
              "        \n",
              "  <svg xmlns=\"http://www.w3.org/2000/svg\" height=\"24px\"viewBox=\"0 0 24 24\"\n",
              "       width=\"24px\">\n",
              "    <path d=\"M0 0h24v24H0V0z\" fill=\"none\"/>\n",
              "    <path d=\"M18.56 5.44l.94 2.06.94-2.06 2.06-.94-2.06-.94-.94-2.06-.94 2.06-2.06.94zm-11 1L8.5 8.5l.94-2.06 2.06-.94-2.06-.94L8.5 2.5l-.94 2.06-2.06.94zm10 10l.94 2.06.94-2.06 2.06-.94-2.06-.94-.94-2.06-.94 2.06-2.06.94z\"/><path d=\"M17.41 7.96l-1.37-1.37c-.4-.4-.92-.59-1.43-.59-.52 0-1.04.2-1.43.59L10.3 9.45l-7.72 7.72c-.78.78-.78 2.05 0 2.83L4 21.41c.39.39.9.59 1.41.59.51 0 1.02-.2 1.41-.59l7.78-7.78 2.81-2.81c.8-.78.8-2.07 0-2.86zM5.41 20L4 18.59l7.72-7.72 1.47 1.35L5.41 20z\"/>\n",
              "  </svg>\n",
              "      </button>\n",
              "      \n",
              "  <style>\n",
              "    .colab-df-container {\n",
              "      display:flex;\n",
              "      flex-wrap:wrap;\n",
              "      gap: 12px;\n",
              "    }\n",
              "\n",
              "    .colab-df-convert {\n",
              "      background-color: #E8F0FE;\n",
              "      border: none;\n",
              "      border-radius: 50%;\n",
              "      cursor: pointer;\n",
              "      display: none;\n",
              "      fill: #1967D2;\n",
              "      height: 32px;\n",
              "      padding: 0 0 0 0;\n",
              "      width: 32px;\n",
              "    }\n",
              "\n",
              "    .colab-df-convert:hover {\n",
              "      background-color: #E2EBFA;\n",
              "      box-shadow: 0px 1px 2px rgba(60, 64, 67, 0.3), 0px 1px 3px 1px rgba(60, 64, 67, 0.15);\n",
              "      fill: #174EA6;\n",
              "    }\n",
              "\n",
              "    [theme=dark] .colab-df-convert {\n",
              "      background-color: #3B4455;\n",
              "      fill: #D2E3FC;\n",
              "    }\n",
              "\n",
              "    [theme=dark] .colab-df-convert:hover {\n",
              "      background-color: #434B5C;\n",
              "      box-shadow: 0px 1px 3px 1px rgba(0, 0, 0, 0.15);\n",
              "      filter: drop-shadow(0px 1px 2px rgba(0, 0, 0, 0.3));\n",
              "      fill: #FFFFFF;\n",
              "    }\n",
              "  </style>\n",
              "\n",
              "      <script>\n",
              "        const buttonEl =\n",
              "          document.querySelector('#df-b2d699b8-3415-48ce-81cd-61e53c4cc987 button.colab-df-convert');\n",
              "        buttonEl.style.display =\n",
              "          google.colab.kernel.accessAllowed ? 'block' : 'none';\n",
              "\n",
              "        async function convertToInteractive(key) {\n",
              "          const element = document.querySelector('#df-b2d699b8-3415-48ce-81cd-61e53c4cc987');\n",
              "          const dataTable =\n",
              "            await google.colab.kernel.invokeFunction('convertToInteractive',\n",
              "                                                     [key], {});\n",
              "          if (!dataTable) return;\n",
              "\n",
              "          const docLinkHtml = 'Like what you see? Visit the ' +\n",
              "            '<a target=\"_blank\" href=https://colab.research.google.com/notebooks/data_table.ipynb>data table notebook</a>'\n",
              "            + ' to learn more about interactive tables.';\n",
              "          element.innerHTML = '';\n",
              "          dataTable['output_type'] = 'display_data';\n",
              "          await google.colab.output.renderOutput(dataTable, element);\n",
              "          const docLink = document.createElement('div');\n",
              "          docLink.innerHTML = docLinkHtml;\n",
              "          element.appendChild(docLink);\n",
              "        }\n",
              "      </script>\n",
              "    </div>\n",
              "  </div>\n",
              "  "
            ]
          },
          "metadata": {},
          "execution_count": 27
        }
      ]
    },
    {
      "cell_type": "markdown",
      "source": [
        "Excellent! Let’s have a look at one of these articles to see what the basic structure is."
      ],
      "metadata": {
        "id": "cLS3bX9urh2x"
      }
    },
    {
      "cell_type": "code",
      "source": [
        "sample = df.sample(1, random_state=42)\n",
        "print(sample[\"url\"].iloc[0])\n",
        "with open('article.html', 'w') as file:\n",
        "    file.write(sample[\"raw_html_text\"].iloc[0])"
      ],
      "metadata": {
        "id": "Ffsr47iZrU9y"
      },
      "execution_count": null,
      "outputs": []
    },
    {
      "cell_type": "markdown",
      "source": [
        "Here I kind of stop with the pre-fab code because I want to see how we all interpret this html and how we decide to go forward.\n",
        "\n",
        "We’ll be using the library [textaCy](https://textacy.readthedocs.io/), which has many preproccessing tools available for us, so we can start by naively extracting the text from our articles.\n",
        "\n",
        "**Usability note**: the textaCy that gets installed by default is above version 0.11.0 (0.12.0 as of this writing), but currently the documentation does not reflect the changes to the library, so things break. The [release notes for 0.12.0](https://github.com/chartbeat-labs/textacy/releases/tag/0.12.0) give some guidance."
      ],
      "metadata": {
        "id": "muyk-MDytu42"
      }
    },
    {
      "cell_type": "code",
      "source": [
        "df1 = df\n",
        "df[\"naive_txt\"] = df[\"raw_html_text\"].apply(lambda x: BeautifulSoup(x, \"html.parser\").text)"
      ],
      "metadata": {
        "id": "gR7WX-7VrW6C"
      },
      "execution_count": 28,
      "outputs": []
    },
    {
      "cell_type": "code",
      "source": [
        "print(df[\"naive_txt\"].sample(1, random_state=42).iloc[0])"
      ],
      "metadata": {
        "id": "Bklg42BPwexp"
      },
      "execution_count": null,
      "outputs": []
    },
    {
      "cell_type": "code",
      "source": [
        "import textacy\n",
        "\n",
        "preproc = textacy.preprocessing.make_pipeline(\n",
        "    textacy.preprocessing.normalize.whitespace,\n",
        "    textacy.preprocessing.normalize.quotation_marks,\n",
        "    textacy.preprocessing.replace.emojis,\n",
        "    textacy.preprocessing.replace.emails\n",
        ")\n",
        "\n",
        "df[\"preproc_txt\"] = df[\"naive_txt\"].apply(preproc)"
      ],
      "metadata": {
        "id": "_pmy3X89wjw3"
      },
      "execution_count": 29,
      "outputs": []
    },
    {
      "cell_type": "code",
      "source": [
        "print(df[\"preproc_txt\"].sample(1, random_state=42).iloc[0])"
      ],
      "metadata": {
        "colab": {
          "base_uri": "https://localhost:8080/"
        },
        "id": "zY1P_HpnyUfq",
        "outputId": "3779f199-d4d6-48a6-823e-792c264aa750"
      },
      "execution_count": 11,
      "outputs": [
        {
          "output_type": "stream",
          "name": "stdout",
          "text": [
            "The Telegraph\n",
            " \n",
            " What Biden's war on wealth means for America's richest\n",
            " \n",
            " Read full article\n",
            " \n",
            " 6\n",
            " \n",
            " Eir Nolsoe\n",
            " \n",
            " March 9, 2023, 10:00 PM\n",
            " \n",
            " ·\n",
            " \n",
            " 6 min read\n",
            " \n",
            " President Joe Biden speaks about his 2024 proposed budget at the Finishing Trades Institute, Thursday, March 9, 2023, in Philadelphia. (AP Photo/Matt Rourke) - AP Photo/Matt Rourke\n",
            " \n",
            " Joe Biden's\n",
            " \n",
            " annual budget plan\n",
            " \n",
            " has billionaires, investors and big business firmly in its firing line.\n",
            " \n",
            " Under the US President's proposals, which were unveiled on Thursday, the very richest Americans such as Elon Musk and Jeff Bezos would face a minimum 25pc tax rate.\n",
            " \n",
            " Even those not in the same wealth league will face higher taxes, with proposals to up the top rate of income tax for those earning over $400,000 a year.\n",
            " \n",
            " The tax rate for corporations is also set to rise significantly and the President wants to quadruple the levy on share buybacks.\n",
            " \n",
            " The message is clear: the Democrats are banking on taxing the wealthiest to reduce the US's $31 trillion debt mountain.\n",
            " \n",
            " Yet experts say the President has \"virtually zero\" hope of pushing through these policies in the next two years. The Republicans hold a majority in the lower chamber, the House of Representatives, and are almost certain to vigorously oppose Biden's plans.\n",
            " \n",
            " Biden is already facing\n",
            " \n",
            " a looming clash with the Republicans over getting approval to raise the limit on how much the Government can borrow\n",
            " \n",
            " to avoid default.\n",
            " \n",
            " \"This is as much Biden trying to position himself and the party for 2024, as well as this spite over the debt ceiling, as it is about actually implementing policies,\" says Ben Koltun of Beacon Policy Advisors in Washington DC.\n",
            " \n",
            " The President's proposed billionaire tax raid comes as public opinion of Biden's handling of the economy sours, amid rising interest rates and high inflation. Aggressive taxation of the rich may help to juice those numbers by appealing to the Democrat's base.\n",
            " \n",
            " Koltun says: \"The significance is that Biden and the Democratic Party see that raising taxes on the wealthy, raising taxes on investors, raising taxes on corporations is still a politically winning issue for them even if they can't necessarily implement the policy.\"\n",
            " \n",
            " The US is home to the highest number of billionaires in the world at 735, followed by China at 539 and India at 166, according to Forbes.\n",
            " \n",
            " Story continues\n",
            " \n",
            " Four out of five of the world's richest people are American: Elon Musk, Amazon founder Jeff Bezos, Bill Gates and Warren Buffett.\n",
            " \n",
            " Calls from the left to make these individuals pay more towards the state have been growing louder in recent years. Congresswoman Alexandria Ocasio-Cortez, a star on the left wing of the Democrat party, famously\n",
            " \n",
            " wore a white dress emblazoned with the phrase \"Tax the Rich\" to the Met Gala\n",
            " \n",
            " in New York in 2021.\n",
            " \n",
            " But while a billionaire tax might be a vote winner in certain quarters, experts are sceptical that it will ever see the light of day. Current proposals are seen as too complex and observers warn the policy risks making the US less competitive internationally.\n",
            " \n",
            " Wendy Edelberg, the director of The Hamilton Project and a senior fellow in Economic Studies at the Brookings Institution, says: \"I dare say no one expects the President's budget to be taken up in its current form in Congress. I view this more as a marker and the beginning of a conversation.\"\n",
            " \n",
            " Erica York of the Tax Foundation, a Washington DC-based think tank, points out that billionaires are already paying plenty of tax in the US.\n",
            " \n",
            " The richest 1pc of Americans actually pay 42.3pc of all individual income taxes in the US, while the bottom half pay only 2.3pc, she says.\n",
            " \n",
            " These figures do not include refundable tax credits. Some people in the bottom fifth of the population in fact have a negative income tax rate as they receive more back than they pay.\n",
            " \n",
            " \"It's not what the United States needs right now,\" York says of the proposals. \"We're seeing the president move in the direction of having a very uncompetitive tax code that would discourage entrepreneurship and innovation.\"\n",
            " \n",
            " The minimum tax rate on billionaires would also break with international norms on taxing capital gains, she says.\n",
            " \n",
            " Normally, when you own an asset such as a stock or a privately held business, you only pay taxes on the change in value of the asset when you sell it. As a result, people can have a lot of wealth on paper without paying taxes on it.\n",
            " \n",
            " The billionaire minimum tax would require the richest Americans to examine the change in the value of their assets every year on top of paying regular income tax.\n",
            " \n",
            " If a billionaire's tax rate falls below 25pc once both capital gains and income tax bills are considered, they would have to pay a top-up.\n",
            " \n",
            " \"It's a very difficult tax to administer and I don't think it has very much likelihood of actually becoming law,\" York says.\n",
            " \n",
            " Should it do so, the likely outcome would be more tax avoidance or even evasion. York points out that \"an entire industry\" has been developed to help avoid inheritance tax in the US.\n",
            " \n",
            " The new budget proposals also include plans to raise corporation tax by seven percentage points to 28pc, reversing one of Donald Trump's flagship policies.\n",
            " \n",
            " Such a rise would take the US rate higher than the UK's, even after\n",
            " \n",
            " Jeremy Hunt's controversial six-point increase to 25pc next month\n",
            " \n",
            " .\n",
            " \n",
            " Biden also wants to quadruple the tax on share buybacks to 4pc and double the rate US multinationals pay on their foreign earnings from 10.5pc to 21pc.\n",
            " \n",
            " In another attempt to unpick Trump's legacy, he plans to raise the top rate on high earners making at least $400,000 by 2.6 percentage points to 39.6pc.\n",
            " \n",
            " Government officials claim the plans would shave off $3 trillion of the deficit through increased revenues over the next ten years.\n",
            " \n",
            " However, Biden's attempts to impose higher taxes on top earners and big business have had limited success in the past two years even when Democrats had a majority in both chambers of Congress.\n",
            " \n",
            " He repeatedly pushed for a tax on billionaires' unrealised investment gains last year. Resistance from some Republicans and moderate Democrats meant he failed to get it over the line during final negotiations over the Inflation Reduction Act.\n",
            " \n",
            " While the new plans may act predominantly as a campaigning statement, debate over the proposals will provide a glimpse into America's future, according to Rohit Kumar.\n",
            " \n",
            " He was previously an aide to Republican Senate leader Mitchell McConnell and is now an executive with the tax consultancy PwC.\n",
            " \n",
            " \"I think the thing to pay attention to is what, if anything, in these tax increase proposals are congressional Democrats going out of their way to be critical of or disassociate themselves with,\" he says\n",
            " \n",
            " \"That would send a signal that even if Democrats won the table and have a very good 2024 election cycle, those proposals that are being criticized today by congressional Democrats might not be viable.\"\n",
            " \n",
            " While a billionaire tax may be unlikely for the moment, the looming political battle over the proposal means the idea is not yet off the table for good.\n",
            " \n",
            " TRENDING\n",
            " \n",
            " 1.\n",
            " \n",
            " FOCUS-'Everything Everywhere All at Once' studio A24 captures Oscar spotlight\n",
            " \n",
            " 2.\n",
            " \n",
            " Bitcoin falls below $20,000 amid Silvergate liquidation plans, Silicon Valley Bank crisis\n",
            " \n",
            " 3.\n",
            " \n",
            " Allbirds stock sinks on Q4 earnings miss\n",
            " \n",
            " 4.\n",
            " \n",
            " Stock market news today: Stocks sink amid jobs beat, bank jitters\n",
            " \n",
            " 5.\n",
            " \n",
            " UPDATE 1-Prigozhin: ammunition output is up but still a worry for Wagner and Russian army\n"
          ]
        }
      ]
    },
    {
      "cell_type": "markdown",
      "source": [
        "If we’ve gotten this far, let’s convert everything to [spaCy docs](https://spacy.io/api/doc) using textaCy’s built in generator"
      ],
      "metadata": {
        "id": "0HGTqQ1l08wS"
      }
    },
    {
      "cell_type": "code",
      "source": [
        "en = textacy.load_spacy_lang(\"en_core_web_sm\", disable=(\"parser\",))\n",
        "df[\"doc\"] = df[\"preproc_txt\"].apply(lambda x: textacy.make_spacy_doc(x, lang=en))"
      ],
      "metadata": {
        "id": "BUq3vg-FyZJl"
      },
      "execution_count": 30,
      "outputs": []
    },
    {
      "cell_type": "markdown",
      "source": [
        "Now we can work through the textaCy quick start."
      ],
      "metadata": {
        "id": "rDWEesfl5iPB"
      }
    },
    {
      "cell_type": "code",
      "source": [
        "doc = df[\"doc\"].sample(1, random_state=42).iloc[0]\n",
        "list(textacy.extract.ngrams(doc, 3, filter_stops=True, filter_punct=True, filter_nums=False))"
      ],
      "metadata": {
        "id": "52nRbx261hO-",
        "outputId": "ff9ae263-9fff-48ab-e9ab-3c656952cd80",
        "colab": {
          "base_uri": "https://localhost:8080/"
        }
      },
      "execution_count": 31,
      "outputs": [
        {
          "output_type": "execute_result",
          "data": {
            "text/plain": [
              "[Biden's war,\n",
              " war on wealth,\n",
              " means for America,\n",
              " America's richest,\n",
              " Read full article,\n",
              " 6 min read,\n",
              " President Joe Biden,\n",
              " Joe Biden speaks,\n",
              " 2024 proposed budget,\n",
              " Finishing Trades Institute,\n",
              " annual budget plan,\n",
              " investors and big,\n",
              " big business firmly,\n",
              " President's proposals,\n",
              " unveiled on Thursday,\n",
              " Musk and Jeff,\n",
              " Bezos would face,\n",
              " face a minimum,\n",
              " minimum 25pc tax,\n",
              " 25pc tax rate,\n",
              " league will face,\n",
              " face higher taxes,\n",
              " rate of income,\n",
              " earning over $,\n",
              " 400,000 a year,\n",
              " rate for corporations,\n",
              " set to rise,\n",
              " wants to quadruple,\n",
              " quadruple the levy,\n",
              " levy on share,\n",
              " message is clear,\n",
              " Democrats are banking,\n",
              " banking on taxing,\n",
              " taxing the wealthiest,\n",
              " wealthiest to reduce,\n",
              " $31 trillion,\n",
              " 31 trillion debt,\n",
              " trillion debt mountain,\n",
              " hope of pushing,\n",
              " hold a majority,\n",
              " House of Representatives,\n",
              " certain to vigorously,\n",
              " vigorously oppose Biden,\n",
              " Biden's plans,\n",
              " Republicans over getting,\n",
              " approval to raise,\n",
              " raise the limit,\n",
              " Government can borrow,\n",
              " trying to position,\n",
              " party for 2024,\n",
              " actually implementing policies,\n",
              " says Ben Koltun,\n",
              " Koltun of Beacon,\n",
              " Beacon Policy Advisors,\n",
              " Advisors in Washington,\n",
              " President's proposed,\n",
              " proposed billionaire tax,\n",
              " billionaire tax raid,\n",
              " tax raid comes,\n",
              " comes as public,\n",
              " opinion of Biden,\n",
              " Biden's handling,\n",
              " amid rising interest,\n",
              " rising interest rates,\n",
              " rates and high,\n",
              " rich may help,\n",
              " help to juice,\n",
              " juice those numbers,\n",
              " numbers by appealing,\n",
              " Democrat's base,\n",
              " taxes on investors,\n",
              " taxes on corporations,\n",
              " politically winning issue,\n",
              " implement the policy,\n",
              " number of billionaires,\n",
              " world at 735,\n",
              " followed by China,\n",
              " China at 539,\n",
              " 539 and India,\n",
              " India at 166,\n",
              " according to Forbes,\n",
              " world's richest,\n",
              " people are American,\n",
              " Amazon founder Jeff,\n",
              " founder Jeff Bezos,\n",
              " Gates and Warren,\n",
              " louder in recent,\n",
              " Congresswoman Alexandria Ocasio,\n",
              " wore a white,\n",
              " white dress emblazoned,\n",
              " Tax the Rich,\n",
              " York in 2021,\n",
              " winner in certain,\n",
              " experts are sceptical,\n",
              " light of day,\n",
              " proposals are seen,\n",
              " complex and observers,\n",
              " warn the policy,\n",
              " policy risks making,\n",
              " fellow in Economic,\n",
              " expects the President,\n",
              " President's budget,\n",
              " form in Congress,\n",
              " based think tank,\n",
              " plenty of tax,\n",
              " 1pc of Americans,\n",
              " Americans actually pay,\n",
              " actually pay 42.3pc,\n",
              " individual income taxes,\n",
              " pay only 2.3pc,\n",
              " include refundable tax,\n",
              " refundable tax credits,\n",
              " population in fact,\n",
              " negative income tax,\n",
              " income tax rate,\n",
              " United States needs,\n",
              " States needs right,\n",
              " seeing the president,\n",
              " direction of having,\n",
              " uncompetitive tax code,\n",
              " entrepreneurship and innovation,\n",
              " minimum tax rate,\n",
              " rate on billionaires,\n",
              " break with international,\n",
              " norms on taxing,\n",
              " taxing capital gains,\n",
              " privately held business,\n",
              " change in value,\n",
              " lot of wealth,\n",
              " wealth on paper,\n",
              " paper without paying,\n",
              " billionaire minimum tax,\n",
              " tax would require,\n",
              " require the richest,\n",
              " Americans to examine,\n",
              " examine the change,\n",
              " assets every year,\n",
              " paying regular income,\n",
              " regular income tax,\n",
              " billionaire's tax,\n",
              " tax rate falls,\n",
              " falls below 25pc,\n",
              " gains and income,\n",
              " income tax bills,\n",
              " bills are considered,\n",
              " tax to administer,\n",
              " likelihood of actually,\n",
              " actually becoming law,\n",
              " developed to help,\n",
              " help avoid inheritance,\n",
              " avoid inheritance tax,\n",
              " new budget proposals,\n",
              " proposals also include,\n",
              " plans to raise,\n",
              " raise corporation tax,\n",
              " tax by seven,\n",
              " seven percentage points,\n",
              " points to 28pc,\n",
              " Trump's flagship,\n",
              " Hunt's controversial,\n",
              " increase to 25pc,\n",
              " 25pc next month,\n",
              " Biden also wants,\n",
              " wants to quadruple,\n",
              " quadruple the tax,\n",
              " tax on share,\n",
              " buybacks to 4pc,\n",
              " 4pc and double,\n",
              " double the rate,\n",
              " rate US multinationals,\n",
              " earnings from 10.5pc,\n",
              " 10.5pc to 21pc,\n",
              " attempt to unpick,\n",
              " Trump's legacy,\n",
              " plans to raise,\n",
              " rate on high,\n",
              " high earners making,\n",
              " 400,000 by 2.6,\n",
              " 2.6 percentage points,\n",
              " points to 39.6pc,\n",
              " Government officials claim,\n",
              " claim the plans,\n",
              " plans would shave,\n",
              " shave off $,\n",
              " $3 trillion,\n",
              " deficit through increased,\n",
              " Biden's attempts,\n",
              " attempts to impose,\n",
              " impose higher taxes,\n",
              " earners and big,\n",
              " past two years,\n",
              " chambers of Congress,\n",
              " tax on billionaires,\n",
              " unrealised investment gains,\n",
              " gains last year,\n",
              " Republicans and moderate,\n",
              " moderate Democrats meant,\n",
              " meant he failed,\n",
              " line during final,\n",
              " Inflation Reduction Act,\n",
              " plans may act,\n",
              " proposals will provide,\n",
              " provide a glimpse,\n",
              " glimpse into America,\n",
              " America's future,\n",
              " according to Rohit,\n",
              " previously an aide,\n",
              " aide to Republican,\n",
              " Republican Senate leader,\n",
              " Senate leader Mitchell,\n",
              " leader Mitchell McConnell,\n",
              " tax consultancy PwC.,\n",
              " think the thing,\n",
              " thing to pay,\n",
              " tax increase proposals,\n",
              " proposals are congressional,\n",
              " congressional Democrats going,\n",
              " send a signal,\n",
              " won the table,\n",
              " good 2024 election,\n",
              " 2024 election cycle,\n",
              " today by congressional,\n",
              " looming political battle,\n",
              " means the idea,\n",
              " table for good,\n",
              " studio A24 captures,\n",
              " A24 captures Oscar,\n",
              " captures Oscar spotlight,\n",
              " falls below $,\n",
              " $20,000 amid,\n",
              " 20,000 amid Silvergate,\n",
              " amid Silvergate liquidation,\n",
              " Silvergate liquidation plans,\n",
              " Silicon Valley Bank,\n",
              " Valley Bank crisis,\n",
              " Allbirds stock sinks,\n",
              " sinks on Q4,\n",
              " Q4 earnings miss,\n",
              " Stock market news,\n",
              " market news today,\n",
              " Stocks sink amid,\n",
              " sink amid jobs,\n",
              " amid jobs beat,\n",
              " worry for Wagner,\n",
              " Wagner and Russian]"
            ]
          },
          "metadata": {},
          "execution_count": 31
        }
      ]
    },
    {
      "cell_type": "code",
      "source": [
        "from textacy import extract, text_stats\n",
        "textacy.set_doc_extensions(\"extract\")\n",
        "textacy.set_doc_extensions(\"text_stats.readability\")\n",
        "print(doc._.n_words, doc._.n_syllables, doc._.n_chars)\n",
        "# print(ts.entropy)\n",
        "# print(ts.flesch_kincaid_grade_level, ts.flesch_reading_ease)\n",
        "# print(ts.lix)"
      ],
      "metadata": {
        "id": "cedxjp4h5Wem",
        "outputId": "8b888ee0-cf3b-430c-a173-e2cc8186ac5d",
        "colab": {
          "base_uri": "https://localhost:8080/",
          "height": 676
        }
      },
      "execution_count": 40,
      "outputs": [
        {
          "output_type": "stream",
          "name": "stderr",
          "text": [
            "WARNING:textacy.spacier.extensions:extract_acronyms `Doc` extension already exists; overwriting...\n",
            "WARNING:textacy.spacier.extensions:extract_acronyms_and_definitions `Doc` extension already exists; overwriting...\n",
            "WARNING:textacy.spacier.extensions:to_bag_of_words `Doc` extension already exists; overwriting...\n",
            "WARNING:textacy.spacier.extensions:to_bag_of_terms `Doc` extension already exists; overwriting...\n",
            "WARNING:textacy.spacier.extensions:extract_words `Doc` extension already exists; overwriting...\n",
            "WARNING:textacy.spacier.extensions:extract_ngrams `Doc` extension already exists; overwriting...\n",
            "WARNING:textacy.spacier.extensions:extract_entities `Doc` extension already exists; overwriting...\n",
            "WARNING:textacy.spacier.extensions:extract_noun_chunks `Doc` extension already exists; overwriting...\n",
            "WARNING:textacy.spacier.extensions:extract_terms `Doc` extension already exists; overwriting...\n",
            "WARNING:textacy.spacier.extensions:extract_keyword_in_context `Doc` extension already exists; overwriting...\n",
            "WARNING:textacy.spacier.extensions:extract_token_matches `Doc` extension already exists; overwriting...\n",
            "WARNING:textacy.spacier.extensions:extract_regex_matches `Doc` extension already exists; overwriting...\n",
            "WARNING:textacy.spacier.extensions:extract_subject_verb_object_triples `Doc` extension already exists; overwriting...\n",
            "WARNING:textacy.spacier.extensions:extract_semistructured_statements `Doc` extension already exists; overwriting...\n",
            "WARNING:textacy.spacier.extensions:extract_direct_quotations `Doc` extension already exists; overwriting...\n",
            "WARNING:textacy.spacier.extensions:extract_keyterms `Doc` extension already exists; overwriting...\n"
          ]
        },
        {
          "output_type": "error",
          "ename": "RegistryError",
          "evalue": "ignored",
          "traceback": [
            "\u001b[0;31m---------------------------------------------------------------------------\u001b[0m",
            "\u001b[0;31mRegistryError\u001b[0m                             Traceback (most recent call last)",
            "\u001b[0;32m<ipython-input-40-aca3d5991f99>\u001b[0m in \u001b[0;36m<module>\u001b[0;34m\u001b[0m\n\u001b[1;32m      1\u001b[0m \u001b[0;32mfrom\u001b[0m \u001b[0mtextacy\u001b[0m \u001b[0;32mimport\u001b[0m \u001b[0mextract\u001b[0m\u001b[0;34m,\u001b[0m \u001b[0mtext_stats\u001b[0m\u001b[0;34m\u001b[0m\u001b[0;34m\u001b[0m\u001b[0m\n\u001b[1;32m      2\u001b[0m \u001b[0mtextacy\u001b[0m\u001b[0;34m.\u001b[0m\u001b[0mset_doc_extensions\u001b[0m\u001b[0;34m(\u001b[0m\u001b[0;34m\"extract\"\u001b[0m\u001b[0;34m)\u001b[0m\u001b[0;34m\u001b[0m\u001b[0;34m\u001b[0m\u001b[0m\n\u001b[0;32m----> 3\u001b[0;31m \u001b[0mtextacy\u001b[0m\u001b[0;34m.\u001b[0m\u001b[0mset_doc_extensions\u001b[0m\u001b[0;34m(\u001b[0m\u001b[0;34m\"text_stats.readability\"\u001b[0m\u001b[0;34m)\u001b[0m\u001b[0;34m\u001b[0m\u001b[0;34m\u001b[0m\u001b[0m\n\u001b[0m\u001b[1;32m      4\u001b[0m \u001b[0mprint\u001b[0m\u001b[0;34m(\u001b[0m\u001b[0mdoc\u001b[0m\u001b[0;34m.\u001b[0m\u001b[0m_\u001b[0m\u001b[0;34m.\u001b[0m\u001b[0mn_words\u001b[0m\u001b[0;34m,\u001b[0m \u001b[0mdoc\u001b[0m\u001b[0;34m.\u001b[0m\u001b[0m_\u001b[0m\u001b[0;34m.\u001b[0m\u001b[0mn_syllables\u001b[0m\u001b[0;34m,\u001b[0m \u001b[0mdoc\u001b[0m\u001b[0;34m.\u001b[0m\u001b[0m_\u001b[0m\u001b[0;34m.\u001b[0m\u001b[0mn_chars\u001b[0m\u001b[0;34m)\u001b[0m\u001b[0;34m\u001b[0m\u001b[0;34m\u001b[0m\u001b[0m\n\u001b[1;32m      5\u001b[0m \u001b[0;31m# print(ts.entropy)\u001b[0m\u001b[0;34m\u001b[0m\u001b[0;34m\u001b[0m\u001b[0m\n",
            "\u001b[0;32m/usr/local/lib/python3.9/dist-packages/textacy/spacier/extensions.py\u001b[0m in \u001b[0;36mset_doc_extensions\u001b[0;34m(name, force)\u001b[0m\n",
            "\u001b[0;32m/usr/local/lib/python3.9/dist-packages/textacy/spacier/extensions.py\u001b[0m in \u001b[0;36mget_doc_extensions\u001b[0;34m(name)\u001b[0m\n",
            "\u001b[0;32m/usr/local/lib/python3.9/dist-packages/catalogue/__init__.py\u001b[0m in \u001b[0;36mget\u001b[0;34m(self, name)\u001b[0m\n\u001b[1;32m    103\u001b[0m             \u001b[0mcurrent_namespace\u001b[0m \u001b[0;34m=\u001b[0m \u001b[0;34m\" -> \"\u001b[0m\u001b[0;34m.\u001b[0m\u001b[0mjoin\u001b[0m\u001b[0;34m(\u001b[0m\u001b[0mself\u001b[0m\u001b[0;34m.\u001b[0m\u001b[0mnamespace\u001b[0m\u001b[0;34m)\u001b[0m\u001b[0;34m\u001b[0m\u001b[0;34m\u001b[0m\u001b[0m\n\u001b[1;32m    104\u001b[0m             \u001b[0mavailable\u001b[0m \u001b[0;34m=\u001b[0m \u001b[0;34m\", \"\u001b[0m\u001b[0;34m.\u001b[0m\u001b[0mjoin\u001b[0m\u001b[0;34m(\u001b[0m\u001b[0msorted\u001b[0m\u001b[0;34m(\u001b[0m\u001b[0mself\u001b[0m\u001b[0;34m.\u001b[0m\u001b[0mget_all\u001b[0m\u001b[0;34m(\u001b[0m\u001b[0;34m)\u001b[0m\u001b[0;34m.\u001b[0m\u001b[0mkeys\u001b[0m\u001b[0;34m(\u001b[0m\u001b[0;34m)\u001b[0m\u001b[0;34m)\u001b[0m\u001b[0;34m)\u001b[0m \u001b[0;32mor\u001b[0m \u001b[0;34m\"none\"\u001b[0m\u001b[0;34m\u001b[0m\u001b[0;34m\u001b[0m\u001b[0m\n\u001b[0;32m--> 105\u001b[0;31m             raise RegistryError(\n\u001b[0m\u001b[1;32m    106\u001b[0m                 \u001b[0;34mf\"Cant't find '{name}' in registry {current_namespace}. Available names: {available}\"\u001b[0m\u001b[0;34m\u001b[0m\u001b[0;34m\u001b[0m\u001b[0m\n\u001b[1;32m    107\u001b[0m             )\n",
            "\u001b[0;31mRegistryError\u001b[0m: Cant't find 'text_stats.readability' in registry textacy -> doc_extensions. Available names: extract, extract.acros, extract.bags, extract.basics, extract.keyterms, extract.kwic, extract.matches, extract.triples, spacier"
          ]
        }
      ]
    },
    {
      "cell_type": "code",
      "source": [],
      "metadata": {
        "id": "xSyeTBY_54vD"
      },
      "execution_count": null,
      "outputs": []
    }
  ]
}