{
  "nbformat": 4,
  "nbformat_minor": 0,
  "metadata": {
    "colab": {
      "provenance": [],
      "include_colab_link": true
    },
    "kernelspec": {
      "name": "python3",
      "language": "python",
      "display_name": "Python 3"
    },
    "kernel_info": {
      "name": "python3"
    },
    "language_info": {
      "name": "python",
      "version": "3.6.8",
      "mimetype": "text/x-python",
      "codemirror_mode": {
        "name": "ipython",
        "version": 3
      },
      "pygments_lexer": "ipython3",
      "nbconvert_exporter": "python",
      "file_extension": ".py"
    },
    "nteract": {
      "version": "0.15.0"
    }
  },
  "cells": [
    {
      "cell_type": "markdown",
      "metadata": {
        "id": "view-in-github",
        "colab_type": "text"
      },
      "source": [
        "<a href=\"https://colab.research.google.com/github/columbia-data-club/meetings/blob/main/2023/november_06_intro_to_pandas.ipynb\" target=\"_parent\"><img src=\"https://colab.research.google.com/assets/colab-badge.svg\" alt=\"Open In Colab\"/></a>"
      ]
    },
    {
      "cell_type": "markdown",
      "source": [
        "![A blue background with the Python logo and the words Data Club on it](https://raw.githubusercontent.com/columbia-data-club/meetings/main/assets/images/data-club-python.png)\n",
        "\n",
        "## Introduction to Pandas\n",
        "\n",
        "Nov. 6, 2023\n",
        "\n",
        "by [Roger Creel](https://rogercreel.com) for the [Columbia Data Club](https://github.com/columbia-data-club/), modified from notebooks by Isha Shah and others in the Data club past\n",
        "\n",
        "This notebook underpins a ~60-75 minute presentation that introduces Pandas to complete beginners to Python and to programming.\n"
      ],
      "metadata": {
        "id": "pabZUd_Cj5xq"
      }
    },
    {
      "cell_type": "markdown",
      "metadata": {
        "id": "swftxqBHPEC_"
      },
      "source": [
        "# **Intro to Pandas**\n",
        "*Presented by Columbia University Libraries*\n",
        "***\n",
        "\n",
        "Welcome to the Columbia University Library's Intro to Pandas course! These are our objectives:\n",
        "\n",
        "* Understanding what it *means* to use data\n",
        "* How to think critically and work responsibly with imperfect data\n",
        "* Fundamentals of data wrangling using Pandas\n",
        "* Awareness of Python's statistical and visualization capabilities\n",
        "*   Awareness of available datasets and where to find them\n",
        "* An insatiable desire to learn more about using data!\n",
        "\n",
        "\n",
        "\n",
        "\n"
      ]
    },
    {
      "cell_type": "markdown",
      "metadata": {
        "id": "ID_fhtDzhgGU"
      },
      "source": [
        "## **Principles of data analysis**\n",
        "***\n",
        "No matter the context in which you're using data, there will **always** be a few principles you must follow. At the end of the day, you *are* doing science - you are using empirical observations to test hypotheses (and occasionally, to predict the future based on these hypotheses). Therefore, it is important to follow the same principles that guide scientific inquiry. These are in use far beyond academia. Regardless of where you work, whether a tech firm, bank, non-profit, or research institution, your analytical work **must** be:\n",
        "1. Well-documented\n",
        "2. Conscientious in reducing bias (the same way we randomize trials and only collect the data we need to answer a specific question, we have to make sure our data are clean, examined for potential bias, and are suited to the question we want to answer)\n",
        "2. Reproducible (commenting and code sharing are crucial)\n",
        "3. Responsibly and clearly communicated (you've done all the work, and now it's important to get it out in the world! Communicating the results of data analyses can be very difficult, especially to folks who don't have a background in it. It is your responsibility to do the best you can in stating what your research can and can't answer, and to make sure that any communication about the data comes from the data - don't make unfounded leaps, or allow others to)\n",
        "\n",
        "Throughout this guide, you will see a subtitle for each section that shows you the *tool* we are using to perform each part of data analysis. This is to emphasize the greater importance of the *general concepts and principles* of data analysis that are constant across any language or context, rather than the tools used."
      ]
    },
    {
      "cell_type": "markdown",
      "metadata": {
        "id": "MB2Yn8LqTheu"
      },
      "source": [
        "## **Getting started**\n",
        "### *(with Google Colab)*\n",
        "\n",
        "Topics to be covered:\n",
        "1. What is Python?\n",
        "2. Why does it matter?\n",
        "3. How can you use Python? (IDEs, notebooks, terminal, Colab)\n",
        "4. What are packages and why do we need them?\n",
        "5. Basic familiarity with CoLab (shareability, power)\n",
        "6. Pitfalls of using CoLab\n",
        "7. Why pandas? Pandas is an open-source library that provides high-performance, easy-to-use data structures and data analysis tools for the Python programming language.\n"
      ]
    },
    {
      "cell_type": "markdown",
      "metadata": {
        "id": "oLjqf2bkU-YM"
      },
      "source": [
        "## **Data import and quality checking**\n",
        "### *(with Pandas)*\n",
        "***\n",
        "Topics to be covered, all demoed using NYC taxi dataset:\n",
        "\n",
        "1. Importing csv, txt, excel files\n",
        "2. Looking at (an extract) of the dataset (.head), assumptions about the data, and the data type for different fields + characteristics of each type\n",
        "3. Data quality checking\n",
        "4. The most common ways in which data are imperfect (missing data, duplication, truncation, misleading names)\n",
        "5. Larger questions you should ask about your data (how was this collected? Is this helpful in answering the question I already have, or should I come up with new questions I can ask this particular data with confidence?)\n"
      ]
    },
    {
      "cell_type": "code",
      "metadata": {
        "id": "y9ry0bDNm6MP"
      },
      "source": [
        "# Import packages\n",
        "import pandas as pd\n",
        "import matplotlib.pyplot as plt\n",
        "import statsmodels as sm\n",
        "import requests\n",
        "import pyarrow\n",
        "\n"
      ],
      "execution_count": null,
      "outputs": []
    },
    {
      "cell_type": "code",
      "metadata": {
        "id": "DxsrTWusy_HO"
      },
      "source": [
        "# Run following so that we can see all outputs, not just last\n",
        "from IPython.core.interactiveshell import InteractiveShell\n",
        "InteractiveShell.ast_node_interactivity = \"all\""
      ],
      "execution_count": null,
      "outputs": []
    },
    {
      "cell_type": "markdown",
      "source": [
        "We'll first download a month of data from the New York Taxi & Limousine Commission (TLC) [Trip Record Data website](https://www.nyc.gov/site/tlc/about/tlc-trip-record-data.page)."
      ],
      "metadata": {
        "id": "rtE42ThFqI0Y"
      }
    },
    {
      "cell_type": "code",
      "source": [
        "# get the URL of one month's data from New York Suway\n",
        "url = \"https://d37ci6vzurychx.cloudfront.net/trip-data/yellow_tripdata_2021-01.parquet\"\n",
        "\n",
        "r = requests.get(url) # create HTTP response object\n",
        "with open(\"yellow_tripdata_2021-01.parquet\",'wb') as f:\n",
        "\n",
        "      f.write(r.content)\n",
        "\n",
        "# open parquet file\n",
        "df = pd.read_parquet('yellow_tripdata_2021-01.parquet')\n",
        "df.head()"
      ],
      "metadata": {
        "id": "GrqP__YEnrGP"
      },
      "execution_count": null,
      "outputs": []
    },
    {
      "cell_type": "markdown",
      "source": [
        "We've saved the file locally in the format TLC gave it to us: an Apache `parquet` file.  \n",
        "\n",
        "This is an efficient file format, but you'll encounter the `csv` file type more often -- `csv` stands for **C**omma **S**eparated **V**alue -- so let's learn how to save the dataframe we just loaded as a `csv` file."
      ],
      "metadata": {
        "id": "pJq_-aqpqfIF"
      }
    },
    {
      "cell_type": "code",
      "source": [
        "df.to_csv('yellow_tripdata_2021-01.csv', index=False)"
      ],
      "metadata": {
        "id": "ew0ADs_DoJLh"
      },
      "execution_count": null,
      "outputs": []
    },
    {
      "cell_type": "markdown",
      "source": [
        "Now let's load the file as you typically might load a file in pandas, with the `read_csv` command:"
      ],
      "metadata": {
        "id": "KYG5be17tKM9"
      }
    },
    {
      "cell_type": "code",
      "source": [
        "taxi = pd.read_csv('yellow_tripdata_2021-01.csv',\n",
        "                 index_col=None,\n",
        "                 parse_dates=[\n",
        "                     \"tpep_pickup_datetime\",\t\"tpep_dropoff_datetime\"\n",
        "                 ])\n",
        "\n",
        "# Look at the 'head'of the dataframe, i.e. the top 5 rows\n",
        "taxi.head()"
      ],
      "metadata": {
        "id": "J8_1AX0Pr-OV"
      },
      "execution_count": null,
      "outputs": []
    },
    {
      "cell_type": "markdown",
      "source": [
        "These columns have long, hard-to-read names.  We'll want to make them shorter and drop the less useful ones."
      ],
      "metadata": {
        "id": "gRCPrQ8ztk_s"
      }
    },
    {
      "cell_type": "markdown",
      "source": [
        "## **Refresher on Python data structures**"
      ],
      "metadata": {
        "id": "9aN18WFDb5v-"
      }
    },
    {
      "cell_type": "markdown",
      "source": [
        "But before we do that, let's review a few key data structures in python and pandas:"
      ],
      "metadata": {
        "id": "g6Ei3xEpzT2p"
      }
    },
    {
      "cell_type": "code",
      "source": [
        "# Lists\n",
        "listex = [1, 2, 3, 4, \"python\", \"makes\", \"rory\", \"roar\"]\n",
        "listex[1]\n",
        "listex[0:5]\n",
        "\n",
        "# Iterable"
      ],
      "metadata": {
        "id": "mheBjzqpzYY-"
      },
      "execution_count": null,
      "outputs": []
    },
    {
      "cell_type": "code",
      "source": [
        "# Dictionaries\n",
        "dictex = {\"rory\" : \"the lion\", \"columbia\": \"the university\", \"founded\": 1754}\n",
        "dictex[\"founded\"]\n",
        "dictex[\"rory\"]\n",
        "\n",
        "# Iterable"
      ],
      "metadata": {
        "id": "uDCBw_l3zfXi"
      },
      "execution_count": null,
      "outputs": []
    },
    {
      "cell_type": "code",
      "source": [
        "# Pandas dataframe\n",
        "type(taxi)\n",
        "\n",
        "# Think excel"
      ],
      "metadata": {
        "id": "RNRxY1zUzmvh"
      },
      "execution_count": null,
      "outputs": []
    },
    {
      "cell_type": "markdown",
      "source": [
        "Now let's clean up our data.  "
      ],
      "metadata": {
        "id": "cJULoTlN0fEV"
      }
    },
    {
      "cell_type": "code",
      "source": [
        "taxi.columns"
      ],
      "metadata": {
        "id": "P_0tCqq2t9Q5"
      },
      "execution_count": null,
      "outputs": []
    },
    {
      "cell_type": "markdown",
      "source": [
        "We don't need all the columns, and the columns we do need have cumbersome names.  Let's fix that."
      ],
      "metadata": {
        "id": "KnETcGBXcDCk"
      }
    },
    {
      "cell_type": "code",
      "source": [
        "columns = {\n",
        "            # 'VendorID',\n",
        "          'tpep_pickup_datetime':'pickup',\n",
        "          'tpep_dropoff_datetime':'dropoff',\n",
        "            'passenger_count':'passengers',\n",
        "          'trip_distance':'distance',\n",
        "          # 'RatecodeID',\n",
        "          # 'store_and_fwd_flag',\n",
        "          # 'PULocationID',\n",
        "          #  'DOLocationID',\n",
        "          'payment_type':'payment_type',\n",
        "          'fare_amount':'fare',\n",
        "          'extra':'extra',\n",
        "          'mta_tax':'tax',\n",
        "          'tip_amount':'tip',\n",
        "          'tolls_amount':'tolls',\n",
        "          'improvement_surcharge':'improvement_surcharge',\n",
        "          'total_amount':'total_fare',\n",
        "          'congestion_surcharge':'congestion_tax',\n",
        "          'airport_fee':'airport_fee'\n",
        "          }\n",
        "\n",
        "# choose only columns that are keys in dictionary\n",
        "taxi = taxi[list(columns.keys())]\n",
        "\n",
        "# rename columns by values of dictionary\n",
        "taxi = taxi.rename(columns=columns)\n",
        "\n",
        "taxi.head()"
      ],
      "metadata": {
        "id": "0ELXh_OBuA-B"
      },
      "execution_count": null,
      "outputs": []
    },
    {
      "cell_type": "code",
      "source": [
        "# Pandas series\n",
        "type(taxi[\"pickup\"])\n",
        "\n",
        "# Column"
      ],
      "metadata": {
        "id": "5WG3lTNE0yJO"
      },
      "execution_count": null,
      "outputs": []
    },
    {
      "cell_type": "code",
      "metadata": {
        "id": "_zI4o4KapiSn"
      },
      "source": [
        "# What are the data types of our fields?\n",
        "taxi.dtypes"
      ],
      "execution_count": null,
      "outputs": []
    },
    {
      "cell_type": "code",
      "metadata": {
        "id": "_4uCYWd9pxrR"
      },
      "source": [
        "# Descriptions\n",
        "taxi.describe(include = \"all\", datetime_is_numeric=True)"
      ],
      "execution_count": null,
      "outputs": []
    },
    {
      "cell_type": "markdown",
      "metadata": {
        "id": "AGCR74meuBx6"
      },
      "source": [
        "**What are some observations you can make from the table above?**\n",
        "\n",
        "Let's go column by column:\n",
        "\n",
        "*Pick-up and drop-off dates and times:*\n",
        "* The earliest date in our dataset is 12/31/2008\n",
        "<!-- * The maximum date looks unrealistic (2081?) -->\n",
        "* There are nearly 1,370,000 rows in our dataset, but only about 939,000 unique pickup values and only 936,000 dropoff values. Why? Why would there be fewer unique dropoff & pickup date values than total values, and fewer dropoffs than pickups?\n",
        "\n",
        "*Moving onto passengers and distance:*\n",
        "* What does having zero passengers mean?\n",
        "* What does having zero distance mean?\n",
        "* Are these distance values intuitive?\n",
        "\n",
        "*Fares and payment:*\n",
        "* Why would there be a negative number for a fare or tip?\n",
        "* What does the column \"payment type\" mean here, and why is it numeric?\n",
        "* There was a $7,600 cab ride? Was that a mistake?\n",
        "\n",
        "Luckily, we can take a deeper dive into questions!\n",
        "\n",
        "Let's start with pick-up and drop-off times:\n",
        "\n",
        "\n",
        "\n"
      ]
    },
    {
      "cell_type": "code",
      "metadata": {
        "id": "78kTBEk9UxXR"
      },
      "source": [
        "# Start with a simple histogram\n",
        "taxi[\"pickup_day\"] = taxi[\"pickup\"].dt.day\n",
        "\n",
        "# First with months\n",
        "taxi.groupby(\"pickup_day\")[\"pickup\"].count().plot(kind=\"bar\")"
      ],
      "execution_count": null,
      "outputs": []
    },
    {
      "cell_type": "code",
      "source": [
        "# Then with dates\n",
        "# taxi.groupby(\"pickup\")[\"pickup\"].count().plot(kind = \"bar\")"
      ],
      "metadata": {
        "id": "hG4YVP4bc5_h"
      },
      "execution_count": null,
      "outputs": []
    },
    {
      "cell_type": "markdown",
      "metadata": {
        "id": "hmx5nPccVe2i"
      },
      "source": [
        "You'll notice that the above takes *forever*. It actually causes our kernel to fail.  Why is this?\n",
        "\n",
        "Because we're working on 1,370,000 rows of data! And this particular visualization is trying to account for every single point, which in this case is every single pickup date and time. This is one of the first hurdles you will likely experience when working with large and interesting datasets. So, what can you do to analyze the data more quickly?\n",
        "\n",
        "* Subset the data\n",
        "* Select a random sample\n",
        "* Use only the information needed\n",
        "\n",
        "But almost all of these require working with the data in a form other than the one it's in already. This brings us to:"
      ]
    },
    {
      "cell_type": "markdown",
      "metadata": {
        "id": "8DmgVLScgceb"
      },
      "source": [
        "## **Data wrangling**\n",
        "### *(using Pandas)*\n",
        "***\n",
        "Topics to be covered:\n",
        "1. Math and string operations between columns\n",
        "2. Summarizing\n",
        "aside: + you can and should define your own functions (we said that code should be reproducible - if others are using your code or looking at it, functions are a good way to keep things in order)\n",
        "3. Reshaping\n",
        "4. Merging (will need to find another dataset to merge with)\n",
        "\n"
      ]
    },
    {
      "cell_type": "code",
      "metadata": {
        "id": "Mv6D3DGzYKGh"
      },
      "source": [
        "# Let's go ahead and first try to look at just the year of the pickup to see\n",
        "# what the deal with those 2008 dates is:\n",
        "\n",
        "taxi[\"pickup_year\"] = taxi[\"pickup\"].dt.year\n",
        "taxi.head()\n",
        "taxi[\"pickup_year\"].plot(kind = \"hist\")"
      ],
      "execution_count": null,
      "outputs": []
    },
    {
      "cell_type": "markdown",
      "metadata": {
        "id": "cTN0iXKob5OX"
      },
      "source": [
        "Wait a minute, it looks like the minimum year is 2008, but that all of the trips are in 2020. What's going on here?"
      ]
    },
    {
      "cell_type": "code",
      "metadata": {
        "id": "V92OyM3dcA8x"
      },
      "source": [
        "taxi[taxi[\"pickup_year\"] < 2020]"
      ],
      "execution_count": null,
      "outputs": []
    },
    {
      "cell_type": "markdown",
      "metadata": {
        "id": "VImP6fFxcOvq"
      },
      "source": [
        "Okay...there are just a few of these. However, this is not something we could have figured out by the histogram, and we don't know how many such rows there are. How can we get a sense of how many entries are from before 2018?\n",
        "* Make a plot (tried above)\n",
        "* List the rows (tried above)\n",
        "* Count!"
      ]
    },
    {
      "cell_type": "code",
      "metadata": {
        "id": "EM-cRZo7cr_5"
      },
      "source": [
        "# Count rows where year < 2018\n",
        "taxi[taxi[\"pickup_year\"] < 2020].count()"
      ],
      "execution_count": null,
      "outputs": []
    },
    {
      "cell_type": "markdown",
      "metadata": {
        "id": "TD-RAhpdc6RI"
      },
      "source": [
        "Huh, there are 4 such rows. How do we proceed?\n",
        "* We can drop them\n",
        "* We can investigate them further to see if there's something in common with them\n",
        "* We can change the year and assume 2020\n",
        "\n",
        "Let's investigate!"
      ]
    },
    {
      "cell_type": "code",
      "metadata": {
        "id": "Qv0FYHzXoC6a"
      },
      "source": [
        "# What are the summary stats of these rows and do they differ from the other data?\n",
        "taxi[\"pickup_year\"].unique()\n",
        "\n",
        "\n",
        "taxi[taxi[\"pickup_year\"] < 2020][\"pickup_year\"].plot(kind = \"hist\")"
      ],
      "execution_count": null,
      "outputs": []
    },
    {
      "cell_type": "code",
      "metadata": {
        "id": "LY5neMuGoySX"
      },
      "source": [
        "# Describe these early-year rows\n",
        "taxi[taxi[\"pickup_year\"] < 2020].describe(include = \"all\", datetime_is_numeric=True)"
      ],
      "execution_count": null,
      "outputs": []
    },
    {
      "cell_type": "code",
      "metadata": {
        "id": "HgCRUCVTo4Wo"
      },
      "source": [
        "# Compare with rows from 2018\n",
        "taxi[taxi[\"pickup_year\"] >= 2020].describe(include = \"all\", datetime_is_numeric=True)"
      ],
      "execution_count": null,
      "outputs": []
    },
    {
      "cell_type": "code",
      "metadata": {
        "id": "SL-LJ_6jpHTF"
      },
      "source": [
        "# From these basic summarizations (not testing for significance),\n",
        "# it looks like these rows aren't too different from the post-2018 rows -\n",
        "# so it's probably safe to go ahead and drop them.\n",
        "\n",
        "taxi = taxi[taxi[\"pickup_year\"] >= 2020]"
      ],
      "execution_count": null,
      "outputs": []
    },
    {
      "cell_type": "markdown",
      "metadata": {
        "id": "5IcLnR8-qQ3J"
      },
      "source": [
        "Now that we've got the general hang of cleaning data, let's go ahead and clean up the anomalies in passenger number, distance, fare, and payment."
      ]
    },
    {
      "cell_type": "code",
      "metadata": {
        "id": "-9cV-vobqNox"
      },
      "source": [
        "# Cleaning for passengers, distance, fare, and payment\n",
        "taxi.describe()\n",
        "\n",
        "# Cleaning passengers\n",
        "taxi.groupby(\"passengers\")[\"passengers\"].count()\n",
        "\n",
        "# There are a few rides with zero passengers, which seems suspect. Let's drop.\n",
        "# (We could have also investigated what the fare is for these rides:)\n",
        "taxi[taxi[\"passengers\"] == 0][\"fare\"].plot(kind = \"hist\")\n",
        "# This shows that many of these do have some nonzero fare - so they're\n",
        "# definitely suspect, and also irrelevant to the questions we want to ask.\n",
        "taxi = taxi[taxi[\"passengers\"] > 0]\n",
        "taxi.describe()"
      ],
      "execution_count": null,
      "outputs": []
    },
    {
      "cell_type": "code",
      "metadata": {
        "id": "a3jgzPCojJld"
      },
      "source": [
        "# Cleaning for distance, fare, payment\n",
        "taxi.describe()\n",
        "\n",
        "# Remove trips with 0 distance, after checking how many there are\n",
        "# Here, it might be good to have a dummy variable rather than plotting a\n",
        "# histogram or table with all values\n",
        "taxi[\"distance\"].groupby([taxi[\"distance\"] == 0]).count()\n",
        "\n",
        "# Looks like these represent just 18.2k values, let's drop\n",
        "# In another world we could try to interpolate these values using fare,\n",
        "# but these are not relevant to our research question."
      ],
      "execution_count": null,
      "outputs": []
    },
    {
      "cell_type": "code",
      "source": [
        "\n",
        "# Also remove the one trip that more than 1000 miles, which seems unrealistic\n",
        "taxi[\"distance\"].groupby([taxi[\"distance\"] > 1000]).count()\n"
      ],
      "metadata": {
        "id": "MLycsI6zM7OB"
      },
      "execution_count": null,
      "outputs": []
    },
    {
      "cell_type": "code",
      "metadata": {
        "id": "p-Y8feljkwXZ"
      },
      "source": [
        "taxi = taxi[(taxi[\"distance\"] > 0) & (taxi[\"distance\"] < 1000)]\n",
        "\n",
        "taxi[\"distance\"].describe()"
      ],
      "execution_count": null,
      "outputs": []
    },
    {
      "cell_type": "code",
      "metadata": {
        "id": "jaCIiNsnk6hI"
      },
      "source": [
        "# Looks like there is in fact at least one trip that had a distance traveled of\n",
        "# 0.01. Is this reasonable? Should we have used a higher cutoff than 0?\n",
        "# Let's calculate in feet!\n",
        "print(f\"0.01 mile = {0.01 * 5280} feet\") # number of feet in a mile\n",
        "\n",
        "# Ok, does it make sense to have a trip that was only 52 feet long?\n",
        "# One NYC block (north-south) is 264 feet. How many miles is this?\n",
        "\n",
        "print(f\"One block = {264 / 5280} miles \\n\")\n",
        "# 0.05 miles! Let's make this the new cutoff.\n",
        "taxi = taxi[taxi[\"distance\"] > 0.05]\n",
        "taxi[\"distance\"].describe()"
      ],
      "execution_count": null,
      "outputs": []
    },
    {
      "cell_type": "code",
      "metadata": {
        "id": "u8LpTmovlwvt"
      },
      "source": [
        "# Cleaning the fare and tip fields\n",
        "# Multiple choice - which one of these WILL work?\n",
        "# A - taxi[\"fare, tip\"].describe()\n",
        "# B - taxi[\"fare\", \"tip\"].describe()\n",
        "# C - taxi[[\"fare\", \"tip\"]].describe()\n",
        "\n"
      ],
      "execution_count": null,
      "outputs": []
    },
    {
      "cell_type": "code",
      "metadata": {
        "id": "eCxTv6k9l8Cm"
      },
      "source": [],
      "execution_count": null,
      "outputs": []
    },
    {
      "cell_type": "code",
      "metadata": {
        "id": "hUHBLnr2mXxl"
      },
      "source": [
        "# Drop negative fares since these look like refunds\n",
        "# In a transactions database, why would this not be a good idea?\n",
        "# Should the threshold be higher? What is the base fare for an NYC taxi?\n",
        "\n",
        "taxi = taxi[taxi[\"fare\"] > 2.5]"
      ],
      "execution_count": null,
      "outputs": []
    },
    {
      "cell_type": "code",
      "metadata": {
        "id": "mBx4hQP6muvh"
      },
      "source": [
        "taxi[\"fare\"].plot(kind = \"hist\")"
      ],
      "execution_count": null,
      "outputs": []
    },
    {
      "cell_type": "code",
      "metadata": {
        "id": "rtFLbNANm2Lk"
      },
      "source": [
        "# Dropping far-off fares because they do not seem to be representative\n",
        "taxi = taxi[taxi[\"fare\"] < 200]\n",
        "taxi[\"fare\"].plot(kind = \"hist\")"
      ],
      "execution_count": null,
      "outputs": []
    },
    {
      "cell_type": "code",
      "metadata": {
        "id": "idngofUznGHB"
      },
      "source": [
        "taxi[\"tip\"].describe()"
      ],
      "execution_count": null,
      "outputs": []
    },
    {
      "cell_type": "code",
      "metadata": {
        "id": "gp5RD8CDnKHn"
      },
      "source": [
        "# Tip seems to be okay - no negative values!"
      ],
      "execution_count": null,
      "outputs": []
    },
    {
      "cell_type": "markdown",
      "metadata": {
        "id": "HaqyKzwNqa95"
      },
      "source": [
        "Now for the fun part: let's ask questions!\n",
        "\n",
        "- Let's investigate the potential effects of increasing the number of people in a taxi. Does it affect how likely and how much someone is to tip? Does it relate to how far they travel?\n",
        "- I'm nosy, so I also want to know - how much do people generally tip?\n",
        "- Are there differences in volume of passengers during different times of day?\n",
        "- What about payment type - who is still using cash, and at what time of day? Are they groups?\n"
      ]
    },
    {
      "cell_type": "code",
      "metadata": {
        "id": "shfMSBV84zmw"
      },
      "source": [
        "# Creating a function and applying it to a pandas series\n",
        "def pass_sort(row):\n",
        "  if row['passengers'] > 3:\n",
        "      return 'Four or more'\n",
        "  if row['passengers'] > 1:\n",
        "      return 'Two to three'\n",
        "  if row['passengers'] == 1:\n",
        "      return 'One'\n",
        "\n",
        "taxi[\"passenger_type\"] = taxi.apply(lambda row: pass_sort(row), axis = 1)\n",
        "\n",
        "# Use column manipulation to create new columns\n",
        "taxi[\"tip_pct\"] = taxi['tip'] / taxi['fare']\n",
        "taxi[\"pickup_time\"] = taxi[\"pickup\"].dt.time\n",
        "taxi.head()\n",
        "\n",
        "# Reshaping data\n",
        "taxi_pivot = taxi.pivot(columns = \"passenger_type\", values = [\"pickup_time\", \"tip_pct\"])\n",
        "taxi_pivot.head()\n"
      ],
      "execution_count": null,
      "outputs": []
    },
    {
      "cell_type": "code",
      "metadata": {
        "id": "X-tU1rezsXEr"
      },
      "source": [
        "# Can also use transform to add a column (like R mutate)\n",
        "taxi[\"rec\"] = 1\n",
        "taxi[\"medtippct\"] = taxi.groupby(\"rec\")[\"tip_pct\"].transform('median')\n",
        "# Transform must have a grouping variable\n",
        "\n",
        "# And can also use transform and apply to add a column and make a comparison\n",
        "# at the same time\n",
        "taxi[\"above_medtippct\"] = taxi[\"tip_pct\"].transform(lambda x: x > x.median())\n",
        "\n",
        "taxi[[\"tip_pct\", \"medtippct\", \"above_medtippct\"]].head()\n",
        "\n"
      ],
      "execution_count": null,
      "outputs": []
    },
    {
      "cell_type": "code",
      "metadata": {
        "id": "DrWEygA1qrNy"
      },
      "source": [
        "taxi_pivot.head()"
      ],
      "execution_count": null,
      "outputs": []
    },
    {
      "cell_type": "code",
      "metadata": {
        "id": "vNUOAxLeHA46"
      },
      "source": [
        "# Collapse to find average pickup time and tip_pct\n",
        "taxi_pivot[\"tip_pct\"].aggregate(\"median\")\n",
        "taxi_pivot[\"tip_pct\"].aggregate(\"mean\")"
      ],
      "execution_count": null,
      "outputs": []
    },
    {
      "cell_type": "code",
      "metadata": {
        "id": "_UheFr9dIJUu"
      },
      "source": [
        "taxi_pivot[\"tip_pct\"].aggregate(\"mean\").plot(kind = \"bar\")"
      ],
      "execution_count": null,
      "outputs": []
    },
    {
      "cell_type": "code",
      "metadata": {
        "id": "zU4XjMfx85U3"
      },
      "source": [
        "# Visualize tip percent and distance by passenger number\n",
        "\n",
        "plt.scatter(x = taxi[\"passengers\"], y = taxi[\"distance\"])\n",
        "plt.title('Passengers vs distance')\n",
        "plt.xlabel('Passenger number')\n",
        "plt.ylabel('Distance (mi)')\n",
        "plt.show()\n",
        "\n",
        "taxi.groupby(\"passengers\")[\"distance\"].median().plot(kind = \"bar\")\n",
        "plt.show()\n",
        "\n",
        "taxi.plot.scatter(x=\"passengers\", y=\"tip_pct\")\n",
        "plt.title('Passengers vs tip percentage')\n",
        "plt.ylabel('Passenger number')\n",
        "plt.xlabel('Distance (mi)')\n",
        "plt.show()\n",
        "\n",
        "taxi.groupby(\"passengers\")[\"tip_pct\"].aggregate(\"median\").plot(kind = \"bar\")\n",
        "plt.show()\n",
        "\n",
        "taxi.groupby(\"passengers\")[\"tip_pct\"].aggregate(\"mean\").plot(kind = \"bar\")\n",
        "plt.show()"
      ],
      "execution_count": null,
      "outputs": []
    },
    {
      "cell_type": "markdown",
      "metadata": {
        "id": "dCvR5GlNlitr"
      },
      "source": [
        "## **Where to find data**\n",
        "### *(using CU Libraries, Google datasets, US government agencies, and many more)*\n",
        "1. Types of data: tabular (survey, transaction, summary, etc.), geospatial, text\n",
        "2. List of potential sources for each of the above\n",
        "3. Tools to collect your own data (mTurk or qualtrics for survey data, scraping for text data)"
      ]
    },
    {
      "cell_type": "markdown",
      "metadata": {
        "id": "aREDh9i6mXhT"
      },
      "source": [
        "## **Topics not covered today**\n",
        "***\n",
        "A list of all the topics that you can dive deeper into (asterisks are by the ones that are most important):\n",
        "- github*\n",
        "- statistics*\n",
        "- communication / translation*\n",
        "- visualization*\n",
        "- NLP\n",
        "- ML\n",
        "- Cloud computing + access\n",
        "- geospatial data\n",
        "- applications"
      ]
    }
  ]
}