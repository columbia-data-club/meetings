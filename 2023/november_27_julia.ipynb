{
  "nbformat": 4,
  "nbformat_minor": 0,
  "metadata": {
    "colab": {
      "provenance": [],
      "gpuType": "T4",
      "include_colab_link": true
    },
    "kernelspec": {
      "display_name": "Julia",
      "language": "julia",
      "name": "julia"
    },
    "language_info": {
      "file_extension": ".jl",
      "mimetype": "application/julia",
      "name": "julia"
    },
    "accelerator": "GPU"
  },
  "cells": [
    {
      "cell_type": "markdown",
      "metadata": {
        "id": "view-in-github",
        "colab_type": "text"
      },
      "source": [
        "<a href=\"https://colab.research.google.com/github/columbia-data-club/meetings/blob/main/2023/november_27_julia.ipynb\" target=\"_parent\"><img src=\"https://colab.research.google.com/assets/colab-badge.svg\" alt=\"Open In Colab\"/></a>"
      ]
    },
    {
      "cell_type": "markdown",
      "source": [
        "<!-- ![xarray Logo](http://xarray.pydata.org/en/stable/_static/dataset-diagram-logo.png \"xarray Logo\")\n",
        " -->\n",
        "<!-- ![A blue background with the SQLite logo and the words Data Club on it](https://raw.githubusercontent.com/columbia-data-club/meetings/main/assets/images/data-club-sqlite.png) -->\n",
        "![A blue background with the Xarray logo and the words Data Club on it](https://raw.githubusercontent.com/columbia-data-club/meetings/main/assets/images/data-club-julia.png)\n",
        "\n",
        "# Julia: a programming language like Python, but a lot faster.\n",
        "\n",
        "November 27, 2023\n",
        "\n",
        "by [Roger Creel](https://rogercreel.com) for the [Columbia Data Club](https://github.com/columbia-data-club/), drawing **heavily** from the [Julia for Pythonistas tutorial](https://colab.research.google.com/github/ageron/julia_notebooks/blob/master/Julia_for_Pythonistas.ipynb) and the [Julia documentation](https://docs.julialang.org/en/v1/).\n",
        "\n",
        "This notebook provides an introduction to Julia, a flexible, dynamic appropriate for scientific and numerical computing whose performance is comparable to traditional statically-typed languages like C and Fortran.\n",
        "\n",
        "# Introduction to Julia"
      ],
      "metadata": {
        "id": "tzcr5vOMshcL"
      }
    },
    {
      "cell_type": "markdown",
      "metadata": {
        "id": "tQ1r1bbb0yBv"
      },
      "source": [
        "## Instructions\n",
        "1. Work on a copy of this notebook: _File_ > _Save a copy in Drive_ (you will need a Google account). Alternatively, you can download the notebook using _File_ > _Download .ipynb_, then upload it to [Colab](https://colab.research.google.com/).\n",
        "2. Execute the following cell (click on it and press Ctrl+Enter) to install Julia, IJulia and other packages (if needed, update `JULIA_VERSION` and the other parameters). This takes a couple of minutes.\n",
        "3. Reload this page (press Ctrl+R, or ⌘+R, or the F5 key) and continue to the next section.\n",
        "\n",
        "_Notes_:\n",
        "* If your Colab Runtime gets reset (e.g., due to inactivity), repeat steps 2 and 3.\n",
        "* After installation, if you want to change the Julia version or activate/deactivate the GPU, you will need to reset the Runtime: _Runtime_ > _Factory reset runtime_ and repeat steps 2 and 3."
      ]
    },
    {
      "cell_type": "code",
      "metadata": {
        "id": "GIeFXS0F0zww"
      },
      "source": [
        "%%shell\n",
        "set -e\n",
        "\n",
        "#---------------------------------------------------#\n",
        "JULIA_VERSION=\"1.8.2\" # any version ≥ 0.7.0\n",
        "JULIA_PACKAGES=\"IJulia BenchmarkTools\"\n",
        "JULIA_PACKAGES_IF_GPU=\"CUDA\" # or CuArrays for older Julia versions\n",
        "JULIA_NUM_THREADS=2\n",
        "#---------------------------------------------------#\n",
        "\n",
        "if [ -z `which julia` ]; then\n",
        "  # Install Julia\n",
        "  JULIA_VER=`cut -d '.' -f -2 <<< \"$JULIA_VERSION\"`\n",
        "  echo \"Installing Julia $JULIA_VERSION on the current Colab Runtime...\"\n",
        "  BASE_URL=\"https://julialang-s3.julialang.org/bin/linux/x64\"\n",
        "  URL=\"$BASE_URL/$JULIA_VER/julia-$JULIA_VERSION-linux-x86_64.tar.gz\"\n",
        "  wget -nv $URL -O /tmp/julia.tar.gz # -nv means \"not verbose\"\n",
        "  tar -x -f /tmp/julia.tar.gz -C /usr/local --strip-components 1\n",
        "  rm /tmp/julia.tar.gz\n",
        "\n",
        "  # Install Packages\n",
        "  nvidia-smi -L &> /dev/null && export GPU=1 || export GPU=0\n",
        "  if [ $GPU -eq 1 ]; then\n",
        "    JULIA_PACKAGES=\"$JULIA_PACKAGES $JULIA_PACKAGES_IF_GPU\"\n",
        "  fi\n",
        "  for PKG in `echo $JULIA_PACKAGES`; do\n",
        "    echo \"Installing Julia package $PKG...\"\n",
        "    julia -e 'using Pkg; pkg\"add '$PKG'; precompile;\"' &> /dev/null\n",
        "  done\n",
        "\n",
        "  # Install kernel and rename it to \"julia\"\n",
        "  echo \"Installing IJulia kernel...\"\n",
        "  julia -e 'using IJulia; IJulia.installkernel(\"julia\", env=Dict(\n",
        "      \"JULIA_NUM_THREADS\"=>\"'\"$JULIA_NUM_THREADS\"'\"))'\n",
        "  KERNEL_DIR=`julia -e \"using IJulia; print(IJulia.kerneldir())\"`\n",
        "  KERNEL_NAME=`ls -d \"$KERNEL_DIR\"/julia*`\n",
        "  mv -f $KERNEL_NAME \"$KERNEL_DIR\"/julia\n",
        "\n",
        "  echo ''\n",
        "  echo \"Successfully installed `julia -v`!\"\n",
        "  echo \"Please reload this page (press Ctrl+R, ⌘+R, or the F5 key) then\"\n",
        "  echo \"jump to the 'Checking the Installation' section.\"\n",
        "fi"
      ],
      "execution_count": null,
      "outputs": []
    },
    {
      "cell_type": "markdown",
      "metadata": {
        "id": "-OS3Ac017T1i"
      },
      "source": [
        "# Checking the Installation\n",
        "The `versioninfo()` function should print your Julia version and some other info about the system:"
      ]
    },
    {
      "cell_type": "code",
      "metadata": {
        "id": "EEzvvzCl1i0F"
      },
      "source": [
        "versioninfo()"
      ],
      "execution_count": null,
      "outputs": []
    },
    {
      "cell_type": "markdown",
      "source": [
        "# Getting Help\n",
        "To get help on any module, function, variable, or just about anything else, just type `?` followed by what you're interested in. For example:"
      ],
      "metadata": {
        "id": "1oJd-32Dt-Xu"
      }
    },
    {
      "cell_type": "code",
      "source": [
        "?versioninfo"
      ],
      "metadata": {
        "id": "nqJqPwbiuBAf"
      },
      "execution_count": null,
      "outputs": []
    },
    {
      "cell_type": "markdown",
      "source": [
        "This works in interactive mode only: in Jupyter, Colab and in the Julia shell (called the REPL)."
      ],
      "metadata": {
        "id": "drTNOlsKuGnv"
      }
    },
    {
      "cell_type": "markdown",
      "source": [
        "Here are a few more ways to get help and inspect objects in interactive mode:\n",
        "\n",
        "|Julia|Python\n",
        "|-----|------\n",
        "|`?obj` | `help(obj)`\n",
        "|`dump(obj)` | `print(repr(obj))`\n",
        "|`names(FooModule)` | `dir(foo_module)`\n",
        "|`methodswith(SomeType)` | `dir(SomeType)`\n",
        "|`@which func` | `func.__module__`\n",
        "|`apropos(\"bar\")` | Search for `\"bar\"` in docstrings of all installed packages\n",
        "|`typeof(obj)` | `type(obj)`\n",
        "|`obj isa SomeType`<br />or<br />`isa(obj, SomeType)` | `isinstance(obj, SomeType)`\n",
        "\n",
        "If you ever ask for help or file an issue about Julia, you should generally provide the output of `versioninfo()`.\n",
        "\n",
        "And of course, you can also learn and get help here:\n",
        "\n",
        "* Learning: https://julialang.org/learning/\n",
        "* Documentation: https://docs.julialang.org/\n",
        "* Questions & Discussions:\n",
        "  * https://discourse.julialang.org/\n",
        "  * http://julialang.slack.com/\n",
        "  * https://stackoverflow.com/questions/tagged/julia"
      ],
      "metadata": {
        "id": "AsBrGBT9uJ0q"
      }
    },
    {
      "cell_type": "markdown",
      "source": [
        "# A First Look at Julia\n",
        "This section will give you an idea of what Julia looks like and what some of its major qualities are: it's expressive, dynamic, flexible, and most of all, super fast."
      ],
      "metadata": {
        "id": "30fEW_FBuM9-"
      }
    },
    {
      "cell_type": "markdown",
      "source": [
        "## Estimating π\n",
        "Let's write our first function. It will estimate π using the equation:\n",
        "$π = 4 \\times \\left(1 - \\dfrac{1}{3} + \\dfrac{1}{5} - \\dfrac{1}{7} + \\dfrac{1}{9}-\\dfrac{1}{11}+\\dots\\right)$\n",
        "\n",
        "There are much better ways to estimate π, but this one is easy to implement."
      ],
      "metadata": {
        "id": "iC4hoVkouP_w"
      }
    },
    {
      "cell_type": "code",
      "source": [
        "function estimate_pi(n)\n",
        "    s = 1.0\n",
        "    for i in 1:n\n",
        "        s += (isodd(i) ? -1 : 1) / (2i + 1)\n",
        "    end\n",
        "    4s\n",
        "end\n",
        "\n",
        "p = estimate_pi(100_000_000)\n",
        "println(\"π ≈ $p\")\n",
        "println(\"Error is $(p - π)\")"
      ],
      "metadata": {
        "id": "4CjiqhHjuSj3"
      },
      "execution_count": null,
      "outputs": []
    },
    {
      "cell_type": "markdown",
      "source": [
        "Compare this with the equivalent Python 3 code (which won't run in this environment -- just here to look at):"
      ],
      "metadata": {
        "id": "Juq2f9H_ua5B"
      }
    },
    {
      "cell_type": "markdown",
      "source": [
        "```python\n",
        "# PYTHON\n",
        "import math\n",
        "\n",
        "def estimate_pi(n):\n",
        "    s = 1.0\n",
        "    for i in range(1, n + 1):\n",
        "        s += (-1 if i % 2 else 1) / (2 * i + 1)\n",
        "    return 4 * s\n",
        "\n",
        "p = estimate_pi(100_000_000)\n",
        "print(f\"π ≈ {p}\") # f-strings are available in Python 3.6+\n",
        "print(f\"Error is {p - math.pi}\")\n",
        "```"
      ],
      "metadata": {
        "id": "USKGQpS7ugyh"
      }
    },
    {
      "cell_type": "markdown",
      "source": [
        "Pretty similar, right? But notice the small differences:\n",
        "\n",
        "|Julia|Python\n",
        "|-----|------\n",
        "|`function` | `def`\n",
        "|`for i in X`<br />&nbsp;&nbsp;&nbsp;&nbsp;`...`<br />`end` | `for i in X:`<br />&nbsp;&nbsp;&nbsp;&nbsp;`...`\n",
        "|`1:n` | `range(1, n+1)`\n",
        "|`cond ? a : b` | `a if cond else b`\n",
        "|`2i + 1` | `2 * i + 1`\n",
        "|`4s` | `return 4 * s`\n",
        "|`println(a, b)` | `print(a, b, sep=\"\")`\n",
        "|`print(a, b)` | `print(a, b, sep=\"\", end=\"\")`\n",
        "|`\"$p\"` | `f\"{p}\"`\n",
        "|`\"$(p - π)\"` | `f\"{p - math.pi}\"`\n",
        "\n",
        "This example shows that:\n",
        "* Julia can be just as concise and readable as Python.\n",
        "* Indentation in Julia is _not_ meaningful like it is in Python. Instead, blocks end with `end`.\n",
        "* Many math features are built in Julia and need no imports.\n",
        "* There's some mathy syntactic sugar, such as `2i` (but you can write `2 * i` if you prefer).\n",
        "* In Julia, the `return` keyword is optional at the end of a function. The result of the last expression is returned (`4s` in this example).\n",
        "* Julia loves Unicode and does not hesitate to use Unicode characters like `π`. However, there are generally plain-ASCII equivalents (e.g., `π == pi`)."
      ],
      "metadata": {
        "id": "-iSn816Dukdv"
      }
    },
    {
      "cell_type": "markdown",
      "source": [
        "## Typing Unicode Characters\n"
      ],
      "metadata": {
        "id": "psZRfPgEuoLC"
      }
    },
    {
      "cell_type": "markdown",
      "source": [
        "Typing Unicode characters is easy: for latex symbols like π, just type `\\pi<tab>`. For emojis like 😃, type `\\:smiley:<tab>`.\n",
        "\n",
        "This works in the REPL, in Jupyter, but unfortunately not in Colab (yet?). As a workaround, you can run the following code to print the character you want, then copy/paste it:"
      ],
      "metadata": {
        "id": "uikmJkLNuo6q"
      }
    },
    {
      "cell_type": "code",
      "source": [
        "using REPL.REPLCompletions: latex_symbols, emoji_symbols\n",
        "\n",
        "latex_symbols[\"\\\\pi\"]"
      ],
      "metadata": {
        "id": "XjAhm2T4utEN"
      },
      "execution_count": null,
      "outputs": []
    },
    {
      "cell_type": "code",
      "source": [
        "emoji_symbols[\"\\\\:smiley:\"]"
      ],
      "metadata": {
        "id": "A3DS07uuuw5N"
      },
      "execution_count": null,
      "outputs": []
    },
    {
      "cell_type": "markdown",
      "source": [
        "In Julia, `using Foo.Bar: a, b` corresponds to running `from foo.bar import a, b` in Python.\n",
        "\n",
        "|Julia|Python\n",
        "|-----|------\n",
        "|`using Foo` | `from foo import *; import foo`\n",
        "|`using Foo.Bar` | `from foo.bar import *; from foo import bar`\n",
        "|`using Foo.Bar: a, b` | `from foo.bar import a, b`\n",
        "|`using Foo: Bar` | `from foo import bar`\n",
        "\n",
        "More on this later."
      ],
      "metadata": {
        "id": "ofFtppiRu2Lf"
      }
    },
    {
      "cell_type": "markdown",
      "source": [
        "## Running Python code in Julia\n",
        "Julia lets you easily run Python code using the `PyCall` module. We installed it earlier, so we just need to import it:"
      ],
      "metadata": {
        "id": "dNryJlktu28L"
      }
    },
    {
      "cell_type": "code",
      "source": [
        "using Pkg\n",
        "pkg\"add IJulia; precompile;\"\n",
        "pkg\"add BenchmarkTools; precompile;\"\n",
        "pkg\"add PyCall; precompile;\"\n",
        "pkg\"add PyPlot; precompile;\"\n",
        "\n",
        "\n",
        "using PyCall"
      ],
      "metadata": {
        "id": "jGTq9_5Lu9Q1"
      },
      "execution_count": null,
      "outputs": []
    },
    {
      "cell_type": "markdown",
      "source": [
        "Now that we have imported `PyCall`, we can use the `pyimport()` function to import a Python module directly in Julia! For example, let's check which Python version we are using:"
      ],
      "metadata": {
        "id": "RGmQ_su-vDS_"
      }
    },
    {
      "cell_type": "code",
      "source": [
        "sys = pyimport(\"sys\")\n",
        "sys.version"
      ],
      "metadata": {
        "id": "KHBMA7k2vCq0"
      },
      "execution_count": null,
      "outputs": []
    },
    {
      "cell_type": "markdown",
      "source": [
        "In fact, let's run the Python code we discussed earlier (this will take about 15 seconds to run, because Python is so slow...):"
      ],
      "metadata": {
        "id": "ynTtVHnXvhPR"
      }
    },
    {
      "cell_type": "code",
      "source": [
        "py\"\"\"\n",
        "import math\n",
        "\n",
        "def estimate_pi(n):\n",
        "    s = 1.0\n",
        "    for i in range(1, n + 1):\n",
        "        s += (-1 if i % 2 else 1) / (2 * i + 1)\n",
        "    return 4 * s\n",
        "\n",
        "p = estimate_pi(100_000_000)\n",
        "print(f\"π ≈ {p}\") # f-strings are available in Python 3.6+\n",
        "print(f\"Error is {p - math.pi}\")\n",
        "\"\"\"\n"
      ],
      "metadata": {
        "id": "7X3CSnT-vjiD"
      },
      "execution_count": null,
      "outputs": []
    },
    {
      "cell_type": "markdown",
      "source": [
        "As you can see, running arbitrary Python code is as simple as using py-strings (`py\"...\"`). Note that py-strings are not part of the Julia language itself: they are defined by the `PyCall` module (we will see how this works later).\n",
        "\n",
        "We can look at the value of `p`:"
      ],
      "metadata": {
        "id": "C_l-FR4CvmHX"
      }
    },
    {
      "cell_type": "code",
      "source": [
        "py\"p\""
      ],
      "metadata": {
        "id": "t1bH-qmwvpIl"
      },
      "execution_count": null,
      "outputs": []
    },
    {
      "cell_type": "markdown",
      "source": [
        "Let's compare this to the value we calculated above using Julia:"
      ],
      "metadata": {
        "id": "abq-uMpqvvr2"
      }
    },
    {
      "cell_type": "code",
      "source": [
        "py\"p\" - p"
      ],
      "metadata": {
        "id": "Q5R-BTVNvtBG"
      },
      "execution_count": null,
      "outputs": []
    },
    {
      "cell_type": "markdown",
      "source": [
        "Perfect, they are exactly equal!\n",
        "\n",
        "As you can see, it's very easy to mix Julia and Python code. So if there's a module you really love in Python, you can keep using it as long as you want! For example, let's use NumPy:"
      ],
      "metadata": {
        "id": "xMkR2f3lu6wk"
      }
    },
    {
      "cell_type": "code",
      "source": [
        "np = pyimport(\"numpy\")\n",
        "a = np.random.rand(2, 3)"
      ],
      "metadata": {
        "id": "UpB7zM6cv3Na"
      },
      "execution_count": null,
      "outputs": []
    },
    {
      "cell_type": "markdown",
      "source": [
        "Notice that `PyCall` automatically converts some Python types to Julia types, including NumPy arrays. That's really quite convenient! Note that Julia supports multi-dimensional arrays (analog to NumPy arrays) out of the box. `Array{Float64, 2}` means that it's a 2-dimensional array of 64-bit floats.\n",
        "\n",
        "`PyCall` also converts Julia arrays to NumPy arrays when needed:"
      ],
      "metadata": {
        "id": "zJ1Dige9v2WU"
      }
    },
    {
      "cell_type": "code",
      "execution_count": null,
      "metadata": {
        "id": "aWAC4wxqrxCb"
      },
      "outputs": [],
      "source": [
        "exp_a = np.exp(a)"
      ]
    },
    {
      "cell_type": "markdown",
      "source": [
        "If you want to use some Julia variable in a py-string, for example `exp_a`, you can do so by writing `$exp_a` like this:"
      ],
      "metadata": {
        "id": "rp09aG_XxA8K"
      }
    },
    {
      "cell_type": "code",
      "source": [
        "py\"\"\"\n",
        "import numpy as np\n",
        "\n",
        "result = np.log($exp_a)\n",
        "\"\"\"\n",
        "\n",
        "py\"result\""
      ],
      "metadata": {
        "id": "9r8tZfVSxI-5"
      },
      "execution_count": null,
      "outputs": []
    },
    {
      "cell_type": "markdown",
      "source": [
        "If you want to keep using Matplotlib, it's best to use the `PyPlot` module (which we installed earlier), rather than trying to use `pyimport(\"matplotlib\")`, as `PyPlot` provides a more straightforward interface with Julia, and it plays nicely with Jupyter and Colab:"
      ],
      "metadata": {
        "id": "oz7kvAEKxLjr"
      }
    },
    {
      "cell_type": "code",
      "execution_count": null,
      "metadata": {
        "id": "gyHkEL7ExPg2"
      },
      "outputs": [],
      "source": [
        "using PyPlot\n",
        "\n",
        "x = range(-5π, 5π, length=100)\n",
        "plt.plot(x, sin.(x) ./ x) # we'll discuss this syntax in the next section\n",
        "plt.title(\"sin(x) / x\")\n",
        "plt.grid(\"True\")\n",
        "plt.show()"
      ]
    },
    {
      "cell_type": "markdown",
      "metadata": {
        "id": "n1exnPNvtsvh"
      },
      "source": [
        "# Numbers"
      ]
    },
    {
      "cell_type": "code",
      "execution_count": null,
      "metadata": {
        "id": "NKscy9dmtsk8"
      },
      "outputs": [],
      "source": [
        "i = 42 # 64-bit integer\n",
        "f = 3.14 # 64-bit float\n",
        "c = 3.4 + 4.5im # 128-bit complex number\n",
        "\n",
        "bi = BigInt(2)^1000 # arbitrarily long integer\n",
        "bf = BigFloat(1) / 7 # arbitrary precision\n",
        "\n",
        "r = 15//6 * 9//20 # rational number"
      ]
    },
    {
      "cell_type": "markdown",
      "metadata": {
        "id": "PzLbmPApyPLc"
      },
      "source": [
        "And the equivalent Python code:\n",
        "\n",
        "```python\n",
        "# PYTHON\n",
        "i = 42\n",
        "f = 3.14\n",
        "c = 3.4 + 4.5j\n",
        "\n",
        "bi = 2**1000 # integers are seemlessly promoted to long integers\n",
        "from decimal import Decimal\n",
        "bf = Decimal(1) / 7\n",
        "\n",
        "from fractions import Fraction\n",
        "r = Fraction(15, 6) * Fraction(9, 20)\n",
        "```"
      ]
    },
    {
      "cell_type": "markdown",
      "metadata": {
        "id": "obkfXw_LAZ2B"
      },
      "source": [
        "Dividing integers gives floats, like in Python:"
      ]
    },
    {
      "cell_type": "code",
      "execution_count": null,
      "metadata": {
        "id": "MQ_YTxNgAiLA"
      },
      "outputs": [],
      "source": [
        "5 / 2"
      ]
    },
    {
      "cell_type": "markdown",
      "metadata": {
        "id": "lqAUqZqNAkhb"
      },
      "source": [
        "For integer division, use `÷` or `div()`:"
      ]
    },
    {
      "cell_type": "code",
      "execution_count": null,
      "metadata": {
        "id": "xPkuXvQHArxo"
      },
      "outputs": [],
      "source": [
        "5 ÷ 2"
      ]
    },
    {
      "cell_type": "code",
      "execution_count": null,
      "metadata": {
        "id": "Bg26ib-cAtoF"
      },
      "outputs": [],
      "source": [
        "div(5, 2)"
      ]
    },
    {
      "cell_type": "markdown",
      "metadata": {
        "id": "GwsmLJ4kAvLQ"
      },
      "source": [
        "The `%` operator is the remainder, not the modulo like in Python. These differ only for negative numbers:"
      ]
    },
    {
      "cell_type": "code",
      "execution_count": null,
      "metadata": {
        "id": "BqYAfPWBA5UZ"
      },
      "outputs": [],
      "source": [
        "57 % 10"
      ]
    },
    {
      "cell_type": "code",
      "execution_count": null,
      "metadata": {
        "id": "i_0nKGW0A8TZ"
      },
      "outputs": [],
      "source": [
        "(-57) % 10"
      ]
    },
    {
      "cell_type": "markdown",
      "metadata": {
        "id": "5euGtSBl95e_"
      },
      "source": [
        "|Julia|Python\n",
        "|-----|------\n",
        "|`3.4 + 4.5im` | `3.4 + 4.5j`\n",
        "|`BigInt(2)^1000` | `2**1000`\n",
        "|`BigFloat(3.14)` | `from decimal import Decimal`<br />`Decimal(3.14)`\n",
        "|`9//8` | `from fractions import Fraction`<br />`Fraction(9, 8)`\n",
        "|`5/2 == 2.5` | `5/2 == 2.5`\n",
        "|`5÷2 == 2`<br />or<br />`div(5, 2) == 2` | `5//2 == 2`\n",
        "|`57%10 == 7` | `57%10 == 7`\n",
        "|`(-57)%10 == -7` | `(-57)%10 == 3`\n"
      ]
    },
    {
      "cell_type": "markdown",
      "metadata": {
        "id": "koGxWy1D1nd2"
      },
      "source": [
        "# Strings\n",
        "Julia strings use double quotes `\"` or triple quotes `\"\"\"`, but not single quotes `'`:"
      ]
    },
    {
      "cell_type": "code",
      "execution_count": null,
      "metadata": {
        "id": "cAJ5W9PstsbQ"
      },
      "outputs": [],
      "source": [
        "s = \"ångström\" # Julia strings are UTF-8 encoded by default\n",
        "println(s)"
      ]
    },
    {
      "cell_type": "code",
      "execution_count": null,
      "metadata": {
        "id": "_7bPa-W7c3dZ"
      },
      "outputs": [],
      "source": [
        "s = \"Julia strings\n",
        "     can span\n",
        "     several lines\\n\\n\n",
        "     and they support the \\\"usual\\\" escapes like\n",
        "     \\x41, \\u5bb6, and \\U0001f60a!\"\n",
        "println(s)"
      ]
    },
    {
      "cell_type": "markdown",
      "metadata": {
        "id": "Sr6f6JBzfsc_"
      },
      "source": [
        "Use `repeat()` instead of `*` to repeat a string, and use `*` instead of `+` for concatenation:"
      ]
    },
    {
      "cell_type": "code",
      "execution_count": null,
      "metadata": {
        "id": "R52WXKlMc5h9"
      },
      "outputs": [],
      "source": [
        "s = repeat(\"tick, \", 10) * \"BOOM!\"\n",
        "println(s)"
      ]
    },
    {
      "cell_type": "markdown",
      "metadata": {
        "id": "1QvDoWolgC1v"
      },
      "source": [
        "The equivalent Python code is:\n",
        "\n",
        "```python\n",
        "# PYTHON\n",
        "s = \"tick, \" * 10 + \"BOOM!\"\n",
        "print(s)\n",
        "```"
      ]
    },
    {
      "cell_type": "markdown",
      "metadata": {
        "id": "UULsUFcTgPXN"
      },
      "source": [
        "Use `join(a, s)` instead of `s.join(a)`:"
      ]
    },
    {
      "cell_type": "code",
      "execution_count": null,
      "metadata": {
        "id": "pMZNYWTxd3N2"
      },
      "outputs": [],
      "source": [
        "s = join([i for i in 1:4], \", \")\n",
        "println(s)"
      ]
    },
    {
      "cell_type": "markdown",
      "metadata": {
        "id": "ejbvMUySgaTn"
      },
      "source": [
        "You can also specify a string for the last join:"
      ]
    },
    {
      "cell_type": "code",
      "execution_count": null,
      "metadata": {
        "id": "wRx3SN5fdWFf"
      },
      "outputs": [],
      "source": [
        "s = join([i for i in 1:4], \", \", \" and \")"
      ]
    },
    {
      "cell_type": "markdown",
      "metadata": {
        "id": "GJAbtqLg6T5s"
      },
      "source": [
        "`split()` works as you might expect:"
      ]
    },
    {
      "cell_type": "code",
      "execution_count": null,
      "metadata": {
        "id": "Kqkgq7IA6FWl"
      },
      "outputs": [],
      "source": [
        "split(\"   one    three     four   \")"
      ]
    },
    {
      "cell_type": "code",
      "execution_count": null,
      "metadata": {
        "id": "3cy_kYpZ6A7U"
      },
      "outputs": [],
      "source": [
        "split(\"one,,three,four!\", \",\")"
      ]
    },
    {
      "cell_type": "code",
      "execution_count": null,
      "metadata": {
        "id": "gdI7lnQ6n7RD"
      },
      "outputs": [],
      "source": [
        "occursin(\"sip\", \"Mississippi\")"
      ]
    },
    {
      "cell_type": "code",
      "execution_count": null,
      "metadata": {
        "id": "gnLjg6UpvKrL"
      },
      "outputs": [],
      "source": [
        "replace(\"I like coffee\", \"coffee\" => \"tea\")"
      ]
    },
    {
      "cell_type": "markdown",
      "metadata": {
        "id": "_dMkcaL4gm_n"
      },
      "source": [
        "Triple quotes work a bit like in Python, but they also remove indentation and ignore the first line feed:"
      ]
    },
    {
      "cell_type": "code",
      "execution_count": null,
      "metadata": {
        "id": "7Qc3Nn81ed3j"
      },
      "outputs": [],
      "source": [
        "s = \"\"\"\n",
        "       1. the first line feed is ignored if it immediately follows \\\"\"\"\n",
        "       2. triple quotes let you use \"quotes\" easily\n",
        "       3. indentation is ignored\n",
        "           - up to left-most character\n",
        "           - ignoring the first line (the one with \\\"\"\")\n",
        "       4. the final line feed it n̲o̲t̲ ignored\n",
        "       \"\"\"\n",
        "println(\"<start>\")\n",
        "println(s)\n",
        "println(\"<end>\")"
      ]
    },
    {
      "cell_type": "markdown",
      "metadata": {
        "id": "T0cx6rWpjIzc"
      },
      "source": [
        "## String Interpolation\n",
        "String interpolation uses `$variable` and `$(expression)`:"
      ]
    },
    {
      "cell_type": "code",
      "execution_count": null,
      "metadata": {
        "id": "-Nl2AlRvg2c_"
      },
      "outputs": [],
      "source": [
        "total = 1 + 2 + 3\n",
        "s = \"1 + 2 + 3 = $total = $(1 + 2 + 3)\"\n",
        "println(s)"
      ]
    },
    {
      "cell_type": "markdown",
      "metadata": {
        "id": "NToitF2YjRP1"
      },
      "source": [
        "This means you must escape the `$` sign:"
      ]
    },
    {
      "cell_type": "code",
      "execution_count": null,
      "metadata": {
        "id": "AUeXBJIdjUmB"
      },
      "outputs": [],
      "source": [
        "s = \"The car costs \\$10,000\"\n",
        "println(s)"
      ]
    },
    {
      "cell_type": "markdown",
      "metadata": {
        "id": "fk8BuKKtjhmo"
      },
      "source": [
        "## Raw Strings\n",
        "Raw strings use `raw\"...\"` instead of `r\"...\"`:"
      ]
    },
    {
      "cell_type": "code",
      "execution_count": null,
      "metadata": {
        "id": "KQ9U5Ivai86F"
      },
      "outputs": [],
      "source": [
        "s = raw\"In a raw string, you only need to escape quotes \\\", but not\n",
        "        $ or \\. There is one exception, however: the backslash \\\n",
        "        must be escaped if it's just before quotes like \\\\\\\".\"\n",
        "println(s)"
      ]
    },
    {
      "cell_type": "code",
      "execution_count": null,
      "metadata": {
        "id": "0cqdV9lJkclw"
      },
      "outputs": [],
      "source": [
        "s = raw\"\"\"\n",
        "   Triple quoted raw strings are possible too: $, \\, \\t, \"\n",
        "     - They handle indentation and the first line feed like regular\n",
        "       triple quoted strings.\n",
        "     - You only need to escape triple quotes like \\\"\"\", and the\n",
        "       backslash before quotes like \\\\\".\n",
        "   \"\"\"\n",
        "println(s)"
      ]
    },
    {
      "cell_type": "markdown",
      "metadata": {
        "id": "U5eOtwDalgw-"
      },
      "source": [
        "## Characters\n",
        "Single quotes are used for individual Unicode characters:"
      ]
    },
    {
      "cell_type": "code",
      "execution_count": null,
      "metadata": {
        "id": "PnNfVRZx2CsU"
      },
      "outputs": [],
      "source": [
        "a = 'å' # Unicode code point (single quotes)"
      ]
    },
    {
      "cell_type": "markdown",
      "metadata": {
        "id": "WA5RXfz4mBcE"
      },
      "source": [
        "To be more precise:\n",
        "* A Julia \"character\" represents a single Unicode code point (sometimes called a Unicode scalar).\n",
        "* Multiple code points may be required to produce a single _grapheme_, i.e., something that readers would recognize as a single character. Such a sequence of code points is called a \"Grapheme cluster\".\n",
        "\n",
        "For example, the character `é` can be represented either using the single code point `\\u00E9`, or the grapheme cluster `e` + `\\u0301`:"
      ]
    },
    {
      "cell_type": "code",
      "execution_count": null,
      "metadata": {
        "id": "liN9OQVClokc"
      },
      "outputs": [],
      "source": [
        "s = \"café\"\n",
        "println(s, \" has \", length(s), \" code points\")"
      ]
    },
    {
      "cell_type": "code",
      "execution_count": null,
      "metadata": {
        "id": "CTtCiqN1oCJa"
      },
      "outputs": [],
      "source": [
        "s = \"cafe\\u0301\"\n",
        "println(s, \" has \", length(s), \" code points\")"
      ]
    },
    {
      "cell_type": "code",
      "execution_count": null,
      "metadata": {
        "id": "MIBI7ULN2CYI"
      },
      "outputs": [],
      "source": [
        "for c in \"cafe\\u0301\"\n",
        "    display(c)\n",
        "end"
      ]
    },
    {
      "cell_type": "markdown",
      "metadata": {
        "id": "Oz-6luAbobDe"
      },
      "source": [
        "Julia represents any individual character like `'é'` using 32-bits (4 bytes):"
      ]
    },
    {
      "cell_type": "code",
      "execution_count": null,
      "metadata": {
        "id": "Iu1otE7omZIy"
      },
      "outputs": [],
      "source": [
        "sizeof('é')"
      ]
    },
    {
      "cell_type": "markdown",
      "metadata": {
        "id": "81XkzaaNmW_4"
      },
      "source": [
        "But strings are represented using the UTF-8 encoding. In this encoding, code points 0 to 127 are represented using one byte, but any code point above 127 is represented using 2 to 6 bytes:"
      ]
    },
    {
      "cell_type": "code",
      "execution_count": null,
      "metadata": {
        "id": "ZgLS0PdImraY"
      },
      "outputs": [],
      "source": [
        "sizeof(\"a\")"
      ]
    },
    {
      "cell_type": "code",
      "execution_count": null,
      "metadata": {
        "id": "PSOu8j--mmzO"
      },
      "outputs": [],
      "source": [
        "sizeof(\"é\")"
      ]
    },
    {
      "cell_type": "code",
      "execution_count": null,
      "metadata": {
        "id": "5UVyrhoKmw1j"
      },
      "outputs": [],
      "source": [
        "sizeof(\"家\")"
      ]
    },
    {
      "cell_type": "code",
      "execution_count": null,
      "metadata": {
        "id": "0HUpcANGnJYA"
      },
      "outputs": [],
      "source": [
        "sizeof(\"🏳️‍🌈\") # this is a grapheme with 4 code points of 4 + 3 + 3 + 4 bytes"
      ]
    },
    {
      "cell_type": "code",
      "execution_count": null,
      "metadata": {
        "id": "EfBbY0vHpNkG"
      },
      "outputs": [],
      "source": [
        "[sizeof(string(c)) for c in \"🏳️‍🌈\"]"
      ]
    },
    {
      "cell_type": "markdown",
      "metadata": {
        "id": "71mBRSnKo_gU"
      },
      "source": [
        "You can iterate through graphemes instead of code points:"
      ]
    },
    {
      "cell_type": "code",
      "execution_count": null,
      "metadata": {
        "id": "hvHwnu4dnYNx"
      },
      "outputs": [],
      "source": [
        "using Unicode\n",
        "\n",
        "for g in graphemes(\"e\\u0301🏳️‍🌈\")\n",
        "  println(g)\n",
        "end"
      ]
    },
    {
      "cell_type": "markdown",
      "metadata": {
        "id": "D52gwsw7mkls"
      },
      "source": [
        "## String Indexing\n",
        "Characters in a string are indexed based on the position of their starting byte in the UTF-8 representation. For example, the character `ê` in the string `\"être\"` is located at index 1, but the character `'t'` is located at index 3, since the UTF-8 encoding of `ê` is 2 bytes long:"
      ]
    },
    {
      "cell_type": "code",
      "execution_count": null,
      "metadata": {
        "id": "wF-sqnBhobOr"
      },
      "outputs": [],
      "source": [
        "s = \"être\"\n",
        "println(s[1])\n",
        "println(s[3])\n",
        "println(s[4])\n",
        "println(s[5])"
      ]
    },
    {
      "cell_type": "markdown",
      "metadata": {
        "id": "PTwNWMfywghC"
      },
      "source": [
        "If you try to get the character at index 2, you get an exception:\n",
        "\n"
      ]
    },
    {
      "cell_type": "code",
      "execution_count": null,
      "metadata": {
        "id": "nVTYypUmobae"
      },
      "outputs": [],
      "source": [
        "try\n",
        "    s[2]\n",
        "catch ex\n",
        "    ex\n",
        "end"
      ]
    },
    {
      "cell_type": "markdown",
      "metadata": {
        "id": "h27VGo9oB2HD"
      },
      "source": [
        "By the way, notice the exception-handling syntax (we'll discuss exceptions later):\n",
        "\n",
        "|Julia|Python\n",
        "|-----|------\n",
        "|`try`<br />&nbsp;&nbsp;&nbsp;&nbsp;`...`<br />`catch ex`<br />&nbsp;&nbsp;&nbsp;&nbsp;`...`<br />`end`|`try`<br />&nbsp;&nbsp;&nbsp;&nbsp;`...`<br />`except Exception as ex`<br />&nbsp;&nbsp;&nbsp;&nbsp;`...`<br />`end`\n",
        "\n"
      ]
    },
    {
      "cell_type": "markdown",
      "metadata": {
        "id": "v519pXuAxhnO"
      },
      "source": [
        "You can get a substring easily, using valid character indices:"
      ]
    },
    {
      "cell_type": "code",
      "execution_count": null,
      "metadata": {
        "id": "fSYrcLRPxdBv"
      },
      "outputs": [],
      "source": [
        "s[1:3]"
      ]
    },
    {
      "cell_type": "markdown",
      "metadata": {
        "id": "1aSg-yZExJaj"
      },
      "source": [
        "You can iterate through a string, and it will return all the code points:"
      ]
    },
    {
      "cell_type": "code",
      "execution_count": null,
      "metadata": {
        "id": "nWzSSfi3obnG"
      },
      "outputs": [],
      "source": [
        "for c in s\n",
        "    println(c)\n",
        "end"
      ]
    },
    {
      "cell_type": "markdown",
      "metadata": {
        "id": "P4y_oW-tx1FM"
      },
      "source": [
        "Or you can iterate through the valid character indices:"
      ]
    },
    {
      "cell_type": "code",
      "execution_count": null,
      "metadata": {
        "id": "Stdn7xZRx5HP"
      },
      "outputs": [],
      "source": [
        "for i in eachindex(s)\n",
        "    println(i, \": \", s[i])\n",
        "end"
      ]
    },
    {
      "cell_type": "markdown",
      "metadata": {
        "id": "6vAcDvvgyI2O"
      },
      "source": [
        "Benefits of representing strings as UTF-8:\n",
        "* All Unicode characters are supported.\n",
        "* UTF-8 is fairly compact (at least for Latin scripts).\n",
        "* It plays nicely with C libraries which expect ASCII characters only, since ASCII characters correspond to the Unicode code points 0 to 127, which UTF-8 encodes exactly like ASCII.\n",
        "\n",
        "Drawbacks:\n",
        "* UTF-8 uses a variable number of bytes per character, which makes indexing harder.\n",
        "  * However, If the language tried to hide this by making `s[5]` search for the 5th character from the start of the string, then code like `for i in 1:length(s); s[i]; end` would be unexpectedly inefficient, since at each iteration there would be a search from the beginning of the string, leading to O(_n_<sup>2</sup>) performance instead of O(_n_)."
      ]
    },
    {
      "cell_type": "code",
      "execution_count": null,
      "metadata": {
        "id": "JhOHqjktdrBV"
      },
      "outputs": [],
      "source": [
        "findfirst(isequal('t'), \"être\")"
      ]
    },
    {
      "cell_type": "code",
      "execution_count": null,
      "metadata": {
        "id": "PUyEI4dHm-nl"
      },
      "outputs": [],
      "source": [
        "findlast(isequal('p'), \"Mississippi\")"
      ]
    },
    {
      "cell_type": "code",
      "execution_count": null,
      "metadata": {
        "id": "VA-KDam0nT9z"
      },
      "outputs": [],
      "source": [
        "findnext(isequal('i'), \"Mississippi\", 2)"
      ]
    },
    {
      "cell_type": "code",
      "execution_count": null,
      "metadata": {
        "id": "V-18_V29ny--"
      },
      "outputs": [],
      "source": [
        "findnext(isequal('i'), \"Mississippi\", 2 + 1)"
      ]
    },
    {
      "cell_type": "code",
      "execution_count": null,
      "metadata": {
        "id": "rF-0AVyCnoRa"
      },
      "outputs": [],
      "source": [
        "findprev(isequal('i'), \"Mississippi\", 5 - 1)"
      ]
    },
    {
      "cell_type": "markdown",
      "metadata": {
        "id": "29n4QUfloQXQ"
      },
      "source": [
        "Other useful string functions: `ncodeunits(str)`, `codeunit(str, i)`, `thisind(str, i)`, `nextind(str, i, n=1)`, `prevind(str, i, n=1)`."
      ]
    },
    {
      "cell_type": "markdown",
      "metadata": {
        "id": "v93Xg1E5omZB"
      },
      "source": [
        "## Regular Expressions\n",
        "To create a regular expression in Julia, use the `r\"...\"` syntax:"
      ]
    },
    {
      "cell_type": "code",
      "execution_count": null,
      "metadata": {
        "id": "LDgR-AwboyDw"
      },
      "outputs": [],
      "source": [
        "regex = r\"c[ao]ff?(?:é|ee)\""
      ]
    },
    {
      "cell_type": "markdown",
      "metadata": {
        "id": "bKT4fMKMiKWo"
      },
      "source": [
        "The expression `r\"...\"` is equivalent to `Regex(\"...\")` except the former is evaluated at parse time, while the latter is evaluated at runtime, so unless you need to construct a Regex dynamically, you should prefer `r\"...\"`."
      ]
    },
    {
      "cell_type": "code",
      "execution_count": null,
      "metadata": {
        "id": "222akOU9ox3m"
      },
      "outputs": [],
      "source": [
        "occursin(regex, \"A bit more coffee?\")"
      ]
    },
    {
      "cell_type": "code",
      "execution_count": null,
      "metadata": {
        "id": "QCXRSdFuoxqd"
      },
      "outputs": [],
      "source": [
        "m = match(regex, \"A bit more coffee?\")\n",
        "m.match"
      ]
    },
    {
      "cell_type": "code",
      "execution_count": null,
      "metadata": {
        "id": "lWk0C1iwtegu"
      },
      "outputs": [],
      "source": [
        "m.offset"
      ]
    },
    {
      "cell_type": "code",
      "execution_count": null,
      "metadata": {
        "id": "Uh1uc34etiN_"
      },
      "outputs": [],
      "source": [
        "m = match(regex, \"A bit more tea?\")\n",
        "isnothing(m) && println(\"I suggest coffee instead\")"
      ]
    },
    {
      "cell_type": "code",
      "execution_count": null,
      "metadata": {
        "id": "3iOYSQMy0yB3"
      },
      "outputs": [],
      "source": [
        "regex = r\"(.*)#(.+)\"\n",
        "line = \"f(1) # nice comment\"\n",
        "m = match(regex, line)\n",
        "code, comment = m.captures\n",
        "println(\"code: \", repr(code))\n",
        "println(\"comment: \", repr(comment))"
      ]
    },
    {
      "cell_type": "code",
      "execution_count": null,
      "metadata": {
        "id": "xeq9CVzoueaf"
      },
      "outputs": [],
      "source": [
        "m[2]"
      ]
    },
    {
      "cell_type": "code",
      "execution_count": null,
      "metadata": {
        "id": "iwUDm5uqtc73"
      },
      "outputs": [],
      "source": [
        "m.offsets"
      ]
    },
    {
      "cell_type": "code",
      "execution_count": null,
      "metadata": {
        "id": "VnefZenKuMVM"
      },
      "outputs": [],
      "source": [
        "m = match(r\"(?<code>.+)#(?<comment>.+)\", line)\n",
        "m[:comment]"
      ]
    },
    {
      "cell_type": "code",
      "execution_count": null,
      "metadata": {
        "id": "HI8hBnXZwLIO"
      },
      "outputs": [],
      "source": [
        "replace(\"Want more bread?\", r\"(?<verb>more|some)\" => s\"a little\")"
      ]
    },
    {
      "cell_type": "code",
      "execution_count": null,
      "metadata": {
        "id": "7V9msvsWuzSM"
      },
      "outputs": [],
      "source": [
        "replace(\"Want more bread?\", r\"(?<verb>more|less)\" => s\"\\g<verb> and \\g<verb>\")"
      ]
    },
    {
      "cell_type": "markdown",
      "metadata": {
        "id": "56GuNuTqaKaX"
      },
      "source": [
        "# Control Flow"
      ]
    },
    {
      "cell_type": "markdown",
      "metadata": {
        "id": "AhlyD6rgHM-A"
      },
      "source": [
        "## `if` statement\n",
        "\n",
        "Julia's `if` statement works just like in Python, with a few differences:\n",
        "\n",
        "* Julia uses `elseif` instead of Python's `elif`.\n",
        "* Julia's logic operators are just like in C-like languages: `&&` means `and`, `||` means `or`, `!` means `not`, and so on."
      ]
    },
    {
      "cell_type": "code",
      "execution_count": null,
      "metadata": {
        "id": "R4CT1_AYLUqo"
      },
      "outputs": [],
      "source": [
        "a = 1\n",
        "if a == 1\n",
        "    println(\"One\")\n",
        "elseif a == 2\n",
        "    println(\"Two\")\n",
        "else\n",
        "    println(\"Other\")\n",
        "end"
      ]
    },
    {
      "cell_type": "markdown",
      "metadata": {
        "id": "xjjegYr9Koo0"
      },
      "source": [
        "Julia also has `⊻` for exclusive or (you can type `\\xor<tab>` to get the ⊻ character):"
      ]
    },
    {
      "cell_type": "code",
      "execution_count": null,
      "metadata": {
        "id": "ac0uFmmXLk3n"
      },
      "outputs": [],
      "source": [
        "@assert false ⊻ false == false\n",
        "@assert false ⊻ true == true\n",
        "@assert true ⊻ false == true\n",
        "@assert true ⊻ true == false"
      ]
    },
    {
      "cell_type": "markdown",
      "metadata": {
        "id": "6k6sjnOWLuFM"
      },
      "source": [
        "Oh, and notice that `true` and `false` are all lowercase, unlike Python's `True` and `False`."
      ]
    },
    {
      "cell_type": "markdown",
      "metadata": {
        "id": "57j5Uo_jKq98"
      },
      "source": [
        "Since `&&` is lazy (like `and` in Python), `cond && f()` is a common shorthand for `if cond; f(); end`. Think of it as \"_cond then f()_\":"
      ]
    },
    {
      "cell_type": "code",
      "execution_count": null,
      "metadata": {
        "id": "TjRz2LF2MC17"
      },
      "outputs": [],
      "source": [
        "a = 2\n",
        "a == 1 && println(\"One\")\n",
        "a == 2 && println(\"Two\")"
      ]
    },
    {
      "cell_type": "markdown",
      "metadata": {
        "id": "PoOc99vdMB3r"
      },
      "source": [
        "Similarly, `cond || f()` is a common shorthand for `if !cond; f(); end`. Think of it as \"_cond else f()_\":"
      ]
    },
    {
      "cell_type": "code",
      "execution_count": null,
      "metadata": {
        "id": "I0vTrqXFMQAp"
      },
      "outputs": [],
      "source": [
        "a = 1\n",
        "a == 1 || println(\"Not one\")\n",
        "a == 2 || println(\"Not two\")"
      ]
    },
    {
      "cell_type": "markdown",
      "metadata": {
        "id": "KDHXuzB2tprt"
      },
      "source": [
        "All expressions return a value in Julia, including `if` statements. For example:"
      ]
    },
    {
      "cell_type": "code",
      "execution_count": null,
      "metadata": {
        "id": "XdbyrVzWtyYS"
      },
      "outputs": [],
      "source": [
        "a = 1\n",
        "result = if a == 1\n",
        "             \"one\"\n",
        "         else\n",
        "             \"two\"\n",
        "         end\n",
        "result"
      ]
    },
    {
      "cell_type": "markdown",
      "metadata": {
        "id": "ouJGQWRluC8r"
      },
      "source": [
        "When an expression cannot return anything, it returns `nothing`:"
      ]
    },
    {
      "cell_type": "code",
      "execution_count": null,
      "metadata": {
        "id": "FXxf9pNouMUZ"
      },
      "outputs": [],
      "source": [
        "a = 1\n",
        "result = if a == 2\n",
        "            \"two\"\n",
        "          end\n",
        "\n",
        "isnothing(result)"
      ]
    },
    {
      "cell_type": "markdown",
      "metadata": {
        "id": "82e9jcH4ukdN"
      },
      "source": [
        "`nothing` is the single instance of the type `Nothing`:"
      ]
    },
    {
      "cell_type": "code",
      "execution_count": null,
      "metadata": {
        "id": "IU57ogdWuhCi"
      },
      "outputs": [],
      "source": [
        "typeof(nothing)"
      ]
    },
    {
      "cell_type": "markdown",
      "metadata": {
        "id": "m8ghzU9PMifO"
      },
      "source": [
        "## `for` loops\n",
        "You can use `for` loops just like in Python, as we saw earlier. However, it's also possible to create nested loops on a single line:"
      ]
    },
    {
      "cell_type": "code",
      "execution_count": null,
      "metadata": {
        "id": "LZ-3HDmZM45a"
      },
      "outputs": [],
      "source": [
        "for a in 1:2, b in 1:3, c in 1:2\n",
        "    println((a, b, c))\n",
        "end"
      ]
    },
    {
      "cell_type": "markdown",
      "metadata": {
        "id": "uQRBca7fObQq"
      },
      "source": [
        "The corresponding Python code would look like this:\n",
        "\n",
        "```python\n",
        "# PYTHON\n",
        "from itertools import product\n",
        "\n",
        "for a, b, c in product(range(1, 3), range(1, 4), range(1, 3)):\n",
        "    print((a, b, c))\n",
        "```"
      ]
    },
    {
      "cell_type": "markdown",
      "metadata": {
        "id": "JAeag3dfNRB3"
      },
      "source": [
        "The `continue` and `break` keywords work just like in Python. Note that in single-line nested loops, `break` will exit all loops, not just the inner loop:"
      ]
    },
    {
      "cell_type": "code",
      "execution_count": null,
      "metadata": {
        "id": "MbKmgN-jN2ZQ"
      },
      "outputs": [],
      "source": [
        "for a in 1:2, b in 1:3, c in 1:2\n",
        "    println((a, b, c))\n",
        "    (a, b, c) == (2, 1, 1) && break\n",
        "end"
      ]
    },
    {
      "cell_type": "markdown",
      "metadata": {
        "id": "Lf7F9I-6Ue46"
      },
      "source": [
        "Julia does not support the equivalent of Python's `for`/`else` construct. You need to write something like this:"
      ]
    },
    {
      "cell_type": "code",
      "execution_count": null,
      "metadata": {
        "id": "XltdIGVOUoVS"
      },
      "outputs": [],
      "source": [
        "found = false\n",
        "for person in [\"Joe\", \"Jane\", \"Wally\", \"Jack\", \"Julia\"] # try removing \"Wally\"\n",
        "    println(\"Looking at $person\")\n",
        "    person == \"Wally\" && (found = true; break)\n",
        "end\n",
        "found || println(\"I did not find Wally.\")"
      ]
    },
    {
      "cell_type": "markdown",
      "metadata": {
        "id": "ySqtkxpxWH57"
      },
      "source": [
        "The equivalent Python code looks like this:\n",
        "\n",
        "```python\n",
        "# PYTHON\n",
        "for person in [\"Joe\", \"Jane\", \"Wally\", \"Jack\", \"Julia\"]: # try removing \"Wally\"\n",
        "    print(f\"Looking at {person}\")\n",
        "    if person == \"Wally\":\n",
        "        break\n",
        "else:\n",
        "    print(\"I did not find Wally.\")\n",
        "```"
      ]
    },
    {
      "cell_type": "markdown",
      "metadata": {
        "id": "gz4fZGxOHLmI"
      },
      "source": [
        "\n",
        "\n",
        "|Julia|Python\n",
        "|-----|------\n",
        "|`if cond1`<br />&nbsp;&nbsp;&nbsp;&nbsp;`...`<br/>`elseif cond2`<br />&nbsp;&nbsp;&nbsp;&nbsp;`...`<br/>`else`<br />&nbsp;&nbsp;&nbsp;&nbsp;`...`<br/>`end` |`if cond1:`<br />&nbsp;&nbsp;&nbsp;&nbsp;`...`<br/>`elif cond2:`<br />&nbsp;&nbsp;&nbsp;&nbsp;`...`<br/>`else:`<br />&nbsp;&nbsp;&nbsp;&nbsp;`...`\n",
        "|`&&` | `and`\n",
        "|`\\|\\|` | `or`\n",
        "|`!` | `not`\n",
        "|`⊻` (type `\\xor<tab>`) | `^`\n",
        "|`true` | `True`\n",
        "|`false` | `False`\n",
        "|`cond && f()` | `if cond: f()`\n",
        "|`cond \\|\\| f()` | `if not cond: f()`\n",
        "|`for i in 1:5 ... end` | `for i in range(1, 6): ...`\n",
        "|`for i in 1:5, j in 1:6 ... end` | `from itertools import product`<br />`for i, j in product(range(1, 6), range(1, 7)):`<br />&nbsp;&nbsp;&nbsp;&nbsp;`...`\n",
        "|`while cond ... end` | `while cond: ...`\n",
        "|`continue` | `continue`\n",
        "|`break` | `break`\n"
      ]
    },
    {
      "cell_type": "markdown",
      "metadata": {
        "id": "KZnBWeHcvcDE"
      },
      "source": [
        "Now lets looks at data structures, starting with tuples."
      ]
    },
    {
      "cell_type": "markdown",
      "metadata": {
        "id": "b42BIiqN6JM_"
      },
      "source": [
        "That said, Julia has its own plotting libraries, such as the `Plots` library, which you may want to check out."
      ]
    },
    {
      "cell_type": "markdown",
      "metadata": {
        "id": "FGStdgNK9IG1"
      },
      "source": [
        "As you can see, Julia's `range()` function acts much like NumPy's `linspace()` function, when you use the `length` argument. However, it acts like Python's `range()` function when you use the `step` argument instead (except the upper bound is inclusive). Julia's `range()` function returns an object which behaves just like an array, except it doesn't actually use any RAM for its elements, it just stores the range parameters. If you want to collect all of the elements into an array, use the `collect()` function (similar to Python's `list()` function):"
      ]
    },
    {
      "cell_type": "code",
      "execution_count": null,
      "metadata": {
        "id": "h728H-f9-rC_"
      },
      "outputs": [],
      "source": [
        "println(collect(range(10, 80, step=20)))\n",
        "println(collect(10:20:80)) # 10:20:80 is equivalent to the previous range\n",
        "println(collect(range(10, 80, length=5))) # similar to NumPy's linspace()\n",
        "step = (80-10)/(5-1) # 17.5\n",
        "println(collect(10:step:80)) # equivalent to the previous range"
      ]
    },
    {
      "cell_type": "markdown",
      "metadata": {
        "id": "gAU4t9zl72PW"
      },
      "source": [
        "The equivalent Python code is:\n",
        "\n",
        "```python\n",
        "# PYTHON\n",
        "print(list(range(10, 80+1, 20)))\n",
        "# there's no short-hand for range() in Python\n",
        "print(np.linspace(10, 80, 5))\n",
        "step = (80-10)/(5-1) # 17.5\n",
        "print([i*step + 10 for i in range(5)])\n",
        "```"
      ]
    },
    {
      "cell_type": "markdown",
      "metadata": {
        "id": "ucA1zMkw-n_U"
      },
      "source": [
        "|Julia|Python\n",
        "|-----|------\n",
        "|`np = pyimport(\"numpy\")` | `import numpy as np`\n",
        "|`using PyPlot` | `from pylab import *`\n",
        "|`1:10` | `range(1, 11)`\n",
        "|`1:2:10`<br />or<br />`range(1, 10, step=2)` | `range(1, 11, 2)`\n",
        "|`1.2:0.5:10.3`<br />or<br />`range(1.2, 10.3, step=0.5)` | `np.arange(1.2, 10.3, 0.5)`\n",
        "|`range(1, 10, length=3)` | `np.linspace(1, 10, 3)`\n",
        "|`collect(1:5)`<br />or<br />`[i for i in 1:5]` | `list(range(1, 6))`<br />or<br />`[i for i in range(1, 6)]`\n",
        "\n"
      ]
    },
    {
      "cell_type": "markdown",
      "metadata": {
        "id": "1iiE76xA8pwr"
      },
      "source": [
        "## Loop Fusion\n",
        "Did you notice that we wrote `sin.(x) ./ x` (not `sin(x) / x`)? This is equivalent to `[sin(i) / i for i in x]`."
      ]
    },
    {
      "cell_type": "code",
      "execution_count": null,
      "metadata": {
        "id": "kjXg63Hmd2ux"
      },
      "outputs": [],
      "source": [
        "a = sin.(x) ./ x\n",
        "b = [sin(i) / i for i in x]\n",
        "@assert a == b"
      ]
    },
    {
      "cell_type": "markdown",
      "metadata": {
        "id": "wX26wG02d1KI"
      },
      "source": [
        " This is not just syntactic sugar: it's actually a very powerful Julia feature. Indeed, notice that the array only gets traversed once. Even if we chained more than two dotted operations, the array would still only get traversed once. This is called _loop fusion_.\n",
        "\n",
        "In contrast, when using NumPy arrays, `sin(x) / x` first computes a temporary array containing `sin(x)` and then it computes the final array. Two loops and two arrays instead of one. NumPy is implemented in C, and has been heavily optimized, but if you chain many operations, it still ends up being slower and using more RAM than Julia.\n",
        "\n",
        "However, all the extra dots can sometimes make the code a bit harder to read. To avoid that, you can write `@.` before an expression: every operation will be \"dotted\" automatically, like this:"
      ]
    },
    {
      "cell_type": "code",
      "execution_count": null,
      "metadata": {
        "id": "raOw65bd-Qeg"
      },
      "outputs": [],
      "source": [
        "a = @. sin(x) / x\n",
        "b = sin.(x) ./ x\n",
        "@assert a == b"
      ]
    },
    {
      "cell_type": "markdown",
      "metadata": {
        "id": "6ys5cFYaogb2"
      },
      "source": [
        "**Note**: Julia's `@assert` statement starts with an `@` sign, just like `@.`, which means that they are macros. In Julia, macros are very powerful metaprogramming tools: a macro is evaluated at parse time, and it can inspect the expression that follows it and then transform it, or even replace it. In practice, you will often _use_ macros, but you will rarely _define_ your own. I'll come back to macros later."
      ]
    },
    {
      "cell_type": "markdown",
      "metadata": {
        "id": "MQ1U3aAwk5iD"
      },
      "source": [
        "## Julia is fast!\n",
        "Let's compare the Julia and Python implementations of the `estimate_pi()` function:"
      ]
    },
    {
      "cell_type": "code",
      "execution_count": null,
      "metadata": {
        "id": "pXQbFKYgk9gG"
      },
      "outputs": [],
      "source": [
        "@time estimate_pi(100_000_000);"
      ]
    },
    {
      "cell_type": "markdown",
      "metadata": {
        "id": "2B7Vu5lepqOW"
      },
      "source": [
        "To get a more precise benchmark, it's preferable to use the `BenchmarkTools` module. Just like Python's `timeit` module, it provides tools to benchmark code by running it multiple times. This provides a better estimate of how long each call takes:"
      ]
    },
    {
      "cell_type": "code",
      "execution_count": null,
      "metadata": {
        "id": "xK4b8X_cppNQ"
      },
      "outputs": [],
      "source": [
        "using BenchmarkTools\n",
        "\n",
        "@benchmark estimate_pi(100_000_000)"
      ]
    },
    {
      "cell_type": "markdown",
      "metadata": {
        "id": "xHsab0EkqObG"
      },
      "source": [
        "If this output is too verbose for you, simply use `@btime` instead:"
      ]
    },
    {
      "cell_type": "code",
      "execution_count": null,
      "metadata": {
        "id": "FqbViO67qN6E"
      },
      "outputs": [],
      "source": [
        "@btime estimate_pi(100_000_000)"
      ]
    },
    {
      "cell_type": "markdown",
      "metadata": {
        "id": "JOEUCAn6qghC"
      },
      "source": [
        "Now let's time the Python version. Since the call is so slow, we just run it once (it will take about 15 seconds):"
      ]
    },
    {
      "cell_type": "code",
      "execution_count": null,
      "metadata": {
        "id": "6dk8QgRL0mzd"
      },
      "outputs": [],
      "source": [
        "py\"\"\"\n",
        "from timeit import timeit\n",
        "\n",
        "duration = timeit(\"estimate_pi(100_000_000)\", number=1, globals=globals())\n",
        "\"\"\"\n",
        "\n",
        "py\"duration\""
      ]
    },
    {
      "cell_type": "markdown",
      "metadata": {
        "id": "Jqtx4_erlxky"
      },
      "source": [
        "It looks like Julia is close to 100 times faster than Python in this case! To be fair, `PyCall` does add some overhead, but even if you run this code in a separate Python shell, you will see that Julia crushes (pure) Python when it comes to speed."
      ]
    },
    {
      "cell_type": "markdown",
      "metadata": {
        "id": "hiVDodlPmzoP"
      },
      "source": [
        "So why is Julia so much faster than Python? Well, **Julia compiles the code on the fly as it runs it**."
      ]
    },
    {
      "cell_type": "markdown",
      "metadata": {
        "id": "w-HSoqJ8ts7P"
      },
      "source": [
        "Okay, let's summarize what we learned so far: Julia is a dynamic language that looks and feels a lot like Python, you can even execute Python code super easily, and pure Julia code runs much faster than pure Python code, because it is compiled on the fly. I hope this convinces you to read on!\n",
        "\n",
        "Next, let's continue to see how Python's main constructs can be implemented in Julia."
      ]
    },
    {
      "cell_type": "markdown",
      "metadata": {
        "id": "gy8gZ8pp3Z0n"
      },
      "source": [
        "If you want to use some Julia variable in a py-string, for example `exp_a`, you can do so by writing `$exp_a` like this:"
      ]
    },
    {
      "cell_type": "markdown",
      "metadata": {
        "id": "ERjZUJYlnMsq"
      },
      "source": [
        "# Tuples"
      ]
    },
    {
      "cell_type": "markdown",
      "metadata": {
        "id": "LnIg-YKumD8N"
      },
      "source": [
        " Julia has tuples, very much like Python. They can contain anything:"
      ]
    },
    {
      "cell_type": "code",
      "execution_count": null,
      "metadata": {
        "id": "SwtMszm6nFmD"
      },
      "outputs": [],
      "source": [
        "t = (1, \"Two\", 3, 4, 5)"
      ]
    },
    {
      "cell_type": "markdown",
      "metadata": {
        "id": "YFGgt6ISLBQN"
      },
      "source": [
        "Let's look at one element:"
      ]
    },
    {
      "cell_type": "code",
      "execution_count": null,
      "metadata": {
        "id": "muUQX9TUnfhh"
      },
      "outputs": [],
      "source": [
        "t[1]"
      ]
    },
    {
      "cell_type": "markdown",
      "metadata": {
        "id": "kxt7Dyujpcto"
      },
      "source": [
        "Hey! Did you see that? **Julia is 1-indexed**, like Matlab and other math-oriented programming languages, not 0-indexed like Python and most programming languages. I found it easy to get used to, and in fact I quite like it, but your mileage may vary.\n",
        "\n",
        "Moreover, the indexing bounds are inclusive. In Python, to get the 1st and 2nd elements of a list or tuple, you would write `t[0:2]` (or just `t[:2]`), while in Julia you write `t[1:2]`.\n"
      ]
    },
    {
      "cell_type": "code",
      "execution_count": null,
      "metadata": {
        "id": "PSSUDRRtp77N"
      },
      "outputs": [],
      "source": [
        "t[1:2]"
      ]
    },
    {
      "cell_type": "markdown",
      "metadata": {
        "id": "gUK1aCRutlul"
      },
      "source": [
        "Note that `end` represents the index of the last element in the tuple. So you must write `t[end]` instead of `t[-1]`. Similarly, you must write `t[end - 1]`, not `t[-2]`, and so on."
      ]
    },
    {
      "cell_type": "code",
      "execution_count": null,
      "metadata": {
        "id": "7YpghPgLqZmy"
      },
      "outputs": [],
      "source": [
        "t[end]"
      ]
    },
    {
      "cell_type": "code",
      "execution_count": null,
      "metadata": {
        "id": "3rzqwS7etsyx"
      },
      "outputs": [],
      "source": [
        "t[end - 1:end]"
      ]
    },
    {
      "cell_type": "markdown",
      "metadata": {
        "id": "d950dLwB3SeA"
      },
      "source": [
        "Like in Python, tuples are immutable:"
      ]
    },
    {
      "cell_type": "code",
      "execution_count": null,
      "metadata": {
        "id": "0sLz7J2KmKMi"
      },
      "outputs": [],
      "source": [
        "try\n",
        "  t[2] = 2\n",
        "catch ex\n",
        "  ex\n",
        "end"
      ]
    },
    {
      "cell_type": "markdown",
      "metadata": {
        "id": "ia-7dPaYN6o3"
      },
      "source": [
        "The syntax for empty and 1-element tuples is the same as in Python:"
      ]
    },
    {
      "cell_type": "code",
      "execution_count": null,
      "metadata": {
        "id": "2iz34eBoODk6"
      },
      "outputs": [],
      "source": [
        "empty_tuple = ()\n",
        "one_element_tuple = (42,)"
      ]
    },
    {
      "cell_type": "markdown",
      "metadata": {
        "id": "4vgV76ftmMno"
      },
      "source": [
        "You can unpack a tuple, just like in Python (it's called \"destructuring\" in Julia):"
      ]
    },
    {
      "cell_type": "code",
      "execution_count": null,
      "metadata": {
        "id": "1-RPxSCfn5Zr"
      },
      "outputs": [],
      "source": [
        "a, b, c, d, e = (1, \"Two\", 3, 4, 5)\n",
        "println(\"a=$a, b=$b, c=$c, d=$d, e=$e\")"
      ]
    },
    {
      "cell_type": "markdown",
      "metadata": {
        "id": "I4jsaD4Fq37B"
      },
      "source": [
        "It also works with nested tuples, just like in Python:"
      ]
    },
    {
      "cell_type": "code",
      "execution_count": null,
      "metadata": {
        "id": "s3S4SAfNq83S"
      },
      "outputs": [],
      "source": [
        "(a, (b, c), (d, e)) = (1, (\"Two\", 3), (4, 5))\n",
        "println(\"a=$a, b=$b, c=$c, d=$d, e=$e\")"
      ]
    },
    {
      "cell_type": "markdown",
      "metadata": {
        "id": "1SC6AVpIrUxa"
      },
      "source": [
        "However, consider this example:"
      ]
    },
    {
      "cell_type": "code",
      "execution_count": null,
      "metadata": {
        "id": "Wz5cl0_6rj0H"
      },
      "outputs": [],
      "source": [
        "a, b, c = (1, \"Two\", 3, 4, 5)\n",
        "println(\"a=$a, b=$b, c=$c\")"
      ]
    },
    {
      "cell_type": "markdown",
      "metadata": {
        "id": "ZdZg-xMDrnvK"
      },
      "source": [
        "In Python, this would cause a `ValueError: too many values to unpack`. In Julia, the extra values in the tuple are just ignored.\n",
        "\n",
        "If you want to capture the extra values in the variable `c`, you need to do so explicitly:"
      ]
    },
    {
      "cell_type": "code",
      "execution_count": null,
      "metadata": {
        "id": "zC8DWzkSsF1i"
      },
      "outputs": [],
      "source": [
        "t = (1, \"Two\", 3, 4, 5)\n",
        "a, b = t[1:2]\n",
        "c = t[3:end]\n",
        "println(\"a=$a, b=$b, c=$c\")"
      ]
    },
    {
      "cell_type": "markdown",
      "metadata": {
        "id": "rOKhLbritHAW"
      },
      "source": [
        "Or more concisely:"
      ]
    },
    {
      "cell_type": "code",
      "execution_count": null,
      "metadata": {
        "id": "8Pvh4LCytCiq"
      },
      "outputs": [],
      "source": [
        "(a, b), c = t[1:2], t[3:end]\n",
        "println(\"a=$a, b=$b, c=$c\")"
      ]
    },
    {
      "cell_type": "markdown",
      "metadata": {
        "id": "FbibRKc9sWI_"
      },
      "source": [
        "The corresponding Python code is:\n",
        "\n",
        "```python\n",
        "# PYTHON\n",
        "t = (1, \"Two\", 3, 4, 5)\n",
        "a, b, *c = t\n",
        "print(f\"a={a}, b={b}, c={c}\")\n",
        "```"
      ]
    },
    {
      "cell_type": "markdown",
      "metadata": {
        "id": "niHEbUJk5YFn"
      },
      "source": [
        "## Named Tuples"
      ]
    },
    {
      "cell_type": "markdown",
      "metadata": {
        "id": "p3yVvsXA52ct"
      },
      "source": [
        "Julia supports named tuples:"
      ]
    },
    {
      "cell_type": "code",
      "execution_count": null,
      "metadata": {
        "id": "2FJnd4K35aOZ"
      },
      "outputs": [],
      "source": [
        "nt = (name=\"Julia\", category=\"Language\", stars=5)"
      ]
    },
    {
      "cell_type": "code",
      "execution_count": null,
      "metadata": {
        "id": "xydPCMQZ5sPY"
      },
      "outputs": [],
      "source": [
        "nt.name"
      ]
    },
    {
      "cell_type": "code",
      "execution_count": null,
      "metadata": {
        "id": "9MeN88AU5w4t"
      },
      "outputs": [],
      "source": [
        "dump(nt)"
      ]
    },
    {
      "cell_type": "markdown",
      "metadata": {
        "id": "yXYEkJ0G57f2"
      },
      "source": [
        "The corresponding Python code is:\n",
        "\n",
        "```python\n",
        "# PYTHON\n",
        "from collections import namedtuple\n",
        "\n",
        "Rating = namedtuple(\"Rating\", [\"name\", \"category\", \"stars\"])\n",
        "nt = Rating(name=\"Julia\", category=\"Language\", stars=5)\n",
        "print(nt.name) # prints: Julia\n",
        "print(nt) # prints: Rating(name='Julia', category='Language', stars=5)\n",
        "```"
      ]
    },
    {
      "cell_type": "markdown",
      "metadata": {
        "id": "MJFUxd06YdqY"
      },
      "source": [
        "# Structs\n",
        "Julia supports structs, which hold multiple named fields, a bit like named tuples:"
      ]
    },
    {
      "cell_type": "code",
      "execution_count": null,
      "metadata": {
        "id": "WhCs3HtJZK95"
      },
      "outputs": [],
      "source": [
        "struct Person\n",
        "    name\n",
        "    age\n",
        "end"
      ]
    },
    {
      "cell_type": "markdown",
      "metadata": {
        "id": "G5oQzSt9Zx3L"
      },
      "source": [
        "Structs have a default constructor, which expects all the field values, in order:"
      ]
    },
    {
      "cell_type": "code",
      "execution_count": null,
      "metadata": {
        "id": "aXISSlv5Z8l6"
      },
      "outputs": [],
      "source": [
        "p = Person(\"Mary\", 30)"
      ]
    },
    {
      "cell_type": "code",
      "execution_count": null,
      "metadata": {
        "id": "26v5EQ8YZ-JQ"
      },
      "outputs": [],
      "source": [
        "p.age"
      ]
    },
    {
      "cell_type": "markdown",
      "metadata": {
        "id": "Tq30l3f1dHcn"
      },
      "source": [
        "You can create other constructors by creating functions with the same name as the struct:"
      ]
    },
    {
      "cell_type": "code",
      "execution_count": null,
      "metadata": {
        "id": "oS_GHuHpdPQx"
      },
      "outputs": [],
      "source": [
        "function Person(name)\n",
        "    Person(name, -1)\n",
        "end\n",
        "\n",
        "function Person()\n",
        "    Person(\"no name\")\n",
        "end\n",
        "\n",
        "p = Person()"
      ]
    },
    {
      "cell_type": "markdown",
      "metadata": {
        "id": "MhHkPNXzeMwh"
      },
      "source": [
        "This creates two constructors: the second calls the first, which calls the default constructor. Notice that you can create multiple functions with the same name but different arguments. We will discuss this later."
      ]
    },
    {
      "cell_type": "markdown",
      "metadata": {
        "id": "C_qV3JIyeial"
      },
      "source": [
        "These two constructors are called \"outer constructors\", since they are defined outside of the definition of the struct. You can also define \"inner constructors\":"
      ]
    },
    {
      "cell_type": "code",
      "execution_count": null,
      "metadata": {
        "id": "XuGp8ZJJe13y"
      },
      "outputs": [],
      "source": [
        "struct Person2\n",
        "    name\n",
        "    age\n",
        "    function Person2(name)\n",
        "        new(name, -1)\n",
        "    end\n",
        "end\n",
        "\n",
        "function Person2()\n",
        "    Person2(\"no name\")\n",
        "end\n",
        "\n",
        "p = Person2()"
      ]
    },
    {
      "cell_type": "markdown",
      "metadata": {
        "id": "m5qB9QHf1MMC"
      },
      "source": [
        "This time, the outer constructor calls the inner constructor, which calls the `new()` function. This `new()` function only works in inner constructors, and of course it creates an instance of the struct.\n",
        "\n",
        "When you define inner constructors, they replace the default constructor:"
      ]
    },
    {
      "cell_type": "code",
      "execution_count": null,
      "metadata": {
        "id": "_xLhbC9q2vC3"
      },
      "outputs": [],
      "source": [
        "try\n",
        "    Person2(\"Bob\", 40)\n",
        "catch ex\n",
        "    ex\n",
        "end"
      ]
    },
    {
      "cell_type": "markdown",
      "metadata": {
        "id": "6eSrsaNi_mQ3"
      },
      "source": [
        "Structs usually have very few inner constructors (often just one), which do the heavy duty work, and the checks. Then they may have multiple outer constructors which are mostly there for convenience."
      ]
    },
    {
      "cell_type": "markdown",
      "metadata": {
        "id": "HLJWvFSfaAHi"
      },
      "source": [
        "By default, structs are immutable:"
      ]
    },
    {
      "cell_type": "code",
      "execution_count": null,
      "metadata": {
        "id": "n9hhxkdvaYOY"
      },
      "outputs": [],
      "source": [
        "try\n",
        "    p.name = \"Someone\"\n",
        "catch ex\n",
        "    ex\n",
        "end"
      ]
    },
    {
      "cell_type": "markdown",
      "metadata": {
        "id": "oqY3EFMKa1Px"
      },
      "source": [
        "However, it is possible to define a mutable struct:"
      ]
    },
    {
      "cell_type": "code",
      "execution_count": null,
      "metadata": {
        "id": "S5cNqzAma5H_"
      },
      "outputs": [],
      "source": [
        "mutable struct Person3\n",
        "    name\n",
        "    age\n",
        "end\n",
        "\n",
        "p = Person3(\"Lucy\", 79)\n",
        "p.age += 1\n",
        "p"
      ]
    },
    {
      "cell_type": "markdown",
      "metadata": {
        "id": "XcMyQq4r7eam"
      },
      "source": [
        "Structs look a lot like Python classes, with instance variables and constructors, but where are the methods? We will discuss this later, in the \"Methods\" section."
      ]
    },
    {
      "cell_type": "markdown",
      "metadata": {
        "id": "sXEjDf7jBjJi"
      },
      "source": [
        "# Arrays\n",
        "\n",
        "Let's create a small array:"
      ]
    },
    {
      "cell_type": "code",
      "execution_count": null,
      "metadata": {
        "id": "UFhriSyixCMX"
      },
      "outputs": [],
      "source": [
        "a = [1, 4, 9, 16]"
      ]
    },
    {
      "cell_type": "markdown",
      "metadata": {
        "id": "owVeZ9nLR2on"
      },
      "source": [
        "Indexing and assignments work as you would expect:"
      ]
    },
    {
      "cell_type": "code",
      "execution_count": null,
      "metadata": {
        "id": "yM4mNBfKR81J"
      },
      "outputs": [],
      "source": [
        "a[1] = 10\n",
        "a[2:3] = [20, 30]\n",
        "a"
      ]
    },
    {
      "cell_type": "markdown",
      "metadata": {
        "id": "bv_tPMOhxHtK"
      },
      "source": [
        "## Element Type\n",
        "Since we used only integers when creating the array, Julia inferred that the array is only meant to hold integers (NumPy arrays behave the same way). Let's try adding a string:"
      ]
    },
    {
      "cell_type": "code",
      "execution_count": null,
      "metadata": {
        "id": "XBiagA9b_YPR"
      },
      "outputs": [],
      "source": [
        "try\n",
        "  a[3] = \"Three\"\n",
        "catch ex\n",
        "  ex\n",
        "end"
      ]
    },
    {
      "cell_type": "markdown",
      "metadata": {
        "id": "T8EJ7y5HAgzz"
      },
      "source": [
        "Nope! We get a `MethodError` exception, telling us that Julia could not convert the string `\"Three\"` to a 64-bit integer (we will discuss exceptions later). If we want an array that can hold any type, like Python's lists can, we must prefix the array with `Any`, which is Julia's root type (like `object` in Python):"
      ]
    },
    {
      "cell_type": "code",
      "execution_count": null,
      "metadata": {
        "id": "VcsscYgVBX6Z"
      },
      "outputs": [],
      "source": [
        "a = Any[1, 4, 9, 16]\n",
        "a[3] = \"Three\"\n",
        "a"
      ]
    },
    {
      "cell_type": "markdown",
      "metadata": {
        "id": "yekHWpLFPWUO"
      },
      "source": [
        "Prefixing with `Float64`, or `String` or any other type works as well:"
      ]
    },
    {
      "cell_type": "code",
      "execution_count": null,
      "metadata": {
        "id": "hR9x5VEmPfgO"
      },
      "outputs": [],
      "source": [
        "Float64[1, 4, 9, 16]"
      ]
    },
    {
      "cell_type": "markdown",
      "metadata": {
        "id": "8-2ahduHoiRh"
      },
      "source": [
        "An empty array is automatically an `Any` array:"
      ]
    },
    {
      "cell_type": "code",
      "execution_count": null,
      "metadata": {
        "id": "eDMPVf5Oolnk"
      },
      "outputs": [],
      "source": [
        "a = []"
      ]
    },
    {
      "cell_type": "markdown",
      "metadata": {
        "id": "zY4m8VX2PmXq"
      },
      "source": [
        "You can use the `eltype()` function to get an array's element type (the equivalent of NumPy arrays' `dtype`):"
      ]
    },
    {
      "cell_type": "code",
      "execution_count": null,
      "metadata": {
        "id": "zZN9rtpEPvGV"
      },
      "outputs": [],
      "source": [
        "eltype([1, 4, 9, 16])"
      ]
    },
    {
      "cell_type": "markdown",
      "metadata": {
        "id": "RXavtfEvyx-I"
      },
      "source": [
        "If you create an array containing objects of different types, Julia will do its best to use a type that can hold all the values as precisely as possible. For example, a mix of integers and floats results in a float array:"
      ]
    },
    {
      "cell_type": "code",
      "execution_count": null,
      "metadata": {
        "id": "jovRNC9tzaWj"
      },
      "outputs": [],
      "source": [
        "[1, 2, 3.0, 4.0]"
      ]
    },
    {
      "cell_type": "markdown",
      "metadata": {
        "id": "Z8vqDB0U0A4p"
      },
      "source": [
        "This is similar to NumPy's behavior:\n",
        "\n",
        "```python\n",
        "# PYTHON\n",
        "np.array([1, 2, 3.0, 4.0]) # => array([1., 2., 3., 4.])\n",
        "```\n",
        "\n",
        "A mix of unrelated types results in an `Any` array:"
      ]
    },
    {
      "cell_type": "code",
      "execution_count": null,
      "metadata": {
        "id": "pgT5mGcV0Rrc"
      },
      "outputs": [],
      "source": [
        "[1, 2, \"Three\", 4]"
      ]
    },
    {
      "cell_type": "markdown",
      "metadata": {
        "id": "qqUknXIGB2r7"
      },
      "source": [
        "If you want to live in a world without type constraints, you can prefix all you arrays with `Any`, and you will feel like you're coding in Python. But I don't recommend it: the compiler can perform a bunch of optimizations when it knows exactly the type and size of the data the program will handle, so it will run much faster. So when you create an empty array but you know the type of the values it will contain, you might as well prefix it with that type (you don't have to, but it will speed up your program)."
      ]
    },
    {
      "cell_type": "markdown",
      "metadata": {
        "id": "3oo7WzpiQB_h"
      },
      "source": [
        "## Push and Pop\n",
        "To append elements to an array, use the `push!()` function. By convention, functions whose name ends with a bang `!` may modify their arguments:"
      ]
    },
    {
      "cell_type": "code",
      "execution_count": null,
      "metadata": {
        "id": "m2vQfFEVCxII"
      },
      "outputs": [],
      "source": [
        "a = [1]\n",
        "push!(a, 4)\n",
        "push!(a, 9, 16)"
      ]
    },
    {
      "cell_type": "markdown",
      "metadata": {
        "id": "2U8zIXG-cUge"
      },
      "source": [
        "This is similar to the following Python code:\n",
        "\n",
        "```python\n",
        "# PYTHON\n",
        "a = [1]\n",
        "a.append(4)\n",
        "a.extend([9, 16]) # or simply a += [9, 16]\n",
        "```"
      ]
    },
    {
      "cell_type": "markdown",
      "metadata": {
        "id": "CCWoFNINU15g"
      },
      "source": [
        "And `pop!()` works like in Python:"
      ]
    },
    {
      "cell_type": "code",
      "execution_count": null,
      "metadata": {
        "id": "ie0iAIHtSXIW"
      },
      "outputs": [],
      "source": [
        "pop!(a)"
      ]
    },
    {
      "cell_type": "markdown",
      "metadata": {
        "id": "0W67Y7JhVA3_"
      },
      "source": [
        "Equivalent to:\n",
        "\n",
        "```python\n",
        "# PYTHON\n",
        "a.pop()\n",
        "```"
      ]
    },
    {
      "cell_type": "markdown",
      "metadata": {
        "id": "mY0L1GG_Upxz"
      },
      "source": [
        "There are many more functions you can call on an array. We will see later how to find them."
      ]
    },
    {
      "cell_type": "markdown",
      "metadata": {
        "id": "4ZScNi5Rv8cM"
      },
      "source": [
        "## Multidimensional Arrays\n",
        "Importantly, Julia arrays can be multidimensional, just like NumPy arrays:"
      ]
    },
    {
      "cell_type": "code",
      "execution_count": null,
      "metadata": {
        "id": "hxfUbTc3wBob"
      },
      "outputs": [],
      "source": [
        "M = [1   2   3   4\n",
        "     5   6   7   8\n",
        "     9  10  11  12]"
      ]
    },
    {
      "cell_type": "markdown",
      "metadata": {
        "id": "sFlaq_4kwbde"
      },
      "source": [
        "Another syntax for this is:"
      ]
    },
    {
      "cell_type": "code",
      "execution_count": null,
      "metadata": {
        "id": "wetBEg8HwhWJ"
      },
      "outputs": [],
      "source": [
        "M = [1 2 3 4; 5 6 7 8; 9 10 11 12]"
      ]
    },
    {
      "cell_type": "markdown",
      "metadata": {
        "id": "atfjWzUmwIgw"
      },
      "source": [
        "You can index them much like NumPy arrays:"
      ]
    },
    {
      "cell_type": "code",
      "execution_count": null,
      "metadata": {
        "id": "GhtdjnYQwLka"
      },
      "outputs": [],
      "source": [
        "M[2:3, 3:4]"
      ]
    },
    {
      "cell_type": "markdown",
      "metadata": {
        "id": "4frazS3zXPQT"
      },
      "source": [
        "You can transpose a matrix using the \"adjoint\" operator `'`:"
      ]
    },
    {
      "cell_type": "code",
      "execution_count": null,
      "metadata": {
        "id": "ydWdJ1eFXVbJ"
      },
      "outputs": [],
      "source": [
        "M'"
      ]
    },
    {
      "cell_type": "markdown",
      "metadata": {
        "id": "A032EIww_NsU"
      },
      "source": [
        "As you can see, Julia arrays are closer to NumPy arrays than to Python lists.\n"
      ]
    },
    {
      "cell_type": "markdown",
      "metadata": {
        "id": "NnY2DL_YCPmZ"
      },
      "source": [
        "Arrays can be concatenated vertically using the `vcat()` function:"
      ]
    },
    {
      "cell_type": "code",
      "execution_count": null,
      "metadata": {
        "id": "pTazNcWZ_-8e"
      },
      "outputs": [],
      "source": [
        "M1 = [1 2\n",
        "      3 4]\n",
        "M2 = [5 6\n",
        "      7 8]\n",
        "vcat(M1, M2)"
      ]
    },
    {
      "cell_type": "markdown",
      "metadata": {
        "id": "GPjPb-cCCZI5"
      },
      "source": [
        "Alternatively, you can use the `[M1; M2]` syntax:"
      ]
    },
    {
      "cell_type": "code",
      "execution_count": null,
      "metadata": {
        "id": "DOnN1wVOCp9z"
      },
      "outputs": [],
      "source": [
        "[M1; M2]"
      ]
    },
    {
      "cell_type": "markdown",
      "metadata": {
        "id": "wvq9sUdOCtJR"
      },
      "source": [
        "To concatenate arrays horizontally, use `hcat()`:"
      ]
    },
    {
      "cell_type": "code",
      "execution_count": null,
      "metadata": {
        "id": "Xj7s5cedCLJy"
      },
      "outputs": [],
      "source": [
        "hcat(M1, M2)"
      ]
    },
    {
      "cell_type": "markdown",
      "metadata": {
        "id": "ciffAqpeC2dX"
      },
      "source": [
        "Or you can use the `[M1 M2]` syntax:"
      ]
    },
    {
      "cell_type": "code",
      "execution_count": null,
      "metadata": {
        "id": "XxSWzDXhC08W"
      },
      "outputs": [],
      "source": [
        "[M1 M2]"
      ]
    },
    {
      "cell_type": "markdown",
      "metadata": {
        "id": "7aZr_u3dvndO"
      },
      "source": [
        "As you can see, the semicolon `;` is used to concatenate along the 1<sup>st</sup> axis, while the space is used to concatenate along the 2<sup>nd</sup> axis."
      ]
    },
    {
      "cell_type": "markdown",
      "metadata": {
        "id": "2clq6l0SwWnX"
      },
      "source": [
        "Since Julia 1.7, it's possible to use `;;` instead of the space to concatenate along the 2<sup>nd</sup> axis, `;;;` to concatenate along the 3<sup>rd</sup> axis, `;;;;` along the 4<sup>th</sup> axis, and so on. For example, the following code creates a 4x3x2 array in Julia 1.7+ (however, it creates a vector with numbers 1 to 24 in Julia 1.6 and earlier):"
      ]
    },
    {
      "cell_type": "code",
      "execution_count": null,
      "metadata": {
        "id": "npdZhnLyedtz"
      },
      "outputs": [],
      "source": [
        "[1;2;3;4 ;; 5;6;7;8 ;; 9;10;11;12 ;;; 13;14;15;16 ;; 17;18;19;20 ;; 21;22;23;24]"
      ]
    },
    {
      "cell_type": "markdown",
      "source": [
        "Note that Julia arrays are column-major, as opposed to row-major like NumPy arrays. This means that in memory, the elements are listed by column first (as well as in the syntax in the previous cell). For example, the elements of the previous array are stored in memory in the following order: 1, 2, 3, ..., 24 (whereas NumPy would store them as 1, 13, 5, 17, 9, 21, 2, 14, 6, 18, and so on).\n",
        "\n",
        "For this reason, the fastest way to iterate over a Julia array using nested `for` loops is to use the outer `for` loop for the last dimension, and the inner `for` loop for the first dimension (the opposite is true with NumPy).\n",
        "\n",
        "For this reason, in Julia Machine Learning frameworks like Flux, the batch dimension is typically the last one, instead of the first one in Python frameworks like TensorFlow or PyTorch."
      ],
      "metadata": {
        "id": "GGVuPUf-mU8v"
      }
    },
    {
      "cell_type": "markdown",
      "metadata": {
        "id": "OhQoXAiyGge9"
      },
      "source": [
        "You can combine horizontal and vertical concatenation:"
      ]
    },
    {
      "cell_type": "code",
      "execution_count": null,
      "metadata": {
        "id": "ra4Xe-Cv_PKl"
      },
      "outputs": [],
      "source": [
        "M3 = [9 10 11 12]\n",
        "[M1 M2; M3]"
      ]
    },
    {
      "cell_type": "markdown",
      "metadata": {
        "id": "sQllnyjlIBfB"
      },
      "source": [
        "Equivalently, you can call the `hvcat()` function. The first argument specifies the number of arguments to concatenate in each block row:"
      ]
    },
    {
      "cell_type": "code",
      "execution_count": null,
      "metadata": {
        "id": "Lv63KdpLEN4N"
      },
      "outputs": [],
      "source": [
        "hvcat((2, 1), M1, M2, M3)"
      ]
    },
    {
      "cell_type": "markdown",
      "metadata": {
        "id": "e40Z6cdzWM2K"
      },
      "source": [
        "`hvcat()` is useful to create a single cell matrix:"
      ]
    },
    {
      "cell_type": "code",
      "execution_count": null,
      "metadata": {
        "id": "KP-WjRlPzzSR"
      },
      "outputs": [],
      "source": [
        "hvcat(1, 42)"
      ]
    },
    {
      "cell_type": "markdown",
      "metadata": {
        "id": "4xWYHOGgzvOr"
      },
      "source": [
        " Or a column vector (i.e., an _n_×1 matrix = a matrix with a single column):"
      ]
    },
    {
      "cell_type": "code",
      "execution_count": null,
      "metadata": {
        "id": "NhVPed-TWW6b"
      },
      "outputs": [],
      "source": [
        "hvcat((1, 1, 1), 10, 11, 12) # a column vector with values 10, 11, 12\n",
        "hvcat(1, 10, 11, 12) # equivalent to the previous line"
      ]
    },
    {
      "cell_type": "markdown",
      "metadata": {
        "id": "0HmtBdKmx3Su"
      },
      "source": [
        "If you are using Julia 1.7+, you can use this syntax instead to create a single cell matrix:"
      ]
    },
    {
      "cell_type": "code",
      "execution_count": null,
      "metadata": {
        "id": "7IFRhJ7yx2Wh"
      },
      "outputs": [],
      "source": [
        "[42;;]"
      ]
    },
    {
      "cell_type": "markdown",
      "metadata": {
        "id": "rpnZx6DwySaI"
      },
      "source": [
        "Or a column vector:"
      ]
    },
    {
      "cell_type": "code",
      "execution_count": null,
      "metadata": {
        "id": "fqvKwLbByNMr"
      },
      "outputs": [],
      "source": [
        "[10;11;12;;]"
      ]
    },
    {
      "cell_type": "markdown",
      "metadata": {
        "id": "pVTtq2RyWfSD"
      },
      "source": [
        "Alternatively, you can transpose a row vector (but `hvcat()` and the Julia 1.7 syntax are a bit faster):"
      ]
    },
    {
      "cell_type": "code",
      "execution_count": null,
      "metadata": {
        "id": "9d8inKAGWjTr"
      },
      "outputs": [],
      "source": [
        "[10 11 12]'"
      ]
    },
    {
      "cell_type": "markdown",
      "metadata": {
        "id": "f75W5yn5OiEC"
      },
      "source": [
        "The REPL and IJulia call `display()` to print the result of the last expression in a cell (except when it is `nothing`). It is fairly verbose:"
      ]
    },
    {
      "cell_type": "code",
      "execution_count": null,
      "metadata": {
        "id": "9zTEV0mpOzm9"
      },
      "outputs": [],
      "source": [
        "display([1, 2, 3, 4])"
      ]
    },
    {
      "cell_type": "markdown",
      "metadata": {
        "id": "gMWooHYTO7NU"
      },
      "source": [
        "The `println()` function is more concise, but be careful not to confuse vectors, column vectors and row vectors (printed with commas, semi-colons and spaces, respectively):"
      ]
    },
    {
      "cell_type": "code",
      "execution_count": null,
      "metadata": {
        "id": "Xw2He_XbPQbz"
      },
      "outputs": [],
      "source": [
        "println(\"Vector: \", [1, 2, 3, 4])\n",
        "println(\"Column vector: \", hvcat(1, 1, 2, 3, 4))\n",
        "println(\"Row vector: \", [1 2 3 4])\n",
        "println(\"Matrix: \", [1 2 3; 4 5 6])"
      ]
    },
    {
      "cell_type": "markdown",
      "metadata": {
        "id": "8yjMLNP2M3Ip"
      },
      "source": [
        "Before Julia 1.7, the column vector was printed as `[1; 2; 3; 4]`, but evaluating `[1; 2; 3; 4]` would give you a regular vector. That's because `[x;y]` concatenates `x` and `y` vertically, and if `x` and `y` are scalars or vectors, you just get a regular vector. Since Julia 1.7, the column vector is printed as `[1; 2; 3; 4;;]`."
      ]
    },
    {
      "cell_type": "markdown",
      "metadata": {
        "id": "bdnpqswqyrp8"
      },
      "source": [
        "|Julia|Python\n",
        "|-----|------\n",
        "|`a = [1, 2, 3]` | `a = [1, 2, 3]`<br />or<br />`import numpy as np`<br />`np.array([1, 2, 3])`\n",
        "|`a[1]` | `a[0]`\n",
        "|`a[end]` | `a[-1]`\n",
        "|`a[2:end-1]` | `a[1:-1]`\n",
        "|`push!(a, 5)` | `a.append(5)`\n",
        "|`pop!(a)` | `a.pop()`\n",
        "|`M = [1 2 3]` | `np.array([[1, 2, 3]])`\n",
        "|`M = [1 2 3]'` | `np.array([[1, 2, 3]]).T`\n",
        "|`M = hvcat(1,  1, 2, 3)`<br />or<br />`M = [1; 2; 3;;]` since Julia 1.7 | `np.array([[1], [2], [3]])`\n",
        "|`M = [1 2 3`<br />&nbsp; &nbsp; &nbsp; &nbsp; &nbsp; &nbsp;`4 5 6]`<br />or<br />`M = [1 2 3; 4 5 6]`<br />or</br>`M = [1;4 ;; 2;5 ;; 3;6]` since Julia 1.7 | `M = np.array([[1,2,3], [4,5,6]])`\n",
        "|`M[1:2, 2:3]` | `M[0:2, 1:3]`\n",
        "|`[M1; M2]` | `np.r_[M1, M2]`\n",
        "|`[M1  M2]` | `np.c_[M1, M2]`\n",
        "|`[M1 M2; M3]` | `np.r_[np.c_[M1, M2], M3]`\n",
        "|`[42;;;]` since Julia 1.7 | `np.array([[[42]]])`"
      ]
    },
    {
      "cell_type": "markdown",
      "metadata": {
        "id": "raewgAnU9YIv"
      },
      "source": [
        "## Comprehensions\n",
        "List comprehensions are available in Julia, just like in Python (they're usually just called \"comprehensions\" in Julia):"
      ]
    },
    {
      "cell_type": "code",
      "execution_count": null,
      "metadata": {
        "id": "H8B6Tk429aTV"
      },
      "outputs": [],
      "source": [
        "a = [x^2 for x in 1:4]"
      ]
    },
    {
      "cell_type": "markdown",
      "metadata": {
        "id": "1W4O8W3bQsIn"
      },
      "source": [
        "You can filter elements using an `if` clause, just like in Python:"
      ]
    },
    {
      "cell_type": "code",
      "execution_count": null,
      "metadata": {
        "id": "pK4bZX6LQzNF"
      },
      "outputs": [],
      "source": [
        "a = [x^2 for x in 1:5 if x ∉ (2, 4)]"
      ]
    },
    {
      "cell_type": "markdown",
      "metadata": {
        "id": "E6UjXo-wRpdf"
      },
      "source": [
        "* `a ∉ b` is equivalent to `!(a in b)` (or `a not in b` in Python). You can type `∉` with `\\notin<tab>`\n",
        "* `a ∈ b` is equivalent to `a in b`. You can type it with `\\in<tab>`"
      ]
    },
    {
      "cell_type": "markdown",
      "metadata": {
        "id": "6R3umUN4Qq1x"
      },
      "source": [
        "In Julia, comprehensions can contain nested loops, just like in Python:"
      ]
    },
    {
      "cell_type": "code",
      "execution_count": null,
      "metadata": {
        "id": "o7-yPeiSlY96"
      },
      "outputs": [],
      "source": [
        "a = [(i,j) for i in 1:3 for j in 1:i]"
      ]
    },
    {
      "cell_type": "markdown",
      "metadata": {
        "id": "tgmDLO9-ljg2"
      },
      "source": [
        "Here's the corresponding Python code:\n",
        "\n",
        "```python\n",
        "# PYTHON\n",
        "a = [(i, j) for i in range(1, 4) for j in range(1, i+1)]\n",
        "```"
      ]
    },
    {
      "cell_type": "markdown",
      "metadata": {
        "id": "1d06vVpLi9pS"
      },
      "source": [
        "Julia comprehensions can also create multi-dimensional arrays (note the different syntax: there is only one `for`):"
      ]
    },
    {
      "cell_type": "code",
      "execution_count": null,
      "metadata": {
        "id": "gx9M3oLFjHsp"
      },
      "outputs": [],
      "source": [
        "a = [row * col for row in 1:3, col in 1:5]"
      ]
    },
    {
      "cell_type": "markdown",
      "metadata": {
        "id": "8_MgIEMeg69D"
      },
      "source": [
        "# Dictionaries\n",
        "The syntax for dictionaries is a bit different than Python:"
      ]
    },
    {
      "cell_type": "code",
      "execution_count": null,
      "metadata": {
        "id": "IwBc2os7g9Yr"
      },
      "outputs": [],
      "source": [
        "d = Dict(\"tree\"=>\"arbre\", \"love\"=>\"amour\", \"coffee\"=>\"café\")\n",
        "println(d[\"tree\"])"
      ]
    },
    {
      "cell_type": "code",
      "execution_count": null,
      "metadata": {
        "id": "rZoY383Qhaus"
      },
      "outputs": [],
      "source": [
        "println(get(d, \"unknown\", \"pardon?\"))"
      ]
    },
    {
      "cell_type": "code",
      "execution_count": null,
      "metadata": {
        "id": "GOk28cgEjsjG"
      },
      "outputs": [],
      "source": [
        "keys(d)"
      ]
    },
    {
      "cell_type": "code",
      "execution_count": null,
      "metadata": {
        "id": "xrt3-wu7j6TI"
      },
      "outputs": [],
      "source": [
        "values(d)"
      ]
    },
    {
      "cell_type": "code",
      "execution_count": null,
      "metadata": {
        "id": "J2kRT8MGj8Wo"
      },
      "outputs": [],
      "source": [
        "haskey(d, \"love\")"
      ]
    },
    {
      "cell_type": "code",
      "execution_count": null,
      "metadata": {
        "id": "PABOOmVSkJ6l"
      },
      "outputs": [],
      "source": [
        "\"love\" in keys(d) # this is slower than haskey()"
      ]
    },
    {
      "cell_type": "markdown",
      "metadata": {
        "id": "xfL2ZXK6hlEt"
      },
      "source": [
        "The equivalent Python code is of course:\n",
        "\n",
        "```python\n",
        "d = {\"tree\": \"arbre\", \"love\": \"amour\", \"coffee\": \"café\"}\n",
        "d[\"tree\"]\n",
        "d.get(\"unknown\", \"pardon?\")\n",
        "d.keys()\n",
        "d.values()\n",
        "\"love\" in d\n",
        "\"love\" in d.keys()\n",
        "```"
      ]
    },
    {
      "cell_type": "markdown",
      "metadata": {
        "id": "8MI_Oti4h2sz"
      },
      "source": [
        "Dict comprehensions work as you would expect:"
      ]
    },
    {
      "cell_type": "code",
      "execution_count": null,
      "metadata": {
        "id": "ck21M2RIiEWw"
      },
      "outputs": [],
      "source": [
        "d = Dict(i=>i^2 for i in 1:5)"
      ]
    },
    {
      "cell_type": "markdown",
      "metadata": {
        "id": "yeyP5pbQiK4-"
      },
      "source": [
        "Note that the items (aka \"pairs\" in Julia) are shuffled, since dictionaries are hash-based, like in Python (although Python sorts them by key for display).\n",
        "\n",
        "You can easily iterate through the dictionary's pairs like this:"
      ]
    },
    {
      "cell_type": "code",
      "execution_count": null,
      "metadata": {
        "id": "GJ1PcdDHiouw"
      },
      "outputs": [],
      "source": [
        "for (k, v) in d\n",
        "    println(\"$k maps to $v\")\n",
        "end"
      ]
    },
    {
      "cell_type": "markdown",
      "metadata": {
        "id": "oSjOvDGxi-DS"
      },
      "source": [
        "The equivalent code in Python is:\n",
        "\n",
        "```python\n",
        "# PYTHON\n",
        "d = {i: i**2 for i in range(1, 6)}\n",
        "for k, v in d.items():\n",
        "    print(f\"{k} maps to {v}\")\n",
        "```"
      ]
    },
    {
      "cell_type": "markdown",
      "metadata": {
        "id": "b5Ea2USET5jD"
      },
      "source": [
        "And you can merge dictionaries like this:"
      ]
    },
    {
      "cell_type": "code",
      "execution_count": null,
      "metadata": {
        "id": "dkNkluLJT7zD"
      },
      "outputs": [],
      "source": [
        "d1 = Dict(\"tree\"=>\"arbre\", \"love\"=>\"amour\", \"coffee\"=>\"café\")\n",
        "d2 = Dict(\"car\"=>\"voiture\", \"love\"=>\"aimer\")\n",
        "\n",
        "d = merge(d1, d2)"
      ]
    },
    {
      "cell_type": "markdown",
      "metadata": {
        "id": "B1WRTtDXUSCt"
      },
      "source": [
        "Notice that the second dictionary has priority in case of conflict (it's `\"love\" => \"aimer\"`, not `\"love\" => \"amour\"`)."
      ]
    },
    {
      "cell_type": "markdown",
      "metadata": {
        "id": "vpIXgc-4Umc8"
      },
      "source": [
        "In Python, this would be:\n",
        "\n",
        "```python\n",
        "# PYTHON\n",
        "d1 = {\"tree\": \"arbre\", \"love\": \"amour\", \"coffee\": \"café\"}\n",
        "d2 = {\"car\": \"voiture\", \"love\": \"aimer\"}\n",
        "d = {**d1, **d2}\n",
        "```"
      ]
    },
    {
      "cell_type": "markdown",
      "metadata": {
        "id": "zu39af1MVaKB"
      },
      "source": [
        "Or if you want to update the first dictionary instead of creating a new one:"
      ]
    },
    {
      "cell_type": "code",
      "execution_count": null,
      "metadata": {
        "id": "5_kcU7WTVhIN"
      },
      "outputs": [],
      "source": [
        "merge!(d1, d2)"
      ]
    },
    {
      "cell_type": "markdown",
      "metadata": {
        "id": "9h_NjAmAVmBd"
      },
      "source": [
        "In Python, that's:\n",
        "\n",
        "```python\n",
        "# PYTHON\n",
        "d1.update(d2)\n",
        "```"
      ]
    },
    {
      "cell_type": "markdown",
      "metadata": {
        "id": "6_-ibdMnjP8a"
      },
      "source": [
        "In Julia, each pair is an actual `Pair` object:"
      ]
    },
    {
      "cell_type": "code",
      "execution_count": null,
      "metadata": {
        "id": "a85m1lmJjVPP"
      },
      "outputs": [],
      "source": [
        "p = \"tree\" => \"arbre\"\n",
        "println(typeof(p))\n",
        "k, v = p\n",
        "println(\"$k maps to $v\")"
      ]
    },
    {
      "cell_type": "markdown",
      "metadata": {
        "id": "mOCYFiB3N5s8"
      },
      "source": [
        "Note that any object for which a `hash()` method is implemented can be used as a key in a dictionary. This includes all the basic types like integers, floats, as well as string, tuples, etc. But it also includes arrays! In Julia, you have the freedom to use arrays as keys (unlike in Python), but make sure not to mutate these arrays after insertion, or else things will break! Indeed, the pairs will be stored in memory in a location that depends on the hash of the key at insertion time, so if that key changes afterwards, you won't be able to find the pair anymore:"
      ]
    },
    {
      "cell_type": "code",
      "execution_count": null,
      "metadata": {
        "id": "0bYNOLHiOgnl"
      },
      "outputs": [],
      "source": [
        "a = [1, 2, 3]\n",
        "d = Dict(a => \"My array\")\n",
        "println(\"The dictionary is: $d\")\n",
        "println(\"Indexing works fine as long as the array is unchanged: \", d[a])\n",
        "a[1] = 10\n",
        "println(\"This is the dictionary now: $d\")\n",
        "try\n",
        "    println(\"Key changed, indexing is now broken: \", d[a])\n",
        "catch ex\n",
        "    ex\n",
        "end"
      ]
    },
    {
      "cell_type": "markdown",
      "metadata": {
        "id": "zr26SHedQJTE"
      },
      "source": [
        "However, it's still possible to iterate through the keys, the values or the pairs:"
      ]
    },
    {
      "cell_type": "code",
      "execution_count": null,
      "metadata": {
        "id": "5e6eZEq9QUt4"
      },
      "outputs": [],
      "source": [
        "for pair in d\n",
        "    println(pair)\n",
        "end"
      ]
    },
    {
      "cell_type": "markdown",
      "metadata": {
        "id": "Ie9QcVsYWDFh"
      },
      "source": [
        "|Julia|Python\n",
        "|-----|------\n",
        "|`Dict(\"tree\"=>\"arbre\", \"love\"=>\"amour\")` | `{\"tree\": \"arbre\", \"love\": \"amour\"}`\n",
        "|`d[\"arbre\"]` | `d[\"arbre\"]`\n",
        "|`get(d, \"unknown\", \"default\")` | `d.get(\"unknown\", \"default\")`\n",
        "|`keys(d)` | `d.keys()`\n",
        "|`values(d)` | `d.values()`\n",
        "|`haskey(d, k)` | `k in d`\n",
        "|`Dict(i=>i^2 for i in 1:4)` | `{i: i**2 for i in 1:4}`\n",
        "|`for (k, v) in d` | `for k, v in d.items():`\n",
        "|`merge(d1, d2)` | `{**d1, **d2}`\n",
        "|`merge!(d1, d2)` | `d1.update(d2)`"
      ]
    },
    {
      "cell_type": "markdown",
      "metadata": {
        "id": "rTWmi1P8jlDq"
      },
      "source": [
        "# Sets"
      ]
    },
    {
      "cell_type": "markdown",
      "metadata": {
        "id": "WlTKQaxxmLde"
      },
      "source": [
        "Let's create a couple sets:"
      ]
    },
    {
      "cell_type": "code",
      "execution_count": null,
      "metadata": {
        "id": "sQ_wNw0Mjmqs"
      },
      "outputs": [],
      "source": [
        "odd = Set([1, 3, 5, 7, 9, 11])\n",
        "prime = Set([2, 3, 5, 7, 11])"
      ]
    },
    {
      "cell_type": "markdown",
      "metadata": {
        "id": "w7JZBRWbsqiL"
      },
      "source": [
        "The order of sets is not guaranteed, just like in Python."
      ]
    },
    {
      "cell_type": "markdown",
      "metadata": {
        "id": "JEQ96Ljkm_0R"
      },
      "source": [
        "Use `in` or `∈` (type `\\in<tab>`) to check whether a set contains a given value:"
      ]
    },
    {
      "cell_type": "code",
      "execution_count": null,
      "metadata": {
        "id": "oRd2gpWvm9mF"
      },
      "outputs": [],
      "source": [
        "5 ∈ odd"
      ]
    },
    {
      "cell_type": "code",
      "execution_count": null,
      "metadata": {
        "id": "pRQN8XNWnQgj"
      },
      "outputs": [],
      "source": [
        "5 in odd"
      ]
    },
    {
      "cell_type": "markdown",
      "metadata": {
        "id": "WyBv6ethnRw8"
      },
      "source": [
        "Both of these expressions are equivalent to:"
      ]
    },
    {
      "cell_type": "code",
      "execution_count": null,
      "metadata": {
        "id": "Twamj50pnXQE"
      },
      "outputs": [],
      "source": [
        "in(5, odd)"
      ]
    },
    {
      "cell_type": "markdown",
      "metadata": {
        "id": "MHQ5qnLZmPhR"
      },
      "source": [
        "Now let's get the union of these two sets:"
      ]
    },
    {
      "cell_type": "code",
      "execution_count": null,
      "metadata": {
        "id": "mfuMOXDdmGKA"
      },
      "outputs": [],
      "source": [
        "odd ∪ prime"
      ]
    },
    {
      "cell_type": "markdown",
      "metadata": {
        "id": "xS6GLhE5mRbD"
      },
      "source": [
        "∪ is the union symbol, not a U. To type this character, type `\\cup<tab>` (it has the shape of a cup). Alternatively, you can just use the `union()` function:"
      ]
    },
    {
      "cell_type": "code",
      "execution_count": null,
      "metadata": {
        "id": "G_yju4QvmerU"
      },
      "outputs": [],
      "source": [
        "union(odd, prime)"
      ]
    },
    {
      "cell_type": "markdown",
      "metadata": {
        "id": "Y8l4331img0-"
      },
      "source": [
        "Now let's get the intersection using the ∩ symbol (type `\\cap<tab>`):"
      ]
    },
    {
      "cell_type": "code",
      "execution_count": null,
      "metadata": {
        "id": "NazqlxbGmkZM"
      },
      "outputs": [],
      "source": [
        "odd ∩ prime"
      ]
    },
    {
      "cell_type": "markdown",
      "metadata": {
        "id": "X9-MDgxWmzXl"
      },
      "source": [
        "Or use the `intersect()` function:"
      ]
    },
    {
      "cell_type": "code",
      "execution_count": null,
      "metadata": {
        "id": "zcEEMfG4m1l9"
      },
      "outputs": [],
      "source": [
        "intersect(odd, prime)"
      ]
    },
    {
      "cell_type": "markdown",
      "metadata": {
        "id": "QSMs88owpLb2"
      },
      "source": [
        "Next, let's get the [set difference](https://en.wikipedia.org/wiki/Complement_(set_theory)#Relative_complement) and the [symetric difference](https://en.wikipedia.org/wiki/Symmetric_difference) between these two sets:"
      ]
    },
    {
      "cell_type": "code",
      "execution_count": null,
      "metadata": {
        "id": "-Tpr5_BBpQH_"
      },
      "outputs": [],
      "source": [
        "setdiff(odd, prime) # values in odd but not in prime"
      ]
    },
    {
      "cell_type": "code",
      "execution_count": null,
      "metadata": {
        "id": "of_EQE1CpvpO"
      },
      "outputs": [],
      "source": [
        "symdiff(odd, prime) # values that are not in the intersection"
      ]
    },
    {
      "cell_type": "markdown",
      "metadata": {
        "id": "NH_-NbzPsSQ_"
      },
      "source": [
        "Lastly, set comprehensions work just fine:"
      ]
    },
    {
      "cell_type": "code",
      "execution_count": null,
      "metadata": {
        "id": "LMIiE-0psXvs"
      },
      "outputs": [],
      "source": [
        "Set([i^2 for i in 1:4])"
      ]
    },
    {
      "cell_type": "markdown",
      "metadata": {
        "id": "DBJ4XaVmoeUY"
      },
      "source": [
        "The equivalent Python code is:\n",
        "\n",
        "```python\n",
        "# PYTHON\n",
        "odds = {1, 3, 5, 7, 9, 11}\n",
        "primes = {2, 3, 5, 7, 11}\n",
        "5 in primes\n",
        "odds | primes # union\n",
        "odds.union(primes)\n",
        "odds & primes # intersection\n",
        "odds.intersection(primes)\n",
        "odds - primes # set difference\n",
        "odds.difference(primes)\n",
        "odds ^ primes # symmetric difference\n",
        "odds.symmetric_difference(primes)\n",
        "{i**2 for i in range(1, 5)}\n",
        "```"
      ]
    },
    {
      "cell_type": "markdown",
      "metadata": {
        "id": "vm1zWNsJRcFV"
      },
      "source": [
        "Note that you can store any hashable object in a `Set` (i.e., any instance of a type for which the `hash()` method is implemented). This includes arrays, unlike in Python. Just like for dictionary keys, you can add arrays to sets, but make sure not to mutate them after insertion."
      ]
    },
    {
      "cell_type": "markdown",
      "metadata": {
        "id": "nPrJ9Ih9X4ak"
      },
      "source": [
        "|Julia|Python\n",
        "|-----|------\n",
        "|`Set([1, 3, 5, 7])` | `{1, 3, 5, 7}`\n",
        "|`5 in odd` | `5 in odd`\n",
        "|`Set([i^2 for i in 1:4])` | `{i**2 for i in range(1, 5)}`\n",
        "|`odd ∪ primes` | `odd | primes`\n",
        "|`union(odd, primes)` | `odd.union(primes)`\n",
        "|`odd ∩ primes` | `odd & primes`\n",
        "|`insersect(odd, primes)` | `odd.intersection(primes)`\n",
        "|`setdiff(odd, primes)` | `odd - primes` or `odd.difference(primes)`\n",
        "|`symdiff(odd, primes)` | `odd ^ primes` or `odd.symmetric_difference(primes)`"
      ]
    },
    {
      "cell_type": "markdown",
      "metadata": {
        "id": "AOfz9B7ZF__1"
      },
      "source": [
        "# Enums"
      ]
    },
    {
      "cell_type": "markdown",
      "metadata": {
        "id": "RozBUdxsGgKv"
      },
      "source": [
        "To create an enum, use the `@enum` macro:"
      ]
    },
    {
      "cell_type": "code",
      "execution_count": null,
      "metadata": {
        "id": "R6HMPDyvGB_k"
      },
      "outputs": [],
      "source": [
        "@enum Fruit apple=1 banana=2 orange=3"
      ]
    },
    {
      "cell_type": "markdown",
      "metadata": {
        "id": "dxFUJ9boGmkh"
      },
      "source": [
        "This creates the `Fruit` enum, with 3 possible values. It also binds the names to the values:"
      ]
    },
    {
      "cell_type": "code",
      "execution_count": null,
      "metadata": {
        "id": "czHDZ6MRGUvL"
      },
      "outputs": [],
      "source": [
        "banana"
      ]
    },
    {
      "cell_type": "markdown",
      "metadata": {
        "id": "7ufyorAsGvzv"
      },
      "source": [
        "Or you can get a `Fruit` instance using the value:"
      ]
    },
    {
      "cell_type": "code",
      "execution_count": null,
      "metadata": {
        "id": "NVgfYUBWGObS"
      },
      "outputs": [],
      "source": [
        "Fruit(2)"
      ]
    },
    {
      "cell_type": "markdown",
      "metadata": {
        "id": "ctxEepMNG_-4"
      },
      "source": [
        "And you can get all the instances of the enum easily:"
      ]
    },
    {
      "cell_type": "code",
      "execution_count": null,
      "metadata": {
        "id": "yPy9trwtGR1y"
      },
      "outputs": [],
      "source": [
        "instances(Fruit)"
      ]
    },
    {
      "cell_type": "markdown",
      "metadata": {
        "id": "bBCsVIXEHD29"
      },
      "source": [
        "|Julia|Python\n",
        "|-----|------\n",
        "|`@enum Fruit apple=1 banana=2 orange=3` | `from enum import Enum`<br />`class Fruit(Enum):`<br />&nbsp;&nbsp;&nbsp;&nbsp;`APPLE = 1`<br />&nbsp;&nbsp;&nbsp;&nbsp;`BANANA = 2`<br />&nbsp;&nbsp;&nbsp;&nbsp;`ORANGE = 3`\n",
        "| `Fruit(2) === banana` | `Fruit(2) is Fruit.BANANA`\n",
        "| `instances(Fruit)` | `dir(Fruit)`\n"
      ]
    },
    {
      "cell_type": "markdown",
      "metadata": {
        "id": "7OOe0m7pLj80"
      },
      "source": [
        "# Object Identity\n",
        "In the previous example, `Fruit(2)` and `banana` refer to the same object, not just two objects that happen to be equal. You can verify using the `===` operator, which is the equivalent of Python's `is` operator:"
      ]
    },
    {
      "cell_type": "code",
      "execution_count": null,
      "metadata": {
        "id": "G6cpTrQcGUP4"
      },
      "outputs": [],
      "source": [
        "banana === Fruit(2)"
      ]
    },
    {
      "cell_type": "markdown",
      "metadata": {
        "id": "4QPR-8TeL5Wy"
      },
      "source": [
        "You can also check this by looking at their `objectid()`, which is the equivalent of Python's `id()` function:"
      ]
    },
    {
      "cell_type": "code",
      "execution_count": null,
      "metadata": {
        "id": "q6qYhWnyMBpf"
      },
      "outputs": [],
      "source": [
        "objectid(banana)"
      ]
    },
    {
      "cell_type": "code",
      "execution_count": null,
      "metadata": {
        "id": "sT3hq8f_MEZN"
      },
      "outputs": [],
      "source": [
        "objectid(Fruit(2))"
      ]
    },
    {
      "cell_type": "code",
      "execution_count": null,
      "metadata": {
        "id": "4ZrS4322MKfN"
      },
      "outputs": [],
      "source": [
        "a = [1, 2, 4]\n",
        "b = [1, 2, 4]\n",
        "@assert a == b  # a and b are equal\n",
        "@assert a !== b # but they are not the same object"
      ]
    },
    {
      "cell_type": "markdown",
      "metadata": {
        "id": "K3EO6cQmMW0W"
      },
      "source": [
        "|Julia|Python\n",
        "|-----|------\n",
        "|`a === b` | `a is b`\n",
        "|`a !== b` | `a is not b`\n",
        "|`objectid(obj)` | `id(obj)`"
      ]
    },
    {
      "cell_type": "markdown",
      "metadata": {
        "id": "d_ATAuXREZx9"
      },
      "source": [
        "# Other Collections\n",
        "\n",
        "For the Julia equivalent of Python's other collections, namely `defaultdict`, `deque`, `OrderedDict`, and `Counter`, check out these libraries:\n",
        "\n",
        "* https://github.com/JuliaCollections/DataStructures.jl\n",
        "* https://github.com/JuliaCollections/OrderedCollections.jl\n",
        "* https://github.com/andyferris/Dictionaries.jl"
      ]
    },
    {
      "cell_type": "markdown",
      "metadata": {
        "id": "GBYBDAsF6iDC"
      },
      "source": [
        "Now let's looks at various iteration constructs."
      ]
    },
    {
      "cell_type": "markdown",
      "metadata": {
        "id": "jApml2wDacs2"
      },
      "source": [
        "# Iteration Tools"
      ]
    },
    {
      "cell_type": "markdown",
      "metadata": {
        "id": "AW2vVurj9E7r"
      },
      "source": [
        "## Generator Expressions\n",
        "\n",
        "Just like in Python, a generator expression resembles a list comprehension, but without the square brackets, and it returns a generator instead of a list. Here's a much shorter implementation of the `estimate_pi()` function using a generator expression:"
      ]
    },
    {
      "cell_type": "code",
      "execution_count": null,
      "metadata": {
        "id": "7pLMhQjV6z5l"
      },
      "outputs": [],
      "source": [
        "function estimate_pi2(n)\n",
        "    4 * sum((isodd(i) ? -1 : 1)/(2i+1) for i in 0:n)\n",
        "end\n",
        "\n",
        "@assert estimate_pi(100) == estimate_pi2(100)"
      ]
    },
    {
      "cell_type": "markdown",
      "metadata": {
        "id": "u-WAtc-eDcp9"
      },
      "source": [
        "That's very similar to the corresponding Python code:\n",
        "\n",
        "```python\n",
        "# PYTHON\n",
        "def estimate_pi2(n):\n",
        "  return 4 * sum((-1 if i%2==1 else 1)/(2*i+1) for i in range(n+1))\n",
        "\n",
        "assert estimate_pi(100) == estimate_pi2(100)\n",
        "```"
      ]
    },
    {
      "cell_type": "markdown",
      "metadata": {
        "id": "OHaPPceEKO3r"
      },
      "source": [
        "## `zip`, `enumerate`, `collect`"
      ]
    },
    {
      "cell_type": "markdown",
      "metadata": {
        "id": "GBj2mvbiI9cP"
      },
      "source": [
        "The `zip()` function works much like in Python:"
      ]
    },
    {
      "cell_type": "code",
      "execution_count": null,
      "metadata": {
        "id": "-UsOasVeJCWe"
      },
      "outputs": [],
      "source": [
        "for (i, s) in zip(10:13, [\"Ten\", \"Eleven\", \"Twelve\"])\n",
        "    println(i, \": \", s)\n",
        "end"
      ]
    },
    {
      "cell_type": "markdown",
      "metadata": {
        "id": "hu_eJ7okKolh"
      },
      "source": [
        "Notice that the parentheses in `for (i, s)` are required in Julia, as opposed to Python."
      ]
    },
    {
      "cell_type": "markdown",
      "metadata": {
        "id": "3y2q4YhNJOQy"
      },
      "source": [
        "The `enumerate()` function also works like in Python, except of course it is 1-indexed:"
      ]
    },
    {
      "cell_type": "code",
      "execution_count": null,
      "metadata": {
        "id": "bCTejeu0Ji_8"
      },
      "outputs": [],
      "source": [
        "for (i, s) in enumerate([\"One\", \"Two\", \"Three\"])\n",
        "    println(i, \": \", s)\n",
        "end"
      ]
    },
    {
      "cell_type": "markdown",
      "metadata": {
        "id": "vs4_UjWnJy20"
      },
      "source": [
        "To pull the values of a generator into an array, use `collect()`:"
      ]
    },
    {
      "cell_type": "code",
      "execution_count": null,
      "metadata": {
        "id": "42T1NJKhKD1w"
      },
      "outputs": [],
      "source": [
        "collect(1:5)"
      ]
    },
    {
      "cell_type": "markdown",
      "metadata": {
        "id": "MQMx3bjkKFpk"
      },
      "source": [
        "A shorter syntax for that is:"
      ]
    },
    {
      "cell_type": "code",
      "execution_count": null,
      "metadata": {
        "id": "2IEoo_TvKIDm"
      },
      "outputs": [],
      "source": [
        "[1:5;]"
      ]
    },
    {
      "cell_type": "markdown",
      "metadata": {
        "id": "gbub1jhlKc0V"
      },
      "source": [
        "The equivalent Python code is:\n",
        "\n",
        "```python\n",
        "# PYTHON\n",
        "list(range(1, 6))\n",
        "```"
      ]
    },
    {
      "cell_type": "markdown",
      "metadata": {
        "id": "CumclAQ4TTpq"
      },
      "source": [
        "## Generators\n",
        "In Python, you can easily write a generator function to create an object that will behave like an iterator. For example, let's create a generator for the Fibonacci sequence (where each number is the sum of the two previous numbers):\n",
        "\n",
        "```python\n",
        "def fibonacci(n):\n",
        "    a, b = 1, 1\n",
        "    for i in range(n):\n",
        "      yield a\n",
        "      a, b = b, a + b\n",
        "\n",
        "for f in fibonacci(10):\n",
        "    print(f)\n",
        "```\n"
      ]
    },
    {
      "cell_type": "markdown",
      "metadata": {
        "id": "bfjsba6gFcMS"
      },
      "source": [
        "This is also quite easy in Julia:"
      ]
    },
    {
      "cell_type": "code",
      "execution_count": null,
      "metadata": {
        "id": "cQZ0cowPUC8x"
      },
      "outputs": [],
      "source": [
        "function fibonacci(n)\n",
        "    Channel() do ch\n",
        "        a, b = 1, 1\n",
        "        for i in 1:n\n",
        "            put!(ch, a)\n",
        "            a, b = b, a + b\n",
        "        end\n",
        "    end\n",
        "end\n",
        "\n",
        "for f in fibonacci(10)\n",
        "    println(f)\n",
        "end"
      ]
    },
    {
      "cell_type": "markdown",
      "metadata": {
        "id": "VWkUE9FRFfQI"
      },
      "source": [
        "The `Channel` type is part of the API for tasks and coroutines. We'll discuss these later."
      ]
    },
    {
      "cell_type": "markdown",
      "metadata": {
        "id": "lisTUktNlbQt"
      },
      "source": [
        "Now let's take a closer look at functions."
      ]
    },
    {
      "cell_type": "markdown",
      "metadata": {
        "id": "jKpjTHMbao6r"
      },
      "source": [
        "# Functions"
      ]
    },
    {
      "cell_type": "markdown",
      "metadata": {
        "id": "k-IIQF4vP7w9"
      },
      "source": [
        "## Arguments\n",
        "Julia functions supports positional arguments and default values:"
      ]
    },
    {
      "cell_type": "code",
      "execution_count": null,
      "metadata": {
        "id": "BnVg7UKNQQ4M"
      },
      "outputs": [],
      "source": [
        "function draw_face(x, y, width=3, height=4)\n",
        "    println(\"x=$x, y=$y, width=$width, height=$height\")\n",
        "end\n",
        "\n",
        "draw_face(10, 20, 30)"
      ]
    },
    {
      "cell_type": "markdown",
      "metadata": {
        "id": "AmKSe9fYRMxb"
      },
      "source": [
        "However, unlike in Python, positional arguments must not be named when the function is called:"
      ]
    },
    {
      "cell_type": "code",
      "execution_count": null,
      "metadata": {
        "id": "fB1flNxMRAo4"
      },
      "outputs": [],
      "source": [
        "try\n",
        "    draw_face(10, 20, width=30)\n",
        "catch ex\n",
        "    ex\n",
        "end"
      ]
    },
    {
      "cell_type": "markdown",
      "metadata": {
        "id": "yBQOd8H6RUJs"
      },
      "source": [
        "Julia also supports a variable number of arguments (called \"varargs\") using the syntax `arg...`, which is the equivalent of Python's `*arg`:"
      ]
    },
    {
      "cell_type": "code",
      "execution_count": null,
      "metadata": {
        "id": "OS1U6AxeRYyb"
      },
      "outputs": [],
      "source": [
        "function copy_files(target_dir, paths...)\n",
        "    println(\"target_dir=$target_dir, paths=$paths\")\n",
        "end\n",
        "\n",
        "copy_files(\"/tmp\", \"a.txt\", \"b.txt\")"
      ]
    },
    {
      "cell_type": "markdown",
      "metadata": {
        "id": "x8lJsP6wQujj"
      },
      "source": [
        "Keyword arguments are supported, after a semicolon `;`:"
      ]
    },
    {
      "cell_type": "code",
      "execution_count": null,
      "metadata": {
        "id": "R4XDHjftQwel"
      },
      "outputs": [],
      "source": [
        "function copy_files2(paths...; confirm=false, target_dir)\n",
        "    println(\"paths=$paths, confirm=$confirm, $target_dir\")\n",
        "end\n",
        "\n",
        "copy_files2(\"a.txt\", \"b.txt\"; target_dir=\"/tmp\")"
      ]
    },
    {
      "cell_type": "markdown",
      "metadata": {
        "id": "katU7ZypHZdc"
      },
      "source": [
        "Notes:\n",
        "* `target_dir` has no default value, so it is a required argument.\n",
        "* The order of the keyword arguments does not matter."
      ]
    },
    {
      "cell_type": "markdown",
      "metadata": {
        "id": "c24CyL7PGE35"
      },
      "source": [
        "You can have another vararg in the keyword section. It corresponds to Python's `**kwargs`:"
      ]
    },
    {
      "cell_type": "code",
      "execution_count": null,
      "metadata": {
        "id": "m-u29GPoGP8l"
      },
      "outputs": [],
      "source": [
        "function copy_files3(paths...; confirm=false, target_dir, options...)\n",
        "    println(\"paths=$paths, confirm=$confirm, $target_dir\")\n",
        "    verbose = options[:verbose]\n",
        "    println(\"verbose=$verbose\")\n",
        "end\n",
        "\n",
        "copy_files3(\"a.txt\", \"b.txt\"; target_dir=\"/tmp\", verbose=true, timeout=60)"
      ]
    },
    {
      "cell_type": "markdown",
      "metadata": {
        "id": "UpbuZ0RYGsC2"
      },
      "source": [
        "The `options` vararg acts like a dictionary (we will discuss dictionaries later). The keys are **symbols**, e.g., `:verbose`. Symbols are like strings, less flexible but faster. They are typically used as keys or identifiers.\n",
        "\n",
        "|Julia|Python (3.8+ if `/` is used)\n",
        "|-----|------\n",
        "| `function foo(a, b=2, c=3)`<br />&nbsp;&nbsp;&nbsp;&nbsp;`...`<br />`end`<br /><br />`foo(1, 2) # positional only` | `def foo(a, b=2, c=3, /):`<br />&nbsp;&nbsp;&nbsp;&nbsp;`...`<br /><br />`foo(1, 2) # pos only because of /`\n",
        "| `function foo(;a=1, b, c=3)`<br />&nbsp;&nbsp;&nbsp;&nbsp;`...`<br />`end`<br /><br />`foo(c=30, b=2) # keyword only` | `def foo(*, a=1, b, c=3):`<br />&nbsp;&nbsp;&nbsp;&nbsp;`...`<br /><br />`foo(c=30, b=2) # kw only because of *`\n",
        "| `function foo(a, b=2; c=3, d)`<br />&nbsp;&nbsp;&nbsp;&nbsp;`...`<br />`end`<br /><br />`foo(1; d=4) # pos only; then keyword only` | `def foo(a, b=2, /, *, c=3, d):`<br />&nbsp;&nbsp;&nbsp;&nbsp;`...`<br /><br />`foo(1, d=4) # pos only then kw only`\n",
        "| `function foo(a, b=2, c...)`<br />&nbsp;&nbsp;&nbsp;&nbsp;`...`<br />`end`<br /><br />`foo(1, 2, 3, 4) # positional only` | `def foo(a, b=2, /, *c):`<br />&nbsp;&nbsp;&nbsp;&nbsp;`...`<br /><br />`foo(1, 2, 3, 4) # positional only`\n",
        "| `function foo(a, b=1, c...; d=1, e, f...)`<br />&nbsp;&nbsp;&nbsp;&nbsp;`...`<br />`end`<br /><br />`foo(1, 2, 3, 4, e=5, x=10, y=20)`<br /> | `def foo(a, b=1, /, *c, d=1, e, **f):`<br />&nbsp;&nbsp;&nbsp;&nbsp;`...`<br /><br />`foo(1, 2, 3, 4, e=5, x=10, y=20)`\n"
      ]
    },
    {
      "cell_type": "markdown",
      "metadata": {
        "id": "JQsdtaYXDoNm"
      },
      "source": [
        "## Concise Functions\n",
        "\n",
        "In Julia, the following definition:"
      ]
    },
    {
      "cell_type": "code",
      "execution_count": null,
      "metadata": {
        "id": "PnB4hMDIkd_4"
      },
      "outputs": [],
      "source": [
        "square(x) = x^2"
      ]
    },
    {
      "cell_type": "markdown",
      "metadata": {
        "id": "iXKsRqZUkk9O"
      },
      "source": [
        "is equivalent to:"
      ]
    },
    {
      "cell_type": "code",
      "execution_count": null,
      "metadata": {
        "id": "iaDlQ7Mzkong"
      },
      "outputs": [],
      "source": [
        "function square(x)\n",
        "    x^2\n",
        "end"
      ]
    },
    {
      "cell_type": "markdown",
      "metadata": {
        "id": "Fjt5CFRfktfK"
      },
      "source": [
        "For example, here's a shorter way to define the `estimate_pi()` function in Julia:"
      ]
    },
    {
      "cell_type": "code",
      "execution_count": null,
      "metadata": {
        "id": "1_D5M-EFDymm"
      },
      "outputs": [],
      "source": [
        "estimate_pi3(n) = 4 * sum((isodd(i) ? -1 : 1)/(2i+1) for i in 0:n)"
      ]
    },
    {
      "cell_type": "markdown",
      "metadata": {
        "id": "ZGDMqjmBls35"
      },
      "source": [
        "To define a function on one line in Python, you need to use a `lambda` (but this is generally frowned upon, since the resulting function's name is `\"<lambda>\"`):\n",
        "\n",
        "```python\n",
        "# PYTHON\n",
        "square = lambda x: x**2\n",
        "assert square.__name__ == \"<lambda>\"\n",
        "```"
      ]
    },
    {
      "cell_type": "markdown",
      "metadata": {
        "id": "pyLBXz8llVhu"
      },
      "source": [
        "This leads us to anonymous functions."
      ]
    },
    {
      "cell_type": "markdown",
      "metadata": {
        "id": "UV29B5anEAFF"
      },
      "source": [
        "## Anonymous Functions\n",
        "You can define anonymous functions (lambdas) using the `in -> out` syntax:"
      ]
    },
    {
      "cell_type": "code",
      "execution_count": null,
      "metadata": {
        "id": "VAH0e6BjEJB2"
      },
      "outputs": [],
      "source": [
        "map(x -> x^2, 1:4)"
      ]
    },
    {
      "cell_type": "markdown",
      "metadata": {
        "id": "RLy4-8trawqM"
      },
      "source": [
        "Here is the equivalent Python code:\n",
        "\n",
        "```python\n",
        "list(map(lambda x: x**2, range(1, 5)))\n",
        "```\n",
        "\n",
        "Notes:\n",
        "* `map()` returns an array in Julia, instead of an iterator like in Python.\n",
        "* You could use a comprehension instead: `[x^2 for x in 1:4]`."
      ]
    },
    {
      "cell_type": "markdown",
      "metadata": {
        "id": "7RcghJ-EEUjz"
      },
      "source": [
        "\n",
        "|Julia|Python\n",
        "|-----|------\n",
        "|`x -> x^2` | `lambda x: x**2`\n",
        "|`(x,y) -> x + y` | `lambda x,y: x + y `\n",
        "|`() -> println(\"yes\")` | `lambda: print(\"yes\")`\n"
      ]
    },
    {
      "cell_type": "markdown",
      "metadata": {
        "id": "jSYEdqYvF6XH"
      },
      "source": [
        "In Python, lambda functions must be simple expressions. They cannot contain multiple statements. In Julia, they can be as long as you want. Indeed, you can create a multi-statement block using the syntax `(stmt_1; stmt_2; ...; stmt_n)`. The return value is the output of the last statement. For example:"
      ]
    },
    {
      "cell_type": "code",
      "execution_count": null,
      "metadata": {
        "id": "SnuJMFymEbPp"
      },
      "outputs": [],
      "source": [
        "map(x -> (println(\"Number $x\"); x^2), 1:4)"
      ]
    },
    {
      "cell_type": "markdown",
      "metadata": {
        "id": "k1ztQt-VGz7p"
      },
      "source": [
        "This syntax can span multiple lines:"
      ]
    },
    {
      "cell_type": "code",
      "execution_count": null,
      "metadata": {
        "id": "H-XL-nysG67t"
      },
      "outputs": [],
      "source": [
        "map(x -> (\n",
        "        println(\"Number $x\");\n",
        "        x^2\n",
        "    ), 1:4)"
      ]
    },
    {
      "cell_type": "markdown",
      "metadata": {
        "id": "YZUU9OLdHEUX"
      },
      "source": [
        "But in this case, it's probably clearer to use the `begin ... end` syntax instead:"
      ]
    },
    {
      "cell_type": "code",
      "execution_count": null,
      "metadata": {
        "id": "t3LUgpigHJ3Z"
      },
      "outputs": [],
      "source": [
        "map(x -> begin\n",
        "        println(\"Number $x\")\n",
        "        x^2\n",
        "    end, 1:4)"
      ]
    },
    {
      "cell_type": "markdown",
      "metadata": {
        "id": "FQ5nX-AHIYUr"
      },
      "source": [
        "Notice that this syntax allows you to drop the semicolons `;` at the end of each line in the block.\n",
        "\n",
        "Yet another way to define an anonymous function is using the `function (args) ... end` syntax:"
      ]
    },
    {
      "cell_type": "code",
      "execution_count": null,
      "metadata": {
        "id": "vKAR1ucxIQzF"
      },
      "outputs": [],
      "source": [
        "map(function (x)\n",
        "        println(\"Number $x\")\n",
        "        x^2\n",
        "    end, 1:4)"
      ]
    },
    {
      "cell_type": "markdown",
      "metadata": {
        "id": "SGBwAWJ7HQ78"
      },
      "source": [
        "Lastly, if you're passing the anonymous function as the first argument to a function (as is the case in this example), it's usually much preferable to define the anonymous function immediately after the function call, using the `do` syntax, like this:"
      ]
    },
    {
      "cell_type": "code",
      "execution_count": null,
      "metadata": {
        "id": "G60xP30UHW5F"
      },
      "outputs": [],
      "source": [
        "map(1:4) do x\n",
        "  println(\"Number $x\")\n",
        "  x^2\n",
        "end"
      ]
    },
    {
      "cell_type": "markdown",
      "metadata": {
        "id": "vtsXFsLTJTpD"
      },
      "source": [
        "This syntax lets you easily define constructs that feel like language extensions:"
      ]
    },
    {
      "cell_type": "code",
      "execution_count": null,
      "metadata": {
        "id": "03Hru6aqIIgY"
      },
      "outputs": [],
      "source": [
        "function my_foreach(func, collection)\n",
        "    for i in collection\n",
        "        func(i)\n",
        "    end\n",
        "end\n",
        "\n",
        "my_foreach(1:4) do i\n",
        "    println(\"The square of $i is $(i^2)\")\n",
        "end"
      ]
    },
    {
      "cell_type": "markdown",
      "metadata": {
        "id": "tFWXrW9z9q8f"
      },
      "source": [
        "In fact, Julia has a similar `foreach()` function."
      ]
    },
    {
      "cell_type": "markdown",
      "metadata": {
        "id": "XXuNr-9iZJf4"
      },
      "source": [
        "The `do` syntax could be used to write a Domain Specific Language (DSL), for example an infrastructure automation DSL:"
      ]
    },
    {
      "cell_type": "code",
      "execution_count": null,
      "metadata": {
        "id": "sF1f2HsCZKoT"
      },
      "outputs": [],
      "source": [
        "function spawn_server(startup_func, server_type)\n",
        "    println(\"Starting $server_type server\")\n",
        "    server_id = 1234\n",
        "    println(\"Configuring server $server_id...\")\n",
        "    startup_func(server_id)\n",
        "end\n",
        "\n",
        "# This is the DSL part\n",
        "spawn_server(\"web\") do server_id\n",
        "    println(\"Creating HTML pages on server $server_id...\")\n",
        "end"
      ]
    },
    {
      "cell_type": "markdown",
      "metadata": {
        "id": "9jRtJFU82wEO"
      },
      "source": [
        "It's also quite nice for event-driven code:"
      ]
    },
    {
      "cell_type": "code",
      "execution_count": null,
      "metadata": {
        "id": "lU-neWob2_As"
      },
      "outputs": [],
      "source": [
        "handlers = []\n",
        "\n",
        "on_click(handler) = push!(handlers, handler)\n",
        "\n",
        "click(event) = foreach(handlers) do handler handler(event) end\n",
        "\n",
        "on_click() do event\n",
        "    println(\"Mouse clicked at $event\")\n",
        "end\n",
        "\n",
        "on_click() do event\n",
        "    println(\"Beep.\")\n",
        "end\n",
        "\n",
        "click((x=50, y=20))\n",
        "click((x=120, y=10))"
      ]
    },
    {
      "cell_type": "markdown",
      "metadata": {
        "id": "VclQwKNzajfP"
      },
      "source": [
        "It can also be used to create context managers, for example to automatically close an object after it has been used, even if an exception is raised:"
      ]
    },
    {
      "cell_type": "code",
      "execution_count": null,
      "metadata": {
        "id": "_fCFbtHJarew"
      },
      "outputs": [],
      "source": [
        "function with_database(func, name)\n",
        "    println(\"Opening connection to database $name\")\n",
        "    db = \"a db object for database $name\"\n",
        "    try\n",
        "        func(db)\n",
        "    finally\n",
        "        println(\"Closing connection to database $name\")\n",
        "    end\n",
        "end\n",
        "\n",
        "with_database(\"jobs\") do db\n",
        "    println(\"I'm working with $db\")\n",
        "    #error(\"Oops\") # try uncommenting this line (database will still be closed)\n",
        "end"
      ]
    },
    {
      "cell_type": "markdown",
      "metadata": {
        "id": "D17bqrJwbqS5"
      },
      "source": [
        "The equivalent code in Python would look like this:"
      ]
    },
    {
      "cell_type": "markdown",
      "metadata": {
        "id": "YmCiwD0Ubslm"
      },
      "source": [
        "```python\n",
        "# PYTHON\n",
        "class Database:\n",
        "    def __init__(self, name):\n",
        "        self.name = name\n",
        "    def __enter__(self):\n",
        "        print(f\"Opening connection to database {self.name}\")\n",
        "        return f\"a db object for database {self.name}\"\n",
        "    def __exit__(self, type, value, traceback):\n",
        "        print(f\"Closing connection to database {self.name}\")\n",
        "\n",
        "with Database(\"jobs\") as db:\n",
        "    print(f\"I'm working with {db}\")\n",
        "    #raise Exception(\"Oops\") # try uncommenting this line\n",
        "```\n",
        "\n",
        "Or you could use `contextlib`:\n",
        "\n",
        "```python\n",
        "from contextlib import contextmanager\n",
        "\n",
        "@contextmanager\n",
        "def database(name):\n",
        "    print(f\"Opening connection to database {name}\")\n",
        "    db = f\"a db object for database {name}\"\n",
        "    try:\n",
        "        yield db\n",
        "    finally:\n",
        "        print(f\"Closing connection to database {name}\")\n",
        "\n",
        "with database(\"jobs\") as db:\n",
        "    print(f\"I'm working with {db}\")\n",
        "    #raise Exception(\"Oops\") # try uncommenting this line\n",
        "```"
      ]
    },
    {
      "cell_type": "markdown",
      "metadata": {
        "id": "scEsYrSt2jpA"
      },
      "source": [
        "## Piping\n",
        "If you are used to the Object Oriented syntax `\"a b c\".upper().split()`, you may feel that writing `split(uppercase(\"a b c\"))` is a bit backwards. If so, the piping operation `|>` is for you:"
      ]
    },
    {
      "cell_type": "code",
      "execution_count": null,
      "metadata": {
        "id": "wRrmVEWG24_f"
      },
      "outputs": [],
      "source": [
        "\"a b c\" |> uppercase |> split"
      ]
    },
    {
      "cell_type": "markdown",
      "metadata": {
        "id": "c2Y1HRhG4S47"
      },
      "source": [
        "If you want to pass more than one argument to some of the functions, you can use anonymous functions:"
      ]
    },
    {
      "cell_type": "code",
      "execution_count": null,
      "metadata": {
        "id": "IzIFbaLQ4UCO"
      },
      "outputs": [],
      "source": [
        "\"a b c\" |> uppercase |> split |> tokens->join(tokens, \", \", \" and \")"
      ]
    },
    {
      "cell_type": "markdown",
      "metadata": {
        "id": "GcnKoRyHcGC6"
      },
      "source": [
        "The dotted version of the pipe operator works as you might expect, applying the _i_<sup>th</sup> function of the right array to the _i_<sup>th</sup> value in the left array:"
      ]
    },
    {
      "cell_type": "code",
      "execution_count": null,
      "metadata": {
        "id": "a7LytVDKbL_e"
      },
      "outputs": [],
      "source": [
        "[π/2, \"hello\", 4] .|> [sin, length, x->x^2]"
      ]
    },
    {
      "cell_type": "markdown",
      "metadata": {
        "id": "Czk5ZFOn3LDi"
      },
      "source": [
        "## Composition\n",
        "Julia also lets you compose functions like mathematicians do, using the composition operator ∘ (`\\circ<tab>` in the REPL or Jupyter, but not Colab):"
      ]
    },
    {
      "cell_type": "code",
      "execution_count": null,
      "metadata": {
        "id": "iK9UrlF2aU_y"
      },
      "outputs": [],
      "source": [
        "f = exp ∘ sin ∘ sqrt\n",
        "f(2.0) == exp(sin(sqrt(2.0)))"
      ]
    },
    {
      "cell_type": "markdown",
      "metadata": {
        "id": "lQJKl9rD-BWj"
      },
      "source": [
        "# Methods\n",
        "Earlier, we discussed structs, which look a lot like Python classes, with instance variables and constructors, but they did not contain any methods (just the inner constructors). In Julia, methods are defined separately, like regular functions:"
      ]
    },
    {
      "cell_type": "code",
      "execution_count": null,
      "metadata": {
        "id": "axvF_XwJ-DJw"
      },
      "outputs": [],
      "source": [
        "struct Person\n",
        "    name\n",
        "    age\n",
        "end\n",
        "\n",
        "function greetings(greeter)\n",
        "    println(\"Hi, my name is $(greeter.name), I am $(greeter.age) years old.\")\n",
        "end\n",
        "\n",
        "p = Person(\"Alice\", 70)\n",
        "greetings(p)"
      ]
    },
    {
      "cell_type": "markdown",
      "metadata": {
        "id": "ylOha2mhCRgz"
      },
      "source": [
        "Since the `greetings()` method in Julia is not bound to any particular type, we can use it with any other type we want, as long as that type has a `name` and an `age` (i.e., if it quacks like a duck):"
      ]
    },
    {
      "cell_type": "code",
      "execution_count": null,
      "metadata": {
        "id": "vWkQqaEPCgeY"
      },
      "outputs": [],
      "source": [
        "struct City\n",
        "    name\n",
        "    country\n",
        "    age\n",
        "end\n",
        "\n",
        "using Dates\n",
        "c = City(\"Auckland\", \"New Zealand\", year(now()) - 1840)\n",
        "\n",
        "greetings(c)"
      ]
    },
    {
      "cell_type": "markdown",
      "metadata": {
        "id": "sRI9XAbrLA0t"
      },
      "source": [
        "You could code this the same way in Python if you wanted to:\n",
        "\n",
        "```python\n",
        "# PYTHON\n",
        "class Person:\n",
        "    def __init__(self, name, age):\n",
        "        self.name = name\n",
        "        self.age = age\n",
        "\n",
        "class City:\n",
        "    def __init__(self, name, country, age):\n",
        "        self.name = name\n",
        "        self.country = country\n",
        "        self.age = age\n",
        "\n",
        "def greetings(greeter):\n",
        "    print(f\"Hi there, my name is {greeter.name}, I am {greeter.age} years old.\")\n",
        "\n",
        "p = Person(\"Lucy\", 70)\n",
        "greetings(p)\n",
        "\n",
        "from datetime import date\n",
        "c = City(\"Auckland\", \"New Zealand\", date.today().year - 1840)\n",
        "greetings(c)\n",
        "```"
      ]
    },
    {
      "cell_type": "markdown",
      "metadata": {
        "id": "qIcoroYhG5_Y"
      },
      "source": [
        "However, many Python programmers would use inheritance in this case:\n",
        "\n",
        "```python\n",
        "class Greeter:\n",
        "    def __init__(self, name, age):\n",
        "        self.name = name\n",
        "        self.age = age\n",
        "    def greetings(self):\n",
        "        print(f\"Hi there, my name is {self.name}, I am {self.age} years old.\")\n",
        "\n",
        "class Person(Greeter):\n",
        "    def __init__(self, name, age):\n",
        "        super().__init__(name, age)\n",
        "\n",
        "class City(Greeter):\n",
        "    def __init__(self, name, country, age):\n",
        "        super().__init__(name, age)\n",
        "        self.country = country\n",
        "\n",
        "p = Person(\"Lucy\", 70)\n",
        "p.greetings()\n",
        "\n",
        "from datetime import date\n",
        "c = City(\"Auckland\", \"New Zealand\", date.today().year - 1840)\n",
        "c.greetings()\n",
        "```\n"
      ]
    },
    {
      "cell_type": "markdown",
      "metadata": {
        "id": "iRNLWOyURGGp"
      },
      "source": [
        "## Extending a Function\n",
        "One nice thing about having a class hierarchy is that you can override methods in subclasses to get specialized behavior for each class. For example, in Python you could override the `greetings()` method like this:\n",
        "\n",
        "```python\n",
        "# PYTHON\n",
        "class Developer(Person):\n",
        "    def __init__(self, name, age, language):\n",
        "        super().__init__(name, age)\n",
        "        self.language = language\n",
        "    def greetings(self):\n",
        "        print(f\"Hi there, my name is {self.name}, I am {self.age} years old.\")\n",
        "        print(f\"My favorite language is {self.language}.\")\n",
        "\n",
        "d = Developer(\"Amy\", 40, \"Julia\")\n",
        "d.greetings()\n",
        "```\n"
      ]
    },
    {
      "cell_type": "markdown",
      "metadata": {
        "id": "srgbdxLxSWGG"
      },
      "source": [
        "Notice that the expression `d.greetings()` will call a different method if `d` is a `Person` or a `Developer`. This is called \"polymorphism\": the same method call behaves differently depending on the type of the object. The language chooses which actual method implementation to call, based on the type of `d`: this is called method \"dispatch\". More specifically, since it only depends on a single variable, it is called \"single dispatch\".\n",
        "\n",
        "The good news is that Julia can do single dispatch as well:"
      ]
    },
    {
      "cell_type": "code",
      "execution_count": null,
      "metadata": {
        "id": "j6fIldepUFA1"
      },
      "outputs": [],
      "source": [
        "struct Developer\n",
        "    name\n",
        "    age\n",
        "    language\n",
        "end\n",
        "\n",
        "function greetings(dev::Developer)\n",
        "    println(\"Hi, my name is $(dev.name), I am $(dev.age) years old.\")\n",
        "    println(\"My favorite language is $(dev.language).\")\n",
        "end\n",
        "\n",
        "d = Developer(\"Amy\", 40, \"Julia\")\n",
        "greetings(d)"
      ]
    },
    {
      "cell_type": "markdown",
      "metadata": {
        "id": "2ji22KZNVHub"
      },
      "source": [
        "Notice that the `dev` argument is followed by `::Developer`, which means that this method will only be called if the argument has that type.\n",
        "\n",
        "We have **extended** the `greetings` **function**, so that it now has two different implementations, called **methods**, each for different argument types: namely, `greetings(dev::Developer)` for arguments of type `Developer`, and `greetings(greeter)` for values of any other type.\n",
        "\n",
        "You can easily get the list of all the methods of a given function:"
      ]
    },
    {
      "cell_type": "code",
      "execution_count": null,
      "metadata": {
        "id": "6yQgjmjST2xL"
      },
      "outputs": [],
      "source": [
        "methods(greetings)"
      ]
    },
    {
      "cell_type": "markdown",
      "metadata": {
        "id": "iS7Byq8yd8uE"
      },
      "source": [
        "You can also get the list of all the methods which take a particular type as argument:"
      ]
    },
    {
      "cell_type": "code",
      "execution_count": null,
      "metadata": {
        "id": "ZxFaPzByd0qv"
      },
      "outputs": [],
      "source": [
        "methodswith(Developer)"
      ]
    },
    {
      "cell_type": "markdown",
      "metadata": {
        "id": "ab4DP1-fT7dE"
      },
      "source": [
        "When you call the `greetings()` function, Julia automatically dispatches the call to the appropriate method, depending on the type of the argument. If Julia can determine at compile time what the type of the argument will be, then it optimizes the compiled code so that there's no choice to be made at runtime. This is called **static dispatch**, and it can significantly speed up the program. If the argument's type can't be determined at compile time, then Julia makes the choice at runtime, just like in Python: this is called **dynamic dispatch**."
      ]
    },
    {
      "cell_type": "markdown",
      "metadata": {
        "id": "Y7U4rXr2GnFx"
      },
      "source": [
        "## Multiple Dispatch\n",
        "Julia actually looks at the types of _all_ the positional arguments, not just the first one. This is called **multiple dispatch**. For example:"
      ]
    },
    {
      "cell_type": "code",
      "execution_count": null,
      "metadata": {
        "id": "YE7pb7tHHEcb"
      },
      "outputs": [],
      "source": [
        "multdisp(a::Int64, b::Int64) = 1\n",
        "multdisp(a::Int64, b::Float64) = 2\n",
        "multdisp(a::Float64, b::Int64) = 3\n",
        "multdisp(a::Float64, b::Float64) = 4\n",
        "\n",
        "multdisp(10, 20) # try changing the arguments to get each possible output"
      ]
    },
    {
      "cell_type": "markdown",
      "metadata": {
        "id": "wJtjHEYGJr5B"
      },
      "source": [
        "Julia always chooses the most specific method it can, so the following method will only be called if the first argument is neither an `Int64` nor a `Float64`:"
      ]
    },
    {
      "cell_type": "code",
      "execution_count": null,
      "metadata": {
        "id": "SrZv6JZBKZGF"
      },
      "outputs": [],
      "source": [
        "multdisp(a::Any, b::Int64) = 5\n",
        "\n",
        "multdisp(10, 20)"
      ]
    },
    {
      "cell_type": "markdown",
      "metadata": {
        "id": "BiwKlUcMKvbr"
      },
      "source": [
        "Julia will raise an exception if there is some ambiguity as to which method is the most specific:"
      ]
    },
    {
      "cell_type": "code",
      "execution_count": null,
      "metadata": {
        "id": "wnvxky-JJQxU"
      },
      "outputs": [],
      "source": [
        "ambig(a::Int64, b) = 1\n",
        "ambig(a, b::Int64) = 2\n",
        "\n",
        "try\n",
        "    ambig(10, 20)\n",
        "catch ex\n",
        "    ex\n",
        "end"
      ]
    },
    {
      "cell_type": "markdown",
      "metadata": {
        "id": "5Pb7CA7kK8UT"
      },
      "source": [
        "To solve this problem, you can explicitely define a method for the ambiguous case:"
      ]
    },
    {
      "cell_type": "code",
      "execution_count": null,
      "metadata": {
        "id": "mlr9q0GxLL-q"
      },
      "outputs": [],
      "source": [
        "ambig(a::Int64, b::Int64) = 3\n",
        "ambig(10, 20)"
      ]
    },
    {
      "cell_type": "markdown",
      "metadata": {
        "id": "W19FsOf2GOcF"
      },
      "source": [
        "So you can have polymorphism in Julia, just like in Python. This means that you can write your algorithms in a generic way, without having to know the exact types of the values you are manipulating, and it will work fine, as long as these types act in the general way you expect (i.e., if they \"quack like ducks\"). For example:"
      ]
    },
    {
      "cell_type": "code",
      "execution_count": null,
      "metadata": {
        "id": "L_i8ksenUoz8"
      },
      "outputs": [],
      "source": [
        "function how_can_i_help(greeter)\n",
        "    greetings(greeter)\n",
        "    println(\"How can I help?\")\n",
        "end\n",
        "\n",
        "how_can_i_help(p) # called on a Person\n",
        "how_can_i_help(d) # called on a Developer"
      ]
    },
    {
      "cell_type": "markdown",
      "metadata": {
        "id": "jZmax1CvVBKT"
      },
      "source": [
        "## Calling `super()`?\n",
        "You may have noticed that the `greetings(dev::Developer)` method could be improved, since it currently duplicates the implementation of the base method `greetings(greeter)`. In Python, you would get rid of this duplication by calling the base class's `greetings()` method, using `super()`:\n",
        "\n",
        "```python\n",
        "# PYTHON\n",
        "class Developer(Person):\n",
        "    def __init__(self, name, age, language):\n",
        "        super().__init__(name, age)\n",
        "        self.language = language\n",
        "    def greetings(self):\n",
        "        super().greetings() # <== THIS!\n",
        "        print(f\"My favorite language is {self.language}.\")\n",
        "\n",
        "d = Developer(\"Amy\", 40, \"Julia\")\n",
        "d.greetings()\n",
        "```\n",
        "\n",
        "In Julia, you can do something pretty similar, although you have to implement your own `super()` function, as it is not part of the language:"
      ]
    },
    {
      "cell_type": "code",
      "execution_count": null,
      "metadata": {
        "id": "8Oz-Xe4VmMRr"
      },
      "outputs": [],
      "source": [
        "super(dev::Developer) = Person(dev.name, dev.age)\n",
        "\n",
        "function greetings(dev::Developer)\n",
        "    greetings(super(dev))\n",
        "    println(\"My favorite language is $(dev.language).\")\n",
        "end\n",
        "\n",
        "greetings(d)"
      ]
    },
    {
      "cell_type": "markdown",
      "metadata": {
        "id": "WqtmgScLr3oz"
      },
      "source": [
        "However, this implementation creates a new `Person` instance when calling `super(dev)`, copying the `name` and `age` fields. That's okay for small objects, but it's not ideal for larger ones. Instead, you can explicitely call the specific method you want by using the `invoke()` function:"
      ]
    },
    {
      "cell_type": "code",
      "execution_count": null,
      "metadata": {
        "id": "XPlSZ5kaqz0l"
      },
      "outputs": [],
      "source": [
        "function greetings(dev::Developer)\n",
        "    invoke(greetings, Tuple{Any}, dev)\n",
        "    println(\"My favorite language is $(dev.language).\")\n",
        "end\n",
        "\n",
        "greetings(d)"
      ]
    },
    {
      "cell_type": "markdown",
      "metadata": {
        "id": "Vrf7C_Cgsob2"
      },
      "source": [
        "The `invoke()` function expects the following arguments:\n",
        "* The first argument is the function to call.\n",
        "* The second argument is the type of the desired method's arguments tuple: `Tuple{TypeArg1, TypeArg2, etc.}`. In this case we want to call the base function, which takes a single `Any` argument (the `Any` type is implicit when no type is specified).\n",
        "* Lastly, it takes all the arguments to be passed to the method. In this case, there's just one: `dev`."
      ]
    },
    {
      "cell_type": "markdown",
      "metadata": {
        "id": "emqToYz-ypOS"
      },
      "source": [
        "As you can see, we managed to get the same advantages Object-Oriented programming offers, without defining classes or using inheritance. This takes a bit of getting used to, but you might come to prefer this style of generic programming. Indeed, OO programming encourage you to bundle data and behavior together, but this is not always a good idea. Let's look at one example:\n",
        "\n",
        "```python\n",
        "# PYTHON\n",
        "class Rectangle:\n",
        "    def __init__(self, height, width):\n",
        "        self.height = height\n",
        "        self.width = width\n",
        "    def area(self):\n",
        "        return self.height * self.width\n",
        "\n",
        "class Square(Rectangle):\n",
        "    def __init__(self, length):\n",
        "        super().__init__(length, length)\n",
        "```\n",
        "\n",
        "It makes sense for the `Square` class to be a subclass of the `Rectangle` class, since a square **is a** special type of rectangle. It also makes sense for the `Square` class to inherit from all of the `Rectangle` class's behavior, such as the `area()` method. However, it does not really make sense for rectangles and squares to have the same memory representation: a `Rectangle` needs two numbers (`height` and `width`), while a `Square` only needs one (`length`).\n",
        "\n",
        "It's possible to work around this issue like this:\n",
        "\n",
        "```python\n",
        "# PYTHON\n",
        "class Rectangle:\n",
        "    def __init__(self, height, width):\n",
        "        self.height = height\n",
        "        self.width = width\n",
        "    def area(self):\n",
        "        return self.height * self.width\n",
        "\n",
        "class Square(Rectangle):\n",
        "    def __init__(self, length):\n",
        "        self.length = length\n",
        "    @property\n",
        "    def width(self):\n",
        "        return self.length\n",
        "    @property\n",
        "    def height(self):\n",
        "        return self.length\n",
        "```\n",
        "\n",
        "That's better: now, each square is only represented using a single number. We've inherited the behavior, but not the data.\n",
        "\n",
        "In Julia, you could code this like so:"
      ]
    },
    {
      "cell_type": "code",
      "execution_count": null,
      "metadata": {
        "id": "G7aHm-s_y92c"
      },
      "outputs": [],
      "source": [
        "struct Rectangle\n",
        "    width\n",
        "    height\n",
        "end\n",
        "\n",
        "width(rect::Rectangle) = rect.width\n",
        "height(rect::Rectangle) = rect.height\n",
        "\n",
        "area(rect) = width(rect) * height(rect)\n",
        "\n",
        "struct Square\n",
        "    length\n",
        "end\n",
        "\n",
        "width(sq::Square) = sq.length\n",
        "height(sq::Square) = sq.length"
      ]
    },
    {
      "cell_type": "code",
      "execution_count": null,
      "metadata": {
        "id": "1Ck-ML8CuOMm"
      },
      "outputs": [],
      "source": [
        "area(Square(5))"
      ]
    },
    {
      "cell_type": "markdown",
      "metadata": {
        "id": "qUy8eU__-swA"
      },
      "source": [
        "Notice that the `area()` function relies on the getters `width()` and `height()`, rather than directly on the fields `width` and `height`. This way, the argument can be of any type at all, as long as it has these getters."
      ]
    },
    {
      "cell_type": "markdown",
      "metadata": {
        "id": "iPtX04AJkXnI"
      },
      "source": [
        "## Abstract Types\n",
        "One nice thing about the class hierarchy we defined in Python is that it makes it clear that a square **is a** kind of rectangle. Any new function you define that takes a `Rectangle` as an argument will automatically accept a `Square` as well, but no other non-rectangle type. In contrast, our `area()` function currently accepts anything at all.\n",
        "\n",
        "In Julia, a concrete type like `Square` cannot extend another concrete type like `Rectangle`. However, any type can extend from an abstract type. Let's define some abstract types to create a type hierarchy for our `Square` and `Rectangle` types."
      ]
    },
    {
      "cell_type": "code",
      "execution_count": null,
      "metadata": {
        "id": "HgXYu8Y7kFf7"
      },
      "outputs": [],
      "source": [
        "abstract type AbstractShape end\n",
        "abstract type AbstractRectangle <: AbstractShape end  # <: means \"subtype of\"\n",
        "abstract type AbstractSquare <: AbstractRectangle end"
      ]
    },
    {
      "cell_type": "markdown",
      "metadata": {
        "id": "s9jYhVkntUXo"
      },
      "source": [
        "The `<:` operator means \"subtype of\"."
      ]
    },
    {
      "cell_type": "markdown",
      "metadata": {
        "id": "SFoq_2FUtjix"
      },
      "source": [
        "Now we can attach the `area()` function to the `AbstractRectangle` type, instead of any type at all:"
      ]
    },
    {
      "cell_type": "code",
      "execution_count": null,
      "metadata": {
        "id": "DpCEaRNytYNQ"
      },
      "outputs": [],
      "source": [
        "area(rect::AbstractRectangle) = width(rect) * height(rect)"
      ]
    },
    {
      "cell_type": "markdown",
      "metadata": {
        "id": "utwPa8jLt7bF"
      },
      "source": [
        "Now we can define the concrete types, as subtypes of `AbstractRectangle` and `AbstractSquare`:"
      ]
    },
    {
      "cell_type": "code",
      "execution_count": null,
      "metadata": {
        "id": "cHChkf1Mt0GN"
      },
      "outputs": [],
      "source": [
        "struct Rectangle_v2 <: AbstractRectangle\n",
        "  width\n",
        "  height\n",
        "end\n",
        "\n",
        "width(rect::Rectangle_v2) = rect.width\n",
        "height(rect::Rectangle_v2) = rect.height\n",
        "\n",
        "struct Square_v2 <: AbstractSquare\n",
        "  length\n",
        "end\n",
        "\n",
        "width(sq::Square_v2) = sq.length\n",
        "height(sq::Square_v2) = sq.length"
      ]
    },
    {
      "cell_type": "markdown",
      "metadata": {
        "id": "N6JklHCruNkP"
      },
      "source": [
        "In short, the Julian approach to type hierarchies looks like this:\n",
        "\n",
        "* Create a hierarchy of abstract types to represent the concepts you want to implement.\n",
        "* Write functions for these abstract types. Much of your implementation can be coded at that level, manipulating abstract concepts.\n",
        "* Lastly, create concrete types, and write the methods needed to give them the behavior that is expected by the generic algorithms you wrote."
      ]
    },
    {
      "cell_type": "markdown",
      "metadata": {
        "id": "GZA6mB9hu3pg"
      },
      "source": [
        "This pattern is used everywhere in Julia's standard libraries. For example, here are the supertypes of `Float64` and `Int64`:"
      ]
    },
    {
      "cell_type": "code",
      "execution_count": null,
      "metadata": {
        "id": "No9X1dLtu-nj"
      },
      "outputs": [],
      "source": [
        "Base.show_supertypes(Float64)"
      ]
    },
    {
      "cell_type": "code",
      "execution_count": null,
      "metadata": {
        "id": "RowhPCR_R-QG"
      },
      "outputs": [],
      "source": [
        "Base.show_supertypes(Int64)"
      ]
    },
    {
      "cell_type": "markdown",
      "metadata": {
        "id": "fTFddfq0CEyy"
      },
      "source": [
        "Note: Julia implicitly runs `using Core` and `using Base` when starting the REPL. However, the `show_supertypes()` function is not exported by the `Base` module, thus you cannot access it by just typing `show_supertypes(Float64)`. Instead, you have to specify the module name: `Base.show_supertypes(Float64)`."
      ]
    },
    {
      "cell_type": "markdown",
      "metadata": {
        "id": "K-q4QCgI-rWI"
      },
      "source": [
        "And here is the whole hierarchy of `Number` types:"
      ]
    },
    {
      "cell_type": "code",
      "execution_count": null,
      "metadata": {
        "id": "6Gtn6IB0vQZv"
      },
      "outputs": [],
      "source": [
        "function show_hierarchy(root, indent=0)\n",
        "    println(repeat(\" \", indent * 4), root)\n",
        "    for subtype in subtypes(root)\n",
        "        show_hierarchy(subtype, indent + 1)\n",
        "    end\n",
        "end\n",
        "\n",
        "show_hierarchy(Number)"
      ]
    },
    {
      "cell_type": "markdown",
      "metadata": {
        "id": "NdE0eLaKf_tM"
      },
      "source": [
        "## Iterator Interface\n",
        "You will sometimes want to provide a way to iterate over your custom types. In Python, this requires defining the `__iter__()` method which should return an object which implements the `__next__()` method. In Julia, you must define at least two functions:\n",
        "* `iterate(::YourIteratorType)`, which must return either `nothing` if there are no values in the sequence, or `(first_value, iterator_state)`.\n",
        "* `iterate(::YourIteratorType, state)`, which must return either `nothing` if there are no more values, or `(next_value, next_iterator_state)`.\n",
        "\n",
        "For example, let's create a simple iterator for the Fibonacci sequence:"
      ]
    },
    {
      "cell_type": "code",
      "execution_count": null,
      "metadata": {
        "id": "baemCHqZde4Y"
      },
      "outputs": [],
      "source": [
        "struct FibonacciIterator end"
      ]
    },
    {
      "cell_type": "code",
      "execution_count": null,
      "metadata": {
        "id": "yidgsJt9eBSk"
      },
      "outputs": [],
      "source": [
        "import Base.iterate\n",
        "\n",
        "iterate(f::FibonacciIterator) = (1, (1, 1))\n",
        "\n",
        "function iterate(f::FibonacciIterator, state)\n",
        "    new_state = (state[2], state[1] + state[2])\n",
        "    (new_state[1], new_state)\n",
        "end"
      ]
    },
    {
      "cell_type": "markdown",
      "metadata": {
        "id": "9CORRxR8hYrl"
      },
      "source": [
        "Now we can iterate over a `FibonacciIterator` instance:"
      ]
    },
    {
      "cell_type": "code",
      "execution_count": null,
      "metadata": {
        "id": "5W0QbY41fJGE"
      },
      "outputs": [],
      "source": [
        "for f in FibonacciIterator()\n",
        "    println(f)\n",
        "    f > 10 && break\n",
        "end"
      ]
    },
    {
      "cell_type": "markdown",
      "metadata": {
        "id": "RjEk9nRIhmwV"
      },
      "source": [
        "## Indexing Interface\n",
        "You can also create a type that will be indexable like an array (allowing syntax like `a[5] = 3`). In Python, this requires implementing the `__getitem__()` and `__setitem__()` methods. In Julia, you must implement the `getindex(::YourType, i)`, `setindex!(::YourType, v, i)`, `firstindex(::YourType)` and `lastindex(::YourType)` methods."
      ]
    },
    {
      "cell_type": "code",
      "execution_count": null,
      "metadata": {
        "id": "i-r1StLujBEL"
      },
      "outputs": [],
      "source": [
        "import Base.getindex, Base.firstindex\n",
        "\n",
        "struct MySquares end\n",
        "\n",
        "getindex(::MySquares, i) = i^2\n",
        "firstindex(::MySquares) = 0\n",
        "\n",
        "S = MySquares()\n",
        "S[10]"
      ]
    },
    {
      "cell_type": "code",
      "execution_count": null,
      "metadata": {
        "id": "p8zfJLvDjpSP"
      },
      "outputs": [],
      "source": [
        "S[begin]"
      ]
    },
    {
      "cell_type": "code",
      "execution_count": null,
      "metadata": {
        "id": "n9y4Y2r2jzTG"
      },
      "outputs": [],
      "source": [
        "getindex(S::MySquares, r::UnitRange) = [S[i] for i in r]"
      ]
    },
    {
      "cell_type": "code",
      "execution_count": null,
      "metadata": {
        "id": "vk-gqI08jrQo"
      },
      "outputs": [],
      "source": [
        "S[1:4]"
      ]
    },
    {
      "cell_type": "markdown",
      "metadata": {
        "id": "1j3qxO4TkoVm"
      },
      "source": [
        "For more details on these interfaces, and to learn how to build full-blown array types with broadcasting and more, check out [this page](https://docs.julialang.org/en/v1/manual/interfaces/)."
      ]
    },
    {
      "cell_type": "markdown",
      "metadata": {
        "id": "bD9gzH2XDlGL"
      },
      "source": [
        "## Creating a Number Type\n",
        "Let's create a `MyRational` struct and try to make it mimic the built-in `Rational` type:"
      ]
    },
    {
      "cell_type": "code",
      "execution_count": null,
      "metadata": {
        "id": "nwEtMyR1PB3C"
      },
      "outputs": [],
      "source": [
        "struct MyRational <: Real\n",
        "    num # numerator\n",
        "    den # denominator\n",
        "end"
      ]
    },
    {
      "cell_type": "code",
      "execution_count": null,
      "metadata": {
        "id": "cwCpLCW6PePs"
      },
      "outputs": [],
      "source": [
        "MyRational(2, 3)"
      ]
    },
    {
      "cell_type": "markdown",
      "metadata": {
        "id": "vbIz77VzST24"
      },
      "source": [
        "It would be more convenient and readable if we could type `2 ⨸ 3` to create a `MyRational`:"
      ]
    },
    {
      "cell_type": "code",
      "execution_count": null,
      "metadata": {
        "id": "VuitXq8eTL4G"
      },
      "outputs": [],
      "source": [
        "function ⨸(num, den)\n",
        "    MyRational(num, den)\n",
        "end"
      ]
    },
    {
      "cell_type": "code",
      "execution_count": null,
      "metadata": {
        "id": "isQcJMAeTRi-"
      },
      "outputs": [],
      "source": [
        "2 ⨸ 3"
      ]
    },
    {
      "cell_type": "markdown",
      "metadata": {
        "id": "g594gvCpTTYB"
      },
      "source": [
        "I chose `⨸` because it's a symbol that Julia's parser treats as a binary operator, but which is otherwise not used by Julia (see the full [list of parsed symbols](https://github.com/JuliaLang/julia/blob/master/src/julia-parser.scm) and their priorities). This particular symbol will have the same priority as multiplication and division."
      ]
    },
    {
      "cell_type": "markdown",
      "metadata": {
        "id": "3DKaUnqsUG0L"
      },
      "source": [
        "If you want to know how to type it and check that it is unused, type `?⨸` (copy/paste the symbol):"
      ]
    },
    {
      "cell_type": "code",
      "execution_count": null,
      "metadata": {
        "id": "km3KccbsUTnQ"
      },
      "outputs": [],
      "source": [
        "?⨸"
      ]
    },
    {
      "cell_type": "markdown",
      "metadata": {
        "id": "eWzNstBqQckD"
      },
      "source": [
        "Now let's make it possible to add two `MyRational` values. We want it to be possible for our `MyRational` type to be used in existing algorithms which rely on `+`, so we must create a new method for the `Base.+` function:"
      ]
    },
    {
      "cell_type": "code",
      "execution_count": null,
      "metadata": {
        "id": "2T7MyjE2RhUW"
      },
      "outputs": [],
      "source": [
        "import Base.+\n",
        "\n",
        "function +(r1::MyRational, r2::MyRational)\n",
        "    (r1.num * r2.den + r1.den * r2.num) ⨸ (r1.den * r2.den)\n",
        "end"
      ]
    },
    {
      "cell_type": "code",
      "execution_count": null,
      "metadata": {
        "id": "aFtoPHZRSNoU"
      },
      "outputs": [],
      "source": [
        "2 ⨸ 3 + 3 ⨸ 5"
      ]
    },
    {
      "cell_type": "markdown",
      "metadata": {
        "id": "8--bQ8izR7_I"
      },
      "source": [
        "It's important to import `Base.+` first, or else you would just be defining a new `+` function in the current module (`Main`), which would not be called by existing algorithms."
      ]
    },
    {
      "cell_type": "markdown",
      "metadata": {
        "id": "x79nFEHQYFfU"
      },
      "source": [
        "You can easily implement `*`, `^` and so on, in much the same way."
      ]
    },
    {
      "cell_type": "markdown",
      "metadata": {
        "id": "GGTgc07sSR4w"
      },
      "source": [
        "Let's change the way `MyRational` values are printed, to make them look a bit nicer. For this, we must create a new method for the `Base.show(io::IO, x)` function:"
      ]
    },
    {
      "cell_type": "code",
      "execution_count": null,
      "metadata": {
        "id": "KQN5IqLxVzLF"
      },
      "outputs": [],
      "source": [
        "import Base.show\n",
        "\n",
        "function show(io::IO, r::MyRational)\n",
        "    print(io, \"$(r.num) ⨸ $(r.den)\")\n",
        "end\n",
        "\n",
        "2 ⨸ 3 + 3 ⨸ 5"
      ]
    },
    {
      "cell_type": "markdown",
      "metadata": {
        "id": "rJg_-ZYOXS4m"
      },
      "source": [
        "We can expand the `show()` function so it can provide an HTML representation for `MyRational` values. This will be called by the `display()` function in Jupyter or Colab:"
      ]
    },
    {
      "cell_type": "code",
      "execution_count": null,
      "metadata": {
        "id": "h6smoUzBWkNB"
      },
      "outputs": [],
      "source": [
        "function show(io::IO, ::MIME\"text/html\", r::MyRational)\n",
        "    print(io, \"<sup><b>$(r.num)</b></sup>&frasl;<sub><b>$(r.den)</b></sub>\")\n",
        "end\n",
        "\n",
        "2 ⨸ 3 + 3 ⨸ 5"
      ]
    },
    {
      "cell_type": "markdown",
      "metadata": {
        "id": "5bOKggSjX7hM"
      },
      "source": [
        "Next, we want to be able to perform any operation involving `MyRational` values and values of other `Number` types. For example, we may want to multiply integers and `MyRational` values. One option is to define a new method like this:"
      ]
    },
    {
      "cell_type": "code",
      "execution_count": null,
      "metadata": {
        "id": "dlW_pbUPZL_0"
      },
      "outputs": [],
      "source": [
        "import Base.*\n",
        "\n",
        "function *(r::MyRational, i::Integer)\n",
        "    (r.num * i) ⨸ r.den\n",
        "end\n",
        "\n",
        "2 ⨸ 3 * 5"
      ]
    },
    {
      "cell_type": "markdown",
      "metadata": {
        "id": "3Xr--hB-ZlDm"
      },
      "source": [
        "Since multiplication is commutative, we need the reverse method as well:"
      ]
    },
    {
      "cell_type": "code",
      "execution_count": null,
      "metadata": {
        "id": "3DkeVGqaZtNv"
      },
      "outputs": [],
      "source": [
        "function *(i::Integer, r::MyRational)\n",
        "    r * i # this will call the previous method\n",
        "end\n",
        "\n",
        "5 * (2 ⨸ 3) # we need the parentheses since * and ⨸ have the same priority"
      ]
    },
    {
      "cell_type": "markdown",
      "metadata": {
        "id": "hzW07JkXggLo"
      },
      "source": [
        "It's cumbersome to have to define these methods for every operation. There's a better way, which we will explore in the next two sections."
      ]
    },
    {
      "cell_type": "markdown",
      "metadata": {
        "id": "TWXZrND8N-nR"
      },
      "source": [
        "## Conversion\n",
        "It is possible to provide a way for integers to be automatically converted to `MyRational` values:"
      ]
    },
    {
      "cell_type": "code",
      "execution_count": null,
      "metadata": {
        "id": "SFIenX2Og0qY"
      },
      "outputs": [],
      "source": [
        "import Base.convert\n",
        "\n",
        "MyRational(x::Integer) = MyRational(x, 1)\n",
        "\n",
        "convert(::Type{MyRational}, x::Integer) = MyRational(x)\n",
        "\n",
        "convert(MyRational, 42)"
      ]
    },
    {
      "cell_type": "markdown",
      "metadata": {
        "id": "n_gGRgRSwrkS"
      },
      "source": [
        "The `Type{MyRational}` type is a special type which has a single instance: the `MyRational` type itself. So this `convert()` method only accepts `MyRational` itself as its first argument (and we don't actually use the first argument, so we don't even need to give it a name in the function declaration)."
      ]
    },
    {
      "cell_type": "markdown",
      "metadata": {
        "id": "5B9cNbV5lbHm"
      },
      "source": [
        "Now integers will be automatically converted to `MyRational` values when you assign them to an array whose element type if `MyRational`:"
      ]
    },
    {
      "cell_type": "code",
      "execution_count": null,
      "metadata": {
        "id": "YWdijh_2k7LU"
      },
      "outputs": [],
      "source": [
        "a = [2 ⨸ 3] # the element type is MyRational\n",
        "a[1] = 5    # convert(MyRational, 5) is called automatically\n",
        "push!(a, 6) # convert(MyRational, 6) is called automatically\n",
        "println(a)"
      ]
    },
    {
      "cell_type": "markdown",
      "metadata": {
        "id": "ESWblH5olvOY"
      },
      "source": [
        "Conversion will also occur automatically in these cases:\n",
        "* `r::MyRational = 42`: assigning an integer to `r` where `r` is a local variable with a declared type of `MyRational`.\n",
        "* `s.b = 42` if `s` is a struct and `b` is a field of type `MyRational` (also when calling `new(42)` on that struct, assuming `b` is the first field).\n",
        "* `return 42` if the return type is declared as `MyRational` (e.g., `function f(x)::MyRational ... end`)."
      ]
    },
    {
      "cell_type": "markdown",
      "metadata": {
        "id": "kIulkBomd5hy"
      },
      "source": [
        "However, there is no automatic conversion when calling functions:"
      ]
    },
    {
      "cell_type": "code",
      "execution_count": null,
      "metadata": {
        "id": "7Jf6rT8uhAtU"
      },
      "outputs": [],
      "source": [
        "function for_my_rationals_only(x::MyRational)\n",
        "    println(\"It works:\", x)\n",
        "end\n",
        "\n",
        "try\n",
        "    for_my_rationals_only(42)\n",
        "catch ex\n",
        "    ex\n",
        "end"
      ]
    },
    {
      "cell_type": "markdown",
      "metadata": {
        "id": "KhtxelSROzU_"
      },
      "source": [
        "## Promotion\n",
        "The `Base` functions `+`, `-`, `*`, `/`, `^`, etc. all use a \"promotion\" algorithm to convert the arguments to the appropriate type. For example, adding an integer and a float promotes the integer to a float before the addition takes place. These functions use the `promote()` function for this. For example, given several integers and a float, all integers get promoted to floats:"
      ]
    },
    {
      "cell_type": "code",
      "execution_count": null,
      "metadata": {
        "id": "BEa8TRPuokYN"
      },
      "outputs": [],
      "source": [
        "promote(1, 2, 3, 4.0)"
      ]
    },
    {
      "cell_type": "markdown",
      "metadata": {
        "id": "wDpLvwpMPP59"
      },
      "source": [
        "This is why a sum of integers and floats results in a float:"
      ]
    },
    {
      "cell_type": "code",
      "execution_count": null,
      "metadata": {
        "id": "grWU-hHHPI7v"
      },
      "outputs": [],
      "source": [
        "1 + 2 + 3 + 4.0"
      ]
    },
    {
      "cell_type": "markdown",
      "metadata": {
        "id": "pkrDanbRO7b2"
      },
      "source": [
        "The `promote()` function is also called when creating an array. For example, the following array is a `Float64` array:"
      ]
    },
    {
      "cell_type": "code",
      "execution_count": null,
      "metadata": {
        "id": "AeDsWTZjO-4d"
      },
      "outputs": [],
      "source": [
        "a = [1, 2, 3, 4.0]"
      ]
    },
    {
      "cell_type": "markdown",
      "metadata": {
        "id": "JCdZ4NhMo505"
      },
      "source": [
        "What about the `MyRational` type? Rather than create new methods for the `promote()` function, the recommended approach is to create a new method for the `promote_rule()` function. It takes two types and returns the type to convert to:"
      ]
    },
    {
      "cell_type": "code",
      "execution_count": null,
      "metadata": {
        "id": "3xJTjr7XPgtx"
      },
      "outputs": [],
      "source": [
        "promote_rule(Float64, Int64)"
      ]
    },
    {
      "cell_type": "markdown",
      "metadata": {
        "id": "W68U2_SjPt_T"
      },
      "source": [
        "Let's implement a new method for this function, to make sure that any subtype of the `Integer` type will be promoted to `MyRational`:"
      ]
    },
    {
      "cell_type": "code",
      "execution_count": null,
      "metadata": {
        "id": "wjK9_3Bierna"
      },
      "outputs": [],
      "source": [
        "import Base.promote_rule\n",
        "\n",
        "promote_rule(::Type{MyRational}, ::Type{T}) where {T <: Integer} = MyRational"
      ]
    },
    {
      "cell_type": "markdown",
      "metadata": {
        "id": "OSXo1GaxwU9F"
      },
      "source": [
        "This method definition uses **parametric types**: the type `T` can be any type at all, as long as it is a subtype of the `Integer` abstract type. If you tried to define the method `promote_rule(::Type{MyRational}, ::Type{Integer})`, it would expect the type `Integer` itself as the second argument, which would not work, since the `promote_rule()` function will usually be called with concrete types like `Int64` as its arguments."
      ]
    },
    {
      "cell_type": "markdown",
      "metadata": {
        "id": "Cn7m2aTTrC6X"
      },
      "source": [
        "Let's check that it works:"
      ]
    },
    {
      "cell_type": "code",
      "execution_count": null,
      "metadata": {
        "id": "bD7p0DHFfaCg"
      },
      "outputs": [],
      "source": [
        "promote(5, 2 ⨸ 3)"
      ]
    },
    {
      "cell_type": "markdown",
      "metadata": {
        "id": "WVRYV79ErH81"
      },
      "source": [
        "Yep! Now whenever we call `+`, `-`, etc., with an integer and a `MyRational` value, the integer will get automatically promoted to a `MyRational` value:"
      ]
    },
    {
      "cell_type": "code",
      "execution_count": null,
      "metadata": {
        "id": "lmjjo9lSegy9"
      },
      "outputs": [],
      "source": [
        "5 + 2 ⨸ 3"
      ]
    },
    {
      "cell_type": "markdown",
      "metadata": {
        "id": "B6jVZiYXxuPJ"
      },
      "source": [
        "Under the hood:\n",
        "* this called `+(5, 2 ⨸ 3)`,\n",
        "  * which called the `+(::Number, ::Number)` method (thanks to multiple dispatch),\n",
        "    * which called `promote(5, 2 ⨸ 3)`,\n",
        "      * which called `promote_rule(Int64, MyRational)`,\n",
        "        * which called `promote_rule(::MyRational, ::T) where {T <: Integer}`,\n",
        "          * which returned `MyRational`,\n",
        "    * then the `+(::Number, ::Number)` method called `convert(MyRational, 5)`,\n",
        "      * which called `MyRational(5)`,\n",
        "        * which returned `MyRational(5, 1)`,\n",
        "    * and finally `+(::Number, ::Number)` called `+(MyRational(5, 1), MyRational(2, 3))`,\n",
        "      * which returned `MyRational(17, 3)`."
      ]
    },
    {
      "cell_type": "markdown",
      "metadata": {
        "id": "d30Q7aANrik5"
      },
      "source": [
        "The benefit of this approach is that we only need to implement the `+`, `-`, etc. functions for pairs of `MyRational` values, not with all combinations of `MyRational` values and integers."
      ]
    },
    {
      "cell_type": "markdown",
      "metadata": {
        "id": "GftnTFTyLchM"
      },
      "source": [
        "If your head hurts, it's perfectly normal. 😉 Writing a new type that is easy to use, flexible and plays nicely with existing types takes a bit of planning and work, but the point is that you will not write these every day, and once you have, they will make your life much easier."
      ]
    },
    {
      "cell_type": "markdown",
      "metadata": {
        "id": "GSVv5YNisaxJ"
      },
      "source": [
        "Now let's handle the case where we want to execute operations with `MyRational` values and floats. In this case, we naturally want to promote the `MyRational` value to a float. We first need to define how to convert a `MyRational` value to any subtype of `AbstractFloat`:"
      ]
    },
    {
      "cell_type": "code",
      "execution_count": null,
      "metadata": {
        "id": "DZSFfORzrx4I"
      },
      "outputs": [],
      "source": [
        "convert(::Type{T}, x::MyRational) where {T <: AbstractFloat} = T(x.num / x.den)"
      ]
    },
    {
      "cell_type": "markdown",
      "metadata": {
        "id": "XC5z7YxcMjJN"
      },
      "source": [
        "This `convert()` works with any type `T` which is a subtype of `AbstractFloat`. It just computes `x.num / x.den` and converts the result to type `T`. Let's try it:"
      ]
    },
    {
      "cell_type": "code",
      "execution_count": null,
      "metadata": {
        "id": "LxPjD04VMBXg"
      },
      "outputs": [],
      "source": [
        "convert(Float64, 3 ⨸ 2)"
      ]
    },
    {
      "cell_type": "markdown",
      "metadata": {
        "id": "Iity08_TMyLa"
      },
      "source": [
        "Now let's define a `promote_rule()` method which will work for any type `T` which is a subtype of `AbstractFloat`, and which will give priority to `T` over `MyRational`:"
      ]
    },
    {
      "cell_type": "code",
      "execution_count": null,
      "metadata": {
        "id": "S2xlgBf8MGa8"
      },
      "outputs": [],
      "source": [
        "promote_rule(::Type{MyRational}, ::Type{T}) where {T <: AbstractFloat} = T"
      ]
    },
    {
      "cell_type": "code",
      "execution_count": null,
      "metadata": {
        "id": "5Xe9_k_GQZw0"
      },
      "outputs": [],
      "source": [
        "promote(1 ⨸ 2, 4.0)"
      ]
    },
    {
      "cell_type": "markdown",
      "metadata": {
        "id": "ZRQrziIuNONH"
      },
      "source": [
        "Now we can combine floats and `MyRational` values easily:"
      ]
    },
    {
      "cell_type": "code",
      "execution_count": null,
      "metadata": {
        "id": "ncZJSLjTsMsG"
      },
      "outputs": [],
      "source": [
        "2.25 ^ (1 ⨸ 2)"
      ]
    },
    {
      "cell_type": "markdown",
      "metadata": {
        "id": "p6msWOnrRwTO"
      },
      "source": [
        "## Parametric Types and Functions"
      ]
    },
    {
      "cell_type": "markdown",
      "metadata": {
        "id": "6aNBefNARChe"
      },
      "source": [
        "Julia's `Rational` type is actually a **parametric type** which ensures that the numerator and denominator have the same type `T`, subtype of `Integer`. Here's a new version of our rational struct which enforces the same constraint:"
      ]
    },
    {
      "cell_type": "code",
      "execution_count": null,
      "metadata": {
        "id": "I0Vyf_ogRdy0"
      },
      "outputs": [],
      "source": [
        "struct MyRational2{T <: Integer}\n",
        "    num::T\n",
        "    den::T\n",
        "end"
      ]
    },
    {
      "cell_type": "markdown",
      "metadata": {
        "id": "SHdhiFdlSwOd"
      },
      "source": [
        "To instantiate this type, we can specify the type `T`:"
      ]
    },
    {
      "cell_type": "code",
      "execution_count": null,
      "metadata": {
        "id": "FTfSXjQ4RseZ"
      },
      "outputs": [],
      "source": [
        "MyRational2{BigInt}(2, 3)"
      ]
    },
    {
      "cell_type": "markdown",
      "metadata": {
        "id": "_dFuAINiTboo"
      },
      "source": [
        "Alternatively, we can use the `MyRational2` type's default constructor, with two integers of the same type:"
      ]
    },
    {
      "cell_type": "code",
      "execution_count": null,
      "metadata": {
        "id": "8Q8RWIB8Toq7"
      },
      "outputs": [],
      "source": [
        "MyRational2(2, 3)"
      ]
    },
    {
      "cell_type": "markdown",
      "metadata": {
        "id": "8hhYRFcWXKkG"
      },
      "source": [
        "If we want to be able to construct a `MyRational2` with integers of different types, we must write an appropriate constructor which handles the promotion rule:"
      ]
    },
    {
      "cell_type": "code",
      "execution_count": null,
      "metadata": {
        "id": "BdRaOp44XS-I"
      },
      "outputs": [],
      "source": [
        "function MyRational2(num::Integer, den::Integer)\n",
        "    MyRational2(promote(num, den)...)\n",
        "end"
      ]
    },
    {
      "cell_type": "markdown",
      "metadata": {
        "id": "F1-HWooSXwRj"
      },
      "source": [
        "This constructor accepts two integers of potentially different types, and promotes them to the same type. Then it calls the default `MyRational2` constructor which expects two arguments of the same type. The syntax `f(args...)` is analog to Python's `f(*args)`."
      ]
    },
    {
      "cell_type": "markdown",
      "metadata": {
        "id": "ui3Oe7CHYhKs"
      },
      "source": [
        "Let's see if this works:"
      ]
    },
    {
      "cell_type": "code",
      "execution_count": null,
      "metadata": {
        "id": "55PS-B4kXsMv"
      },
      "outputs": [],
      "source": [
        "MyRational2(2, BigInt(3))"
      ]
    },
    {
      "cell_type": "markdown",
      "metadata": {
        "id": "FYBh3sMgXvIy"
      },
      "source": [
        "Great!"
      ]
    },
    {
      "cell_type": "markdown",
      "metadata": {
        "id": "TFB6iS8cYuwk"
      },
      "source": [
        "Note that all parametrized types such as `MyRational2{Int64}` or `MyRational2{BigInt}` are subtypes of `MyRational2`. So if a function accepts a `MyRational2` argument, you can pass it an instance of any specific, parametrized type:"
      ]
    },
    {
      "cell_type": "code",
      "execution_count": null,
      "metadata": {
        "id": "Xoe56vbfZXr8"
      },
      "outputs": [],
      "source": [
        "function for_any_my_rational2(x::MyRational2)\n",
        "    println(x)\n",
        "end\n",
        "\n",
        "for_any_my_rational2(MyRational2{BigInt}(1, 2))\n",
        "for_any_my_rational2(MyRational2{Int64}(1, 2))"
      ]
    },
    {
      "cell_type": "markdown",
      "metadata": {
        "id": "KK02R7mAazjo"
      },
      "source": [
        "A more explicit (but verbose) syntax for this function is:"
      ]
    },
    {
      "cell_type": "code",
      "execution_count": null,
      "metadata": {
        "id": "w9wLF0uYa377"
      },
      "outputs": [],
      "source": [
        "function for_any_my_rational2(x::MyRational2{T}) where {T <: Integer}\n",
        "    println(x)\n",
        "end"
      ]
    },
    {
      "cell_type": "markdown",
      "metadata": {
        "id": "HzrkuhIMT3rq"
      },
      "source": [
        "It's useful to think of types as sets. For example, the `Int64` type represents the set of all 64-bit integer values, so `42 isa Int64`:\n",
        "* When `x` is an instance of some type `T`, it is an element of the set `T` represents, and `x isa T`.\n",
        "* When `U` is a subtype of `V`, `U` is a subset of `V`, and `U <: V`.\n",
        "\n",
        "The `MyRational2` type itself (without any parameter) represents the set of all values of `MyRational2{T}` for all subtypes `T` of `Integer`. In other words, it is the union of all the `MyRational2{T}` types. This is called a `UnionAll` type, and indeed the type `MyRational2` itself is an instance of the `UnionAll` type:"
      ]
    },
    {
      "cell_type": "code",
      "execution_count": null,
      "metadata": {
        "id": "hGKucwR4Z78q"
      },
      "outputs": [],
      "source": [
        "@assert MyRational2{BigInt}(2, 3) isa MyRational2{BigInt}\n",
        "@assert MyRational2{BigInt}(2, 3) isa MyRational2\n",
        "@assert MyRational2 === (MyRational2{T} where {T <: Integer})\n",
        "@assert MyRational2{BigInt} <: MyRational2\n",
        "@assert MyRational2 isa UnionAll"
      ]
    },
    {
      "cell_type": "markdown",
      "metadata": {
        "id": "Tv483WelU4It"
      },
      "source": [
        "If we dump the `MyRational2` type, we can see that it is a `UnionAll` instance, with a parameter type `T`, constrained to a subtype of the `Integer` type (since the upper bound `ub` is `Integer`):"
      ]
    },
    {
      "cell_type": "code",
      "execution_count": null,
      "metadata": {
        "id": "6Xzox_pwU1AA"
      },
      "outputs": [],
      "source": [
        "dump(MyRational2)"
      ]
    },
    {
      "cell_type": "markdown",
      "metadata": {
        "id": "eEpPNFJBcoag"
      },
      "source": [
        "There's a lot more to learn about Julia types. When you feel ready to explore this in more depth, check out [this page](https://docs.julialang.org/en/v1.4/manual/types/). You can also take a look at the [source code of Julia's rationals](https://github.com/JuliaLang/julia/blob/master/base/rational.jl)."
      ]
    },
    {
      "cell_type": "markdown",
      "metadata": {
        "id": "KmT7ZJEMJ2Vv"
      },
      "source": [
        "# Writing/Reading Files\n",
        "The `do` syntax we saw earlier is helpful when using the `open()` function:\n"
      ]
    },
    {
      "cell_type": "code",
      "execution_count": null,
      "metadata": {
        "id": "oGW3LMvkJ6JM"
      },
      "outputs": [],
      "source": [
        "open(\"test.txt\", \"w\") do f\n",
        "    write(f, \"This is a test.\\n\")\n",
        "    write(f, \"I repeat, this is a test.\\n\")\n",
        "end\n",
        "\n",
        "open(\"test.txt\") do f\n",
        "    for line in eachline(f)\n",
        "        println(\"[$line]\")\n",
        "    end\n",
        "end"
      ]
    },
    {
      "cell_type": "markdown",
      "metadata": {
        "id": "f6XIenvgKdzR"
      },
      "source": [
        "The `open()` function automatically closes the file at the end of the block. Notice that the line feeds `\\n` at the end of each line are not returned by the `eachline()` function. So the equivalent Python code is:\n",
        "\n",
        "```python\n",
        "# PYTHON\n",
        "with open(\"test.txt\", \"w\") as f:\n",
        "    f.write(\"This is a test.\\n\")\n",
        "    f.write(\"I repeat, this is a test.\\n\")\n",
        "\n",
        "with open(\"test.txt\") as f:\n",
        "    for line in f.readlines():\n",
        "        line = line.rstrip(\"\\n\")\n",
        "        print(f\"[{line}]\")\n",
        "```"
      ]
    },
    {
      "cell_type": "markdown",
      "metadata": {
        "id": "SQg2lDpRW_2R"
      },
      "source": [
        "Alternatively, you can read the whole file into a string:"
      ]
    },
    {
      "cell_type": "code",
      "execution_count": null,
      "metadata": {
        "id": "FKRtde6dXDpe"
      },
      "outputs": [],
      "source": [
        "open(\"test.txt\") do f\n",
        "    s = read(f, String)\n",
        "end"
      ]
    },
    {
      "cell_type": "markdown",
      "metadata": {
        "id": "5vxOQnwucbIW"
      },
      "source": [
        "Or more concisely:"
      ]
    },
    {
      "cell_type": "code",
      "execution_count": null,
      "metadata": {
        "id": "2s-SRVw7cc5G"
      },
      "outputs": [],
      "source": [
        "s = read(\"test.txt\", String)"
      ]
    },
    {
      "cell_type": "markdown",
      "metadata": {
        "id": "dHb_f2lWXM0Z"
      },
      "source": [
        "The Python equivalent is:\n",
        "\n",
        "```python\n",
        "# PYTHON\n",
        "with open(\"test.txt\") as f:\n",
        "    s = f.read()\n",
        "```"
      ]
    },
    {
      "cell_type": "markdown",
      "metadata": {
        "id": "EmBI1zY8DAvT"
      },
      "source": [
        "# Exceptions\n",
        "\n",
        "Julia's exceptions behave very much like in Python:"
      ]
    },
    {
      "cell_type": "code",
      "execution_count": null,
      "metadata": {
        "id": "z-dXwra9cvYD"
      },
      "outputs": [],
      "source": [
        "a = [1]\n",
        "try\n",
        "    push!(a, 2)\n",
        "    #throw(\"Oops\") # try uncommenting this line\n",
        "    push!(a, 3)\n",
        "catch ex\n",
        "    println(ex)\n",
        "    push!(a, 4)\n",
        "finally\n",
        "    push!(a, 5)\n",
        "end\n",
        "println(a)"
      ]
    },
    {
      "cell_type": "markdown",
      "metadata": {
        "id": "kt2mWkKFfd8I"
      },
      "source": [
        "The equivalent Python code is:\n",
        "\n",
        "```python\n",
        "# PYTHON\n",
        "a = [1]\n",
        "try:\n",
        "    a.append(2)\n",
        "    #raise Exception(\"Oops\") # try uncommenting this line\n",
        "    a.append(3)\n",
        "except Exception as ex:\n",
        "    print(ex)\n",
        "    a.append(4)\n",
        "finally:\n",
        "    a.append(5)\n",
        "\n",
        "print(a)\n",
        "```"
      ]
    },
    {
      "cell_type": "markdown",
      "metadata": {
        "id": "19zE5t7nhtCJ"
      },
      "source": [
        "There is a whole hierarchy of standard exceptions which can be thrown, just like in Python. For example:"
      ]
    },
    {
      "cell_type": "code",
      "execution_count": null,
      "metadata": {
        "id": "71J-OuM5h9cr"
      },
      "outputs": [],
      "source": [
        "choice = 1 # try changing this value (from 1 to 4)\n",
        "try\n",
        "    choice == 1 && open(\"/foo/bar/i_dont_exist.txt\")\n",
        "    choice == 2 && sqrt(-1)\n",
        "    choice == 3 && push!(a, \"Oops\")\n",
        "    println(\"Everything worked like a charm\")\n",
        "catch ex\n",
        "    if ex isa SystemError\n",
        "        println(\"Oops. System error #$(ex.errnum) ($(ex.prefix))\")\n",
        "    elseif ex isa DomainError\n",
        "        println(\"Oh no, I could not compute sqrt(-1)\")\n",
        "    else\n",
        "        println(\"I got an unexpected error: $ex\")\n",
        "    end\n",
        "end"
      ]
    },
    {
      "cell_type": "markdown",
      "metadata": {
        "id": "0IegY5XckWET"
      },
      "source": [
        "Compare this with Python's equivalent code:\n",
        "\n",
        "```python\n",
        "# PYTHON\n",
        "choice = 3 # try changing this value (from 1 to 4)\n",
        "try:\n",
        "  if choice == 1:\n",
        "      open(\"/foo/bar/i_dont_exist.txt\")\n",
        "  if choice == 2:\n",
        "      math.sqrt(-1)\n",
        "  if choice == 3:\n",
        "      #a.append(\"Ok\") # this would actually work\n",
        "      raise TypeError(\"Oops\") # so let's fail manually\n",
        "  print(\"Everything worked like a charm\")\n",
        "except OSError as ex:\n",
        "    print(f\"Oops. OS error (#{ex.errno} ({ex.strerror})\")\n",
        "except ValueError:\n",
        "    print(\"Oh no, I could not compute sqrt(-1)\")\n",
        "except Exception as ex:\n",
        "    print(f\"I got an unexpected error: {ex}\")\n",
        "```\n"
      ]
    },
    {
      "cell_type": "markdown",
      "metadata": {
        "id": "jD6j5HsCHXzo"
      },
      "source": [
        "A few things to note here:\n",
        "\n",
        "* Julia only allows a single `catch` block which handles all possible exceptions.\n",
        "* `obj isa SomeClass` is a shorthand for `isa(obj, SomeClass)` which is equivalent to Python's `isinstance(obj, SomeClass)`.\n",
        "\n",
        "|Julia|Python\n",
        "|-----|------\n",
        "|`try`<br />&nbsp;&nbsp;&nbsp;&nbsp;`...`<br />`catch ex`<br />&nbsp;&nbsp;&nbsp;&nbsp;`if ex isa SomeError`<br />&nbsp;&nbsp;&nbsp;&nbsp;&nbsp;&nbsp;&nbsp;&nbsp;`...`<br />&nbsp;&nbsp;&nbsp;&nbsp;`else`<br />&nbsp;&nbsp;&nbsp;&nbsp;&nbsp;&nbsp;&nbsp;&nbsp;`...`<br />&nbsp;&nbsp;&nbsp;&nbsp;`end`<br />`finally`<br />&nbsp;&nbsp;&nbsp;&nbsp;`...`<br />`end` | `try:`<br />&nbsp;&nbsp;&nbsp;&nbsp;`...`<br />`except SomeException as ex:`<br />&nbsp;&nbsp;&nbsp;&nbsp;`...`<br />`except Exception as ex:`<br />&nbsp;&nbsp;&nbsp;&nbsp;`...`<br />`finally:`<br />&nbsp;&nbsp;&nbsp;&nbsp;`...`\n",
        "|`throw any_value` | `raise SomeException(...)`\n",
        "| `obj isa SomeType`<br />or<br /> `isa(obj, SomeType`) | `isinstance(obj, SomeType)`"
      ]
    },
    {
      "cell_type": "markdown",
      "metadata": {
        "id": "lFGQZmkfQg6K"
      },
      "source": [
        "Note that Julia does not support the equivalent of Python's `try / catch / else` construct. You need to write something like this:"
      ]
    },
    {
      "cell_type": "code",
      "execution_count": null,
      "metadata": {
        "id": "P2qPhf-EQ4WW"
      },
      "outputs": [],
      "source": [
        "catch_exception = true\n",
        "try\n",
        "    println(\"Try something\")\n",
        "    #error(\"ERROR: Catch me!\") # try uncommenting this line\n",
        "    catch_exception = false\n",
        "    #error(\"ERROR: Don't catch me!\") # try uncommenting this line\n",
        "    println(\"No error occurred\")\n",
        "catch ex\n",
        "    if catch_exception\n",
        "        println(\"I caught this exception: $ex\")\n",
        "    else\n",
        "        throw(ex)\n",
        "    end\n",
        "finally\n",
        "    println(\"The end\")\n",
        "end\n",
        "println(\"After the end\")"
      ]
    },
    {
      "cell_type": "markdown",
      "metadata": {
        "id": "XNyuFEVER7-p"
      },
      "source": [
        "The equivalent Python code is shorter, but it's fairly uncommon:\n",
        "\n",
        "```python\n",
        "# PYTHON\n",
        "try:\n",
        "    print(\"Try something\")\n",
        "    raise Exception(\"Catch me!\") # try uncommenting this line\n",
        "except Exception as ex:\n",
        "    print(f\"I caught this exception: {ex}\")\n",
        "else:\n",
        "    raise Exception(\"Don't catch me!\") # try uncommenting this line\n",
        "    print(\"No error occured\")\n",
        "finally:\n",
        "    print(\"The end\")\n",
        "\n",
        "print(\"After the end\")\n",
        "```"
      ]
    },
    {
      "cell_type": "markdown",
      "metadata": {
        "id": "Ieqz4vrxEAQb"
      },
      "source": [
        "# Docstrings\n",
        "It's good practice to add docstrings to every function you export. The docstring is placed just _before_ the definition of the function:"
      ]
    },
    {
      "cell_type": "code",
      "execution_count": null,
      "metadata": {
        "id": "OgwehsQjNj8Y"
      },
      "outputs": [],
      "source": [
        "\"Compute the square of number x\"\n",
        "square(x::Number) = x^2"
      ]
    },
    {
      "cell_type": "markdown",
      "metadata": {
        "id": "B9vmLpLpO6ix"
      },
      "source": [
        "You can retrieve a function's docstring using the `@doc` macro:"
      ]
    },
    {
      "cell_type": "code",
      "execution_count": null,
      "metadata": {
        "id": "rYR63pL1NsWU"
      },
      "outputs": [],
      "source": [
        "@doc square"
      ]
    },
    {
      "cell_type": "markdown",
      "metadata": {
        "id": "HcKzENGnO-8z"
      },
      "source": [
        "The docstring is displayed when asking for help:"
      ]
    },
    {
      "cell_type": "code",
      "execution_count": null,
      "metadata": {
        "id": "O9xkw7uvNw9A"
      },
      "outputs": [],
      "source": [
        "?square"
      ]
    },
    {
      "cell_type": "markdown",
      "metadata": {
        "id": "wte1Y76jPKpd"
      },
      "source": [
        "Docstrings follow the [Markdown format](https://en.wikipedia.org/wiki/Markdown#:~:text=Markdown%20is%20a%20lightweight%20markup,using%20a%20plain%20text%20editor.).\n",
        "A typical docstring starts with the signature of the function, indented by 4 spaces, so it will get syntax highlighted as Julia code.\n",
        "It also includes an `Examples` section with Julia REPL outputs:"
      ]
    },
    {
      "cell_type": "code",
      "execution_count": null,
      "metadata": {
        "id": "xucdR5ywNzTf"
      },
      "outputs": [],
      "source": [
        "\"\"\"\n",
        "    cube(x::Number)\n",
        "\n",
        "Compute the cube of `x`.\n",
        "\n",
        "# Examples\n",
        "```julia-repl\n",
        "julia> cube(5)\n",
        "125\n",
        "julia> cube(im)\n",
        "0 - 1im\n",
        "```\n",
        "\"\"\"\n",
        "cube(x) = x^3"
      ]
    },
    {
      "cell_type": "markdown",
      "metadata": {
        "id": "b2aSKGYkaN7D"
      },
      "source": [
        "Instead of using `julia-repl` code blocks for the examples, you can use `jldoctest` to mark these examples as doctests (similar to Python's doctests)."
      ]
    },
    {
      "cell_type": "markdown",
      "metadata": {
        "id": "gJt_pU7oQFzT"
      },
      "source": [
        "The help gets nicely formatted:"
      ]
    },
    {
      "cell_type": "code",
      "execution_count": null,
      "metadata": {
        "id": "FolAC9NdOYlH"
      },
      "outputs": [],
      "source": [
        "?cube"
      ]
    },
    {
      "cell_type": "markdown",
      "metadata": {
        "id": "bT28xCa9QMcq"
      },
      "source": [
        "When there are several methods for a given function, it is common to give general information about the function in the first method (usually the most generic), and only add docstrings to other methods if they add useful information (without repeating the general info).\n",
        "\n",
        "Alternatively, you may attach the general information to the function itself:"
      ]
    },
    {
      "cell_type": "code",
      "execution_count": null,
      "metadata": {
        "id": "mi3rw1dYQmkT"
      },
      "outputs": [],
      "source": [
        "\"\"\"\n",
        "    foo(x)\n",
        "\n",
        "Compute the foo of the bar\n",
        "\"\"\"\n",
        "function foo end  # declares the foo function\n",
        "\n",
        "# foo(x::Number) behaves normally, no need for a docstring\n",
        "foo(x::Number) = \"baz\"\n",
        "\n",
        "\"\"\"\n",
        "    foo(x::String)\n",
        "\n",
        "For strings, compute the qux of the bar instead.\n",
        "\"\"\"\n",
        "foo(x::String) = \"qux\""
      ]
    },
    {
      "cell_type": "code",
      "execution_count": null,
      "metadata": {
        "id": "ffQK0fnPTXsH"
      },
      "outputs": [],
      "source": [
        "?foo"
      ]
    },
    {
      "cell_type": "markdown",
      "metadata": {
        "id": "K80HBr5oGzo7"
      },
      "source": [
        "# Macros"
      ]
    },
    {
      "cell_type": "markdown",
      "metadata": {
        "id": "QObp7sGRu6UJ"
      },
      "source": [
        "We have seen a few macros already: `@which`, `@assert`, `@time`, `@benchmark`, `@btime` and `@doc`. You guessed it: all macros start with an `@` sign.\n",
        "\n",
        "What is a macro? It is a function which can fully inspect the expression that follows it, and apply any transformation to that code at parse time, before compilation.\n",
        "\n",
        "This makes it possible for anyone to effectively extend the language in any way they please. Whereas C/C++ macros just do simple text replacement, **Julia macros are powerful meta-programming tools**.\n",
        "\n",
        "On the flip side, this also means that **each macro has its own syntax and behavior**.\n",
        "\n",
        "**A personal opinion**: in my experience, languages that provide great flexibility typically attract a community of programmers with a tinkering mindset, who will _love_ to experiment with all the fun features the language has to offer. This is great for creativity, but it can also be a nuisance if the community ends up producing too much experimental code, without much care for code reliability, API stability, or even for simplicity. By all means, let's be creative, let's experiment, but _with great power comes great responsibility_: let's also value reliability, stability and simplicity.\n",
        "\n",
        "That said, to give you an idea of what macro definitions look like in Julia, here's a simple toy macro that replaces `a + b` expressions with `a - b`, and leaves other expressions alone."
      ]
    },
    {
      "cell_type": "code",
      "execution_count": null,
      "metadata": {
        "id": "piHUqhKBZGqu"
      },
      "outputs": [],
      "source": [
        "macro addtosub(x)\n",
        "  if x.head == :call && x.args[1] == :+ && length(x.args) == 3\n",
        "    Expr(:call, :-, x.args[2], x.args[3])\n",
        "  else\n",
        "    x\n",
        "  end\n",
        "end\n",
        "\n",
        "@addtosub 10 + 2"
      ]
    },
    {
      "cell_type": "markdown",
      "metadata": {
        "id": "7rJOpjunbOFk"
      },
      "source": [
        "In this macro definition, `:call`, `:+` and `:-` are **symbols**. These are similar to strings, only more efficient and less flexible. They are typically used as identifiers, such as keys in dictionaries."
      ]
    },
    {
      "cell_type": "markdown",
      "metadata": {
        "id": "MaXNB30jZ0o9"
      },
      "source": [
        "If you're curious, the macro works because the parser converts `10 + 2` to `Expr(:call, :+, 10, 2)` and passes this expression to the macro (before compilation). The `if` statement checks that the expression is a function call, where the called function is the `+` function, with two arguments. If so, then the macro returns a new expression, corresponding to a call to the `-` function, with the same arguments. So `a + b` becomes `a - b`."
      ]
    },
    {
      "cell_type": "markdown",
      "metadata": {
        "id": "tDEx5z5thmJG"
      },
      "source": [
        "For more info, check out [this page](https://docs.julialang.org/en/v1/manual/metaprogramming/)."
      ]
    },
    {
      "cell_type": "markdown",
      "metadata": {
        "id": "MKMAu-SPGaEp"
      },
      "source": [
        "## Special Prefixed Strings"
      ]
    },
    {
      "cell_type": "markdown",
      "metadata": {
        "id": "RiczKNd3Evgz"
      },
      "source": [
        "`py\"...\"` strings are defined by the `PyCall` module. Writing `py\"something\"` is equivalent to writing `@py_str \"something\"`. In other words, anyone can write a macro that defines a new kind of prefixed string. For example, if you write the `@ok_str` macro, it will be called when you write `ok\"something\"`.\n",
        "\n",
        "Another example is the `Pkg` module which defines the `@pkg_str` macro: this is why you can use `pkg\"...\"` to interact with the `Pkg` module. This is how `pkg\"add PyCall; precompile;\"` worked (at the end of the very first cell). This downloaded, installed and precompiled the `PyCall` module."
      ]
    },
    {
      "cell_type": "markdown",
      "metadata": {
        "id": "V2DqnxfIS47B"
      },
      "source": [
        "# Modules\n",
        "In Python, a module must be defined in a dedicated file. In Julia, modules are independent from the file system. You can define several modules per file, or define one module across multiple files, it's up to you. Let's create a simple module containing two submodules, each containing a variable and a function:"
      ]
    },
    {
      "cell_type": "code",
      "execution_count": null,
      "metadata": {
        "id": "u9tQpD0JS_gm"
      },
      "outputs": [],
      "source": [
        "module ModA\n",
        "    pi = 3.14\n",
        "    square(x) = x^2\n",
        "\n",
        "    module ModB\n",
        "        e = 2.718\n",
        "        cube(x) = x^3\n",
        "    end\n",
        "\n",
        "    module ModC\n",
        "        root2 = √2\n",
        "        relu(x) = max(0, x)\n",
        "    end\n",
        "end"
      ]
    },
    {
      "cell_type": "markdown",
      "metadata": {
        "id": "olgUIIbvYBQq"
      },
      "source": [
        "The default module is `Main`, so whatever we define is put in this module (except when defining a package, as we will see). This is why the `ModA`'s full name is `Main.ModA`."
      ]
    },
    {
      "cell_type": "markdown",
      "metadata": {
        "id": "bnP_rALhVlw3"
      },
      "source": [
        "We can now access the contents of these modules by providing the full paths:"
      ]
    },
    {
      "cell_type": "code",
      "execution_count": null,
      "metadata": {
        "id": "IFOTvRKXXVNr"
      },
      "outputs": [],
      "source": [
        "Main.ModA.ModC.root2"
      ]
    },
    {
      "cell_type": "markdown",
      "metadata": {
        "id": "Z-ooQk9zYY1N"
      },
      "source": [
        "Since our code runs in the `Main` module, we can leave out the `Main.` part:"
      ]
    },
    {
      "cell_type": "code",
      "execution_count": null,
      "metadata": {
        "id": "JnnhVg1eYhLz"
      },
      "outputs": [],
      "source": [
        "ModA.ModC.root2"
      ]
    },
    {
      "cell_type": "markdown",
      "metadata": {
        "id": "7liRTwI2Xd5e"
      },
      "source": [
        "Alternatively, you can use `import`:"
      ]
    },
    {
      "cell_type": "code",
      "execution_count": null,
      "metadata": {
        "id": "DxT44ZvnXoGN"
      },
      "outputs": [],
      "source": [
        "import Main.ModA.ModC.root2\n",
        "\n",
        "root2"
      ]
    },
    {
      "cell_type": "markdown",
      "metadata": {
        "id": "TpOjKGi8Ymmu"
      },
      "source": [
        "Or we can use `import` with a relative path. In this case, we need to prefix `ModA` with a dot `.` to indicate that we want the module `ModA` located in the current module:"
      ]
    },
    {
      "cell_type": "code",
      "execution_count": null,
      "metadata": {
        "id": "9kqmiNNTYpQY"
      },
      "outputs": [],
      "source": [
        "import .ModA.ModC.root2\n",
        "\n",
        "root2"
      ]
    },
    {
      "cell_type": "markdown",
      "metadata": {
        "id": "U1jBsBSyYshg"
      },
      "source": [
        "Alternatively, we can `import` the submodule:"
      ]
    },
    {
      "cell_type": "code",
      "execution_count": null,
      "metadata": {
        "id": "5Xui2RQEZROC"
      },
      "outputs": [],
      "source": [
        "import .ModA.ModC\n",
        "\n",
        "ModC.root2"
      ]
    },
    {
      "cell_type": "markdown",
      "metadata": {
        "id": "8mz_KKlAZXPH"
      },
      "source": [
        "When you want to import more than one name from a module, you can use this syntax:"
      ]
    },
    {
      "cell_type": "code",
      "execution_count": null,
      "metadata": {
        "id": "qtmDevYgZh5I"
      },
      "outputs": [],
      "source": [
        "import .ModA.ModC: root2, relu"
      ]
    },
    {
      "cell_type": "markdown",
      "metadata": {
        "id": "T1nyVSefZotn"
      },
      "source": [
        "This is equivalent to this more verbose syntax:"
      ]
    },
    {
      "cell_type": "code",
      "execution_count": null,
      "metadata": {
        "id": "s-i-7QIGZrQn"
      },
      "outputs": [],
      "source": [
        "import .ModA.ModC.root2, .ModA.ModC.relu"
      ]
    },
    {
      "cell_type": "markdown",
      "metadata": {
        "id": "rJSA9aljZ3BN"
      },
      "source": [
        "Nested modules do <u>not</u> automatically have access to names in enclosing modules. To import names from a parent module, use `..x`. From a grand-parent module, use `...x`, and so on."
      ]
    },
    {
      "cell_type": "code",
      "execution_count": null,
      "metadata": {
        "id": "NvRtf5SWZ_Wk"
      },
      "outputs": [],
      "source": [
        "module ModD\n",
        "    d = 1\n",
        "    module ModE\n",
        "        try\n",
        "            println(d)\n",
        "        catch ex\n",
        "            println(ex)\n",
        "        end\n",
        "    end\n",
        "    module ModF\n",
        "        f = 2\n",
        "        module ModG\n",
        "            import ..f\n",
        "            import ...d\n",
        "            println(f)\n",
        "            println(d)\n",
        "        end\n",
        "    end\n",
        "end"
      ]
    },
    {
      "cell_type": "markdown",
      "metadata": {
        "id": "y_YxkO1ebZEb"
      },
      "source": [
        "Instead of `import`, you can use `using`. It is analog to Python's `from foo import *`. It only gives access to names which were explicitly exported using `export` (similar to the way `from foo import *` in Python only imports names listed in the module's `__all__` list):"
      ]
    },
    {
      "cell_type": "code",
      "execution_count": null,
      "metadata": {
        "id": "CNDHFWv2blSk"
      },
      "outputs": [],
      "source": [
        "module ModH\n",
        "    h1 = 1\n",
        "    h2 = 2\n",
        "    export h1\n",
        "end"
      ]
    },
    {
      "cell_type": "code",
      "execution_count": null,
      "metadata": {
        "id": "TrlkNAZjcDpv"
      },
      "outputs": [],
      "source": [
        "using .ModH\n",
        "\n",
        "println(h1)\n",
        "\n",
        "try\n",
        "    println(h2)\n",
        "catch ex\n",
        "    ex\n",
        "end"
      ]
    },
    {
      "cell_type": "markdown",
      "metadata": {
        "id": "XA-8xz9XBkFr"
      },
      "source": [
        "Note that `using Foo` not only imports all exported names (like Python's `from foo import *`), it also imports `Foo` itself (similarly, `using Foo.Bar` imports `Bar` itself):\n"
      ]
    },
    {
      "cell_type": "code",
      "execution_count": null,
      "metadata": {
        "id": "b2j0lGheB4DK"
      },
      "outputs": [],
      "source": [
        "ModH"
      ]
    },
    {
      "cell_type": "markdown",
      "metadata": {
        "id": "ZJr74QBRzuEo"
      },
      "source": [
        "Even if a name is not exported, you can always access it using its full path, or using `import`:"
      ]
    },
    {
      "cell_type": "code",
      "execution_count": null,
      "metadata": {
        "id": "yjCkh4voz44p"
      },
      "outputs": [],
      "source": [
        "ModH.h2"
      ]
    },
    {
      "cell_type": "code",
      "execution_count": null,
      "metadata": {
        "id": "SAL1D1dRz7oy"
      },
      "outputs": [],
      "source": [
        "import .ModH.h2\n",
        "\n",
        "h2"
      ]
    },
    {
      "cell_type": "markdown",
      "metadata": {
        "id": "1UfcZp6fcNdT"
      },
      "source": [
        "You can also import individual names like this:"
      ]
    },
    {
      "cell_type": "code",
      "execution_count": null,
      "metadata": {
        "id": "fQPAWJMRzOmj"
      },
      "outputs": [],
      "source": [
        "module ModG\n",
        "    g1 = 1\n",
        "    g2 = 2\n",
        "    export g2\n",
        "end\n",
        "\n",
        "using .ModG: g1, g2\n",
        "\n",
        "println(g1)\n",
        "println(g2)"
      ]
    },
    {
      "cell_type": "markdown",
      "metadata": {
        "id": "Y5ToJpN_0RMa"
      },
      "source": [
        "Notice that this syntax gives you access to any name you want, whether or not it was exported. In other words, whether a name is exported or not only affects the `using Foo` syntax."
      ]
    },
    {
      "cell_type": "markdown",
      "metadata": {
        "id": "yzXfmlAg0diH"
      },
      "source": [
        "Importantly, when you want to expand a function which is defined in a module, you must import the function using `import`, or you must specify the function's path:"
      ]
    },
    {
      "cell_type": "code",
      "execution_count": null,
      "metadata": {
        "id": "BfOgteoF0m4X"
      },
      "outputs": [],
      "source": [
        "module ModH\n",
        "    double(x) = x * 2\n",
        "    triple(x) = x * 3\n",
        "end\n",
        "\n",
        "import .ModH: double\n",
        "double(x::AbstractString) = repeat(x, 2)\n",
        "\n",
        "ModH.triple(x::AbstractString) = repeat(x, 3)\n",
        "\n",
        "println(double(2))\n",
        "println(double(\"Two\"))\n",
        "\n",
        "println(ModH.triple(3))\n",
        "println(ModH.triple(\"Three\"))"
      ]
    },
    {
      "cell_type": "markdown",
      "metadata": {
        "id": "c4c2yTaS7fvj"
      },
      "source": [
        "You must never extend a function imported with `using`, unless you provide the function's path:"
      ]
    },
    {
      "cell_type": "code",
      "execution_count": null,
      "metadata": {
        "id": "18mmhRsP18o_"
      },
      "outputs": [],
      "source": [
        "module ModI\n",
        "    quadruple(x) = x * 4\n",
        "    export quadruple\n",
        "end\n",
        "\n",
        "using .ModI\n",
        "ModI.quadruple(x::AbstractString) = repeat(x, 4) # OK\n",
        "println(quadruple(4))\n",
        "println(quadruple(\"Four\"))\n",
        "\n",
        "#quadruple(x::AbstractString) = repeat(x, 4) # uncomment to see the error"
      ]
    },
    {
      "cell_type": "markdown",
      "metadata": {
        "id": "0gwWiNqfD-Pp"
      },
      "source": [
        "There is no equivalent of Python's `import foo as x` ([yet](https://github.com/JuliaLang/julia/issues/1255)), but you can do something like this:"
      ]
    },
    {
      "cell_type": "code",
      "execution_count": null,
      "metadata": {
        "id": "2eGsfHqkEViW"
      },
      "outputs": [],
      "source": [
        "import .ModI: quadruple\n",
        "x = quadruple"
      ]
    },
    {
      "cell_type": "markdown",
      "metadata": {
        "id": "pB4HxazHyNiF"
      },
      "source": [
        "In general, a module named `Foo` will be defined in a file named `Foo.jl` (along with its submodules). However, if the module becomes too big for a single file, you can split it into multiple files and include these files in `Foo.jl` using the `include()` function.\n",
        "\n",
        "For example, let's create three files: `Awesome.jl`, `great.jl` and `amazing/Fantastic.jl`, where:\n",
        "* `Awesome.jl` defines the `Awesome` module and includes the other two files\n",
        "* `great.jl` just defines a function\n",
        "* `amazing/Fantastic.jl` defines the `Fantastic` submodule"
      ]
    },
    {
      "cell_type": "code",
      "execution_count": null,
      "metadata": {
        "id": "A9iOU4XWundK"
      },
      "outputs": [],
      "source": [
        "code_awesome = \"\"\"\n",
        "module Awesome\n",
        "include(\"great.jl\")\n",
        "include(\"amazing/Fantastic.jl\")\n",
        "end\n",
        "\"\"\"\n",
        "\n",
        "code_great = \"\"\"\n",
        "great() = \"This is great!\"\n",
        "\"\"\"\n",
        "\n",
        "code_fantastic = \"\"\"\n",
        "module Fantastic\n",
        "fantastic = true\n",
        "end\n",
        "\"\"\"\n",
        "\n",
        "open(f->write(f, code_awesome), \"Awesome.jl\", \"w\")\n",
        "open(f->write(f, code_great), \"great.jl\", \"w\")\n",
        "mkdir(\"amazing\")\n",
        "open(f->write(f, code_fantastic), \"amazing/Fantastic.jl\", \"w\")"
      ]
    },
    {
      "cell_type": "markdown",
      "metadata": {
        "id": "3OYEv-P-xGHg"
      },
      "source": [
        "If we try to execute `import Awesome` now, it won't work since Julia does not search in the current directory by default. Let's change this:"
      ]
    },
    {
      "cell_type": "code",
      "execution_count": null,
      "metadata": {
        "id": "Zz-JHOzXxZj5"
      },
      "outputs": [],
      "source": [
        "pushfirst!(LOAD_PATH, \".\")"
      ]
    },
    {
      "cell_type": "markdown",
      "metadata": {
        "id": "L8H2XLMAww7g"
      },
      "source": [
        "Now when we import the `Awesome` module, Julia will look for a file named `Awesome.jl` in the current directory, or for `Awesome/src/Awesome.jl`, or for `Awesome.jl/src/Awesome.jl`. If it does not find any of these, it will look in the other places listed in the `LOAD_PATH` array (we will discuss this in more details in the \"Package Management\" section)."
      ]
    },
    {
      "cell_type": "code",
      "execution_count": null,
      "metadata": {
        "id": "V4crjErQvuYf"
      },
      "outputs": [],
      "source": [
        "import Awesome\n",
        "println(Awesome.great())\n",
        "println(\"Is fantastic? \", Awesome.Fantastic.fantastic)"
      ]
    },
    {
      "cell_type": "markdown",
      "metadata": {
        "id": "zpLsSNQbttj1"
      },
      "source": [
        "Let's restore the original `LOAD_PATH`:"
      ]
    },
    {
      "cell_type": "code",
      "execution_count": null,
      "metadata": {
        "id": "zV4wd4Natxw7"
      },
      "outputs": [],
      "source": [
        "popfirst!(LOAD_PATH)"
      ]
    },
    {
      "cell_type": "markdown",
      "metadata": {
        "id": "Jz7_FaJcaZn-"
      },
      "source": [
        "In short:\n",
        "\n",
        "|Julia | Python\n",
        "|------|-------\n",
        "|`import Foo` | `import foo`\n",
        "|`import Foo.Bar` | `from foo import bar`\n",
        "|`import Foo.Bar: a, b` | `from foo.bar import a, b`\n",
        "|`import Foo.Bar.a, Foo.Bar.b` | `from foo.bar import a, b`\n",
        "|`import .Foo` | `import .foo`\n",
        "|`import ..Foo.Bar` | `from ..foo import bar`\n",
        "|`import ...Foo.Bar` | `from ...foo import bar`\n",
        "|`import .Foo: a, b` | `from .foo import a, b`\n",
        "||\n",
        "|`using Foo` | `from foo import *; import foo`\n",
        "|`using Foo.Bar` | `from foo.bar import *; from foo import bar `\n",
        "|`using Foo.Bar: a, b` | `from foo.bar import a, b`\n",
        "\n",
        "|Extending function `Foo.f()` | Result\n",
        "|-----------------------------|--------\n",
        "|`import Foo.f  # or Foo: f` <br />`f(x::Int64) = ...`  | OK\n",
        "|`import Foo`<br />`Foo.f(x::Int64) = ...` | OK\n",
        "|`using Foo`<br />`Foo.f(x::Int64) = ...` | OK\n",
        "|`import Foo.f # or Foo: f`<br />`Foo.f(x::Int64) = ...` | `ERROR: Foo not defined`\n",
        "|`using Foo`<br />`f(x::Int64) = ...` | `ERROR: Foo.f must be explicitly imported`\n",
        "|`using Foo: f`<br />`f(x::Int64) = ...` | `ERROR: Foo.f must be explicitly imported`"
      ]
    },
    {
      "cell_type": "markdown",
      "metadata": {
        "id": "Inpk8qS3HL_u"
      },
      "source": [
        "# Scopes\n",
        "Julia has two types of scopes: global and local.\n",
        "\n",
        "Every module has its own global scope, independent from all other global scopes. There is no overarching global scope.\n",
        "\n",
        "Modules, macros and types (including structs) can only be defined in a global scope.\n",
        "\n",
        "Most code blocks, including `function`, `struct`, `for`, `while`, etc., have their own local scope. For example:"
      ]
    },
    {
      "cell_type": "code",
      "execution_count": null,
      "metadata": {
        "id": "q3Lm3T1DG6St"
      },
      "outputs": [],
      "source": [
        "for q in 1:3\n",
        "    println(q)\n",
        "end\n",
        "\n",
        "try\n",
        "    println(q) # q is not available here\n",
        "catch ex\n",
        "    ex\n",
        "end"
      ]
    },
    {
      "cell_type": "markdown",
      "metadata": {
        "id": "Wh6xa4fyJLYY"
      },
      "source": [
        "A local scope inherits from its parent scope:"
      ]
    },
    {
      "cell_type": "code",
      "execution_count": null,
      "metadata": {
        "id": "IeLfjf4ZJQ41"
      },
      "outputs": [],
      "source": [
        "z = 5\n",
        "for i in 1:3\n",
        "    w = 10\n",
        "    println(i * w * z) # i and w are local, z is from the parent scope\n",
        "end"
      ]
    },
    {
      "cell_type": "markdown",
      "metadata": {
        "id": "OQLfwoD3NoC_"
      },
      "source": [
        "An inner scope can assign to a variable in the parent scope, if the parent scope is not global:"
      ]
    },
    {
      "cell_type": "code",
      "execution_count": null,
      "metadata": {
        "id": "fwN1C2BhNxyZ"
      },
      "outputs": [],
      "source": [
        "for i in 1:3\n",
        "    s = 0\n",
        "    for j in 1:5\n",
        "        s = j # variable s is from the parent scope\n",
        "    end\n",
        "    println(s)\n",
        "end"
      ]
    },
    {
      "cell_type": "markdown",
      "metadata": {
        "id": "0m3aoj8UKxS4"
      },
      "source": [
        "You can force a variable to be local by using the `local` keyword:"
      ]
    },
    {
      "cell_type": "code",
      "execution_count": null,
      "metadata": {
        "id": "hlireAo6K3eS"
      },
      "outputs": [],
      "source": [
        "for i in 1:3\n",
        "    s = 0\n",
        "    for j in 1:5\n",
        "        local s = j # variable s is local now\n",
        "    end\n",
        "    println(s)\n",
        "end"
      ]
    },
    {
      "cell_type": "markdown",
      "metadata": {
        "id": "qwo2DWNIN8oR"
      },
      "source": [
        "To assign to a global variable, you must declare the variable as `global` in the local scope:"
      ]
    },
    {
      "cell_type": "code",
      "execution_count": null,
      "metadata": {
        "id": "rPnibZjLOFHv"
      },
      "outputs": [],
      "source": [
        "for i in 1:3\n",
        "    global p\n",
        "    p = i\n",
        "end\n",
        "p"
      ]
    },
    {
      "cell_type": "markdown",
      "metadata": {
        "id": "tL5AgzVjOKuo"
      },
      "source": [
        "There is one exception to this rule: when executing code directly in the REPL (since Julia 1.5) or in IJulia, you do not need to declare a variable as `global` if the global variable already exists:"
      ]
    },
    {
      "cell_type": "code",
      "execution_count": null,
      "metadata": {
        "id": "PKZPY8XOOlT9"
      },
      "outputs": [],
      "source": [
        "s = 0\n",
        "for i in 1:3\n",
        "    s = i # implicitly global s: only in REPL Julia 1.5+ or IJulia\n",
        "end\n",
        "s"
      ]
    },
    {
      "cell_type": "markdown",
      "metadata": {
        "id": "Ne7zn3qgPo6M"
      },
      "source": [
        "In functions, assigning to a variable which is not explicitly declared as global always makes it local (even in the REPL and IJulia):"
      ]
    },
    {
      "cell_type": "code",
      "execution_count": null,
      "metadata": {
        "id": "RJgKv_6oPhH2"
      },
      "outputs": [],
      "source": [
        "s, t = 1, 2 # globals\n",
        "\n",
        "function foo()\n",
        "   s = 10 * t # s is local, t is global\n",
        "end\n",
        "\n",
        "println(foo())\n",
        "println(s)"
      ]
    },
    {
      "cell_type": "markdown",
      "metadata": {
        "id": "DhnbEml6SiTG"
      },
      "source": [
        "Just like in Python, functions can capture variables from the enclosing scope (not from the scope the function is called from):"
      ]
    },
    {
      "cell_type": "code",
      "execution_count": null,
      "metadata": {
        "id": "B1lAq94XS6yX"
      },
      "outputs": [],
      "source": [
        "t = 1\n",
        "\n",
        "foo() = t # foo() captures t from the global scope\n",
        "\n",
        "function bar()\n",
        "    t = 5 # this is a new local variable\n",
        "    println(foo()) # foo() still uses t from the global scope\n",
        "end\n",
        "\n",
        "bar()"
      ]
    },
    {
      "cell_type": "code",
      "execution_count": null,
      "metadata": {
        "id": "a460UCKFTXt7"
      },
      "outputs": [],
      "source": [
        "function quz()\n",
        "    global t\n",
        "    t = 5 # we change the global t\n",
        "    println(foo()) # and this affects foo()\n",
        "end\n",
        "\n",
        "quz()"
      ]
    },
    {
      "cell_type": "markdown",
      "metadata": {
        "id": "MKsqCB48UxiU"
      },
      "source": [
        "Closures work much like in Python:"
      ]
    },
    {
      "cell_type": "code",
      "execution_count": null,
      "metadata": {
        "id": "CvyNc-ksT22C"
      },
      "outputs": [],
      "source": [
        "function create_multiplier(n)\n",
        "    function mul(x)\n",
        "        x * n # variable n is captured from the parent scope\n",
        "    end\n",
        "end\n",
        "\n",
        "mul2 = create_multiplier(2)\n",
        "mul2(5)"
      ]
    },
    {
      "cell_type": "markdown",
      "metadata": {
        "id": "5qAMInDsUtJN"
      },
      "source": [
        "An inner function can modify variables from its parent scope:"
      ]
    },
    {
      "cell_type": "code",
      "execution_count": null,
      "metadata": {
        "id": "s0JpWoqcU9-P"
      },
      "outputs": [],
      "source": [
        "function create_counter()\n",
        "    c = 0\n",
        "    inc() = c += 1 # this inner function modifies the c from the outer function\n",
        "end\n",
        "\n",
        "cnt = create_counter()\n",
        "println(cnt())\n",
        "println(cnt())"
      ]
    },
    {
      "cell_type": "markdown",
      "metadata": {
        "id": "4ai7b0ZAlrjT"
      },
      "source": [
        "Consider the following code, and see if you can figure out why it prints the same result multiple times:"
      ]
    },
    {
      "cell_type": "code",
      "execution_count": null,
      "metadata": {
        "id": "eEe2LtvSl0Ea"
      },
      "outputs": [],
      "source": [
        "funcs = []\n",
        "i = 1\n",
        "while i ≤ 5\n",
        "    push!(funcs, ()->i^2)\n",
        "    global i += 1\n",
        "end\n",
        "for fn in funcs\n",
        "    println(fn())\n",
        "end"
      ]
    },
    {
      "cell_type": "markdown",
      "metadata": {
        "id": "ryvtm8pImQlB"
      },
      "source": [
        "The answer is that there is a single variable `i`, which is captured by all 5 closures. By the time these closures are executed, the value of `i` is 6, so the square is 36, for every closure."
      ]
    },
    {
      "cell_type": "markdown",
      "metadata": {
        "id": "PWkRl2Yfm4A8"
      },
      "source": [
        "If we use a `for` loop, we don't have this problem, since a new local variable is created at every iteration:"
      ]
    },
    {
      "cell_type": "code",
      "execution_count": null,
      "metadata": {
        "id": "zRrKzMHjnBD_"
      },
      "outputs": [],
      "source": [
        "funcs = []\n",
        "for i in 1:5\n",
        "    push!(funcs, ()->i^2)\n",
        "end\n",
        "for fn in funcs\n",
        "    println(fn())\n",
        "end"
      ]
    },
    {
      "cell_type": "markdown",
      "metadata": {
        "id": "URV8meLypzMG"
      },
      "source": [
        "Any local variable created within a `for` loop, a `while` loop or a comprehension also get a new copy at each iteration. So we could code the above example like this:"
      ]
    },
    {
      "cell_type": "code",
      "execution_count": null,
      "metadata": {
        "id": "xjXXASVEqBim"
      },
      "outputs": [],
      "source": [
        "funcs = []\n",
        "i = 1\n",
        "while i ≤ 5  # since we are in a while loop...\n",
        "    global i\n",
        "    local j = i # ...and j is created here, it's a new `j` at each iteration\n",
        "    push!(funcs, ()->j^2)\n",
        "    i += 1\n",
        "end\n",
        "for fn in funcs\n",
        "    println(fn())\n",
        "end"
      ]
    },
    {
      "cell_type": "markdown",
      "metadata": {
        "id": "Vazl0dRDnLpk"
      },
      "source": [
        "Another way to get the same result is to use a `let` block, which also creates a new local variable every time it is executed:"
      ]
    },
    {
      "cell_type": "code",
      "execution_count": null,
      "metadata": {
        "id": "X-HuxLIdnSgB"
      },
      "outputs": [],
      "source": [
        "funcs = []\n",
        "i = 0\n",
        "while i < 5\n",
        "    let i=i\n",
        "        push!(funcs, ()->i^2)\n",
        "    end\n",
        "    global i += 1\n",
        "end\n",
        "for fn in funcs\n",
        "    println(fn())\n",
        "end"
      ]
    },
    {
      "cell_type": "markdown",
      "metadata": {
        "id": "fXEf0zs0no--"
      },
      "source": [
        "This `let i=i` block defines a new local variable `i` at every iteration, and initializes it with the value of `i` from the parent scope. Therefore each closure captures a different local variable `i`."
      ]
    },
    {
      "cell_type": "markdown",
      "metadata": {
        "id": "TKWWfJacoDU0"
      },
      "source": [
        "Variables in a `let` block are initialized from left to right, so they can access variables on their left:"
      ]
    },
    {
      "cell_type": "code",
      "execution_count": null,
      "metadata": {
        "id": "HPXugdyUoH6R"
      },
      "outputs": [],
      "source": [
        "a = 1\n",
        "let a=a+1, b=a\n",
        "    println(\"a=$a, b=$b\")\n",
        "end"
      ]
    },
    {
      "cell_type": "markdown",
      "metadata": {
        "id": "S9-frzGloRln"
      },
      "source": [
        "In this example, the local variable `a` is initialized with the value of `a + 1`, where `a` comes from the parent scope (i.e., it's the global `a` in this case). However, `b` is initialized with the value of the local `a`, since it now hides the variable `a` from the parent scope."
      ]
    },
    {
      "cell_type": "markdown",
      "metadata": {
        "id": "SEI5E2xbgYHl"
      },
      "source": [
        "Default values in function arguments also have this left-to-right scoping logic:"
      ]
    },
    {
      "cell_type": "code",
      "execution_count": null,
      "metadata": {
        "id": "S-E8aGtPgBCx"
      },
      "outputs": [],
      "source": [
        "a = 1\n",
        "foobar(a=a+1, b=a) = println(\"a=$a, b=$b\")\n",
        "foobar()\n",
        "foobar(5)"
      ]
    },
    {
      "cell_type": "markdown",
      "metadata": {
        "id": "PzqwY5FngkML"
      },
      "source": [
        "In this example, the first argument's default value is `a + 1`, where `a` comes from the parent scope (i.e., the global `a` in this case). However, the second argument's default value is `a`, where `a` in this case is the value of the first argument (<u>not</u> the parent scope's `a`)."
      ]
    },
    {
      "cell_type": "markdown",
      "metadata": {
        "id": "Au3RUzMsHWw8"
      },
      "source": [
        "Note that `if` blocks and `begin` blocks do <u>not</u> have their own local scope, they just use the parent scope:"
      ]
    },
    {
      "cell_type": "code",
      "execution_count": null,
      "metadata": {
        "id": "iARzIFgtpOfB"
      },
      "outputs": [],
      "source": [
        "a = 1\n",
        "if true\n",
        "    a = 2 # same `a` as above\n",
        "end\n",
        "a"
      ]
    },
    {
      "cell_type": "code",
      "execution_count": null,
      "metadata": {
        "id": "kO5v8sfCHogx"
      },
      "outputs": [],
      "source": [
        "a = 1\n",
        "begin\n",
        "    a = 2  # same `a` as above\n",
        "end\n",
        "a"
      ]
    },
    {
      "cell_type": "markdown",
      "metadata": {
        "id": "2ME2_ryels7L"
      },
      "source": [
        "# Package Management\n"
      ]
    },
    {
      "cell_type": "markdown",
      "metadata": {
        "id": "hsT_nU1gB6-r"
      },
      "source": [
        "## Basic Workflow\n",
        "The simplest way to write a Julia program is to create a `.jl` file somewhere and run it using `julia`. You would usually do this with your favorite editor, but in this notebook we must do this programmatically. For example:"
      ]
    },
    {
      "cell_type": "code",
      "execution_count": null,
      "metadata": {
        "id": "sRL8oZDaC0PX"
      },
      "outputs": [],
      "source": [
        "code = \"\"\"\n",
        "println(\"Hello world\")\n",
        "\"\"\"\n",
        "\n",
        "open(f->write(f, code), \"my_program1.jl\", \"w\")"
      ]
    },
    {
      "cell_type": "markdown",
      "metadata": {
        "id": "I3LsIKh47R99"
      },
      "source": [
        "Then let's run the program using a shell command:"
      ]
    },
    {
      "cell_type": "code",
      "execution_count": null,
      "metadata": {
        "id": "UvfGZxERDv6c"
      },
      "outputs": [],
      "source": [
        ";julia my_program1.jl"
      ]
    },
    {
      "cell_type": "markdown",
      "metadata": {
        "id": "KmDPtknrD0Al"
      },
      "source": [
        "If you need to use a package which is not part of the standard library, such as `PyCall`, you first need to install it using Julia's package manager `Pkg`:"
      ]
    },
    {
      "cell_type": "code",
      "execution_count": null,
      "metadata": {
        "id": "doKyY1qWEMZV"
      },
      "outputs": [],
      "source": [
        "using Pkg\n",
        "Pkg.add(\"PyCall\")"
      ]
    },
    {
      "cell_type": "markdown",
      "metadata": {
        "id": "iQj8OgUKERBz"
      },
      "source": [
        "Alternatively, in interactive mode, you can enter the `Pkg` mode by typing `]`, then type a command:"
      ]
    },
    {
      "cell_type": "code",
      "execution_count": null,
      "metadata": {
        "id": "KGyakk8GEf84"
      },
      "outputs": [],
      "source": [
        "]add PyCall"
      ]
    },
    {
      "cell_type": "markdown",
      "metadata": {
        "id": "AsGGVOPzEkj9"
      },
      "source": [
        "You can also precompile the new package to avoid the compilation delay when the package is first used:"
      ]
    },
    {
      "cell_type": "code",
      "execution_count": null,
      "metadata": {
        "id": "GqYovSwVEihb"
      },
      "outputs": [],
      "source": [
        "]add PyCall; precompile;"
      ]
    },
    {
      "cell_type": "markdown",
      "metadata": {
        "id": "JMwXNbzGExCn"
      },
      "source": [
        "One last alternative is to use `pkg\"...\"` strings to run commands in your programs:"
      ]
    },
    {
      "cell_type": "code",
      "execution_count": null,
      "metadata": {
        "id": "tx5hdeO9E71F"
      },
      "outputs": [],
      "source": [
        "pkg\"add PyCall; precompile;\""
      ]
    },
    {
      "cell_type": "markdown",
      "metadata": {
        "id": "fEIWFBgnFC6c"
      },
      "source": [
        "Now you can import `PyCall` in any of your Julia programs:"
      ]
    },
    {
      "cell_type": "code",
      "execution_count": null,
      "metadata": {
        "id": "9kTp497AFJuT"
      },
      "outputs": [],
      "source": [
        "code = \"\"\"\n",
        "using PyCall\n",
        "py\"print('1 + 2 =', 1 + 2)\"\n",
        "\"\"\"\n",
        "\n",
        "open(f->write(f, code), \"my_program2.jl\", \"w\")"
      ]
    },
    {
      "cell_type": "code",
      "execution_count": null,
      "metadata": {
        "id": "unfHQR31FVf1"
      },
      "outputs": [],
      "source": [
        ";julia my_program2.jl"
      ]
    },
    {
      "cell_type": "markdown",
      "metadata": {
        "id": "7Cd3wPG9PH-p"
      },
      "source": [
        "You can also add packages by providing their URL (typically on github). This is useful when you want to use a package which is not in the [official Julia Package registry](https://github.com/JuliaRegistries/General), or when you want the very latest version of a package:"
      ]
    },
    {
      "cell_type": "code",
      "execution_count": null,
      "metadata": {
        "id": "cW6k8F91PT23"
      },
      "outputs": [],
      "source": [
        "]add https://github.com/JuliaLang/Example.jl"
      ]
    },
    {
      "cell_type": "markdown",
      "metadata": {
        "id": "HtRAtwWkD3Ao"
      },
      "source": [
        "You can install a specific package version like this:"
      ]
    },
    {
      "cell_type": "code",
      "execution_count": null,
      "metadata": {
        "id": "CceFEwcTCAWG"
      },
      "outputs": [],
      "source": [
        "]add PyCall@1.91.3"
      ]
    },
    {
      "cell_type": "markdown",
      "metadata": {
        "id": "AlN_f9jpGPO1"
      },
      "source": [
        "If you only specify version `1` or version `1.91`, Julia will get the latest version with that prefix. For example, `]add PyCall@0.91` would install the latest version `0.91.x`."
      ]
    },
    {
      "cell_type": "markdown",
      "metadata": {
        "id": "TDixUMn7DDri"
      },
      "source": [
        "You can also update a package to its latest version:"
      ]
    },
    {
      "cell_type": "code",
      "execution_count": null,
      "metadata": {
        "id": "0EQofpkzD4xq"
      },
      "outputs": [],
      "source": [
        "]update PyCall"
      ]
    },
    {
      "cell_type": "markdown",
      "metadata": {
        "id": "lgeDVp26DI7_"
      },
      "source": [
        "You can update all packages to their latest versions:"
      ]
    },
    {
      "cell_type": "code",
      "execution_count": null,
      "metadata": {
        "id": "S3Mi-zgLDOVw"
      },
      "outputs": [],
      "source": [
        "]update"
      ]
    },
    {
      "cell_type": "markdown",
      "metadata": {
        "id": "1C6nNERsDa_M"
      },
      "source": [
        "If you don't want a particular package to be updated the next time you call `]update`, you can pin it:"
      ]
    },
    {
      "cell_type": "code",
      "execution_count": null,
      "metadata": {
        "id": "Nht6o2uCDiiL"
      },
      "outputs": [],
      "source": [
        "]pin PyCall"
      ]
    },
    {
      "cell_type": "markdown",
      "metadata": {
        "id": "Qp9v2d7tDxjH"
      },
      "source": [
        "To unpin the package:"
      ]
    },
    {
      "cell_type": "code",
      "execution_count": null,
      "metadata": {
        "id": "3i9JoQimDl7I"
      },
      "outputs": [],
      "source": [
        "]free PyCall"
      ]
    },
    {
      "cell_type": "markdown",
      "metadata": {
        "id": "Asr1snFp609f"
      },
      "source": [
        "You can also run the tests defined in a package:"
      ]
    },
    {
      "cell_type": "code",
      "execution_count": null,
      "metadata": {
        "id": "XlmKnEvf67zi"
      },
      "outputs": [],
      "source": [
        "]test Example"
      ]
    },
    {
      "cell_type": "markdown",
      "metadata": {
        "id": "lHAXzij6ZPPs"
      },
      "source": [
        "Of course, you can remove a package:"
      ]
    },
    {
      "cell_type": "code",
      "execution_count": null,
      "metadata": {
        "id": "2fuEjhjzZROg"
      },
      "outputs": [],
      "source": [
        "]rm Example"
      ]
    },
    {
      "cell_type": "markdown",
      "metadata": {
        "id": "eeTA6D33CHTv"
      },
      "source": [
        "Lastly, you can check which packages are installed using `]status` (or `]st` for short):"
      ]
    },
    {
      "cell_type": "code",
      "execution_count": null,
      "metadata": {
        "id": "lSqzm_yECL6Y"
      },
      "outputs": [],
      "source": [
        "]st"
      ]
    },
    {
      "cell_type": "markdown",
      "metadata": {
        "id": "VVwtyjNJlL5j"
      },
      "source": [
        "For more `Pkg` commands, type `]help`."
      ]
    },
    {
      "cell_type": "markdown",
      "metadata": {
        "id": "rQY6BRiBvdbU"
      },
      "source": [
        "|Julia (in interactive mode) | Python (in a terminal)\n",
        "|-----|------\n",
        "|`]status` | `pip freeze`<br />or<br />`conda list`\n",
        "|`]add Foo` | `pip install foo`<br />or<br />`conda install foo`\n",
        "|`]add Foo@1.2` | `pip install foo==1.2`<br />or<br />`conda install foo=1.2`\n",
        "|`]update Foo` | `pip install --upgrade foo`<br />or<br />`conda update foo`\n",
        "|`]pin Foo` | `foo==<version>` in `requirements.txt`<br /> or<br />`foo=<version>` in `environment.yml`\n",
        "|`]free Foo` | `foo` in `requirements.txt`<br />or<br />`foo` in `environment.yml`\n",
        "|`]test Foo` | `python -m unittest foo`\n",
        "|`]rm Foo` | `pip uninstall foo`<br />or<br />`conda remove foo`\n",
        "|`]help` | `pip --help`\n"
      ]
    },
    {
      "cell_type": "markdown",
      "metadata": {
        "id": "o6KvuaMcFx2N"
      },
      "source": [
        "This workflow is fairly simple, but it means that all of your programs will be using the same version of each package. This is analog to installing packages using `pip install` without using virtual environments."
      ]
    },
    {
      "cell_type": "markdown",
      "metadata": {
        "id": "CaJvX0RcqukU"
      },
      "source": [
        "\n",
        "## Projects\n",
        "\n",
        "If you want to have multiple projects, each with different libraries and library versions, you should define **projects**. These are analog to Python virtual environments.\n",
        "\n",
        "A project is just a directory containing a `Project.toml` file and a `Manifest.toml` file:\n",
        "\n",
        "```\n",
        "my_project/\n",
        "    Project.toml\n",
        "    Manifest.toml\n",
        "```\n",
        "\n",
        "* `Project.toml` is similar to a `requirements.txt` file (for pip) or `environment.yml` (for conda): it lists the dependencies of the project, and compatibility constraints (e.g., `SomeDependency = 2.5`).\n",
        "* `Manifest.toml` is an automatically generated file which lists the exact versions and unique IDs (UUIDs) of all the packages that Julia found, based on `Project.toml`. It includes all the implicit dependencies of the project's packages. This is useful to reproduce an environment precisely. Analog to the output of `pip --freeze`.\n",
        "\n",
        "By default, the active project is located in `~/.julia/environments/v#.#` (where `#.#` is the Julia version you are using, such as 1.4). You can set a different project when starting Julia:\n",
        "\n",
        "```bash\n",
        "# BASH\n",
        "julia --project=/path/to/my_project\n",
        "```\n",
        "\n",
        "Or you can set the `JULIA_PROJECT` environment variable:\n",
        "\n",
        "```bash\n",
        "# BASH\n",
        "export JULIA_PROJECT=/path/to/my_project\n",
        "julia\n",
        "```"
      ]
    },
    {
      "cell_type": "markdown",
      "metadata": {
        "id": "84iGO38zM3Cz"
      },
      "source": [
        "Or you can just activate a project directly in Julia (this is analog to running `source my_project/env/bin/activate` when using virtualenv):"
      ]
    },
    {
      "cell_type": "code",
      "execution_count": null,
      "metadata": {
        "id": "tuXofzisM-bW"
      },
      "outputs": [],
      "source": [
        "Pkg.activate(\"my_project\")"
      ]
    },
    {
      "cell_type": "markdown",
      "metadata": {
        "id": "wOPtEC3UNTsh"
      },
      "source": [
        "The `my_project` directory does not exist yet, but it gets created automatically, along with the `Project.toml` and `Manifest.toml` files, when you first add a package:"
      ]
    },
    {
      "cell_type": "code",
      "execution_count": null,
      "metadata": {
        "id": "yLuWH7U8g84W"
      },
      "outputs": [],
      "source": [
        "]add PyCall"
      ]
    },
    {
      "cell_type": "markdown",
      "metadata": {
        "id": "KS6OJjVpTcKX"
      },
      "source": [
        "You can also add a package via its URL:"
      ]
    },
    {
      "cell_type": "code",
      "execution_count": null,
      "metadata": {
        "id": "ydZSoyULOlwV"
      },
      "outputs": [],
      "source": [
        "]add https://github.com/JuliaLang/Example.jl"
      ]
    },
    {
      "cell_type": "markdown",
      "metadata": {
        "id": "JKr9G4fDGGLv"
      },
      "source": [
        "Let's also add a package with a specific version:"
      ]
    },
    {
      "cell_type": "code",
      "execution_count": null,
      "metadata": {
        "id": "xM8l4uR2GJsM"
      },
      "outputs": [],
      "source": [
        "]add Example@0.3"
      ]
    },
    {
      "cell_type": "markdown",
      "metadata": {
        "id": "RCZ-eWicTmVx"
      },
      "source": [
        "Now the `Project.toml` and `Manifest.toml` files were created:"
      ]
    },
    {
      "cell_type": "code",
      "execution_count": null,
      "metadata": {
        "id": "CPbncHi09yFJ"
      },
      "outputs": [],
      "source": [
        ";find my_project"
      ]
    },
    {
      "cell_type": "markdown",
      "metadata": {
        "id": "Jw-VCU41Ua7A"
      },
      "source": [
        "Notice that the packages we added to the project were _not_ placed in the `my_project` directory itself. They were saved in the `~/.julia/packages` directory, the compiled files were placed in `~/.julia/compiled` director, logs were written to `~/.julia/logs` and so on.\n",
        "\n",
        "If several projects use the same package, it will only be downloaded and built once (well, once per version). The `~/.julia/packages` directory can hold multiple versions of the same package, so it's fine if different projects use different versions of the same package. There will be no conflict, no \"dependency hell\".\n"
      ]
    },
    {
      "cell_type": "markdown",
      "metadata": {
        "id": "o9yjyihUisIK"
      },
      "source": [
        "The `Project.toml` just says that the project depends on `PyCall` and `Example`, and it specifies the UUID of this package:"
      ]
    },
    {
      "cell_type": "code",
      "execution_count": null,
      "metadata": {
        "id": "Gz8KscpIhIX4"
      },
      "outputs": [],
      "source": [
        "print(read(\"my_project/Project.toml\", String))"
      ]
    },
    {
      "cell_type": "markdown",
      "metadata": {
        "id": "IpxulMt32SFf"
      },
      "source": [
        "UUIDs are useful to avoid name conflicts. If several people name their package `CoolStuff`, then the UUID will clarify which one we are referring to."
      ]
    },
    {
      "cell_type": "markdown",
      "metadata": {
        "id": "-_mbX8HUi7Qg"
      },
      "source": [
        "The `Manifest.toml` file is much longer, since it contains all the packages which `PyCall` and `Example` depend on, along with their versions (except for the standard library packages), and the dependency graph. This file should never be modified manually:\n"
      ]
    },
    {
      "cell_type": "code",
      "execution_count": null,
      "metadata": {
        "id": "28qXSoSwhOgm"
      },
      "outputs": [],
      "source": [
        "print(read(\"my_project/Manifest.toml\", String))"
      ]
    },
    {
      "cell_type": "markdown",
      "metadata": {
        "id": "P1JJXmuz1LPl"
      },
      "source": [
        "Note that `Manifest.toml` contains the precise version of the `Example` package that was installed, but the `Project.toml` file does not specify that version `0.3` is required. That's because Julia cannot know whether your project is supposed to work only with any version `0.3.x`, or whether it could work with other versions as well. So if you want to specify a version constraint for the `Example` package, you must add it manually in `Project.toml`. You would normally use your favorite editor to do this, but in this notebook we'll update `Project.toml` programmatically:"
      ]
    },
    {
      "cell_type": "code",
      "execution_count": null,
      "metadata": {
        "id": "tgddc3M_1iyG"
      },
      "outputs": [],
      "source": [
        "append_config = \"\"\"\n",
        "\n",
        "[compat]\n",
        "Example = \"0.3\"\n",
        "\"\"\"\n",
        "\n",
        "open(f->write(f, append_config), \"my_project/Project.toml\", \"a\")"
      ]
    },
    {
      "cell_type": "markdown",
      "metadata": {
        "id": "BD4rgzAT2GGs"
      },
      "source": [
        "Here is the updated `Project.toml` file:"
      ]
    },
    {
      "cell_type": "code",
      "execution_count": null,
      "metadata": {
        "id": "XNAC8q0H17mI"
      },
      "outputs": [],
      "source": [
        "print(read(\"my_project/Project.toml\", String))"
      ]
    },
    {
      "cell_type": "markdown",
      "metadata": {
        "id": "VyWAJoEq6GZs"
      },
      "source": [
        "Now if we try to replace `Example` 0.3 with version 0.2, we get an error:"
      ]
    },
    {
      "cell_type": "code",
      "execution_count": null,
      "metadata": {
        "id": "qgBa7Y0x6NUm"
      },
      "outputs": [],
      "source": [
        "try\n",
        "    pkg\"add Example@0.2\"\n",
        "catch ex\n",
        "    ex\n",
        "end"
      ]
    },
    {
      "cell_type": "markdown",
      "metadata": {
        "id": "R3zvTUWSH4Sa"
      },
      "source": [
        "Now you can run a program based on this project, and it will have the possibility to use all the packages which have been added to this project, with their specific versions. If you import a package which was not explicitly added to this project, Julia will fallback to the default project:"
      ]
    },
    {
      "cell_type": "code",
      "execution_count": null,
      "metadata": {
        "id": "XnSjhJSyISzT"
      },
      "outputs": [],
      "source": [
        "code = \"\"\"\n",
        "import PyCall # found in the project\n",
        "import PyPlot # not found, so falls back to default project\n",
        "println(\"Success!\")\n",
        "\"\"\"\n",
        "\n",
        "open(f->write(f, code), \"my_program3.jl\", \"w\")"
      ]
    },
    {
      "cell_type": "code",
      "execution_count": null,
      "metadata": {
        "id": "eM4yXtogIc5d"
      },
      "outputs": [],
      "source": [
        ";julia --project=my_project my_program3.jl"
      ]
    },
    {
      "cell_type": "markdown",
      "metadata": {
        "id": "U3C_z11CDXzJ"
      },
      "source": [
        "## Packages\n",
        "Falling back to the default project is fine, as long as you run the code on your own machine, but if you want to share your code with other people, it would be brittle to count on packages installed in _their_ default project. Instead, if you plan to share your code, you should clearly specify which packages it depends on, and use only these packages. Such a shareable project is called a **package**."
      ]
    },
    {
      "cell_type": "markdown",
      "metadata": {
        "id": "7cLqsDTlMRM9"
      },
      "source": [
        "A package is a regular project (as defined above), but with a few extras:\n",
        "* the `Project.toml` file must specify a `name`, a `version` and a `uuid`.\n",
        "* there must be a `src/PackageName.jl` file containing a module named `PackageName`.\n",
        "* you generally want to specify the `authors` and `description`, and maybe also the `license`, `repository` (e.g., the package's github URL), and some `keywords`, but all of these are optional.\n",
        "\n",
        "It is very easy to create a new package using the `]generate` command. To define the `authors` field, `Pkg` will look up the `user.name` and `user.email` git config entries, so let's define them before we generate the package:"
      ]
    },
    {
      "cell_type": "code",
      "execution_count": null,
      "metadata": {
        "id": "-lrw9Diey5Jw"
      },
      "outputs": [],
      "source": [
        ";git config --global user.name \"Alice Bob\""
      ]
    },
    {
      "cell_type": "code",
      "execution_count": null,
      "metadata": {
        "id": "jHImoacOzHyR"
      },
      "outputs": [],
      "source": [
        ";git config --global user.email \"alice.bob@example.com\""
      ]
    },
    {
      "cell_type": "code",
      "execution_count": null,
      "metadata": {
        "id": "bTw_L-4-ls4H"
      },
      "outputs": [],
      "source": [
        "]generate MyPackages/Hello"
      ]
    },
    {
      "cell_type": "markdown",
      "metadata": {
        "id": "_OvnM3tBpW9X"
      },
      "source": [
        "This generated the `MyPackages/Hello/Project.toml` file (along with the enclosing directories) and the `MyPackages/Hello/src/Hello.jl` file. Let's take a look at the `Project.toml` file:"
      ]
    },
    {
      "cell_type": "code",
      "execution_count": null,
      "metadata": {
        "id": "wQqVtTh5qkhm"
      },
      "outputs": [],
      "source": [
        "print(read(\"MyPackages/Hello/Project.toml\", String))"
      ]
    },
    {
      "cell_type": "markdown",
      "metadata": {
        "id": "j1IL7fuyiAtb"
      },
      "source": [
        "Notice that the project has no dependencies yet, but it has a name, a unique UUID, and a version (plus an author)."
      ]
    },
    {
      "cell_type": "markdown",
      "metadata": {
        "id": "Pgs4xop1qr1z"
      },
      "source": [
        "Note: if `Pkg` does not find a your name or email in the git config, it falls back to environment variables (`GIT_AUTHOR_NAME`, `GIT_COMMITTER_NAME`, `USER`, `USERNAME`, `NAME` and `GIT_AUTHOR_EMAIL`, `GIT_COMMITTER_EMAIL`, `EMAIL`)."
      ]
    },
    {
      "cell_type": "markdown",
      "metadata": {
        "id": "VSyvL2-I0S_t"
      },
      "source": [
        "And let's look at the `src/Hello.jl` file:"
      ]
    },
    {
      "cell_type": "code",
      "execution_count": null,
      "metadata": {
        "id": "Y4DvJfrC0W_u"
      },
      "outputs": [],
      "source": [
        "print(read(\"MyPackages/Hello/src/Hello.jl\", String))"
      ]
    },
    {
      "cell_type": "markdown",
      "metadata": {
        "id": "6orcK-WH1dv8"
      },
      "source": [
        "Let's try to use the `greet()` function from the `Hello` package:"
      ]
    },
    {
      "cell_type": "code",
      "execution_count": null,
      "metadata": {
        "id": "9ASQUXed1jR9"
      },
      "outputs": [],
      "source": [
        "try\n",
        "    import Hello\n",
        "    Hello.greet()\n",
        "catch ex\n",
        "    ex\n",
        "end"
      ]
    },
    {
      "cell_type": "markdown",
      "metadata": {
        "id": "Ehdlz0d51pRY"
      },
      "source": [
        "Julia could not find the `Hello` package. When you're working on a package, don't forget to activate it first!"
      ]
    },
    {
      "cell_type": "code",
      "execution_count": null,
      "metadata": {
        "id": "geOkTHsh10es"
      },
      "outputs": [],
      "source": [
        "]activate MyPackages/Hello"
      ]
    },
    {
      "cell_type": "code",
      "execution_count": null,
      "metadata": {
        "id": "aN3bg65b137-"
      },
      "outputs": [],
      "source": [
        "import Hello\n",
        "Hello.greet()"
      ]
    },
    {
      "cell_type": "markdown",
      "metadata": {
        "id": "WxXCSYwIE9Eo"
      },
      "source": [
        "It works!\n",
        "\n",
        "If the `Hello` package depends on other packages, we must add them:"
      ]
    },
    {
      "cell_type": "code",
      "execution_count": null,
      "metadata": {
        "id": "cZfLcJO3-m9D"
      },
      "outputs": [],
      "source": [
        "]add PyCall Example"
      ]
    },
    {
      "cell_type": "markdown",
      "metadata": {
        "id": "IcipxHQW91lp"
      },
      "source": [
        "You must not use any package which has not been added to the project. If you do, you will get a warning."
      ]
    },
    {
      "cell_type": "markdown",
      "metadata": {
        "id": "9MyUldzLAFZn"
      },
      "source": [
        "Once you are happy with your package, you can deploy it to github (or anywhere else). Then you can add it to your own projects just like any other package.\n",
        "\n",
        "If you want to make your package available to the world via the official Julia registry, you just need to send a Pull Request to https://github.com/JuliaRegistries/General. However, it's highly recommended to automate this using the [Registrator.jl](https://github.com/JuliaRegistries/Registrator.jl) github app.\n",
        "\n",
        "If you want to use other registries (including private registries), check out [this page](https://julialang.github.io/Pkg.jl/v1.4/registries/#)."
      ]
    },
    {
      "cell_type": "markdown",
      "metadata": {
        "id": "nNd3-22NIkfB"
      },
      "source": [
        "Also check out the [`PkgTemplate`](https://github.com/invenia/PkgTemplates.jl) package, which provides more sophisticated templates for creating new packages, for example with continuous integration, code coverage tests, etc."
      ]
    },
    {
      "cell_type": "markdown",
      "metadata": {
        "id": "NeVc0WCoJ_yl"
      },
      "source": [
        "## Fixing Issues in a Dependency\n",
        "Sometimes you may run into an issue inside one of the packages your project depends on. When this happens, you can use `Pkg`'s `dev` command to fix the issue. For example, let's pretend the `Example` package has a bug:"
      ]
    },
    {
      "cell_type": "code",
      "execution_count": null,
      "metadata": {
        "id": "HwIRORxQKcxn"
      },
      "outputs": [],
      "source": [
        "]dev Example"
      ]
    },
    {
      "cell_type": "markdown",
      "metadata": {
        "id": "7e63oY5HKgVD"
      },
      "source": [
        "This command cloned the repo into `~/.julia/dev/Example`:"
      ]
    },
    {
      "cell_type": "code",
      "execution_count": null,
      "metadata": {
        "id": "WV77BYAPK-ff"
      },
      "outputs": [],
      "source": [
        ";ls -l \"~/.julia/dev\""
      ]
    },
    {
      "cell_type": "markdown",
      "metadata": {
        "id": "pB4nAoM2MmlI"
      },
      "source": [
        "It also updated the `Hello` package's `Manifest.toml` file to ensure the package now uses the `Example` clone. You can see this using `]status`:"
      ]
    },
    {
      "cell_type": "code",
      "execution_count": null,
      "metadata": {
        "id": "UldZNewDMYaf"
      },
      "outputs": [],
      "source": [
        "]st"
      ]
    },
    {
      "cell_type": "markdown",
      "metadata": {
        "id": "OY080wXKK85W"
      },
      "source": [
        "So you would now go ahead and edit the clone and fix the bug. Of course, you would also want to send a PR to the package's owners so the source package gets fixed. Once that happens, you can go back to the official `Example` package easily:"
      ]
    },
    {
      "cell_type": "code",
      "execution_count": null,
      "metadata": {
        "id": "6Ju_ehk6K4fi"
      },
      "outputs": [],
      "source": [
        "]free Example"
      ]
    },
    {
      "cell_type": "code",
      "execution_count": null,
      "metadata": {
        "id": "gZNtvkp0NdQt"
      },
      "outputs": [],
      "source": [
        "]st"
      ]
    },
    {
      "cell_type": "markdown",
      "metadata": {
        "id": "bjk0y4x4X3OC"
      },
      "source": [
        "## Instantiating a Project\n",
        "If you want to run someone else's project and you want to make sure you are using the exact same package versions, you can clone the project, and assuming it has a `Manifest.toml` file, you can activate the project and run `]instantiate` to install all the appropriate packages. For example, let's instantiate the `Registrator.jl` project:"
      ]
    },
    {
      "cell_type": "code",
      "execution_count": null,
      "metadata": {
        "id": "ukq2x0oKYUzv"
      },
      "outputs": [],
      "source": [
        ";git clone https://github.com/JuliaRegistries/Registrator.jl"
      ]
    },
    {
      "cell_type": "code",
      "execution_count": null,
      "metadata": {
        "id": "eP8xWq-lYqIe"
      },
      "outputs": [],
      "source": [
        "]activate Registrator.jl"
      ]
    },
    {
      "cell_type": "code",
      "execution_count": null,
      "metadata": {
        "id": "mWTuYYjPYtRV"
      },
      "outputs": [],
      "source": [
        "]instantiate"
      ]
    },
    {
      "cell_type": "markdown",
      "metadata": {
        "id": "UoMg99bTtFDp"
      },
      "source": [
        "Usually, that's all you need to know about projects and packages, but let's look at bit under the hood, so you can handle less common cases."
      ]
    },
    {
      "cell_type": "markdown",
      "metadata": {
        "id": "V8Y6A_IuepPI"
      },
      "source": [
        "## Load Path\n",
        "When you import a package, Julia searches for it in the environments listed in the `LOAD_PATH` array. An **environment** can be a project or a directory containing a bunch of packages directly. By default, the `LOAD_PATH` array contains three elements:"
      ]
    },
    {
      "cell_type": "code",
      "execution_count": null,
      "metadata": {
        "id": "wpSWi2epgdpk"
      },
      "outputs": [],
      "source": [
        "LOAD_PATH"
      ]
    },
    {
      "cell_type": "markdown",
      "metadata": {
        "id": "hH-S7BL9iuN4"
      },
      "source": [
        "Here's what these elements mean:\n",
        "* `\"@\"` represents the active project, if any: that's the project activated via `--project`, `JULIA_PROJECT`, `]activate` or `Pkg.activate()`.\n",
        "* `\"@v#.#\"` represents the default shared project for the version of Julia we are running. That's why it is used by default when there is no active project.\n",
        "* `\"@stdlib\"` represents the standard library. This is not a project: it's a directory containing many packages."
      ]
    },
    {
      "cell_type": "markdown",
      "metadata": {
        "id": "QHbG_HsOP8O7"
      },
      "source": [
        "If you want to see the actual paths, you can call `Base.load_path()`:"
      ]
    },
    {
      "cell_type": "code",
      "execution_count": null,
      "metadata": {
        "id": "oGya8XxwQDJz"
      },
      "outputs": [],
      "source": [
        "Base.load_path()"
      ]
    },
    {
      "cell_type": "markdown",
      "metadata": {
        "id": "ZaIw9vRxLVVt"
      },
      "source": [
        "You can change the load path if you want to. For example, if you want Julia to look only in the active project and in the standard library, without looking in the default project, then you can set the `JULIA_LOAD_PATH` environment variable to `\"@:@stdlib\"`."
      ]
    },
    {
      "cell_type": "markdown",
      "metadata": {
        "id": "8EScSOrdb3ha"
      },
      "source": [
        "If you try to run `my_program3.jl` this way, it will successfully import `PyCall`, but it will fail to import `PyPlot`, since it is not listed in `Project.toml` (however, it would successfully import any package from the standard library):"
      ]
    },
    {
      "cell_type": "code",
      "execution_count": null,
      "metadata": {
        "id": "sN2NunpdLgKR"
      },
      "outputs": [],
      "source": [
        "try\n",
        "    withenv(\"JULIA_LOAD_PATH\"=>\"@:@stdlib\", \"LD_PRELOAD\"=>\"\") do\n",
        "        run(`julia --project=my_project my_program3.jl`)\n",
        "    end\n",
        "catch ex\n",
        "    ex\n",
        "end"
      ]
    },
    {
      "cell_type": "markdown",
      "metadata": {
        "id": "FrLpiVS2UG9S"
      },
      "source": [
        "You can also modify the `LOAD_PATH` array programmatically, for example to make all the packages in the `my_packages/` directory available to the project:"
      ]
    },
    {
      "cell_type": "code",
      "execution_count": null,
      "metadata": {
        "id": "8kGSkqsVULfC"
      },
      "outputs": [],
      "source": [
        "push!(LOAD_PATH, \"my_packages\")"
      ]
    },
    {
      "cell_type": "markdown",
      "metadata": {
        "id": "1_fpeCNoRARJ"
      },
      "source": [
        "Now any package added to this directory will be directly available to us:"
      ]
    },
    {
      "cell_type": "code",
      "execution_count": null,
      "metadata": {
        "id": "3C42rrfKQ01y"
      },
      "outputs": [],
      "source": [
        "]generate my_packages/Hello2"
      ]
    },
    {
      "cell_type": "code",
      "execution_count": null,
      "metadata": {
        "id": "ClgC-rhWQ9XP"
      },
      "outputs": [],
      "source": [
        "using Hello2\n",
        "Hello2.greet()"
      ]
    },
    {
      "cell_type": "markdown",
      "metadata": {
        "id": "-kkX-WKARP0l"
      },
      "source": [
        "This is a convenience for development, as we didn't have to push this package to a repository or even add it to the project. However, it's just for development: once you're happy with your package, make sure to push it to a repo, and add it to the project normally."
      ]
    },
    {
      "cell_type": "markdown",
      "metadata": {
        "id": "C1V5pYziAzWG"
      },
      "source": [
        "## Depots\n",
        "As we saw earlier, new packages you add to a project are placed in the `~/.julia/packages` directory, logs are placed in `~/.julia/logs`, and so on.\n",
        "\n",
        "A directory like `~/.julia` which contains `Pkg` related content is called a **depot**. Julia installs all new packages in the default depot, which is the first directory in the `DEPOT_PATH` array (this array can be modified manually in Julia, or set via the `JULIA_DEPOT_PATH` environment variable):"
      ]
    },
    {
      "cell_type": "code",
      "execution_count": null,
      "metadata": {
        "id": "r4y3Uarp-VXi"
      },
      "outputs": [],
      "source": [
        "DEPOT_PATH"
      ]
    },
    {
      "cell_type": "markdown",
      "metadata": {
        "id": "pg_JLf9R-geB"
      },
      "source": [
        "The default depot needs to be writeable for the current user, since that's where new packages will be written to (as well as logs and other stuff). The other depots can be read-only: they're typically used for private package registries."
      ]
    },
    {
      "cell_type": "markdown",
      "metadata": {
        "id": "lAJBZg_RXUqj"
      },
      "source": [
        "You can occasionally run the `]gc` command, which will remove all unused package versions (`Pkg` will use the logs to located existing projects)."
      ]
    },
    {
      "cell_type": "markdown",
      "metadata": {
        "id": "1uhHgsN2WUG_"
      },
      "source": [
        "In summary: when some code runs `using Foo` or `import Foo`, the `LOAD_PATH` is used to determine _which_ specific package `Foo` refers to, while the `DEPOT_PATH` is used to determine _where_ it is. The exception is when the `LOAD_PATH` contains directories which directly contain packages: for these packages, the `DEPOT_PATH` is not used."
      ]
    },
    {
      "cell_type": "markdown",
      "metadata": {
        "id": "jgeH4A06IIX4"
      },
      "source": [
        "# Parallel Computing\n",
        "Julia supports coroutines (aka green threads), multithreading (without a [GIL](https://en.wikipedia.org/wiki/Global_interpreter_lock#:~:text=A%20global%20interpreter%20lock%20(GIL,on%20a%20multi%2Dcore%20processor.) like CPython!), multiprocessing and distributed computing."
      ]
    },
    {
      "cell_type": "markdown",
      "metadata": {
        "id": "oVCHhzbYFUv5"
      },
      "source": [
        "## Coroutines\n",
        "Let's go back to the `fibonacci()` generator function:"
      ]
    },
    {
      "cell_type": "code",
      "execution_count": null,
      "metadata": {
        "id": "LHQ6czbxItEw"
      },
      "outputs": [],
      "source": [
        "function fibonacci(n)\n",
        "    Channel() do ch\n",
        "        a, b = 1, 1\n",
        "        for i in 1:n\n",
        "            put!(ch, a)\n",
        "            a, b = b, a + b\n",
        "        end\n",
        "    end\n",
        "end\n",
        "\n",
        "for f in fibonacci(10)\n",
        "    println(f)\n",
        "end"
      ]
    },
    {
      "cell_type": "markdown",
      "metadata": {
        "id": "mgDS2AjiVljr"
      },
      "source": [
        "Under the hood, `Channel() do ... end` creates a `Channel` object, and spawns an asynchronous `Task` to execute the code in the `do ... end` block. The task is scheduled to execute immediately, but when it calls the `put!()` function on the channel to yield a value, it blocks until another task calls the `take!()` function to grab that value. You do not see the `take!()` function explicitly in this code example, since it is executed automatically in the `for` loop, in the main task. To demonstrate this, we can just call the `take!()` function 10 times to get all the items from the channel:"
      ]
    },
    {
      "cell_type": "code",
      "execution_count": null,
      "metadata": {
        "id": "-tff7DpqbK-J"
      },
      "outputs": [],
      "source": [
        "ch = fibonacci(10)\n",
        "for i in 1:10\n",
        "    println(take!(ch))\n",
        "end"
      ]
    },
    {
      "cell_type": "markdown",
      "metadata": {
        "id": "pUZjr1wHdc5y"
      },
      "source": [
        "This channel is bound to the task, therefore it is automatically closed when the task ends. So if we try to get one more element, we will get an exception:"
      ]
    },
    {
      "cell_type": "code",
      "execution_count": null,
      "metadata": {
        "id": "9eJjrbrHdU33"
      },
      "outputs": [],
      "source": [
        "try\n",
        "    take!(ch)\n",
        "catch ex\n",
        "    ex\n",
        "end"
      ]
    },
    {
      "cell_type": "markdown",
      "metadata": {
        "id": "VLvvfxZznXps"
      },
      "source": [
        "Here is a more explicit version of the `fibonacci()` function:"
      ]
    },
    {
      "cell_type": "code",
      "execution_count": null,
      "metadata": {
        "id": "FSP1vZjheZDJ"
      },
      "outputs": [],
      "source": [
        "function fibonacci(n)\n",
        "  function generator_func(ch, n)\n",
        "    a, b = 1, 1\n",
        "    for i in 1:n\n",
        "        put!(ch, a)\n",
        "        a, b = b, a + b\n",
        "    end\n",
        "  end\n",
        "  ch = Channel()\n",
        "  task = @task generator_func(ch, n) # creates a task without starting it\n",
        "  bind(ch, task) # the channel will be closed when the task ends\n",
        "  schedule(task) # start running the task asynchronously\n",
        "  ch\n",
        "end"
      ]
    },
    {
      "cell_type": "markdown",
      "metadata": {
        "id": "-KnzQbUGonIJ"
      },
      "source": [
        "And here is a more explicit version of the `for` loop:"
      ]
    },
    {
      "cell_type": "code",
      "execution_count": null,
      "metadata": {
        "id": "ir3FUJAEoD5j"
      },
      "outputs": [],
      "source": [
        "ch = fibonacci(10)\n",
        "while isopen(ch)\n",
        "  value = take!(ch)\n",
        "  println(value)\n",
        "end"
      ]
    },
    {
      "cell_type": "markdown",
      "metadata": {
        "id": "YTwMO7gxpCSa"
      },
      "source": [
        "Note that asynchronous tasks (also called \"coroutines\" or \"green threads\") are not actually run in parallel: they cooperate to alternate execution. Some functions, such as `put!()`, `take!()`, and many I/O functions, interrupt the current task's execution, at which point it lets Julia's scheduler decide which task should resume its execution. This is just like Python's coroutines."
      ]
    },
    {
      "cell_type": "markdown",
      "metadata": {
        "id": "yTiiI6ZfbKKQ"
      },
      "source": [
        "For more details on coroutines and tasks, see [the manual](https://docs.julialang.org/en/v1/manual/control-flow/#man-tasks-1)."
      ]
    },
    {
      "cell_type": "markdown",
      "metadata": {
        "id": "N9dzuKC2qFRL"
      },
      "source": [
        "## Multithreading\n",
        "Julia also supports multithreading. Currently, you need to specify the number of O.S. threads upon startup, by setting the `JULIA_NUM_THREADS` environment variable (or setting the `-t` argument in Julia 1.5+). In the first cell, we configured the IJulia kernel so that set environment variable is set:"
      ]
    },
    {
      "cell_type": "code",
      "execution_count": null,
      "metadata": {
        "id": "mBYUWpQpDBzS"
      },
      "outputs": [],
      "source": [
        "ENV[\"JULIA_NUM_THREADS\"]"
      ]
    },
    {
      "cell_type": "markdown",
      "metadata": {
        "id": "8AK8aRLqEhJt"
      },
      "source": [
        "The actual number of threads started by Julia may be lower than that, as it is limited to the number of available cores on the machine (thanks to hyperthreading, each physical core may run two threads). Here is the number of threads that were actually started:"
      ]
    },
    {
      "cell_type": "code",
      "execution_count": null,
      "metadata": {
        "id": "KjEv4FOwEQhl"
      },
      "outputs": [],
      "source": [
        "using Base.Threads\n",
        "nthreads()"
      ]
    },
    {
      "cell_type": "markdown",
      "metadata": {
        "id": "tc3bXp57DINZ"
      },
      "source": [
        "Now let's run 10 tasks across these threads:"
      ]
    },
    {
      "cell_type": "code",
      "execution_count": null,
      "metadata": {
        "id": "ic1ecJ-1qatN"
      },
      "outputs": [],
      "source": [
        "@threads for i in 1:10\n",
        "    println(\"thread #\", threadid(), \" is starting task #$i\")\n",
        "    sleep(rand()) # pretend we're actually working\n",
        "    println(\"thread #\", threadid(), \" is finished\")\n",
        "end"
      ]
    },
    {
      "cell_type": "markdown",
      "metadata": {
        "id": "SHpLG3h7LVMm"
      },
      "source": [
        "Here is a multithreaded version of the `estimate_pi()` function. Each thread computes part of the sum, and the parts are added at the end:"
      ]
    },
    {
      "cell_type": "code",
      "execution_count": null,
      "metadata": {
        "id": "mDHzyNqdJswG"
      },
      "outputs": [],
      "source": [
        "function parallel_estimate_pi(n)\n",
        "    s = zeros(nthreads())\n",
        "    nt = n ÷ nthreads()\n",
        "    @threads for t in 1:nthreads()\n",
        "        for i in (1:nt) .+ nt*(t - 1)\n",
        "          @inbounds s[t] += (isodd(i) ? -1 : 1) / (2i + 1)\n",
        "        end\n",
        "    end\n",
        "    return 4.0 * (1.0 + sum(s))\n",
        "end\n",
        "\n",
        "@btime parallel_estimate_pi(100_000_000)"
      ]
    },
    {
      "cell_type": "markdown",
      "metadata": {
        "id": "3Ql0KLRNSqNg"
      },
      "source": [
        "The `@inbounds` macro is an optimization: it tells the Julia compiler not to add any bounds check when accessing the array. It's safe in this case since the `s` array has one element per thread, and `t` varies from `1` to `nthreads()`, so there is no risk for `s[t]` to be out of bounds."
      ]
    },
    {
      "cell_type": "markdown",
      "metadata": {
        "id": "tVftN7gXQCOh"
      },
      "source": [
        "Let's compare this with the single-threaded implementation:"
      ]
    },
    {
      "cell_type": "code",
      "execution_count": null,
      "metadata": {
        "id": "F2Yfz67kK2xX"
      },
      "outputs": [],
      "source": [
        "@btime estimate_pi(100_000_000)"
      ]
    },
    {
      "cell_type": "markdown",
      "metadata": {
        "id": "BnOKCxlNQX01"
      },
      "source": [
        "If you are running this notebook on Colab, the parallel implementation is probably no faster than the single-threaded one. That's because the Colab Runtime only has a single CPU, so there is no benefit from multithreading (plus there is a bit of overhead for managing threads). However, on my 8-core machine, using 16 threads, the parallel implementation is about 6 times faster than the single-threaded one."
      ]
    },
    {
      "cell_type": "markdown",
      "metadata": {
        "id": "nOUeRI6DRbmo"
      },
      "source": [
        "Julia has a `mapreduce()` function which makes it easy to implement functions like `parallel_estimate_pi()`:"
      ]
    },
    {
      "cell_type": "code",
      "execution_count": null,
      "metadata": {
        "id": "c04i5fsvO5m5"
      },
      "outputs": [],
      "source": [
        "function parallel_estimate_pi2(n)\n",
        "    4.0 * mapreduce(i -> (isodd(i) ? -1 : 1) / (2i + 1), +, 0:n)\n",
        "end"
      ]
    },
    {
      "cell_type": "code",
      "execution_count": null,
      "metadata": {
        "id": "ZHKduTA-PW5T"
      },
      "outputs": [],
      "source": [
        "@btime parallel_estimate_pi2(100_000_000)"
      ]
    },
    {
      "cell_type": "markdown",
      "metadata": {
        "id": "1Lwb_H7vTeCg"
      },
      "source": [
        "The `mapreduce()` function is well optimized, so it's about twice faster than `parallel_estimate_pi()`."
      ]
    },
    {
      "cell_type": "markdown",
      "metadata": {
        "id": "g0PXPosbamtW"
      },
      "source": [
        "You can also spawn a task using `Threads.@spawn`. It will get executed on any one of the running threads (it will not start a new thread):"
      ]
    },
    {
      "cell_type": "code",
      "execution_count": null,
      "metadata": {
        "id": "w2YYrw3IYX4v"
      },
      "outputs": [],
      "source": [
        "task = Threads.@spawn begin\n",
        "    println(\"Thread starting\")\n",
        "    sleep(1)\n",
        "    println(\"Thread stopping\")\n",
        "    42 # result\n",
        "end\n",
        "\n",
        "println(\"Hello!\")\n",
        "\n",
        "println(\"The result is: \", fetch(task))\n"
      ]
    },
    {
      "cell_type": "markdown",
      "metadata": {
        "id": "pbv40Ib7bF7v"
      },
      "source": [
        "The `fetch()` function waits for the thread to finish, and fetches the result. You can also just call `wait()` if you don't need the result."
      ]
    },
    {
      "cell_type": "markdown",
      "metadata": {
        "id": "OsK9bt-Hb2IS"
      },
      "source": [
        "Last but not least, you can use channels to synchronize and communicate across tasks, even if they are running across separate threads:"
      ]
    },
    {
      "cell_type": "code",
      "execution_count": null,
      "metadata": {
        "id": "sgdNzgkaceEz"
      },
      "outputs": [],
      "source": [
        "ch = Channel()\n",
        "task1 = Threads.@spawn begin\n",
        "    for i in 1:5\n",
        "        sleep(rand())\n",
        "        put!(ch, i^2)\n",
        "    end\n",
        "    println(\"Finished sending!\")\n",
        "    close(ch)\n",
        "end\n",
        "\n",
        "task2 = Threads.@spawn begin\n",
        "    foreach(v->println(\"Received $v\"), ch)\n",
        "    println(\"Finished receiving!\")\n",
        "end\n",
        "\n",
        "wait(task2)"
      ]
    },
    {
      "cell_type": "markdown",
      "metadata": {
        "id": "eLOdUrTcV1Lh"
      },
      "source": [
        "For more details about multithreading, check out [this page](https://docs.julialang.org/en/v1/manual/parallel-computing/#man-multithreading-1)."
      ]
    },
    {
      "cell_type": "markdown",
      "metadata": {
        "id": "0JfyJjTXX1AM"
      },
      "source": [
        "## Multiprocessing & Distributed Programming\n",
        "Julia can spawn multiple Julia processes upon startup if you specify the number of processes via the `-p` argument. You can also spawn extra processes from Julia itself:"
      ]
    },
    {
      "cell_type": "code",
      "execution_count": null,
      "metadata": {
        "id": "JtqG4qIhX5Sw"
      },
      "outputs": [],
      "source": [
        "using Distributed\n",
        "addprocs(4)\n",
        "workers() # array of worker process ids"
      ]
    },
    {
      "cell_type": "markdown",
      "metadata": {
        "id": "WD9hcmhGfraw"
      },
      "source": [
        "The main process has id 1:"
      ]
    },
    {
      "cell_type": "code",
      "execution_count": null,
      "metadata": {
        "id": "TlsjSMFZe3Ae"
      },
      "outputs": [],
      "source": [
        "myid()"
      ]
    },
    {
      "cell_type": "markdown",
      "metadata": {
        "id": "lAS3Q8ohfvwg"
      },
      "source": [
        "The `@everywhere` macro lets you run any code on all workers:"
      ]
    },
    {
      "cell_type": "code",
      "execution_count": null,
      "metadata": {
        "id": "lmhHLhtbenY5"
      },
      "outputs": [],
      "source": [
        "@everywhere println(\"Hi! I'm worker $(myid())\")"
      ]
    },
    {
      "cell_type": "markdown",
      "metadata": {
        "id": "cyQQ0Td2hAuQ"
      },
      "source": [
        "You can also execute code on a particular worker by using `@spawnat <worker id> <statement>`:"
      ]
    },
    {
      "cell_type": "code",
      "execution_count": null,
      "metadata": {
        "id": "Mmc1-zfBgsur"
      },
      "outputs": [],
      "source": [
        "@spawnat 3 println(\"Hi! I'm worker $(myid())\")"
      ]
    },
    {
      "cell_type": "markdown",
      "metadata": {
        "id": "nZaV4ptbk4sB"
      },
      "source": [
        "If you specify `:any` instead of a worker id, Julia chooses the worker for you:"
      ]
    },
    {
      "cell_type": "code",
      "execution_count": null,
      "metadata": {
        "id": "i6C7ydoBkyln"
      },
      "outputs": [],
      "source": [
        "@spawnat :any println(\"Hi! I'm worker $(myid())\")"
      ]
    },
    {
      "cell_type": "markdown",
      "metadata": {
        "id": "fZMDIATZg9Ug"
      },
      "source": [
        "Both `@everywhere` and `@spawnat` return immediately. The output of `@spawnat` is a `Future` object. You can call `fetch()` on this object to wait for the result:"
      ]
    },
    {
      "cell_type": "code",
      "execution_count": null,
      "metadata": {
        "id": "Ml5TBZLQf2oY"
      },
      "outputs": [],
      "source": [
        "result = @spawnat 3 1+2+3+4\n",
        "fetch(result)"
      ]
    },
    {
      "cell_type": "markdown",
      "metadata": {
        "id": "f8rR6jBdhuvT"
      },
      "source": [
        "If you import some package in the main process, it is <u>not</u> automatically imported in the workers. For example, the following code fails because the worker does not know what `pyimport` is:"
      ]
    },
    {
      "cell_type": "code",
      "execution_count": null,
      "metadata": {
        "id": "s89GQtv5iNfP"
      },
      "outputs": [],
      "source": [
        "using PyCall\n",
        "\n",
        "result = @spawnat 4 (np = pyimport(\"numpy\"); np.log(10))\n",
        "\n",
        "try\n",
        "    fetch(result)\n",
        "catch ex\n",
        "    ex\n",
        "end"
      ]
    },
    {
      "cell_type": "markdown",
      "metadata": {
        "id": "N-wFnpu7inDg"
      },
      "source": [
        "You must use `@everywhere` or `@spawnat` to import the packages you need in each worker:"
      ]
    },
    {
      "cell_type": "code",
      "execution_count": null,
      "metadata": {
        "id": "eseDsHvzna1R"
      },
      "outputs": [],
      "source": [
        "@everywhere using PyCall\n",
        "\n",
        "result = @spawnat 4 (np = pyimport(\"numpy\"); np.log(10))\n",
        "\n",
        "fetch(result)"
      ]
    },
    {
      "cell_type": "markdown",
      "metadata": {
        "id": "Nzk3gbLOnqTx"
      },
      "source": [
        "Similarly, if you define a function in the main process, it is <u>not</u> automatically available in the workers. You must define the function in every worker:"
      ]
    },
    {
      "cell_type": "code",
      "execution_count": null,
      "metadata": {
        "id": "vrvbWhDMnzdX"
      },
      "outputs": [],
      "source": [
        "@everywhere addtwo(n) = n + 2\n",
        "result = @spawnat 4 addtwo(40)\n",
        "fetch(result)"
      ]
    },
    {
      "cell_type": "markdown",
      "metadata": {
        "id": "9skIo6pnoikr"
      },
      "source": [
        "You can pass a `Future` to `@everywhere` or `@spawnat`, as long as you wrap it in a `fetch()` function:"
      ]
    },
    {
      "cell_type": "code",
      "execution_count": null,
      "metadata": {
        "id": "IjovCqk7n_cu"
      },
      "outputs": [],
      "source": [
        "M = @spawnat 2 rand(5)\n",
        "result = @spawnat 3 fetch(M) .* 10.0\n",
        "fetch(result)"
      ]
    },
    {
      "cell_type": "markdown",
      "metadata": {
        "id": "H4YeovYto60s"
      },
      "source": [
        "In this example, worker 2 creates a random array, then worker 3 fetches this array and multiplies each element by 10, then the main process fetches the result and displays it."
      ]
    },
    {
      "cell_type": "markdown",
      "metadata": {
        "id": "nUl0Nj9dV-IW"
      },
      "source": [
        "## GPU\n",
        "Julia has excellent GPU support. As you may know, GPUs are devices which can run thousands of threads in parallel. Each thread is slower and more limited than on a CPU, but there are so many of them that plenty of tasks can be executed much faster on a GPU than on a CPU, provided these tasks can be parallelized.\n",
        "\n",
        "Let's check which GPU device is installed:"
      ]
    },
    {
      "cell_type": "code",
      "execution_count": null,
      "metadata": {
        "id": "DTKc9IFB-eum"
      },
      "outputs": [],
      "source": [
        ";nvidia-smi"
      ]
    },
    {
      "cell_type": "markdown",
      "metadata": {
        "id": "ULS7Jn6vws2-"
      },
      "source": [
        "If you're running on Colab, your runtime will generally have an Nvidia Tesla K80 GPU with 12GB of RAM installed, but sometimes other GPUs like Nvidia Tesla T4 16GB, or Nvidia Tesla P100).\n",
        "\n",
        "If no GPU is detected, go to _Runtime_ > _Change runtime type_, set _Hardware accelerator_ to _GPU_, then go to _Runtime_ > _Factory reset runtime_, then reinstall Julia by running the first cell again, then reload the page and come back here). If you're running on your own machine, make sure you have a compatible GPU card installed, with the appropriate drivers."
      ]
    },
    {
      "cell_type": "markdown",
      "metadata": {
        "id": "HzVnsDN--gRr"
      },
      "source": [
        "Now let's create a large matrix and time how long it takes to square it on the CPU:"
      ]
    },
    {
      "cell_type": "code",
      "execution_count": null,
      "metadata": {
        "id": "-rbfON6gWYwe"
      },
      "outputs": [],
      "source": [
        "using BenchmarkTools\n",
        "\n",
        "M = rand(2^11, 2^11)\n",
        "\n",
        "function benchmark_matmul_cpu(M)\n",
        "    M * M\n",
        "    return\n",
        "end\n",
        "\n",
        "benchmark_matmul_cpu(M) # warm up\n",
        "@btime benchmark_matmul_cpu($M)"
      ]
    },
    {
      "cell_type": "markdown",
      "metadata": {
        "id": "LRO3dOh1lnVg"
      },
      "source": [
        "Notes:\n",
        "* For benchmarking, we wrapped the operation in a function which returns `nothing`.\n",
        "* Why do we have a \"warm up\" line? Well, since Julia compiles code on the fly the first time it is executed, it's good practice to execute the operation we want to benchmark at least once before starting the benchmark, or else the benchmark will include the compilation time.\n",
        "* We used `$M` instead of `M` on the last line. This is a feature of the `@btime` macro: it evaluates `M` before benchmarking takes place, to avoid the extra delay that is incurred when [benchmarking with global variables](https://docs.julialang.org/en/latest/manual/performance-tips/#Avoid-global-variables-1)."
      ]
    },
    {
      "cell_type": "markdown",
      "metadata": {
        "id": "x-nbiuYDtGlb"
      },
      "source": [
        "Now let's benchmark this same operation on the GPU:"
      ]
    },
    {
      "cell_type": "code",
      "execution_count": null,
      "metadata": {
        "id": "3hIWY1O_WE6a"
      },
      "outputs": [],
      "source": [
        "using CUDA\n",
        "\n",
        "# Copy the data to the GPU. Creates a CuArray:\n",
        "M_on_gpu = cu(M)\n",
        "\n",
        "# Alternatively, create a new random matrix directly on the GPU:\n",
        "#M_on_gpu = CUDA.CURAND.rand(2^11, 2^11)\n",
        "\n",
        "function benchmark_matmul_gpu(M)\n",
        "    CUDA.@sync M * M\n",
        "    return\n",
        "end\n",
        "\n",
        "benchmark_matmul_gpu(M_on_gpu) # warm up\n",
        "@btime benchmark_matmul_gpu($M_on_gpu)"
      ]
    },
    {
      "cell_type": "markdown",
      "metadata": {
        "id": "jFEBz1hkZ6Ox"
      },
      "source": [
        "That's _much_ faster (over 100x faster in my test on Colab with an NVidia Tesla T4 GPU)."
      ]
    },
    {
      "cell_type": "markdown",
      "metadata": {
        "id": "EbjxRKWc1-nR"
      },
      "source": [
        "Importantly:\n",
        "* Before the GPU can work on some data, it needs to be copied to the GPU (or generated there directly).\n",
        "* the `CUDA.@sync` macro waits for the GPU operation to complete. Without it, the operation would happen in parallel on the GPU, while execution would continue on the CPU. So we would just be timing how long it takes to _start_ the operation, not how long it takes to complete.\n",
        "* In general, you don't need `CUDA.@sync`, since many operations (including `cu()`) call it implicitly, and it's usually a good idea to let the CPU and GPU work in parallel. Typically, the GPU will be working on the current batch of data while the CPU works on preparing the next batch."
      ]
    },
    {
      "cell_type": "markdown",
      "metadata": {
        "id": "lja576nUWXLU"
      },
      "source": [
        "Of course, the speed up will vary depending on the matrix size and the GPU type. Moreover, copying the data from the CPU to the GPU is often the slowest part of the operation, but we only benchmarked the matrix multiplication itself. Let's see what we get if we include the data transfer in the benchmark:"
      ]
    },
    {
      "cell_type": "markdown",
      "metadata": {
        "id": "LMegVhMzBtPz"
      },
      "source": [
        "That's still much faster than on the CPU."
      ]
    },
    {
      "cell_type": "markdown",
      "metadata": {
        "id": "WdvtwJAu3aOU"
      },
      "source": [
        "Let's check how much RAM we have left on the GPU:"
      ]
    },
    {
      "cell_type": "code",
      "execution_count": null,
      "metadata": {
        "id": "599aiP0s3c4y"
      },
      "outputs": [],
      "source": [
        "CUDA.memory_status()"
      ]
    },
    {
      "cell_type": "markdown",
      "metadata": {
        "id": "86XHVDDrDJjp"
      },
      "source": [
        "Julia's Garbage Collector will free CUDA arrays like any other object, when there's no more reference to it. However, `CUDA.jl` uses a memory pool to make allocations faster on the GPU, so don't be surprised if the allocated memory on the GPU does not go down immediately. Moreover, IJulia keeps a reference to the output of each cell, so if you let any cell output a `CuArray`, it will only be released when you execute `Out[<cell number>]=0`. If you want to force the Garbage Collector to run, you an run `GC.gc()`. To reclaim memory from the memory pool, use `CUDA.reclaim()`:"
      ]
    },
    {
      "cell_type": "code",
      "execution_count": null,
      "metadata": {
        "id": "VPoO6-h_tVBE"
      },
      "outputs": [],
      "source": [
        "GC.gc()\n",
        "CUDA.reclaim()"
      ]
    },
    {
      "cell_type": "markdown",
      "metadata": {
        "id": "ndcNywPSE0D9"
      },
      "source": [
        "Many other operations are implemented for `CuArray` (`+`,  `-`, etc.) and dotted operations (`.+`, `exp.()`, etc). Importantly, loop fusion also works on the GPU. For example, if we want to compute `M .* M .+ M`, without loop fusion the GPU would first compute `M .* M` and create a temporary array, then it would add `M` to that array, like this:"
      ]
    },
    {
      "cell_type": "code",
      "execution_count": null,
      "metadata": {
        "id": "psC2K-M_F0w9"
      },
      "outputs": [],
      "source": [
        "function benchmark_without_fusion(M)\n",
        "    P = M .* M\n",
        "    CUDA.@sync P .+ M\n",
        "    return\n",
        "end\n",
        "\n",
        "benchmark_without_fusion(M_on_gpu) # warm up\n",
        "@btime benchmark_without_fusion($M_on_gpu)"
      ]
    },
    {
      "cell_type": "markdown",
      "metadata": {
        "id": "DTbDFRdJIO9M"
      },
      "source": [
        "Instead, loop fusion ensures that the array is only traversed once, without the need for a temporary array:"
      ]
    },
    {
      "cell_type": "code",
      "execution_count": null,
      "metadata": {
        "id": "zHQI4nkHGkLx"
      },
      "outputs": [],
      "source": [
        "function benchmark_with_fusion(M)\n",
        "    CUDA.@sync M .* M .+ M\n",
        "    return\n",
        "end\n",
        "\n",
        "benchmark_with_fusion(M_on_gpu) # warm up\n",
        "@btime benchmark_with_fusion($M_on_gpu)"
      ]
    },
    {
      "cell_type": "markdown",
      "metadata": {
        "id": "ln5b2NykQCsD"
      },
      "source": [
        "That's _much_ faster (more than twice as fast in my test on Colab). 😃"
      ]
    },
    {
      "cell_type": "markdown",
      "metadata": {
        "id": "9HAHfceIa3U5"
      },
      "source": [
        "Lastly, you can actually **write your own GPU kernels in Julia**! In other words, rather than using GPU operations implemented in the `CUDA.jl` package (or others), you can write Julia code that will be compiled for the GPU, and executed there. This can occasionally be useful to speed up some algorithms where the standard kernels don't suffice. For example, here's a GPU kernel which implements `u .+= v`, where `u` and `v` are two (large) vectors:"
      ]
    },
    {
      "cell_type": "code",
      "execution_count": null,
      "metadata": {
        "id": "lnbRTzgWX0gx"
      },
      "outputs": [],
      "source": [
        "function worker_gpu_add!(u, v)\n",
        "    index = (blockIdx().x - 1) * blockDim().x + threadIdx().x\n",
        "    index ≤ length(u) && (@inbounds u[index] += v[index])\n",
        "    return\n",
        "end\n",
        "\n",
        "function gpu_add!(u, v)\n",
        "    numblocks = ceil(Int, length(u) / 256)\n",
        "    @cuda threads=256 blocks=numblocks worker_gpu_add!(u, v)\n",
        "    return u\n",
        "end"
      ]
    },
    {
      "cell_type": "markdown",
      "metadata": {
        "id": "WEnX1i4ooQiN"
      },
      "source": [
        "This code example is adapted from the [`CUDA.jl` package's documentation](https://juliagpu.gitlab.io/CUDA.jl/tutorials/introduction/), which I highly encourage you to check out if you're interested in writing your own kernels. Here are the key parts to understand this example, starting from the end:\n",
        "* The `gpu_add!()` function first calculates `numblocks`, the number of blocks of threads to start, then it uses the `@cuda` macro to spawn `numblocks` blocks of GPU threads, each with 256 threads, and each thread runs `worker_gpu_add!(u, v)`.\n",
        "* The `worker_gpu_add!()` function computes `u[index] += v[index]` for a single value of `index`: in other words, each thread will just update a single value in the vector! Let's see how the index is computed:\n",
        "  * The `@cuda` macro spawned many blocks of 256 threads each. These blocks are organized in a grid, which is one-dimensional by default, but it can be up to three-dimensional. Therefore each thread and each block have an `(x, y, z)` coordinate in this grid. See this diagram from the [Nvidia blog post](https://developer.nvidia.com/blog/even-easier-introduction-cuda/):<br />\n",
        "<img src=\"https://juliagpu.gitlab.io/CUDA.jl/tutorials/intro1.png\" width=\"600\"/>.\n",
        "  * `threadIdx().x` returns the current GPU thread's `x` coordinate within its block (one difference with the diagram is that Julia is 1-indexed).\n",
        "  * `blockIdx().x` returns the current block's `x` coordinate in the grid.\n",
        "  * `blockDim().x` returns the block size along the `x` axis (in this example, it's 256).\n",
        "  * `gridDim().x` returns the number of blocks in the grid, along the `x` axis (in this example it's `numblocks`).\n",
        "  * So the `index` that each thread must update in the array is `(blockIdx().x - 1) * blockDim().x + threadIdx().x`.\n",
        "* As explained earlier, the `@inbounds` macro is an optimization that tells Julia that the index is guaranteed to be inbounds, so there's no need for it to check.\n",
        "\n",
        "Now writing your own GPU kernel won't seem like something only top experts with advanced C++ skills can do: you can do it too!"
      ]
    },
    {
      "cell_type": "markdown",
      "metadata": {
        "id": "gf6-5tJXRCm0"
      },
      "source": [
        "Let's check that the kernel works as expected:"
      ]
    },
    {
      "cell_type": "code",
      "execution_count": null,
      "metadata": {
        "id": "l7mGsSWYL2iW"
      },
      "outputs": [],
      "source": [
        "u = rand(2^20)\n",
        "v = rand(2^20)\n",
        "\n",
        "u_on_gpu = cu(u)\n",
        "v_on_gpu = cu(v)\n",
        "\n",
        "u .+= v\n",
        "gpu_add!(u_on_gpu, v_on_gpu)\n",
        "\n",
        "@assert Array(u_on_gpu) ≈ u"
      ]
    },
    {
      "cell_type": "markdown",
      "metadata": {
        "id": "GCZyhpbwNeLQ"
      },
      "source": [
        "Yes, it works well!\n",
        "\n",
        "Note: the `≈` operator checks whether the operands are approximately equal within the float precision limit."
      ]
    },
    {
      "cell_type": "markdown",
      "metadata": {
        "id": "Koqs9GrqRHeW"
      },
      "source": [
        "Let's benchmark our custom kernel:"
      ]
    },
    {
      "cell_type": "code",
      "execution_count": null,
      "metadata": {
        "id": "g2_7SawNR4Jb"
      },
      "outputs": [],
      "source": [
        "function benchmark_custom_assign_add!(u, v)\n",
        "    CUDA.@sync gpu_add!(u, v)\n",
        "    return\n",
        "end\n",
        "\n",
        "benchmark_custom_assign_add!(u_on_gpu, v_on_gpu)\n",
        "@btime benchmark_custom_assign_add!($u_on_gpu, $v_on_gpu)"
      ]
    },
    {
      "cell_type": "markdown",
      "metadata": {
        "id": "hl0_1Km9SyD7"
      },
      "source": [
        "Let's see how this compares to `CUDA.jl`'s implementation:"
      ]
    },
    {
      "cell_type": "code",
      "execution_count": null,
      "metadata": {
        "id": "vogLKdtEO9l6"
      },
      "outputs": [],
      "source": [
        "function benchmark_assign_add!(u, v)\n",
        "    CUDA.@sync u .+= v\n",
        "    return\n",
        "end\n",
        "\n",
        "benchmark_assign_add!(u_on_gpu, v_on_gpu)\n",
        "@btime benchmark_assign_add!($u_on_gpu, $v_on_gpu)"
      ]
    },
    {
      "cell_type": "markdown",
      "metadata": {
        "id": "IKRNLPIRcbCd"
      },
      "source": [
        "How about that? Our custom kernel is just as fast as `CUDA.jl`'s kernel! But to be fair, our kernel would not work with huge vectors, since there's a limit to the number of blocks & threads you can spawn (see [Table 15](https://docs.nvidia.com/cuda/cuda-c-programming-guide/index.html#features-and-technical-specifications) in CUDA's documentation). To support such huge vectors, we need each worker to run a loop like this:"
      ]
    },
    {
      "cell_type": "code",
      "execution_count": null,
      "metadata": {
        "id": "Zi8-UvGocWOK"
      },
      "outputs": [],
      "source": [
        "function worker_gpu_add!(u, v)\n",
        "    index = (blockIdx().x - 1) * blockDim().x + threadIdx().x\n",
        "    stride = blockDim().x * gridDim().x\n",
        "    for i = index:stride:length(u)\n",
        "        @inbounds u[i] += v[i]\n",
        "    end\n",
        "    return\n",
        "end"
      ]
    },
    {
      "cell_type": "markdown",
      "metadata": {
        "id": "YtQNhlw1c3zo"
      },
      "source": [
        "This way, if `@cuda` is executed with a smaller number of blocks than needed to have one thread per array item, the workers will loop appropriately.\n",
        "\n",
        "This should get you started! For more info, check out [`CUDA.jl`'s documentation](https://juliagpu.gitlab.io/CUDA.jl/)."
      ]
    },
    {
      "cell_type": "markdown",
      "metadata": {
        "id": "FA9DFoEuiGib"
      },
      "source": [
        "# Command Line Arguments"
      ]
    },
    {
      "cell_type": "markdown",
      "metadata": {
        "id": "I1nlKvCZhVo7"
      },
      "source": [
        "Command line arguments are available via `ARGS`:\n",
        "\n"
      ]
    },
    {
      "cell_type": "code",
      "execution_count": null,
      "metadata": {
        "id": "Ysg_6WElhY7-"
      },
      "outputs": [],
      "source": [
        "ARGS"
      ]
    },
    {
      "cell_type": "markdown",
      "metadata": {
        "id": "jRe_1ovZhdqh"
      },
      "source": [
        "Unlike Python's `sys.argv`, the first element of this array is <u>not</u> the program name. If you need the program name, use `PROGRAM_FILE` instead:"
      ]
    },
    {
      "cell_type": "code",
      "execution_count": null,
      "metadata": {
        "id": "2z3obYZghrHL"
      },
      "outputs": [],
      "source": [
        "PROGRAM_FILE"
      ]
    },
    {
      "cell_type": "markdown",
      "metadata": {
        "id": "UnKMaPm8r1XC"
      },
      "source": [
        "You can get the current module, directory, file or line number:"
      ]
    },
    {
      "cell_type": "code",
      "execution_count": null,
      "metadata": {
        "id": "ZIou0Kgbr5mu"
      },
      "outputs": [],
      "source": [
        "@__MODULE__, @__DIR__, @__FILE__, @__LINE__"
      ]
    },
    {
      "cell_type": "markdown",
      "metadata": {
        "id": "ahpsLiV_hBLi"
      },
      "source": [
        "The equivalent of Python's `if __name__ == \"__main__\"` is:"
      ]
    },
    {
      "cell_type": "code",
      "execution_count": null,
      "metadata": {
        "id": "hPUUlZG6g_A5"
      },
      "outputs": [],
      "source": [
        "if abspath(PROGRAM_FILE) == @__FILE__\n",
        "    println(\"Starting of the program\")\n",
        "end"
      ]
    },
    {
      "cell_type": "markdown",
      "metadata": {
        "id": "8g43x6YYiKLf"
      },
      "source": [
        "# Memory Management"
      ]
    },
    {
      "cell_type": "markdown",
      "metadata": {
        "id": "o-YehjM8iMmn"
      },
      "source": [
        "Let's check how many megabytes of RAM are available:"
      ]
    },
    {
      "cell_type": "code",
      "execution_count": null,
      "metadata": {
        "id": "O80YQtSciPvV"
      },
      "outputs": [],
      "source": [
        "free() = println(\"Available RAM: \", Sys.free_memory() ÷ 10^6, \" MB\")\n",
        "\n",
        "free()"
      ]
    },
    {
      "cell_type": "markdown",
      "metadata": {
        "id": "bxKvaTpfdO5j"
      },
      "source": [
        "If a variable holds a large object that you don't need anymore, you can either wait until the variable falls out of scope, or set it to `nothing`. Either way, the memory will only be freed when the Garbage Collector does its magic, which may not be immediate. In general, you don't have to worry about that, but if you want, you can always call the GC directly:"
      ]
    },
    {
      "cell_type": "code",
      "execution_count": null,
      "metadata": {
        "id": "j0M8Oka3fod6"
      },
      "outputs": [],
      "source": [
        "function use_ram()\n",
        "    M = rand(10000, 10000) # use 400+MB of RAM\n",
        "    println(\"sum(M)=$(sum(M))\")\n",
        "end # M will be freed by the GC eventually after this\n",
        "\n",
        "use_ram()\n",
        "\n",
        "M = rand(10000, 10000) # use 400+MB of RAM\n",
        "println(\"sum(M)=$(sum(M))\")\n",
        "M = nothing\n",
        "\n",
        "GC.gc() # rarely needed"
      ]
    },
    {
      "cell_type": "code",
      "execution_count": null,
      "metadata": {
        "id": "O8Fbip9OpRyD"
      },
      "outputs": [],
      "source": [
        "free()"
      ]
    },
    {
      "cell_type": "code",
      "source": [],
      "metadata": {
        "id": "JLU8EJ1W1Ch5"
      },
      "execution_count": null,
      "outputs": []
    }
  ]
}