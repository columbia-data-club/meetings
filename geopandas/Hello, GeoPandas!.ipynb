{
 "cells": [
  {
   "cell_type": "markdown",
   "metadata": {},
   "source": [
    "# Hello, GeoPandas!\n",
    "\n",
    "Start out by installing GeoPandas (which you can do via the Anaconda Navigator), but you should also install `cartopy`, `geoplot`, and `contextily` so that the example notebooks in the `gallery_jupyter` folder.\n",
    "\n",
    "If you have trouble installing via the Navigator, try using the shell:\n",
    "\n",
    "```\n",
    "conda install -c conda-forge geopandas\n",
    "conda install -c conda-forge cartopy\n",
    "conda install -c conda-forge geoplot\n",
    "conda install -c conda-forge contextily\n",
    "```"
   ]
  },
  {
   "cell_type": "markdown",
   "metadata": {},
   "source": [
    "Geographic data can take several primitive forms. The [GeoData@Columbia](https://geodata.library.columbia.edu/) offers ten different primitive formats the data can take, but they boil down to four, more or less:\n",
    "\n",
    "1. **Points** With point data, every observation/row/member is at least two coordinates. Each point is independent of the others.\n",
    "2. **Lines** Instead of one point, every observation/row/member is at least two points connected with a line, where order matters.\n",
    "3. **Polygons** Like lines, except the lines close to make shapes with calculable areas.\n",
    "4. **Rasters** “Pictures” of the area under study, where each pixel represents a certain amount of space, like with satellite photography or other remote sensing data sources.\n",
    "\n",
    "The first three types, as a whole, are called “vector data.”\n",
    "\n",
    "For vector data, every observation/row/member will typically have other properties that can take familiar data types: numeric variables, continuous variables, and categoric variables.\n",
    "\n",
    "GeoPandas, then, merges the “geometry” of an observation/row/member with its other properties to create a dataframe with geometries."
   ]
  },
  {
   "cell_type": "markdown",
   "metadata": {},
   "source": [
    "Even though geospatial data typically only has the four primitives mentioned above (often in some mixture), the data can be *formatted* in many, many ways. For GeoPandas, we will look at two file formats:\n",
    "\n",
    "1. **Shapefile** Created by Esri, the company behind ArcGIS, [shapefiles](https://en.wikipedia.org/wiki/Shapefile) are an established vector format. Every shapefile is actually a combination of files, including one that ends in `*.shp`, which are often bundled together as a `.zip`. GeoPandas can read unbundled shapefiles.\n",
    "2. **GeoJSON** A comparative newcomer to geospatial data encoding, [GeoJSON](http://geojson.org/) encodes all of the data into a giant, plain text file formatted as JSON, or JavaScript Object Notation. As such, every GeoJSON data file is also a valid JavaScript object. With only one file, GeoJSON is somewhat more portable than shapefiles, and the file format is especially web-friendly.\n",
    "\n",
    "You can create your own toy GeoJSON data at [http://geojson.io/](http://geojson.io/)\n",
    "\n",
    "In fact, go ahead and so so, and save your file as `test.json` or something similar in the same folder as this notebook.\n",
    "\n",
    "Now let’s import GeoPandas and fire up inline Matplotlib."
   ]
  },
  {
   "cell_type": "code",
   "execution_count": null,
   "metadata": {},
   "outputs": [],
   "source": [
    "import geopandas\n",
    "%matplotlib inline"
   ]
  },
  {
   "cell_type": "markdown",
   "metadata": {},
   "source": [
    "GeoPandas has a few datasets built in: two from [Natural Earth](http://naturalearth.org), and one of NYC. Just like with regular Pandas, we can use a `.read_file()` class method to create a geodataframe from a file. Here, we can read in the built-in NYC data.\n",
    "\n",
    "Geodataframes have a built-in `.plot()` method."
   ]
  },
  {
   "cell_type": "code",
   "execution_count": null,
   "metadata": {
    "scrolled": true
   },
   "outputs": [],
   "source": [
    "nyc = geopandas.read_file(geopandas.datasets.get_path('nybb'))\n",
    "nyc.plot()"
   ]
  },
  {
   "cell_type": "markdown",
   "metadata": {},
   "source": [
    "Geodataframes also have a `.crs` property that gives us the coordinate reference system, which yields an EPSG code. That we can subsequently look up like so: [http://spatialreference.org/ref/epsg/2263/](http://spatialreference.org/ref/epsg/2263/)"
   ]
  },
  {
   "cell_type": "code",
   "execution_count": null,
   "metadata": {},
   "outputs": [],
   "source": [
    "nyc.crs"
   ]
  },
  {
   "cell_type": "markdown",
   "metadata": {},
   "source": [
    "We can read in our own GeoJSON file now, but note that the CRS is different from the NYC data’s."
   ]
  },
  {
   "cell_type": "code",
   "execution_count": null,
   "metadata": {},
   "outputs": [],
   "source": [
    "df = geopandas.read_file(\"./test.json\")\n",
    "df.crs"
   ]
  },
  {
   "cell_type": "markdown",
   "metadata": {},
   "source": [
    "Luckily, unifying the CRSes is rather trivial. Just set one’s to the other’s."
   ]
  },
  {
   "cell_type": "code",
   "execution_count": null,
   "metadata": {},
   "outputs": [],
   "source": [
    "df = df.to_crs(nyc.crs)\n",
    "df.crs"
   ]
  },
  {
   "cell_type": "markdown",
   "metadata": {},
   "source": [
    "Geodataframes behave much like regular dataframes."
   ]
  },
  {
   "cell_type": "code",
   "execution_count": null,
   "metadata": {},
   "outputs": [],
   "source": [
    "df"
   ]
  },
  {
   "cell_type": "code",
   "execution_count": null,
   "metadata": {},
   "outputs": [],
   "source": [
    "df[df.sentiment.str.contains(\"happy\")]"
   ]
  },
  {
   "cell_type": "markdown",
   "metadata": {},
   "source": [
    "We can plot data together by using one plot as the `ax` for the other."
   ]
  },
  {
   "cell_type": "code",
   "execution_count": null,
   "metadata": {},
   "outputs": [],
   "source": [
    "base = nyc.plot(figsize=(10, 10), edgecolor=\"k\", color=\"green\")\n",
    "df.plot(ax=base, color=\"red\", edgecolor=\"white\")"
   ]
  },
  {
   "cell_type": "markdown",
   "metadata": {},
   "source": [
    "## NYC MTA data\n",
    "\n",
    "Now let’s grab the [subway station location data](https://data.cityofnewyork.us/Transportation/Subway-Stations/arq3-7z49) from the City of New York. Export it as a shapefile and save it to the same folder as this notebook."
   ]
  },
  {
   "cell_type": "code",
   "execution_count": null,
   "metadata": {},
   "outputs": [],
   "source": [
    "stations = geopandas.read_file(\"./Subway Stations/geo_export_ab83d225-393b-4f95-b275-4a8d050fc8e3.shp\")\n",
    "stations.head()"
   ]
  },
  {
   "cell_type": "code",
   "execution_count": null,
   "metadata": {},
   "outputs": [],
   "source": [
    "stations.plot()"
   ]
  }
 ],
 "metadata": {
  "kernelspec": {
   "display_name": "Python 3",
   "language": "python",
   "name": "python3"
  },
  "language_info": {
   "codemirror_mode": {
    "name": "ipython",
    "version": 3
   },
   "file_extension": ".py",
   "mimetype": "text/x-python",
   "name": "python",
   "nbconvert_exporter": "python",
   "pygments_lexer": "ipython3",
   "version": "3.7.2"
  }
 },
 "nbformat": 4,
 "nbformat_minor": 2
}
