{
 "cells": [
  {
   "cell_type": "markdown",
   "metadata": {},
   "source": [
    "# Data Management: sql and nosql, mongodb"
   ]
  },
  {
   "cell_type": "markdown",
   "metadata": {},
   "source": [
    "### First we need to have an idea that there are different types of data: \n",
    "- structured\n",
    "- unstructured\n",
    "- semi-structured"
   ]
  },
  {
   "cell_type": "markdown",
   "metadata": {},
   "source": [
    "#### unstructured data\n",
    "From https://en.wikipedia.org/wiki/Unstructured_data:\n",
    "\n",
    "Unstructured data is information that either does not have a pre-defined data model or is not organized in a pre-defined manner. \n",
    "\n",
    "- This means that unstructured data is hard to manage and maintain"
   ]
  },
  {
   "cell_type": "markdown",
   "metadata": {},
   "source": [
    "#### structured data\n",
    "So oppositely, structured data is information that has a pre-defined data model or organized in a pre-defined manner."
   ]
  },
  {
   "cell_type": "markdown",
   "metadata": {},
   "source": [
    "#### semi-structured data\n",
    "From https://en.wikipedia.org/wiki/Semi-structured_data:\n",
    "\n",
    "Semi-structured data[1] is a form of structured data that does not conform with the formal structure of data models associated with relational databases or other forms of data tables, but nonetheless contains tags or other markers to separate semantic elements and enforce hierarchies of records and fields within the data. Therefore, it is also known as self-describing structure.\n",
    "\n",
    "- XML\n",
    "- JSON"
   ]
  },
  {
   "cell_type": "markdown",
   "metadata": {},
   "source": [
    "## Why we need databases? "
   ]
  },
  {
   "cell_type": "markdown",
   "metadata": {},
   "source": [
    "Usually we have four operations on our data: CRUD.\n",
    "- CREATE\n",
    "- READ\n",
    "- UPDATE\n",
    "- DELETE"
   ]
  },
  {
   "cell_type": "markdown",
   "metadata": {},
   "source": [
    "If we use text files like csv, it is very time consuming, for example checking duplicity when creating a new item."
   ]
  },
  {
   "cell_type": "markdown",
   "metadata": {},
   "source": [
    "Database provides more powerful tool, like index which can speeding up our search time."
   ]
  },
  {
   "cell_type": "markdown",
   "metadata": {},
   "source": [
    "Database is more managable. If you have two database, and you want to merge the data, it is very easy. But if you want to merge two text files, that is very hard."
   ]
  },
  {
   "cell_type": "markdown",
   "metadata": {},
   "source": [
    "## SQL/Relational Database"
   ]
  },
  {
   "cell_type": "markdown",
   "metadata": {},
   "source": [
    "- Mysql\n",
    "- sqlite\n",
    "- Postgresql\n",
    "- MariaDB\n",
    "- Microsoft SQL Server\n",
    "- Oracle"
   ]
  },
  {
   "cell_type": "markdown",
   "metadata": {},
   "source": [
    "### Database Normalization\n",
    "\n",
    "- reduce data redundancy\n",
    "- improve data integrity"
   ]
  },
  {
   "cell_type": "markdown",
   "metadata": {},
   "source": [
    "<img src='http://www.ecommerce-digest.com/images/normalization.jpg'>"
   ]
  },
  {
   "cell_type": "markdown",
   "metadata": {},
   "source": [
    "### A better example:"
   ]
  },
  {
   "cell_type": "markdown",
   "metadata": {},
   "source": [
    "| Customer | Address   | Order   | Product No.   |\n",
    "|------|------|------|------|\n",
    "|   Rick Evans  | A| 111 | 1 |\n",
    "|   Rick Evans  | A| 111 | 2 |\n",
    "|   Rick Evans  | A| 111 | 3 |\n",
    "|   Michael Li  | B| 112 | 1 |\n",
    "|   Michael Li  | B| 112 | 2 |\n"
   ]
  },
  {
   "cell_type": "markdown",
   "metadata": {},
   "source": [
    "| Customer | Address   | Order   | \n",
    "|------|------|------|\n",
    "|   Rick Evans  | A| 111 | \n",
    "|   Michael Li  | B| 112 | "
   ]
  },
  {
   "cell_type": "markdown",
   "metadata": {},
   "source": [
    "| Order | Product No.   |     \n",
    "|------|------|\n",
    "|   111  | 1 | \n",
    "|   111  | 2|  \n",
    "|   111  | 3|\n",
    "|112|1|\n",
    "|112|2|"
   ]
  },
  {
   "cell_type": "markdown",
   "metadata": {},
   "source": [
    "The split of table reduces the data redundancy.\n",
    "We need 20 table data slots to hold the data before normalization.<br/>\n",
    "After normalization, we only need 16 slots."
   ]
  },
  {
   "cell_type": "markdown",
   "metadata": {},
   "source": [
    "### Tables\n",
    "SQL databases are usually made of multiple tables.<br/>\n",
    "Each table can represent an entity, like person, dog, and has its attributes.<br/>\n",
    "The tables can also hold constraints, like primary key, unique columns.\n",
    "\n",
    "\n"
   ]
  },
  {
   "cell_type": "markdown",
   "metadata": {},
   "source": [
    "| Customer | Address   | Order   | Product No.   |\n",
    "|------|------|------|------|\n",
    "|   Rick Evans  | A| 111 | 1 |\n",
    "|   Rick Evans  | A| 111 | 2 |\n",
    "|   Rick Evans  | A| 111 | 3 |\n",
    "|   Michael Li  | B| 112 | 1 |\n",
    "|   Michael Li  | B| 112 | 2 |"
   ]
  },
  {
   "cell_type": "markdown",
   "metadata": {},
   "source": [
    "### Primary Key\n",
    "A very important concept. A primary key is like your ID number. Every one has unique primary key. Other people identify you by your primary key and know who you are. <br/>\n",
    "We can only add constraints like unique. You can think of it like your email. Each email account name needs to be unique, but such things do not need to be primary key."
   ]
  },
  {
   "cell_type": "markdown",
   "metadata": {},
   "source": [
    "### basic SQL commands\n",
    "Let's look at SQL syntax first. The basic SQL commands help us do the CRUD."
   ]
  },
  {
   "cell_type": "markdown",
   "metadata": {},
   "source": [
    "- SELECT\n",
    "\n",
    "    <pre>\n",
    "    SELECT * FROM trips;\n",
    "    SELECT id, fare_amount FROM trips;</pre>"
   ]
  },
  {
   "cell_type": "markdown",
   "metadata": {},
   "source": [
    "- WHERE\n",
    "\n",
    "    <pre>\n",
    "    SELECT * \n",
    "    FROM trips \n",
    "    WHERE vendor_id = 1 AND fare_amount > 10.0;</pre>"
   ]
  },
  {
   "cell_type": "markdown",
   "metadata": {},
   "source": [
    "- LIMIT\n",
    "\n",
    "    <pre>\n",
    "    SELECT * \n",
    "    FROM trips \n",
    "    WHERE vendor_id = 1 AND fare_amount > 10.0\n",
    "    LIMIT 10;</pre>"
   ]
  },
  {
   "cell_type": "markdown",
   "metadata": {},
   "source": [
    "- DISTINCT\n",
    "\n",
    "    <pre>\n",
    "    SELECT DISTINCT vendor_id FROM trips</pre>"
   ]
  },
  {
   "cell_type": "markdown",
   "metadata": {},
   "source": [
    "- COUNT\n",
    "\n",
    "    <pre>\n",
    "    SELECT COUNT(*) FROM trips</pre>"
   ]
  },
  {
   "cell_type": "markdown",
   "metadata": {},
   "source": [
    "- ORDER BY\n",
    "\n",
    "    <pre>\n",
    "    SELECT fare_amount, passenger_count \n",
    "    FROM trips \n",
    "    ORDER BY fare_amount DESC;</pre>"
   ]
  },
  {
   "cell_type": "markdown",
   "metadata": {},
   "source": [
    "- JOIN\n",
    "\n",
    "    <pre>\n",
    "    SELECT t.fare_amount, tzp.borough \n",
    "    FROM trips AS t\n",
    "    LEFT JOIN taxi_zones AS tz ON tzp.locationid = t.pickup_location_id\n",
    "    LIMIT 10</pre>"
   ]
  },
  {
   "cell_type": "markdown",
   "metadata": {},
   "source": [
    "- Putting it all together\n",
    "\n",
    "```\n",
    "    SELECT \n",
    "        t.fare_amount\n",
    "        ,t.trip_distance\n",
    "        ,tzp.borough as pickup_borough\n",
    "        ,tzd.borough as dropoff_borough\n",
    "    FROM\n",
    "        trips AS t\n",
    "        LEFT JOIN taxi_zones AS tzp ON tzp.locationid = t.pickup_location_id\n",
    "        LEFT JOIN taxi_zones AS tzd ON tzd.locationid = t.dropoff_location_id\n",
    "    WHERE \n",
    "        t.fair_amount > 0 \n",
    "        AND tzp.borough = 'Manhattan'\n",
    "    ORDER BY\n",
    "        t.trip_distance DESC\n",
    "    LIMIT 10\n",
    "```"
   ]
  },
  {
   "cell_type": "markdown",
   "metadata": {},
   "source": [
    "## NOSQL\n",
    "\"Not Only SQL\""
   ]
  },
  {
   "cell_type": "markdown",
   "metadata": {},
   "source": [
    "- key-value (Redis, Berkeley DB)\n",
    "- document store (MongoDB, DocumentDB)\n",
    "- wide column (Cassandra, HBase, DynamoDB)\n",
    "- graph (Neo4j, Giraph)"
   ]
  },
  {
   "cell_type": "markdown",
   "metadata": {},
   "source": [
    "key-value store<br/>\n",
    "Usually used as cache store. Store things the way python dictionary does."
   ]
  },
  {
   "cell_type": "markdown",
   "metadata": {},
   "source": [
    "wide column store\n",
    "<img src='https://studio3t.com/wp-content/uploads/2017/12/cassandra-column-family.png'>\n"
   ]
  },
  {
   "cell_type": "markdown",
   "metadata": {},
   "source": [
    "<img src='https://database.guide/wp-content/uploads/2016/06/wide_column_store_database_example_column_family-1.png'>\n"
   ]
  },
  {
   "cell_type": "markdown",
   "metadata": {},
   "source": [
    "## Document store\n",
    "Document-oriented databases are inherently a subclass of the key-value store, another NoSQL database concept. The difference lies in the way the data is processed; in a key-value store, the data is considered to be inherently opaque to the database, whereas a document-oriented system relies on internal structure in the document in order to extract metadata that the database engine uses for further optimization. Although the difference is often moot due to tools in the systems, conceptually the document-store is designed to offer a richer experience with modern programming techniques."
   ]
  },
  {
   "cell_type": "markdown",
   "metadata": {},
   "source": [
    "Document databases contrast strongly with the traditional relational database (RDB). Relational databases generally store data in separate tables that are defined by the programmer, and a single object may be spread across several tables. Document databases store all information for a given object in a single instance in the database, and every stored object can be different from every other. This eliminates the need for object-relational mapping while loading data into the database."
   ]
  },
  {
   "cell_type": "markdown",
   "metadata": {},
   "source": [
    "### MongoDB <br/>The most popular document database"
   ]
  },
  {
   "cell_type": "markdown",
   "metadata": {},
   "source": [
    "Installation:<br/>\n",
    "- download mongodb from https://www.mongodb.com/download-center/community\n",
    "- download NoSQLBooster from https://nosqlbooster.com/downloads\n",
    "        "
   ]
  },
  {
   "cell_type": "raw",
   "metadata": {},
   "source": [
    "After installation of mongodb\n",
    "For macos:\n",
    "- $ sudo mkdir -p /data/db\n",
    "- $ ./mongod\n",
    "\n",
    "For windows:\n",
    "- $ cd C:\\\n",
    "- $ md \"\\data\\db\"\n",
    "- $ \"C:\\Program Files\\MongoDB\\Server\\4.0\\bin\\mongod.exe\" --dbpath=\"c:\\data\\db\""
   ]
  },
  {
   "cell_type": "markdown",
   "metadata": {},
   "source": [
    "After the installation of NoSQLBooster\n",
    "- Start it.\n",
    "- Click 'Create'\n",
    "- Click 'Test Connection'\n",
    "- Click 'Save and Connect'"
   ]
  },
  {
   "cell_type": "markdown",
   "metadata": {},
   "source": [
    "### Basic concepts at mongodb"
   ]
  },
  {
   "cell_type": "markdown",
   "metadata": {},
   "source": [
    "- db"
   ]
  },
  {
   "cell_type": "markdown",
   "metadata": {},
   "source": [
    "- collection <br/>\n",
    "The same idea as the sql table"
   ]
  },
  {
   "cell_type": "markdown",
   "metadata": {},
   "source": [
    "- find(filter,projection)"
   ]
  },
  {
   "cell_type": "code",
   "execution_count": 31,
   "metadata": {},
   "outputs": [],
   "source": [
    "import pymongo"
   ]
  },
  {
   "cell_type": "code",
   "execution_count": 37,
   "metadata": {},
   "outputs": [],
   "source": [
    "# start up our client, defaults to the local machine, on the default port 27017\n",
    "#equals to \n",
    "#client = MongoClient('localhost', 27017)\n",
    "client = pymongo.MongoClient()\n"
   ]
  },
  {
   "cell_type": "code",
   "execution_count": 38,
   "metadata": {},
   "outputs": [],
   "source": [
    "# get a connection to a database\n",
    "db = client.mydb"
   ]
  },
  {
   "cell_type": "code",
   "execution_count": 39,
   "metadata": {},
   "outputs": [],
   "source": [
    "coll = db.mytable"
   ]
  },
  {
   "cell_type": "code",
   "execution_count": 40,
   "metadata": {},
   "outputs": [
    {
     "data": {
      "text/plain": [
       "{'_id': ObjectId('5cb4a42472673b1a4812daf2'),\n",
       " 'name': 'Ford',\n",
       " 'models': ['Fiesta', 'Focus', 'Mustang']}"
      ]
     },
     "execution_count": 40,
     "metadata": {},
     "output_type": "execute_result"
    }
   ],
   "source": [
    "# get one record\n",
    "coll.find_one()"
   ]
  },
  {
   "cell_type": "markdown",
   "metadata": {},
   "source": [
    "### Database/Collection CREATE\n"
   ]
  },
  {
   "cell_type": "code",
   "execution_count": 41,
   "metadata": {},
   "outputs": [],
   "source": [
    "newdb = client['new_db']"
   ]
  },
  {
   "cell_type": "code",
   "execution_count": 42,
   "metadata": {},
   "outputs": [],
   "source": [
    "newtb = newdb[\"new_table\"]"
   ]
  },
  {
   "cell_type": "code",
   "execution_count": 43,
   "metadata": {},
   "outputs": [
    {
     "data": {
      "text/plain": [
       "<pymongo.results.InsertOneResult at 0x1f2d9014e08>"
      ]
     },
     "execution_count": 43,
     "metadata": {},
     "output_type": "execute_result"
    }
   ],
   "source": [
    "newtb.insert_one({\"firstName\":\"Jack\",\"lastName\":\"Who\"})"
   ]
  },
  {
   "cell_type": "markdown",
   "metadata": {},
   "source": [
    "### CREATE/FIND"
   ]
  },
  {
   "cell_type": "code",
   "execution_count": 11,
   "metadata": {},
   "outputs": [
    {
     "data": {
      "text/plain": [
       "ObjectId('5cb4999d62e26918b8a730c5')"
      ]
     },
     "execution_count": 11,
     "metadata": {},
     "output_type": "execute_result"
    }
   ],
   "source": [
    "a = {\"name\":\"michael\"}\n",
    "post_id = coll.insert_one(a).inserted_id\n",
    "post_id"
   ]
  },
  {
   "cell_type": "code",
   "execution_count": 12,
   "metadata": {},
   "outputs": [
    {
     "data": {
      "text/plain": [
       "ObjectId('5cb4999e62e26918b8a730c6')"
      ]
     },
     "execution_count": 12,
     "metadata": {},
     "output_type": "execute_result"
    }
   ],
   "source": [
    "#we do not need to conform to the table constraint\n",
    "a = {\"hello\":\"world\"}\n",
    "post_id = coll.insert_one(a).inserted_id\n",
    "post_id"
   ]
  },
  {
   "cell_type": "markdown",
   "metadata": {},
   "source": [
    "### What is ObjectID?"
   ]
  },
  {
   "cell_type": "markdown",
   "metadata": {},
   "source": [
    "It is the 'primary key' in MongoDB. Each document/record has a distinct ObjectID so we know exactly which record we are deadling with."
   ]
  },
  {
   "cell_type": "code",
   "execution_count": 13,
   "metadata": {},
   "outputs": [
    {
     "name": "stdout",
     "output_type": "stream",
     "text": [
      "[ObjectId('5cb499a062e26918b8a730c7'), ObjectId('5cb499a062e26918b8a730c8'), ObjectId('5cb499a062e26918b8a730c9')]\n"
     ]
    }
   ],
   "source": [
    "mylist = [\n",
    "  { \"name\": \"Amy\", \"hobby\": \"baseball\"},\n",
    "  { \"name\": \"Amy\", \"hobby\": \"baseball\"},\n",
    "  { \"name\": \"Amy\", \"hobby\": \"baseball\"},\n",
    "\n",
    "]\n",
    "x = coll.insert_many(mylist)\n",
    "print(x.inserted_ids)\n"
   ]
  },
  {
   "cell_type": "markdown",
   "metadata": {},
   "source": [
    "This means the database is deadling with the uniqueness for us. We just need to focus on our work!<br/> In SQL, if we insert two same rows with same primary key, we will get error and be forced to change it."
   ]
  },
  {
   "cell_type": "markdown",
   "metadata": {},
   "source": [
    "### READ/FIND"
   ]
  },
  {
   "cell_type": "code",
   "execution_count": 14,
   "metadata": {},
   "outputs": [
    {
     "data": {
      "text/plain": [
       "{'_id': ObjectId('5cb499a062e26918b8a730c7'),\n",
       " 'name': 'Amy',\n",
       " 'hobby': 'baseball'}"
      ]
     },
     "execution_count": 14,
     "metadata": {},
     "output_type": "execute_result"
    }
   ],
   "source": [
    "#find one document for us\n",
    "res=coll.find_one({\"name\": \"Amy\"})\n",
    "res"
   ]
  },
  {
   "cell_type": "code",
   "execution_count": 15,
   "metadata": {},
   "outputs": [
    {
     "data": {
      "text/plain": [
       "{'_id': ObjectId('5cb499a062e26918b8a730c7'),\n",
       " 'name': 'Amy',\n",
       " 'hobby': 'baseball'}"
      ]
     },
     "execution_count": 15,
     "metadata": {},
     "output_type": "execute_result"
    }
   ],
   "source": [
    "#find by ObjectID\n",
    "coll.find_one({\"_id\": res['_id']})"
   ]
  },
  {
   "cell_type": "code",
   "execution_count": 16,
   "metadata": {},
   "outputs": [
    {
     "data": {
      "text/plain": [
       "<pymongo.cursor.Cursor at 0x1f2d8fb6208>"
      ]
     },
     "execution_count": 16,
     "metadata": {},
     "output_type": "execute_result"
    }
   ],
   "source": [
    "#find many, it will give us a cursor\n",
    "res=coll.find({\"name\": \"Amy\"})\n",
    "res"
   ]
  },
  {
   "cell_type": "code",
   "execution_count": 17,
   "metadata": {},
   "outputs": [
    {
     "name": "stdout",
     "output_type": "stream",
     "text": [
      "{'_id': ObjectId('5cb499a062e26918b8a730c7'), 'name': 'Amy', 'hobby': 'baseball'}\n",
      "{'_id': ObjectId('5cb499a062e26918b8a730c8'), 'name': 'Amy', 'hobby': 'baseball'}\n",
      "{'_id': ObjectId('5cb499a062e26918b8a730c9'), 'name': 'Amy', 'hobby': 'baseball'}\n"
     ]
    }
   ],
   "source": [
    "for record in res:\n",
    "    print(record)"
   ]
  },
  {
   "cell_type": "code",
   "execution_count": 18,
   "metadata": {},
   "outputs": [
    {
     "name": "stdout",
     "output_type": "stream",
     "text": [
      "{'_id': ObjectId('5cb4959e6e19912ad0394328'), 'name': 'Ford', 'models': ['Fiesta', 'Focus', 'Mustang']}\n",
      "{'_id': ObjectId('5cb4959e6e19912ad0394329'), 'name': 'BMW', 'models': ['320', 'X3', 'X5']}\n",
      "{'_id': ObjectId('5cb4959e6e19912ad039432a'), 'nickname': 'Fiat', 'models': ['500', 'Panda'], 'hobby': 'basketball'}\n",
      "{'_id': ObjectId('5cb4999d62e26918b8a730c5'), 'name': 'michael'}\n",
      "{'_id': ObjectId('5cb4999e62e26918b8a730c6'), 'hello': 'world'}\n",
      "{'_id': ObjectId('5cb499a062e26918b8a730c7'), 'name': 'Amy', 'hobby': 'baseball'}\n",
      "{'_id': ObjectId('5cb499a062e26918b8a730c8'), 'name': 'Amy', 'hobby': 'baseball'}\n",
      "{'_id': ObjectId('5cb499a062e26918b8a730c9'), 'name': 'Amy', 'hobby': 'baseball'}\n"
     ]
    }
   ],
   "source": [
    "#read all documents \n",
    "for document in coll.find():\n",
    "    print (document)"
   ]
  },
  {
   "cell_type": "markdown",
   "metadata": {},
   "source": [
    "### UPDATE"
   ]
  },
  {
   "cell_type": "code",
   "execution_count": 19,
   "metadata": {},
   "outputs": [
    {
     "data": {
      "text/plain": [
       "1"
      ]
     },
     "execution_count": 19,
     "metadata": {},
     "output_type": "execute_result"
    }
   ],
   "source": [
    "#Upsert parameter will insert instead of updating if the post is not found in the database.\n",
    "result = coll.update_one({'name':\"Amy\"}, {\"$set\": {\"hobby\":\"Basketball\"}}, upsert=False)\n",
    "result.matched_count"
   ]
  },
  {
   "cell_type": "code",
   "execution_count": 20,
   "metadata": {},
   "outputs": [
    {
     "data": {
      "text/plain": [
       "3"
      ]
     },
     "execution_count": 20,
     "metadata": {},
     "output_type": "execute_result"
    }
   ],
   "source": [
    "#Upsert parameter will insert instead of updating if the post is not found in the database.\n",
    "result = coll.update_many({'name':\"Amy\"}, {\"$set\": {\"hobby\":\"Basketball\"}}, upsert=False)\n",
    "result.matched_count"
   ]
  },
  {
   "cell_type": "markdown",
   "metadata": {},
   "source": [
    "$set is just a syntax you need to use during update"
   ]
  },
  {
   "cell_type": "markdown",
   "metadata": {},
   "source": [
    "### delete"
   ]
  },
  {
   "cell_type": "code",
   "execution_count": 21,
   "metadata": {},
   "outputs": [
    {
     "data": {
      "text/plain": [
       "1"
      ]
     },
     "execution_count": 21,
     "metadata": {},
     "output_type": "execute_result"
    }
   ],
   "source": [
    "x = coll.delete_one({\"name\":\"Amy\"})\n",
    "x.deleted_count"
   ]
  },
  {
   "cell_type": "code",
   "execution_count": 22,
   "metadata": {},
   "outputs": [
    {
     "data": {
      "text/plain": [
       "2"
      ]
     },
     "execution_count": 22,
     "metadata": {},
     "output_type": "execute_result"
    }
   ],
   "source": [
    "x = coll.delete_many({\"name\":\"Amy\"})\n",
    "x.deleted_count"
   ]
  },
  {
   "cell_type": "code",
   "execution_count": 23,
   "metadata": {},
   "outputs": [
    {
     "ename": "TypeError",
     "evalue": "delete_many() missing 1 required positional argument: 'filter'",
     "output_type": "error",
     "traceback": [
      "\u001b[1;31m---------------------------------------------------------------------------\u001b[0m",
      "\u001b[1;31mTypeError\u001b[0m                                 Traceback (most recent call last)",
      "\u001b[1;32m<ipython-input-23-ac237d86b5e3>\u001b[0m in \u001b[0;36m<module>\u001b[1;34m\u001b[0m\n\u001b[1;32m----> 1\u001b[1;33m \u001b[0mx\u001b[0m \u001b[1;33m=\u001b[0m \u001b[0mcoll\u001b[0m\u001b[1;33m.\u001b[0m\u001b[0mdelete_many\u001b[0m\u001b[1;33m(\u001b[0m\u001b[1;33m)\u001b[0m\u001b[1;33m\u001b[0m\u001b[1;33m\u001b[0m\u001b[0m\n\u001b[0m\u001b[0;32m      2\u001b[0m \u001b[0mx\u001b[0m\u001b[1;33m.\u001b[0m\u001b[0mdeleted_count\u001b[0m\u001b[1;33m\u001b[0m\u001b[1;33m\u001b[0m\u001b[0m\n",
      "\u001b[1;31mTypeError\u001b[0m: delete_many() missing 1 required positional argument: 'filter'"
     ]
    }
   ],
   "source": [
    "x = coll.delete_many()\n",
    "x.deleted_count"
   ]
  },
  {
   "cell_type": "markdown",
   "metadata": {},
   "source": [
    "### Count"
   ]
  },
  {
   "cell_type": "code",
   "execution_count": 24,
   "metadata": {},
   "outputs": [
    {
     "data": {
      "text/plain": [
       "5"
      ]
     },
     "execution_count": 24,
     "metadata": {},
     "output_type": "execute_result"
    }
   ],
   "source": [
    "coll.count_documents({})"
   ]
  },
  {
   "cell_type": "code",
   "execution_count": 25,
   "metadata": {},
   "outputs": [
    {
     "data": {
      "text/plain": [
       "1"
      ]
     },
     "execution_count": 25,
     "metadata": {},
     "output_type": "execute_result"
    }
   ],
   "source": [
    "coll.count_documents({\"hello\": \"world\"})"
   ]
  },
  {
   "cell_type": "markdown",
   "metadata": {},
   "source": [
    "### range query"
   ]
  },
  {
   "cell_type": "code",
   "execution_count": 26,
   "metadata": {},
   "outputs": [],
   "source": [
    "list = [\n",
    "    {\"name\":\"Jason\",\"age\":20},\n",
    "    {\"name\":\"Jane\", \"age\":21},\n",
    "    {\"hobby\":\"Swimming\", \"age\":25},\n",
    "    {\"name\":\"Jack\",\"age\":30}\n",
    "]"
   ]
  },
  {
   "cell_type": "code",
   "execution_count": 27,
   "metadata": {},
   "outputs": [
    {
     "data": {
      "text/plain": [
       "[ObjectId('5cb499ad62e26918b8a730ca'),\n",
       " ObjectId('5cb499ad62e26918b8a730cb'),\n",
       " ObjectId('5cb499ad62e26918b8a730cc'),\n",
       " ObjectId('5cb499ad62e26918b8a730cd')]"
      ]
     },
     "execution_count": 27,
     "metadata": {},
     "output_type": "execute_result"
    }
   ],
   "source": [
    "x=coll.insert_many(list)\n",
    "x.inserted_ids"
   ]
  },
  {
   "cell_type": "code",
   "execution_count": 28,
   "metadata": {},
   "outputs": [
    {
     "name": "stdout",
     "output_type": "stream",
     "text": [
      "{'_id': ObjectId('5cb499ad62e26918b8a730ca'), 'name': 'Jason', 'age': 20}\n",
      "{'_id': ObjectId('5cb499ad62e26918b8a730cb'), 'name': 'Jane', 'age': 21}\n",
      "{'_id': ObjectId('5cb499ad62e26918b8a730cc'), 'hobby': 'Swimming', 'age': 25}\n"
     ]
    }
   ],
   "source": [
    "for post in coll.find({\"age\": {\"$lt\": 26}}).sort(\"age\"):\n",
    "    print(post)"
   ]
  },
  {
   "cell_type": "code",
   "execution_count": 29,
   "metadata": {},
   "outputs": [
    {
     "name": "stdout",
     "output_type": "stream",
     "text": [
      "{'_id': ObjectId('5cb499ad62e26918b8a730cd'), 'name': 'Jack', 'age': 30}\n"
     ]
    }
   ],
   "source": [
    "for post in coll.find({\"age\": {\"$gt\": 26}}).sort(\"age\"):\n",
    "    print(post)"
   ]
  },
  {
   "cell_type": "code",
   "execution_count": 30,
   "metadata": {},
   "outputs": [
    {
     "name": "stdout",
     "output_type": "stream",
     "text": [
      "{'_id': ObjectId('5cb499ad62e26918b8a730cc'), 'hobby': 'Swimming', 'age': 25}\n"
     ]
    }
   ],
   "source": [
    "for post in coll.find({\"age\": {\"$eq\": 25}}).sort(\"age\"):\n",
    "    print(post)"
   ]
  },
  {
   "cell_type": "code",
   "execution_count": null,
   "metadata": {},
   "outputs": [],
   "source": []
  },
  {
   "cell_type": "markdown",
   "metadata": {},
   "source": [
    "See the full list of operators:\n",
    "    https://docs.mongodb.com/manual/reference/operator/query/"
   ]
  },
  {
   "cell_type": "markdown",
   "metadata": {},
   "source": [
    "Reference:<br/>\n",
    "    Bryan Gibson, COMS W4995 007 2018 3, Elements for Data Science, slide of Week 11 :  Recommendation Engines (cont.), Data Management, Webscraping and Review\n",
    "    <br/>\n",
    "    https://en.wikipedia.org/wiki/Document-oriented_database\n",
    "    <br/>\n",
    "    https://www.w3schools.com/python/python_mongodb_insert.asp\n",
    "    <br/>\n",
    "    http://api.mongodb.com/python/current/tutorial.html"
   ]
  }
 ],
 "metadata": {
  "kernelspec": {
   "display_name": "'notebook'",
   "language": "python",
   "name": "notebook"
  },
  "language_info": {
   "codemirror_mode": {
    "name": "ipython",
    "version": 3
   },
   "file_extension": ".py",
   "mimetype": "text/x-python",
   "name": "python",
   "nbconvert_exporter": "python",
   "pygments_lexer": "ipython3",
   "version": "3.6.8"
  }
 },
 "nbformat": 4,
 "nbformat_minor": 2
}
